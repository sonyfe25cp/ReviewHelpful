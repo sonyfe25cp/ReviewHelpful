{
 "cells": [
  {
   "cell_type": "code",
   "execution_count": 4,
   "metadata": {
    "collapsed": true
   },
   "outputs": [],
   "source": [
    "%matplotlib inline\n",
    "import sys\n",
    "import numpy as np\n",
    "import pandas as pd\n",
    "import matplotlib.pyplot as plt\n",
    "from gensim import corpora, models, similarities\n",
    "import gensim\n",
    "import nltk\n",
    "import time"
   ]
  },
  {
   "cell_type": "code",
   "execution_count": 6,
   "metadata": {
    "collapsed": false
   },
   "outputs": [],
   "source": [
    "#load model\n",
    "fname = '/data/opinion_spam/real/w2v-hfd-over-0.total'\n",
    "#gensim.models.Word2Vec(sentences, min_count=5, size=100, window=5, workers=32)\n",
    "model = gensim.models.Word2Vec.load(fname)"
   ]
  },
  {
   "cell_type": "code",
   "execution_count": 7,
   "metadata": {
    "collapsed": true
   },
   "outputs": [],
   "source": [
    "model.init_sims(replace=True)"
   ]
  },
  {
   "cell_type": "code",
   "execution_count": 13,
   "metadata": {
    "collapsed": false
   },
   "outputs": [
    {
     "data": {
      "text/plain": [
       "'babe'"
      ]
     },
     "execution_count": 13,
     "metadata": {},
     "output_type": "execute_result"
    }
   ],
   "source": [
    "model.doesnt_match(\"breakfast babe dinner lunch\".split())"
   ]
  },
  {
   "cell_type": "code",
   "execution_count": 14,
   "metadata": {
    "collapsed": false
   },
   "outputs": [
    {
     "data": {
      "text/plain": [
       "0.83001986870367761"
      ]
     },
     "execution_count": 14,
     "metadata": {},
     "output_type": "execute_result"
    }
   ],
   "source": [
    "model.similarity('woman', 'man')"
   ]
  },
  {
   "cell_type": "code",
   "execution_count": 15,
   "metadata": {
    "collapsed": false
   },
   "outputs": [
    {
     "data": {
      "text/plain": [
       "0.63541736831209505"
      ]
     },
     "execution_count": 15,
     "metadata": {},
     "output_type": "execute_result"
    }
   ],
   "source": [
    "model.similarity('queen', 'king')"
   ]
  },
  {
   "cell_type": "code",
   "execution_count": 17,
   "metadata": {
    "collapsed": false
   },
   "outputs": [
    {
     "data": {
      "text/plain": [
       "array([ 0.06584939, -0.15236528,  0.03940473,  0.11780637, -0.06666399,\n",
       "        0.08077908, -0.06306881, -0.11353303,  0.08361355, -0.0464106 ,\n",
       "        0.0712393 , -0.02070568,  0.09803565, -0.09190271, -0.07790345,\n",
       "       -0.03921628,  0.01120033, -0.0113984 ,  0.19368182,  0.01702544,\n",
       "        0.06669039, -0.10752872,  0.01452975,  0.03126464, -0.15506381,\n",
       "        0.01465147, -0.14533548,  0.18538514,  0.032362  , -0.16116621,\n",
       "        0.08108089, -0.02802808,  0.05500191,  0.22678678,  0.03324853,\n",
       "       -0.05982735,  0.04468234, -0.04184056, -0.06257856, -0.05731327,\n",
       "        0.02957502, -0.08048789,  0.04520554, -0.11712331, -0.01522629,\n",
       "       -0.13313936, -0.05583495,  0.15950425,  0.03654221, -0.00524251,\n",
       "       -0.03123282,  0.20363076,  0.07117055, -0.06685394,  0.03232301,\n",
       "        0.01936172,  0.03399545, -0.04400954,  0.14483622,  0.04342093,\n",
       "        0.08503325, -0.27163059, -0.01646136,  0.12004036, -0.00581497,\n",
       "       -0.05278127,  0.21758249,  0.19402854,  0.04021262, -0.13579865,\n",
       "        0.09166957, -0.26776907, -0.02129635,  0.08740726,  0.05169689,\n",
       "       -0.07609703,  0.0520384 ,  0.05144501, -0.06493852,  0.13585331,\n",
       "       -0.0584272 , -0.18852168, -0.08034316, -0.02907629,  0.14396374,\n",
       "       -0.0482626 , -0.02166767, -0.09139269, -0.02596602,  0.05751751,\n",
       "       -0.01235566, -0.10502062, -0.20248918,  0.07699686,  0.03160901,\n",
       "        0.13677394, -0.06445234, -0.0046    , -0.07501683,  0.0325547 ], dtype=float32)"
      ]
     },
     "execution_count": 17,
     "metadata": {},
     "output_type": "execute_result"
    }
   ],
   "source": [
    "model['king']"
   ]
  },
  {
   "cell_type": "code",
   "execution_count": 16,
   "metadata": {
    "collapsed": false
   },
   "outputs": [
    {
     "data": {
      "text/plain": [
       "[('queen', 0.689446210861206),\n",
       " ('kings', 0.6582890152931213),\n",
       " ('guenevere', 0.6300052404403687),\n",
       " ('arthur', 0.6230523586273193),\n",
       " ('camelot', 0.6152991056442261),\n",
       " ('prince', 0.6127079725265503),\n",
       " ('guinevere', 0.599723756313324),\n",
       " ('edith', 0.5994144082069397),\n",
       " ('tudor', 0.5991771221160889),\n",
       " ('merlin', 0.5990498065948486)]"
      ]
     },
     "execution_count": 16,
     "metadata": {},
     "output_type": "execute_result"
    }
   ],
   "source": [
    "model.most_similar(positive=['woman', 'king'], negative=['man'])"
   ]
  },
  {
   "cell_type": "code",
   "execution_count": 50,
   "metadata": {
    "collapsed": false
   },
   "outputs": [],
   "source": [
    "import numpy as np\n",
    "import re\n",
    "def cut_into_tokens(sentence):\n",
    "    \n",
    "    _list = [word.lower() for word in sentence.split()]\n",
    "    _list = [re.sub(r'[.?!\\'\",)(;&%:]', '', word) for word in _list  ]\n",
    "    return _list\n",
    "    #return [word.lower() for word in sentence.split()]\n",
    "def model_with_sentence(sentence):\n",
    "    tokens = cut_into_tokens(sentence)\n",
    "    v = np.zeros(100)\n",
    "    for token in tokens:\n",
    "        try:\n",
    "            _v = model[token]\n",
    "            v += _v\n",
    "        except:\n",
    "            print 'token:', token, 'not in the dict'\n",
    "    return v\n"
   ]
  },
  {
   "cell_type": "code",
   "execution_count": 51,
   "metadata": {
    "collapsed": false
   },
   "outputs": [
    {
     "name": "stdout",
     "output_type": "stream",
     "text": [
      "token: abeeada not in the dict\n"
     ]
    }
   ],
   "source": [
    "sentences =[\n",
    "    'The only thing abeeada missing is a presentation of the original 78 minute film',\n",
    "    'Can\\'t have it all, I guess',\n",
    "    'Perhaps when they release the extra-special edition'\n",
    "]\n",
    "\n",
    "for sentence in sentences:\n",
    "    model_with_sentence(sentence)"
   ]
  },
  {
   "cell_type": "code",
   "execution_count": null,
   "metadata": {
    "collapsed": true
   },
   "outputs": [],
   "source": []
  }
 ],
 "metadata": {
  "kernelspec": {
   "display_name": "Python 2",
   "language": "python",
   "name": "python2"
  },
  "language_info": {
   "codemirror_mode": {
    "name": "ipython",
    "version": 2
   },
   "file_extension": ".py",
   "mimetype": "text/x-python",
   "name": "python",
   "nbconvert_exporter": "python",
   "pygments_lexer": "ipython2",
   "version": "2.7.6"
  }
 },
 "nbformat": 4,
 "nbformat_minor": 0
}
