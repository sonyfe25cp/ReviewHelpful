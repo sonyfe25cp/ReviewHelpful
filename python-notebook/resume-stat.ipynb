{
 "cells": [
  {
   "cell_type": "code",
   "execution_count": 20,
   "metadata": {
    "collapsed": true
   },
   "outputs": [],
   "source": [
    "%matplotlib inline\n",
    "import sys\n",
    "import numpy as np\n",
    "import pandas as pd\n",
    "import matplotlib.pyplot as plt\n",
    "import nltk\n",
    "from sklearn.cross_validation import cross_val_score"
   ]
  },
  {
   "cell_type": "code",
   "execution_count": 21,
   "metadata": {
    "collapsed": false
   },
   "outputs": [
    {
     "name": "stdout",
     "output_type": "stream",
     "text": [
      "datas.size:  100\n"
     ]
    }
   ],
   "source": [
    "file_path = '/home/spark/workspace/ReviewHelpful/data/100_resume'\n",
    "datas = []\n",
    "MIN_FD = 100\n",
    "raw_file = open(file_path)\n",
    "for line in raw_file:\n",
    "    datas.append(line)\n",
    "\n",
    "raw_file.close()\n",
    "print 'datas.size: ', len(datas)\n"
   ]
  },
  {
   "cell_type": "code",
   "execution_count": 22,
   "metadata": {
    "collapsed": false
   },
   "outputs": [],
   "source": [
    "documents = [\"Human machine interface for lab abc computer applications\",\n",
    "\"A survey of user opinion of computer system response time\",\n",
    "\"The EPS user interface management system\",\n",
    "\"System and human system engineering testing of EPS\",\n",
    "\"Relation of user perceived response time to error measurement\",\n",
    "\"The generation of random binary unordered trees\",\n",
    "\"The intersection graph of paths in trees\",\n",
    "\"Graph minors IV Widths of trees and well quasi ordering\",\n",
    "\"Graph minors A survey\"]"
   ]
  },
  {
   "cell_type": "code",
   "execution_count": 23,
   "metadata": {
    "collapsed": true
   },
   "outputs": [],
   "source": [
    "df = pd.DataFrame(documents)\n",
    "df.columns = ['resume']"
   ]
  },
  {
   "cell_type": "code",
   "execution_count": 24,
   "metadata": {
    "collapsed": false
   },
   "outputs": [
    {
     "data": {
      "text/html": [
       "<div>\n",
       "<table border=\"1\" class=\"dataframe\">\n",
       "  <thead>\n",
       "    <tr style=\"text-align: right;\">\n",
       "      <th></th>\n",
       "      <th>resume</th>\n",
       "      <th>length</th>\n",
       "    </tr>\n",
       "  </thead>\n",
       "  <tbody>\n",
       "    <tr>\n",
       "      <th>0</th>\n",
       "      <td>Human machine interface for lab abc computer a...</td>\n",
       "      <td>57</td>\n",
       "    </tr>\n",
       "    <tr>\n",
       "      <th>1</th>\n",
       "      <td>A survey of user opinion of computer system re...</td>\n",
       "      <td>57</td>\n",
       "    </tr>\n",
       "    <tr>\n",
       "      <th>2</th>\n",
       "      <td>The EPS user interface management system</td>\n",
       "      <td>40</td>\n",
       "    </tr>\n",
       "    <tr>\n",
       "      <th>3</th>\n",
       "      <td>System and human system engineering testing of...</td>\n",
       "      <td>50</td>\n",
       "    </tr>\n",
       "    <tr>\n",
       "      <th>4</th>\n",
       "      <td>Relation of user perceived response time to er...</td>\n",
       "      <td>61</td>\n",
       "    </tr>\n",
       "  </tbody>\n",
       "</table>\n",
       "</div>"
      ],
      "text/plain": [
       "                                              resume  length\n",
       "0  Human machine interface for lab abc computer a...      57\n",
       "1  A survey of user opinion of computer system re...      57\n",
       "2           The EPS user interface management system      40\n",
       "3  System and human system engineering testing of...      50\n",
       "4  Relation of user perceived response time to er...      61"
      ]
     },
     "execution_count": 24,
     "metadata": {},
     "output_type": "execute_result"
    }
   ],
   "source": [
    "df['length'] = df['resume'].apply(len)\n",
    "df.head()"
   ]
  },
  {
   "cell_type": "code",
   "execution_count": 25,
   "metadata": {
    "collapsed": false
   },
   "outputs": [
    {
     "data": {
      "text/html": [
       "<div>\n",
       "<table border=\"1\" class=\"dataframe\">\n",
       "  <thead>\n",
       "    <tr style=\"text-align: right;\">\n",
       "      <th></th>\n",
       "      <th>length</th>\n",
       "    </tr>\n",
       "  </thead>\n",
       "  <tbody>\n",
       "    <tr>\n",
       "      <th>count</th>\n",
       "      <td>9.000000</td>\n",
       "    </tr>\n",
       "    <tr>\n",
       "      <th>mean</th>\n",
       "      <td>47.555556</td>\n",
       "    </tr>\n",
       "    <tr>\n",
       "      <th>std</th>\n",
       "      <td>12.451015</td>\n",
       "    </tr>\n",
       "    <tr>\n",
       "      <th>min</th>\n",
       "      <td>21.000000</td>\n",
       "    </tr>\n",
       "    <tr>\n",
       "      <th>25%</th>\n",
       "      <td>40.000000</td>\n",
       "    </tr>\n",
       "    <tr>\n",
       "      <th>50%</th>\n",
       "      <td>50.000000</td>\n",
       "    </tr>\n",
       "    <tr>\n",
       "      <th>75%</th>\n",
       "      <td>57.000000</td>\n",
       "    </tr>\n",
       "    <tr>\n",
       "      <th>max</th>\n",
       "      <td>61.000000</td>\n",
       "    </tr>\n",
       "  </tbody>\n",
       "</table>\n",
       "</div>"
      ],
      "text/plain": [
       "          length\n",
       "count   9.000000\n",
       "mean   47.555556\n",
       "std    12.451015\n",
       "min    21.000000\n",
       "25%    40.000000\n",
       "50%    50.000000\n",
       "75%    57.000000\n",
       "max    61.000000"
      ]
     },
     "execution_count": 25,
     "metadata": {},
     "output_type": "execute_result"
    }
   ],
   "source": [
    "df.describe()"
   ]
  },
  {
   "cell_type": "code",
   "execution_count": 74,
   "metadata": {
    "collapsed": false
   },
   "outputs": [
    {
     "data": {
      "image/png": "[encoded data removed]",
      "text/plain": [
       "<matplotlib.figure.Figure at 0x7fc4516f0650>"
      ]
     },
     "metadata": {},
     "output_type": "display_data"
    }
   ],
   "source": [
    "df.length.hist()\n",
    "plt.title='Sample picture'\n",
    "plt.xlabel('length')\n",
    "plt.ylabel('Count')\n",
    "plt.savefig('sample.svg')"
   ]
  },
  {
   "cell_type": "code",
   "execution_count": 27,
   "metadata": {
    "collapsed": false
   },
   "outputs": [
    {
     "data": {
      "text/plain": [
       "u'0.17.1'"
      ]
     },
     "execution_count": 27,
     "metadata": {},
     "output_type": "execute_result"
    }
   ],
   "source": [
    "pd.__version__"
   ]
  },
  {
   "cell_type": "code",
   "execution_count": 28,
   "metadata": {
    "collapsed": false
   },
   "outputs": [
    {
     "name": "stdout",
     "output_type": "stream",
     "text": [
      " asdfasdf \n"
     ]
    }
   ],
   "source": [
    "import re\n",
    "_text_a = u'<table> <tr>asdfasdf</tr> </table>'\n",
    "_text_a = re.sub(r'<.+?>', '', _text_a)\n",
    "print _text_a"
   ]
  },
  {
   "cell_type": "code",
   "execution_count": 119,
   "metadata": {
    "collapsed": false
   },
   "outputs": [
    {
     "name": "stdout",
     "output_type": "stream",
     "text": [
      "pd version: 0.17.1\n",
      "10000\n"
     ]
    }
   ],
   "source": [
    "# coding: UTF-8\n",
    "%matplotlib inline\n",
    "import pandas as pd\n",
    "import matplotlib.pyplot as plt\n",
    "import re\n",
    "print 'pd version: ' + pd.__version__\n",
    "\n",
    "#data_file = '/home/spark/workspace/ReviewHelpful/data/100_resume'\n",
    "data_file = '/home/spark/workspace/ReviewHelpful/data/2w_resume'\n",
    "documents = []\n",
    "\n",
    "_counter = 0\n",
    "_max = 10000\n",
    "for _line in open(data_file):\n",
    "    if _counter < _max:\n",
    "        _line = re.sub(r'<.+?>', '', _line) \n",
    "        _line = re.sub(r'[\\n\\r]','', _line)\n",
    "        _line = _line.decode('utf-8')\n",
    "        if len(_line) < 11000:\n",
    "            documents.append(_line)\n",
    "            _counter = _counter + 1\n",
    "\n",
    "print len(documents)\n"
   ]
  },
  {
   "cell_type": "code",
   "execution_count": 120,
   "metadata": {
    "collapsed": false
   },
   "outputs": [
    {
     "data": {
      "text/html": [
       "<div>\n",
       "<table border=\"1\" class=\"dataframe\">\n",
       "  <thead>\n",
       "    <tr style=\"text-align: right;\">\n",
       "      <th></th>\n",
       "      <th>resume</th>\n",
       "      <th>length</th>\n",
       "    </tr>\n",
       "  </thead>\n",
       "  <tbody>\n",
       "    <tr>\n",
       "      <th>0</th>\n",
       "      <td>应聘职位：业务主任工作地点：增城\\n\\n简历管理_我的智联_智联招聘\\n\\n\\n\\n\\n\\n...</td>\n",
       "      <td>1668</td>\n",
       "    </tr>\n",
       "    <tr>\n",
       "      <th>1</th>\n",
       "      <td>应聘职位：业务主任工作地点：增城\\n\\n简历管理_我的智联_智联招聘\\n\\n\\n\\n\\n\\n...</td>\n",
       "      <td>2316</td>\n",
       "    </tr>\n",
       "    <tr>\n",
       "      <th>2</th>\n",
       "      <td>应聘职位：业务主任工作地点：增城\\n\\n简历管理_我的智联_智联招聘\\n\\n\\n\\n\\n\\n...</td>\n",
       "      <td>2004</td>\n",
       "    </tr>\n",
       "    <tr>\n",
       "      <th>3</th>\n",
       "      <td>应聘职位：业务主任工作地点：惠州\\n\\n简历管理_我的智联_智联招聘\\n\\n\\n\\n\\n\\n...</td>\n",
       "      <td>2193</td>\n",
       "    </tr>\n",
       "    <tr>\n",
       "      <th>4</th>\n",
       "      <td>\\n\\n\\n    Recruiter Desktop----Zhaopin.com | 简...</td>\n",
       "      <td>5344</td>\n",
       "    </tr>\n",
       "  </tbody>\n",
       "</table>\n",
       "</div>"
      ],
      "text/plain": [
       "                                              resume  length\n",
       "0  应聘职位：业务主任工作地点：增城\\n\\n简历管理_我的智联_智联招聘\\n\\n\\n\\n\\n\\n...    1668\n",
       "1  应聘职位：业务主任工作地点：增城\\n\\n简历管理_我的智联_智联招聘\\n\\n\\n\\n\\n\\n...    2316\n",
       "2  应聘职位：业务主任工作地点：增城\\n\\n简历管理_我的智联_智联招聘\\n\\n\\n\\n\\n\\n...    2004\n",
       "3  应聘职位：业务主任工作地点：惠州\\n\\n简历管理_我的智联_智联招聘\\n\\n\\n\\n\\n\\n...    2193\n",
       "4  \\n\\n\\n    Recruiter Desktop----Zhaopin.com | 简...    5344"
      ]
     },
     "execution_count": 120,
     "metadata": {},
     "output_type": "execute_result"
    }
   ],
   "source": [
    "df = pd.DataFrame(documents)\n",
    "df.columns = ['resume']\n",
    "df['length'] = df['resume'].apply(len)\n",
    "df.head()"
   ]
  },
  {
   "cell_type": "code",
   "execution_count": 121,
   "metadata": {
    "collapsed": false
   },
   "outputs": [
    {
     "data": {
      "text/html": [
       "<div>\n",
       "<table border=\"1\" class=\"dataframe\">\n",
       "  <thead>\n",
       "    <tr style=\"text-align: right;\">\n",
       "      <th></th>\n",
       "      <th>length</th>\n",
       "    </tr>\n",
       "  </thead>\n",
       "  <tbody>\n",
       "    <tr>\n",
       "      <th>count</th>\n",
       "      <td>10000.000000</td>\n",
       "    </tr>\n",
       "    <tr>\n",
       "      <th>mean</th>\n",
       "      <td>3144.077800</td>\n",
       "    </tr>\n",
       "    <tr>\n",
       "      <th>std</th>\n",
       "      <td>1559.746806</td>\n",
       "    </tr>\n",
       "    <tr>\n",
       "      <th>min</th>\n",
       "      <td>0.000000</td>\n",
       "    </tr>\n",
       "    <tr>\n",
       "      <th>25%</th>\n",
       "      <td>2039.000000</td>\n",
       "    </tr>\n",
       "    <tr>\n",
       "      <th>50%</th>\n",
       "      <td>2732.000000</td>\n",
       "    </tr>\n",
       "    <tr>\n",
       "      <th>75%</th>\n",
       "      <td>4076.000000</td>\n",
       "    </tr>\n",
       "    <tr>\n",
       "      <th>max</th>\n",
       "      <td>10987.000000</td>\n",
       "    </tr>\n",
       "  </tbody>\n",
       "</table>\n",
       "</div>"
      ],
      "text/plain": [
       "             length\n",
       "count  10000.000000\n",
       "mean    3144.077800\n",
       "std     1559.746806\n",
       "min        0.000000\n",
       "25%     2039.000000\n",
       "50%     2732.000000\n",
       "75%     4076.000000\n",
       "max    10987.000000"
      ]
     },
     "execution_count": 121,
     "metadata": {},
     "output_type": "execute_result"
    }
   ],
   "source": [
    "df.describe()\n"
   ]
  },
  {
   "cell_type": "code",
   "execution_count": 127,
   "metadata": {
    "collapsed": false
   },
   "outputs": [
    {
     "data": {
      "image/png": "[encoded data removed]",
      "text/plain": [
       "<matplotlib.figure.Figure at 0x7f5181dec3d0>"
      ]
     },
     "metadata": {},
     "output_type": "display_data"
    }
   ],
   "source": [
    "\n",
    "#df.length.hist()\n",
    "df.hist(\"length\", bins=50, figsize=(12, 6))\n",
    "plt.title(\"\")\n",
    "plt.xlabel(u'Length of resume')\n",
    "plt.ylabel(u'count')\n",
    "#plt.ylim((0,12))\n",
    "\n",
    "plt.savefig('resume-stat.svg')"
   ]
  },
  {
   "cell_type": "code",
   "execution_count": 123,
   "metadata": {
    "collapsed": false
   },
   "outputs": [
    {
     "name": "stdout",
     "output_type": "stream",
     "text": [
      "1668\n",
      "2452\n"
     ]
    }
   ],
   "source": [
    "d1 = df.resume.head(1)[0]\n",
    "print len(d1)\n",
    "d2 = d1.encode('utf-8')\n",
    "print len(d2)"
   ]
  },
  {
   "cell_type": "code",
   "execution_count": 124,
   "metadata": {
    "collapsed": false
   },
   "outputs": [
    {
     "name": "stdout",
     "output_type": "stream",
     "text": [
      "北京\n",
      "u'\\u5317\\u4eac'\n",
      "2\n"
     ]
    }
   ],
   "source": [
    "u1 = u'北京'\n",
    "print u1\n",
    "print repr(u1)\n",
    "print len(u1)"
   ]
  },
  {
   "cell_type": "code",
   "execution_count": 125,
   "metadata": {
    "collapsed": false
   },
   "outputs": [
    {
     "name": "stdout",
     "output_type": "stream",
     "text": [
      "北京\n",
      "'\\xe5\\x8c\\x97\\xe4\\xba\\xac'\n",
      "6\n"
     ]
    }
   ],
   "source": [
    "u2 = '北京'\n",
    "print u2\n",
    "print repr(u2)\n",
    "print len(u2)"
   ]
  },
  {
   "cell_type": "code",
   "execution_count": null,
   "metadata": {
    "collapsed": true
   },
   "outputs": [],
   "source": []
  },
  {
   "cell_type": "code",
   "execution_count": null,
   "metadata": {
    "collapsed": true
   },
   "outputs": [],
   "source": []
  }
 ],
 "metadata": {
  "kernelspec": {
   "display_name": "Python 2",
   "language": "python",
   "name": "python2"
  },
  "language_info": {
   "codemirror_mode": {
    "name": "ipython",
    "version": 2
   },
   "file_extension": ".py",
   "mimetype": "text/x-python",
   "name": "python",
   "nbconvert_exporter": "python",
   "pygments_lexer": "ipython2",
   "version": "2.7.6"
  }
 },
 "nbformat": 4,
 "nbformat_minor": 0
}
