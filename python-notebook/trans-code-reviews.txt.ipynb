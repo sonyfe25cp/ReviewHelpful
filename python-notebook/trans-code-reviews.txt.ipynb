{
 "cells": [
  {
   "cell_type": "code",
   "execution_count": 5,
   "metadata": {
    "collapsed": false
   },
   "outputs": [
    {
     "name": "stdout",
     "output_type": "stream",
     "text": [
      "reprint over\n"
     ]
    }
   ],
   "source": [
    "# coding = utf8\n",
    "file_path = '/data/opinion_spam/real/reviewsNew.txt'\n",
    "ofp = '/data/opinion_spam/real/reviewsNew.txt-utf8'\n",
    "of = open(ofp, 'w')\n",
    "datas = []\n",
    "MIN_FD = 1\n",
    "raw_file = open(file_path)\n",
    "for line in raw_file:    \n",
    "    try:\n",
    "        line = line.decode('gbk')\n",
    "    except:\n",
    "        continue\n",
    "    #print 'gbk', line\n",
    "    line = line.encode('utf-8')\n",
    "    #print 'utf8', line\n",
    "    of.write(line)\n",
    "of.close()\n",
    "raw_file.close()\n",
    "print 'reprint over'"
   ]
  },
  {
   "cell_type": "code",
   "execution_count": null,
   "metadata": {
    "collapsed": true
   },
   "outputs": [],
   "source": []
  }
 ],
 "metadata": {
  "kernelspec": {
   "display_name": "Python 2",
   "language": "python",
   "name": "python2"
  },
  "language_info": {
   "codemirror_mode": {
    "name": "ipython",
    "version": 2
   },
   "file_extension": ".py",
   "mimetype": "text/x-python",
   "name": "python",
   "nbconvert_exporter": "python",
   "pygments_lexer": "ipython2",
   "version": "2.7.6"
  }
 },
 "nbformat": 4,
 "nbformat_minor": 0
}
