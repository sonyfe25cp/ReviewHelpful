{
 "cells": [
  {
   "cell_type": "code",
   "execution_count": 2,
   "metadata": {
    "collapsed": false
   },
   "outputs": [
    {
     "name": "stdout",
     "output_type": "stream",
     "text": [
      "ab\n"
     ]
    }
   ],
   "source": [
    "string = 'ab'\n",
    "print string"
   ]
  },
  {
   "cell_type": "code",
   "execution_count": 38,
   "metadata": {
    "collapsed": false
   },
   "outputs": [
    {
     "name": "stdout",
     "output_type": "stream",
     "text": [
      "i\"m live in Steet No. 55 beijing China我.\n",
      "m : [u'i', u'm', u'l', u'i', u'e', u'i', u'n', u'S', u't', u'e', u'e', u't', u'N', u'o', u'5', u'5', u'b', u'e', u'i', u'j', u'i', u'n', u'g', u'C', u'h', u'i', u'n', u'a']\n",
      "nc:  i\"m live in Steet No. 55 beijing China .\n"
     ]
    }
   ],
   "source": [
    "import re\n",
    "\n",
    "a = u'i\"m live in Steet No. 55 beijing China我.'\n",
    "print a\n",
    "\n",
    "m = re.findall(r'[\\u4e00-\\u9fa5]', a)\n",
    "\n",
    "if m:\n",
    "    print 'm :',m\n",
    "else:\n",
    "    print 'no'\n",
    "\n",
    "res = '[\\u4e00-\\u9fa5]'\n",
    "\n",
    "nc = ''\n",
    "for c in a:\n",
    "    if c < 20 or c > 'z':\n",
    "        c = ' '\n",
    "    nc += c\n",
    "    \n",
    "print \"nc: \",nc\n",
    "    "
   ]
  },
  {
   "cell_type": "code",
   "execution_count": 37,
   "metadata": {
    "collapsed": false
   },
   "outputs": [
    {
     "data": {
      "text/plain": [
       "u'i\"m live in Steet No. 55 beijing China.'"
      ]
     },
     "execution_count": 37,
     "metadata": {},
     "output_type": "execute_result"
    }
   ],
   "source": [
    "data = a\n",
    "\n",
    "english_only"
   ]
  },
  {
   "cell_type": "code",
   "execution_count": 39,
   "metadata": {
    "collapsed": false
   },
   "outputs": [
    {
     "data": {
      "text/plain": [
       "True"
      ]
     },
     "execution_count": 39,
     "metadata": {},
     "output_type": "execute_result"
    }
   ],
   "source": []
  },
  {
   "cell_type": "code",
   "execution_count": 56,
   "metadata": {
    "collapsed": false
   },
   "outputs": [
    {
     "name": "stdout",
     "output_type": "stream",
     "text": [
      "o(∩∩)o...哈哈\n",
      "o(∩∩)o...哈哈\n",
      "what\n"
     ]
    }
   ],
   "source": [
    "a = 'o(∩∩)o...哈哈'\n",
    "import codecs\n",
    "\n",
    "if isinstance(a, unicode):\n",
    "    print a\n",
    "    print 'yes'\n",
    "else:\n",
    "    print a\n",
    "    b = unicode(a, 'utf8')\n",
    "    print b\n",
    "    print 'what'"
   ]
  },
  {
   "cell_type": "code",
   "execution_count": null,
   "metadata": {
    "collapsed": true
   },
   "outputs": [],
   "source": []
  }
 ],
 "metadata": {
  "kernelspec": {
   "display_name": "Python 2",
   "language": "python",
   "name": "python2"
  },
  "language_info": {
   "codemirror_mode": {
    "name": "ipython",
    "version": 2
   },
   "file_extension": ".py",
   "mimetype": "text/x-python",
   "name": "python",
   "nbconvert_exporter": "python",
   "pygments_lexer": "ipython2",
   "version": "2.7.6"
  }
 },
 "nbformat": 4,
 "nbformat_minor": 0
}
