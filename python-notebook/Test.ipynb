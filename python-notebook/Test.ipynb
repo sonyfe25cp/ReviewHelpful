{
 "cells": [
  {
   "cell_type": "code",
   "execution_count": 2,
   "metadata": {
    "collapsed": false
   },
   "outputs": [
    {
     "name": "stdout",
     "output_type": "stream",
     "text": [
      "ab\n"
     ]
    }
   ],
   "source": [
    "string = 'ab'\n",
    "print string"
   ]
  },
  {
   "cell_type": "code",
   "execution_count": 38,
   "metadata": {
    "collapsed": false
   },
   "outputs": [
    {
     "name": "stdout",
     "output_type": "stream",
     "text": [
      "i\"m live in Steet No. 55 beijing China我.\n",
      "m : [u'i', u'm', u'l', u'i', u'e', u'i', u'n', u'S', u't', u'e', u'e', u't', u'N', u'o', u'5', u'5', u'b', u'e', u'i', u'j', u'i', u'n', u'g', u'C', u'h', u'i', u'n', u'a']\n",
      "nc:  i\"m live in Steet No. 55 beijing China .\n"
     ]
    }
   ],
   "source": [
    "import re\n",
    "\n",
    "a = u'i\"m live in Steet No. 55 beijing China我.'\n",
    "print a\n",
    "\n",
    "m = re.findall(r'[\\u4e00-\\u9fa5]', a)\n",
    "\n",
    "if m:\n",
    "    print 'm :',m\n",
    "else:\n",
    "    print 'no'\n",
    "\n",
    "res = '[\\u4e00-\\u9fa5]'\n",
    "\n",
    "nc = ''\n",
    "for c in a:\n",
    "    if c < 20 or c > 'z':\n",
    "        c = ' '\n",
    "    nc += c\n",
    "    \n",
    "print \"nc: \",nc\n",
    "    "
   ]
  },
  {
   "cell_type": "code",
   "execution_count": 37,
   "metadata": {
    "collapsed": false
   },
   "outputs": [
    {
     "data": {
      "text/plain": [
       "u'i\"m live in Steet No. 55 beijing China.'"
      ]
     },
     "execution_count": 37,
     "metadata": {},
     "output_type": "execute_result"
    }
   ],
   "source": [
    "data = a\n",
    "\n",
    "english_only"
   ]
  },
  {
   "cell_type": "code",
   "execution_count": 39,
   "metadata": {
    "collapsed": false
   },
   "outputs": [
    {
     "data": {
      "text/plain": [
       "True"
      ]
     },
     "execution_count": 39,
     "metadata": {},
     "output_type": "execute_result"
    }
   ],
   "source": []
  },
  {
   "cell_type": "code",
   "execution_count": 56,
   "metadata": {
    "collapsed": false
   },
   "outputs": [
    {
     "name": "stdout",
     "output_type": "stream",
     "text": [
      "o(∩∩)o...哈哈\n",
      "o(∩∩)o...哈哈\n",
      "what\n"
     ]
    }
   ],
   "source": [
    "a = 'o(∩∩)o...哈哈'\n",
    "import codecs\n",
    "\n",
    "if isinstance(a, unicode):\n",
    "    print a\n",
    "    print 'yes'\n",
    "else:\n",
    "    print a\n",
    "    b = unicode(a, 'utf8')\n",
    "    print b\n",
    "    print 'what'"
   ]
  },
  {
   "cell_type": "code",
   "execution_count": 2,
   "metadata": {
    "collapsed": false
   },
   "outputs": [
    {
     "name": "stdout",
     "output_type": "stream",
     "text": [
      "0.5\n",
      "[[  3.09412577e-18   5.88046544e-18   1.76445623e-27  -0.00000000e+00]\n",
      " [  3.03865369e-37  -5.80505465e-03   7.15447640e-03   6.60998396e-37]\n",
      " [ -1.07597574e-02   1.57767634e-38   2.52027400e-02  -1.07458889e-02]\n",
      " [  9.52850476e-09   1.90403257e-08  -3.49647627e-08   9.38394853e-09]]\n",
      "[[  1.75613328e-18]\n",
      " [ -1.73361272e-03]\n",
      " [ -6.10691659e-03]\n",
      " [  8.47236804e-09]]\n"
     ]
    }
   ],
   "source": [
    "import numpy as np\n",
    "X = np.array([ [0,0,1],[0,1,1],[1,0,1],[1,1,1] ])\n",
    "y = np.array([[0,1,1,0]]).T\n",
    "alpha,hidden_dim,dropout_percent,do_dropout = (0.5,4,0.2,True)\n",
    "synapse_0 = 2*np.random.random((3,hidden_dim)) - 1\n",
    "synapse_1 = 2*np.random.random((hidden_dim,1)) - 1\n",
    "for j in xrange(60000):\n",
    "    layer_1 = (1/(1+np.exp(-(np.dot(X,synapse_0)))))\n",
    "    if(do_dropout):\n",
    "        layer_1 *= np.random.binomial([np.ones((len(X),hidden_dim))],1-dropout_percent)[0] * (1.0/(1-dropout_percent))\n",
    "    layer_2 = 1/(1+np.exp(-(np.dot(layer_1,synapse_1))))\n",
    "    layer_2_delta = (layer_2 - y)*(layer_2*(1-layer_2))\n",
    "    layer_1_delta = layer_2_delta.dot(synapse_1.T) * (layer_1 * (1-layer_1))\n",
    "    synapse_1 -= (alpha * layer_1.T.dot(layer_2_delta))\n",
    "    synapse_0 -= (alpha * X.T.dot(layer_1_delta))\n",
    "print alpha\n",
    "print layer_1_delta\n",
    "print layer_2_delta"
   ]
  },
  {
   "cell_type": "code",
   "execution_count": 3,
   "metadata": {
    "collapsed": true
   },
   "outputs": [],
   "source": [
    "import theano"
   ]
  },
  {
   "cell_type": "code",
   "execution_count": null,
   "metadata": {
    "collapsed": true
   },
   "outputs": [],
   "source": []
  }
 ],
 "metadata": {
  "kernelspec": {
   "display_name": "Python 2",
   "language": "python",
   "name": "python2"
  },
  "language_info": {
   "codemirror_mode": {
    "name": "ipython",
    "version": 2
   },
   "file_extension": ".py",
   "mimetype": "text/x-python",
   "name": "python",
   "nbconvert_exporter": "python",
   "pygments_lexer": "ipython2",
   "version": "2.7.6"
  }
 },
 "nbformat": 4,
 "nbformat_minor": 0
}
