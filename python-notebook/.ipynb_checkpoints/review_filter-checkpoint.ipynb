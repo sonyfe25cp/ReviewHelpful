{
 "cells": [
  {
   "cell_type": "code",
   "execution_count": 1,
   "metadata": {
    "collapsed": false
   },
   "outputs": [
    {
     "name": "stdout",
     "output_type": "stream",
     "text": [
      "Raw File Count is : 5838923\n"
     ]
    }
   ],
   "source": [
    "import os, sys\n",
    "#Basic Data Statics\n",
    "raw_file = open(\"/data/opinion_spam/real/reviewsNew.txt\")\n",
    "line = raw_file.readline()\n",
    "raw_data_count = 0\n",
    "while line:\n",
    "    raw_data_count = raw_data_count+1\n",
    "    line = raw_file.readline()\n",
    "raw_file.close()\n",
    "print 'Raw File Count is : ' + str(raw_data_count)"
   ]
  },
  {
   "cell_type": "code",
   "execution_count": 2,
   "metadata": {
    "collapsed": false
   },
   "outputs": [
    {
     "name": "stdout",
     "output_type": "stream",
     "text": [
      "sub length : 8\n",
      "sub length : 8\n",
      "sub length : 8\n",
      "sub length : 8\n",
      "sub length : 8\n",
      "sub length : 8\n",
      "sub length : 8\n",
      "sub length : 8\n",
      "sub length : 8\n",
      "sub length : 1\n",
      "data count is :10\n",
      "[['A1004AX2J2HXGL', 'B00028HBKM', 'January 17, 2005', '9', '22', '1.0', '\"Life beyond the thunderdome\"', ' I cried when I saw The PASSION OF THE CHRIST - how could you not? I sat there and watched a man brutalized for two hours. Everyone around me was crying - it felt like we were all tuned in to the proceedings of a televised execution.  I was a little confused by the time it was all over & as I was leaving the theater, I was even more so: I saw parents walking out with their children.  Jesus Christ\\'s teachings were left in the wings, the significance of his life locked out of the script almost entirely.  Hardly a first impression for young children.  The ONLY things I found at all interesting about the PASSION OF THE CHRIST: the use of the authentic languages from the time period (Latin & Aramaic) and the actors bringing this movie to life.  James Caviezel\\'s performance in Terrence Malick\\'s THE THIN RED LINE was simply mesmerizing, and he used a similar pallet of emotion for his performance here.  I was raised a Roman Catholic - so viewing the Stations of the Cross was nothing new to me.  To suggest this film version of that seasonal meditation is a \"masterwork\" - simply is absurd.  So what WAS the point of this film, what were we to draw from its brutal imagery?  There was no inspiration in Mel Gibson\\'s film for me, no arc of understanding - only suffering and death.  Which led me to consider their goal may have been to create a vivid emotional experience, intended to lift us out of numbness and inspire reflection on faith to get us through this life: televised warfare, beheadings on the internet, stories of sickness and shootings on the nightly news, etc.  Perhaps, but I don\\'t think so.  A fleeting, knee-jerk reaction with some tears shed on queue, and then those emotions are safely placed back on the shelf until the next time.  Complicity and silence have always gone hand in hand: it\\'s easy to damn this world, condemn what we see as different from our own huddled beliefs; allow selfishness and insincerity to decimate through clouds of frankincense and joyous hymns.  Salvation?  Maybe.      The infamous THE LAST TEMPTATION OF CHRIST, directed by Martin Scorsese, is a \"masterwork\" of filmmaking. The film not only inspires the heart, but also prods the mind.  I could feel the breath of those images, allowing me to enter the world it created and truly feel something more than myself.  It was not an epiphany; it was a fresh view, it was an enlightened dream of another world, yet strangely our own.  The film didn\\'t plague the audience with blood and horrors; it dramatizes the passion and relevance of the story.  I\\'ve come to understand and believe Jesus Christ to be among the greatest teachers this world has known, who suffered the tortures of the damned to inspire his vision of peace, determination for truth and humility in us all - ideals that have taken a back seat to robotic, indignant servitude to skewed \"moral\" interests.    The LAST TEMPTATION was based on the book by Nikos Kazantzakis - from which the filmmakers created a thoughtful, passionate re-examination of one of the greatest stories ever told.  Mr. Scorsese, in his youth, had almost joined the priesthood; but chose to explore and express his passion through the cinema.  I saw no blasphemy in his images - only a powerful film exploring faith in ourselves and the world.  Often cited as trash, garbage and against popular faith - this film truly offers a story of FAITH we can all profit from, regardless of what we believe.       \\n'], ['A1004AX2J2HXGL', 'B00062IVM6', 'January 17, 2005', '4', '7', '5.0', \"I'm making my lunch!\", ' WILD AT HEART on DVD.  I\\'ve been waiting on this day for a long, long, long time.    The first time I saw this movie, I was floored.  Few movies excel in creating such an atmosphere of heat and humid drama on screen so well (DO THE RIGHT THING & STRAY DOG come to mind).  Mr. Lynch brings the raw, kinetic lives of Barry Gifford\\'s characters to the screen in his own particular way & everything about this movie just screams rock and roll and dangerous things.  The design of the film recalls elements of film noir, motorcycle and B-movies from the fifties and even a dusting of the gritty seventies.  As for the cast?  Diane Ladd can wear puke & fly on a broomstick with sparkling brilliance.  Harry Dean Stanton ain\\'t nothin\\' but a hound dog; Willem Dafoe, rivaled only by Dennis Hopper, draws a wicked flame of evil as Bobby Peru - his scene with Laura Dern is incredible; Nicolas Cage channels alot of the same power that E had & Laura Dern fills her red ruby slippers with a delicious, trailer trash sweetness.  Marcello Santos, Drop Shadow, Reggie, Mr. Reindeer, Uncle Pooch - characters all, shipwrecked on planet Earth.  If you enjoy film noir, trashy romances - then say no more - this is just the one for you.  The DVD transfer looks spectacular, the extras are juicy and the only thing lacking would be a commentary track, I guess.  But the movie is certainly good enough to speak for itself.    OK - in reference to another reviewer (ixta coytl) - David Lynch guilty of plagiarism?  A dog with a hand in its mouth is most certainly, most definitely taken from YOJIMBO.  So what, it doesn\\'t warrant \"borderline plagiarism\"?  At the end of GOODFELLAS, the very last image of Joe Pesci shooting at the screen is taken from a silent film called THE GREAT TRAIN ROBBERY (Edwin S. Porter).  GOODFELLAS is now an imitation of that film?  Artists borrow and steal from each other constantly; the above examples are hardly suggesting plagiarism.  Also, checking your characters into a motel isn\\'t grounds for plagiarism either - even if it is from the great TOUCH OF EVIL.  The \"seedy motel\" has a long tradition in films that fall under the genres of film noir, southern gothic or the classic road movie.  Everyone needs to stop somewhere for the night sooner or later.    So, keep on kickin\\' (...) on the dance floor & tellin\\' EVERYONE what\\'s on your almost perfect mind...      \\n'], ['A1004AX2J2HXGL', 'B00064LJVE', 'January 13, 2005', '5', '15', '1.0', 'Into the woods', ' M. is a hack, a second-place magician in a high school talent show.  He\\'s drawn comparisons to Hitchcock and Spielberg - in the same sentence no less?  Resting on the laurels of exactly ONE good movie, he manages to eek out a career for himself.  Since THE SIXTH SENSE, his movies have gotten progressively worse.  UNBREAKABLE was fair at best.  An interesting idea with a dull, rumbling ride to the conclusion.  SIGNS was a very rough movie to watch.  The characters were cookie-cutter samples of human emotion and conflict - toss in a guy in an alien suit and you have what exactly?  A bad joke.  Now, THE VILLAGE...    Mr. Shyamalan\\'s \"entertainments\" are about as mediocre as you can get - and I really do wish I could enjoy his movies.  They seem to lack something.  Walking out of this one, I felt like I had just witnessed a badly executed parlor trick disguised as a vague \"social commentary\" piece.  Bryce Howard is a wonderful actress; I hope to see more of her in the future.  She takes a lifeless character and gives her depth.  The other cast members also played their parts wonderfully - too bad it wasn\\'t another movie.  The trailer seemed creepy; a dark fairytale or ghost story set in the 19th century.  Nice idea, haven\\'t seen one of those in a while.  I pay the eight bucks, and watched this thing unfold:   THE VILLAGE had absolutely no suspense, no tension - a few cheap scares along the way - but nothing to make the \"trick\" ending worth the ride.  I won\\'t give it away for those who haven\\'t seen the movie, but the whole story is so flat and badly contrived, that it doesn\\'t really matter.  The pay off was in the vein of the \"Twilight Zone\" & when it was revealed, I could almost hear the squeaky curtain and see the wizard furiously working the controls to an out-of-control smoke machine.  I\\'m not looking for depth or stories that cleverly draw an allegory of our world every time I go to the movies, but would like something above... this?  Pretty cinematography, composition and cheap thrills do NOT make good movies - that would be like having a handsome nose with loose teeth and no eyeballs.    I read a review that stated this movie was \"smart... an intelligent thrill-ride\".  No it wasn\\'t - it was awful rubbish.  And reading some of the other reviews here, I get the impression they\\'d enjoy watching chocolate balls melt in their hand... or it\\'s completely possible I saw another movie with the same title and premise?   A twisted ending, to be sure.                 \\n'], ['A1004AX2J2HXGL', 'B0002GMSC0', 'January 6, 2005', '15', '15', '1.0', 'koo-koo-ca-choo', \" Where do people come up with this garbage?    It is so obvious she's about as real an artist as her sister (rich & dumb Jessica Simpson-Lachey).  The music is so vapid, phoney and devoid of any real content; the lyrics remind me of love notes scribbled on the back of a trapper keeper. I enjoy great, entertaining music like the next person - but this stuff just insults the intelligence.    Come on now?  Why can't people get behind real artists, people with actual talent and interesting things to say?  Not talking depth, but just plain reality?  It's disheartening, one, that this is the kind of stuff the industry seems to always get behind - cash cow potential;  but on the other hand, people buy up this rubbish?  This seems to be one of the hoofprints of our culture: toss anything into the troth and we eat it up.  Maybe it really doesn't matter in the end.  Life is short, so who cares?    Yeah, who cares: buy more, buy now.          www.hopeinamerica.com       \\n\"], ['A1004AX2J2HXGL', 'B00019RD1Y', 'December 20, 2004', '1', '1', '5.0', 'Exceptional music that can stand alone as brilliant works', \" A wonderful, wonderful collection of music.  I always loved the music for both SATYRICON and FELLINI ROMA - to have them available on CD is a treasure beyond belief!  I've always been dissatisfied with only the two minute suites previously available on other Fellini/Rota score collections.  SATYRICON's music definitely creates an other-worldly quality.  Ethereal music that stands up well on its own; seeming more at home in a science fiction film, rather than an exploration Rome's decadence.  In places, you can hear crackles, as if the recording was taken off an LP.  But this is not distracting at all; in fact it seems to enhance the distant mood of the music.        FELLINI ROMA is marvelous!  The score is more ambient and moody, less variant than SATYRICON; however, it creates a dark, dream-like ambiance incomparable to most soundtracks.  The music for the Catholic fashion show is strangely upbeat, very much like the organ music heard in most Roman Catholic churches.    TOBY DAMMIT is the most standard of the three.  It is an amazing work - and one in a long line of film music that is evidence enough of Nino Rota's haunting musical genius.  Playful and dark, it works very well to build and sustain the mood that Fellini intended for the film.  Highly recommended for avid listeners of film music.     \\n\"], ['A1004AX2J2HXGL', 'B00003CXHM', 'April 9, 2004', '1', '1', '4.0', '\"drunken prophecies, libels and dreams\"', ' Wow.  The Sex Pistols?  Never heard a more perfect name for a band.  Immediately conjures up all sorts of images.  Then seeing photographs of the band and the environment they spawned: like walking into a cultural junk shop and finding some wild, interesting things.  Then you hear the music, and you KNOW that things will be all right.  The documentary was like watching a wildly painted, gravelly sounding, busted-up auto running laps around the neighborhood grandstand.  I sat on the couch, popcorn and soda handy - and watched this documentary twice in one night.   Memories of this sort are like a giant bonfire that everyone throws logs on to keep it going.  For the first time, the Pistols toss there own logs onto the fire.  Just the thought of the backdrops, colors and possibilities attached to that time and place are wondrous enough.  It seemed so open, raunchy and ugly that you can run a million scenarios in your head and still have room for more.  The Sex Pistols were at the apex of all this: an accident, a force of nature.   The title alone, THE FILTH AND THE FURY, suggests so much about what you are about to experience.  You are told a story in a chaotic manner, images hurled at you - grainy, black and white concert footage; crazy, young English kids acting like they just don\\'t care; seedy bars, streets and garbage dumps; representatives of various government, media and church organizations.  Lots of news reels and garish lights.  The surviving band members tell their own versions of what happened; their faces cast in shadow to keep you carefully tuned in to the images of the time period.  Essentially a history lesson taught by the people who created, and were created by, the moment.  I thought it was well done - but left me wanting more. But that was OK, too.  Their career was so abrupt, 26 months from start to end - which I think has much to do with interest in them to this day.       \"High drama\" as John Lydon describes it - is exactly it.  Everything suggested by the Sex Pistols, all the random images and brilliant simplicity of the music just feeds the imagination.  You can\\'t create that kind of magic with high gloss and untouchable superstars.  For my money, Steve Jones was the best interview in the whole thing.  The guy is hilarious!  He seems like someone you\\'d hang out with for hours and hours at a bar, drinking beers and exchanging war stories.  The commentary by Julien Temple is extremely dull and doesn\\'t add much.  The other punk documentary, if it serves any purpose at all, illustrates where they could have gone wrong in the making of THE FILTH AND THE FURY.  So, you may want to rent first, but you\\'ll probably want to pick up a copy for yourself.  It doesn\\'t wear thin with repeat viewings.     \\n'], ['A1004AX2J2HXGL', 'B000059H9C', 'January 25, 2004', '3', '3', '5.0', 'roasted pigs in space!', ' FELLINI SATYRICON - the first film I experienced directed by Federico Fellini.  I was with two or three other people in a small theater, and remember sitting through the movie with my jaw gaping like a little kid watching cartoons; I was on the edge of my seat.  I walked out and spent an hour or so trying to figure out what the hell it was I just saw?  Favorite scenes: Vernacchio, marriage at sea, minotaur.  I later read that Fellini had always wanted to make a science fiction picture, and SATYRICON was the closest he would come to that goal.  Petronious Arbiter was a Roman scholar and poet who mixed with the courtesans of the emperor Nero.  The remains of his writings are his observations of the world he lived; ultimately, he was \"asked\" by Nero to end his own life for various insults to the emperor.  A strange, distant world is painted in the fractured remains of the Satyricon.  Fellini used the text as a jumping off point to attempt to imagine a world completely alien to our own (images, sound, everything).  Fueling this tour-de-force of invention is the period of the film\\'s creation - the late sixties.  If not directly quoted in its scenes, the spirit and free form of the late sixties definitely influenced Fellini and company.  BARBARELLA comes to mind as a comparison, in terms of color pallet, bizarre situations and a comic book quality - psychedelia at its finest.  Fellini\\'s interpretation of the Satyricon seems to capture that weird pulse of chaos and the \"climate\" of revolution; stripping away a mere \"classic literature travelogue\" approach - and presenting a libidinal sideshow of monsters, perverts, politicians, artists, and other variations of the human condition.  The movie works like a dream, just presenting this river of existence that we follow through the misadventures of the main characters: Encolpio, Ascilto and Gitone.  It\\'s certainly a wonderful work of art and invention, among the best the cinema has provided thus far.  Since its release, major filmmakers have dipped into this film for inspiration - Terry Gilliam, George Lucas, Martin Scorsese, etc.   In the end, Encolpio\\'s desperate way of life leaves nothing behind, except an expressionless face carved in stone amongst other faces.  Life is short and fleeting.  What will people two thousand years from now think of the way we live today?  Trying to imagine a possible inkling of an idea to follow that question was all I could think about after walking out of FELLINI SATYRICON.   So, I\\'m not sure what you\\'d call this movie - science fiction?  A comedy?  CALIGULA on acid?  I read [maybe in Playboy] that Fellini was asked to direct CALIGULA, and refused to take the job.  Funny, that.  Certainly SATYRICON is an entertainment of some kind?  Whatever it is - definitely RENT it first.     \\n'], ['A1004AX2J2HXGL', 'B00000153R', 'December 21, 2003', '3', '3', '5.0', 'nervous man with a four dollar CD', \" I recently bought this CD brand new.  I knew that it has gone out of print - so put down my other selections and bought this in case I never come across it again at the ridiculous price of four dollars (and change)!  I'm a fan of the original series; I watch it whenever it's on the Sci-Fi Channel.  I was surprised to find this compilation in a local record store?  I was driving home with it in my CD player; the snow was falling, cars passing in and out of the darkness... The music on this CD succeeds in getting under your skin and makes the banal things in life more sinister, more disturbing.  I don't have the show deep enough in my brain to recall scenes as I listen to the music - so in that respect, the music becomes creepier, attaching itself to life around as I listen to it.  Kind of putting me in my own twilight zone, and that's OK.   I highly recommend this collection - if you can find it?     \\n\"], ['A1004AX2J2HXGL', 'B00003CXE7', 'December 19, 2003', '5', '25', '1.0', 'Meditations?', ' This movie was lots of fun. The story was so gritty and affecting. I remember after watching it for the first time, I made my own sword from scrap wood & laid into some mailboxes and windshields.  Ancient Rome burned in my heart.  GLADIATOR charges the blood with electricity. The characters are so compelling, deep and human. The villain, played to perfection by Joaquin Phoenix, was pure brilliance.  Russell Crowe dips his hand into the gritty Earth and produces a hero of uncommon, brutal honesty.  The lions, the vicious cheers of a blood-thirsty crowd...  I give this movie exactly ONE STAR.  The story, even for an epic, was compelling for a grand total of five minutes.  The plot blunders predictably along, creating little or no emotional momentum & absolutely no sense of adventure.  Kids in a sandbox could contrive a better story than this piece of garbage.  About an hour into this vacuum, I just wanted Russell Crowe to kill Commodus so I could get back to my life.    Joaquin Phoenix \"vexed\" me with his paper thin performance as the twisted, impotent usurper.  Perhaps Phoenix can\\'t be blamed for the job he turned in?  They gave him such a narrow, cardboard role to play - a weak foil to the driven, fertile, masculine Maximus.  There was no descent into madness; something vaguely human that would have at least given some dimension to this silly story.    Ridley Scott created a beautiful film.  The cinematography was masterful - like a crazy European car commercial.  A wild, powerful sports car rolls into the coliseum, everyone stops their torturous acting & begins to feel the fine interiors, check under the hood, blare some music and then comment on the trunk space.  Maybe a quick ride to showcase the vehicle\\'s performance?  A lion could sit on the hood and roar a little bit - an obvious appeal to the grunting desire to identify with virility and power that lurks in all of us.  Oh well.  The mass appeal of this bore was a clear demonstration of the famous quote: \"a sucker is born every minute.\"        \\n']]\n",
      "9\n"
     ]
    }
   ],
   "source": [
    "#Test 10lines into DF\n",
    "raw_file = open(\"/data/opinion_spam/real/10lines\")\n",
    "line = raw_file.readline()\n",
    "data_count = 0\n",
    "datas = []\n",
    "while line:\n",
    "    data_count = data_count+1\n",
    "    line = raw_file.readline()\n",
    "    item = line.split('\\t')\n",
    "    print 'sub length : '+ str(len(item))\n",
    "    if len(item) == 8:\n",
    "        datas.append(item)\n",
    "raw_file.close()\n",
    "print 'data count is :' + str(data_count)\n",
    "print datas\n",
    "print len(datas)\n"
   ]
  },
  {
   "cell_type": "code",
   "execution_count": 3,
   "metadata": {
    "collapsed": false
   },
   "outputs": [
    {
     "name": "stdout",
     "output_type": "stream",
     "text": [
      "rid         object\n",
      "pid         object\n",
      "date        object\n",
      "hfd        float64\n",
      "fd         float64\n",
      "ratings    float64\n",
      "title       object\n",
      "body        object\n",
      "dtype: object\n"
     ]
    },
    {
     "data": {
      "text/html": [
       "<div>\n",
       "<table border=\"1\" class=\"dataframe\">\n",
       "  <thead>\n",
       "    <tr style=\"text-align: right;\">\n",
       "      <th></th>\n",
       "      <th>rid</th>\n",
       "      <th>pid</th>\n",
       "      <th>date</th>\n",
       "      <th>hfd</th>\n",
       "      <th>fd</th>\n",
       "      <th>ratings</th>\n",
       "      <th>title</th>\n",
       "      <th>body</th>\n",
       "    </tr>\n",
       "  </thead>\n",
       "  <tbody>\n",
       "    <tr>\n",
       "      <th>0</th>\n",
       "      <td>A1004AX2J2HXGL</td>\n",
       "      <td>B00028HBKM</td>\n",
       "      <td>January 17, 2005</td>\n",
       "      <td>9</td>\n",
       "      <td>22</td>\n",
       "      <td>1</td>\n",
       "      <td>\"Life beyond the thunderdome\"</td>\n",
       "      <td>I cried when I saw The PASSION OF THE CHRIST ...</td>\n",
       "    </tr>\n",
       "    <tr>\n",
       "      <th>1</th>\n",
       "      <td>A1004AX2J2HXGL</td>\n",
       "      <td>B00062IVM6</td>\n",
       "      <td>January 17, 2005</td>\n",
       "      <td>4</td>\n",
       "      <td>7</td>\n",
       "      <td>5</td>\n",
       "      <td>I'm making my lunch!</td>\n",
       "      <td>WILD AT HEART on DVD.  I've been waiting on t...</td>\n",
       "    </tr>\n",
       "    <tr>\n",
       "      <th>2</th>\n",
       "      <td>A1004AX2J2HXGL</td>\n",
       "      <td>B00064LJVE</td>\n",
       "      <td>January 13, 2005</td>\n",
       "      <td>5</td>\n",
       "      <td>15</td>\n",
       "      <td>1</td>\n",
       "      <td>Into the woods</td>\n",
       "      <td>M. is a hack, a second-place magician in a hi...</td>\n",
       "    </tr>\n",
       "    <tr>\n",
       "      <th>3</th>\n",
       "      <td>A1004AX2J2HXGL</td>\n",
       "      <td>B0002GMSC0</td>\n",
       "      <td>January 6, 2005</td>\n",
       "      <td>15</td>\n",
       "      <td>15</td>\n",
       "      <td>1</td>\n",
       "      <td>koo-koo-ca-choo</td>\n",
       "      <td>Where do people come up with this garbage?   ...</td>\n",
       "    </tr>\n",
       "    <tr>\n",
       "      <th>4</th>\n",
       "      <td>A1004AX2J2HXGL</td>\n",
       "      <td>B00019RD1Y</td>\n",
       "      <td>December 20, 2004</td>\n",
       "      <td>1</td>\n",
       "      <td>1</td>\n",
       "      <td>5</td>\n",
       "      <td>Exceptional music that can stand alone as bril...</td>\n",
       "      <td>A wonderful, wonderful collection of music.  ...</td>\n",
       "    </tr>\n",
       "    <tr>\n",
       "      <th>5</th>\n",
       "      <td>A1004AX2J2HXGL</td>\n",
       "      <td>B00003CXHM</td>\n",
       "      <td>April 9, 2004</td>\n",
       "      <td>1</td>\n",
       "      <td>1</td>\n",
       "      <td>4</td>\n",
       "      <td>\"drunken prophecies, libels and dreams\"</td>\n",
       "      <td>Wow.  The Sex Pistols?  Never heard a more pe...</td>\n",
       "    </tr>\n",
       "    <tr>\n",
       "      <th>6</th>\n",
       "      <td>A1004AX2J2HXGL</td>\n",
       "      <td>B000059H9C</td>\n",
       "      <td>January 25, 2004</td>\n",
       "      <td>3</td>\n",
       "      <td>3</td>\n",
       "      <td>5</td>\n",
       "      <td>roasted pigs in space!</td>\n",
       "      <td>FELLINI SATYRICON - the first film I experien...</td>\n",
       "    </tr>\n",
       "    <tr>\n",
       "      <th>7</th>\n",
       "      <td>A1004AX2J2HXGL</td>\n",
       "      <td>B00000153R</td>\n",
       "      <td>December 21, 2003</td>\n",
       "      <td>3</td>\n",
       "      <td>3</td>\n",
       "      <td>5</td>\n",
       "      <td>nervous man with a four dollar CD</td>\n",
       "      <td>I recently bought this CD brand new.  I knew ...</td>\n",
       "    </tr>\n",
       "    <tr>\n",
       "      <th>8</th>\n",
       "      <td>A1004AX2J2HXGL</td>\n",
       "      <td>B00003CXE7</td>\n",
       "      <td>December 19, 2003</td>\n",
       "      <td>5</td>\n",
       "      <td>25</td>\n",
       "      <td>1</td>\n",
       "      <td>Meditations?</td>\n",
       "      <td>This movie was lots of fun. The story was so ...</td>\n",
       "    </tr>\n",
       "  </tbody>\n",
       "</table>\n",
       "</div>"
      ],
      "text/plain": [
       "              rid         pid               date  hfd  fd  ratings  \\\n",
       "0  A1004AX2J2HXGL  B00028HBKM   January 17, 2005    9  22        1   \n",
       "1  A1004AX2J2HXGL  B00062IVM6   January 17, 2005    4   7        5   \n",
       "2  A1004AX2J2HXGL  B00064LJVE   January 13, 2005    5  15        1   \n",
       "3  A1004AX2J2HXGL  B0002GMSC0    January 6, 2005   15  15        1   \n",
       "4  A1004AX2J2HXGL  B00019RD1Y  December 20, 2004    1   1        5   \n",
       "5  A1004AX2J2HXGL  B00003CXHM      April 9, 2004    1   1        4   \n",
       "6  A1004AX2J2HXGL  B000059H9C   January 25, 2004    3   3        5   \n",
       "7  A1004AX2J2HXGL  B00000153R  December 21, 2003    3   3        5   \n",
       "8  A1004AX2J2HXGL  B00003CXE7  December 19, 2003    5  25        1   \n",
       "\n",
       "                                               title  \\\n",
       "0                      \"Life beyond the thunderdome\"   \n",
       "1                               I'm making my lunch!   \n",
       "2                                     Into the woods   \n",
       "3                                    koo-koo-ca-choo   \n",
       "4  Exceptional music that can stand alone as bril...   \n",
       "5            \"drunken prophecies, libels and dreams\"   \n",
       "6                             roasted pigs in space!   \n",
       "7                  nervous man with a four dollar CD   \n",
       "8                                       Meditations?   \n",
       "\n",
       "                                                body  \n",
       "0   I cried when I saw The PASSION OF THE CHRIST ...  \n",
       "1   WILD AT HEART on DVD.  I've been waiting on t...  \n",
       "2   M. is a hack, a second-place magician in a hi...  \n",
       "3   Where do people come up with this garbage?   ...  \n",
       "4   A wonderful, wonderful collection of music.  ...  \n",
       "5   Wow.  The Sex Pistols?  Never heard a more pe...  \n",
       "6   FELLINI SATYRICON - the first film I experien...  \n",
       "7   I recently bought this CD brand new.  I knew ...  \n",
       "8   This movie was lots of fun. The story was so ...  "
      ]
     },
     "execution_count": 3,
     "metadata": {},
     "output_type": "execute_result"
    }
   ],
   "source": [
    "#Transfer data into dataframe\n",
    "import pandas as pd\n",
    "col_names = ['rid', 'pid', 'date', 'hfd', 'fd', 'ratings', 'title', 'body']\n",
    "\n",
    "df = pd.DataFrame(data = datas, columns = col_names)\n",
    "#Relocate the data type\n",
    "df[['hfd', 'fd','ratings']] = df[['hfd', 'fd', 'ratings']].astype(float)\n",
    "print df.dtypes\n",
    "df"
   ]
  },
  {
   "cell_type": "code",
   "execution_count": null,
   "metadata": {
    "collapsed": false
   },
   "outputs": [],
   "source": [
    "\n"
   ]
  },
  {
   "cell_type": "code",
   "execution_count": 17,
   "metadata": {
    "collapsed": false
   },
   "outputs": [
    {
     "name": "stdout",
     "output_type": "stream",
     "text": [
      "the maxValue of ratings is :5.0\n",
      "['the most popular nameB00062IVM6' 'the most popular nameB00019RD1Y'\n",
      " 'the most popular nameB000059H9C' 'the most popular nameB00000153R']\n"
     ]
    },
    {
     "data": {
      "text/plain": [
       "<pandas.core.groupby.DataFrameGroupBy object at 0x7f9156932d50>"
      ]
     },
     "execution_count": 17,
     "metadata": {},
     "output_type": "execute_result"
    },
    {
     "data": {
      "image/png": "[encoded data removed]",
      "text/plain": [
       "<matplotlib.figure.Figure at 0x7f91568934d0>"
      ]
     },
     "metadata": {},
     "output_type": "display_data"
    }
   ],
   "source": [
    "#State the hfd/fd and ratings\n",
    "#ratings\n",
    "%matplotlib inline\n",
    "import matplotlib.pyplot as plt\n",
    "\n",
    "df['ratings'].plot()\n",
    "\n",
    "maxValue = df.ratings.max()\n",
    "print 'the maxValue of ratings is :' + str(maxValue)\n",
    "maxName = df['pid'][df['ratings'] == df['ratings'].max()].values\n",
    "Text = str(maxValue) + ' - ' + maxName\n",
    "#plt.annotate(Text, xy=(1, maxValue), xytext=(1,0), xycoords=('ax', 'data'), textcoords='aaa')\n",
    "print 'the most popular name' + maxName\n",
    "\n"
   ]
  },
  {
   "cell_type": "code",
   "execution_count": 78,
   "metadata": {
    "collapsed": false
   },
   "outputs": [
    {
     "name": "stdout",
     "output_type": "stream",
     "text": [
      "1.0 4\n",
      "4.0 1\n",
      "5.0 4\n",
      "[1.0, 1.0, 1.0, 1.0, 4.0, 5.0, 5.0, 5.0, 5.0]\n",
      "height:4\n"
     ]
    },
    {
     "data": {
      "text/plain": [
       "<matplotlib.axes.AxesSubplot at 0x7f914ccc9cd0>"
      ]
     },
     "execution_count": 78,
     "metadata": {},
     "output_type": "execute_result"
    },
    {
     "data": {
      "image/png": "[encoded data removed]",
      "text/plain": [
       "<matplotlib.figure.Figure at 0x7f914ce0d150>"
      ]
     },
     "metadata": {},
     "output_type": "display_data"
    }
   ],
   "source": [
    "ratings_gb = df.groupby('ratings')\n",
    "rg = ratings_gb.groups\n",
    "ratings4plot = []\n",
    "height = 0\n",
    "for (k,v) in rg.items():\n",
    "    print k, len(v)\n",
    "    if height < len(v):\n",
    "        height = len(v)\n",
    "    for x in range(len(v)):\n",
    "        ratings4plot.append(k)\n",
    "print ratings4plot\n",
    "print 'height:'+ str(height)\n",
    "import seaborn as sns\n",
    "\n",
    "sns.distplot(ratings4plot, kde=True, color='black', axlabel='1')"
   ]
  },
  {
   "cell_type": "code",
   "execution_count": null,
   "metadata": {
    "collapsed": false
   },
   "outputs": [],
   "source": [
    "import matplotlib\n",
    "print 'matplotlib.get_backend(): ' + matplotlib.get_backend()\n",
    "\n",
    "plt.show()"
   ]
  },
  {
   "cell_type": "code",
   "execution_count": null,
   "metadata": {
    "collapsed": true
   },
   "outputs": [],
   "source": []
  }
 ],
 "metadata": {
  "kernelspec": {
   "display_name": "Python 2",
   "language": "python",
   "name": "python2"
  },
  "language_info": {
   "codemirror_mode": {
    "name": "ipython",
    "version": 2
   },
   "file_extension": ".py",
   "mimetype": "text/x-python",
   "name": "python",
   "nbconvert_exporter": "python",
   "pygments_lexer": "ipython2",
   "version": "2.7.6"
  }
 },
 "nbformat": 4,
 "nbformat_minor": 0
}
