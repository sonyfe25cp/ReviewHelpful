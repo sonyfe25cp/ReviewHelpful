{
 "cells": [
  {
   "cell_type": "code",
   "execution_count": 1,
   "metadata": {
    "collapsed": false
   },
   "outputs": [],
   "source": [
    "#threadpool\n",
    "import threadpool\n",
    "import nltk"
   ]
  },
  {
   "cell_type": "code",
   "execution_count": 2,
   "metadata": {
    "collapsed": false
   },
   "outputs": [
    {
     "name": "stdout",
     "output_type": "stream",
     "text": [
      "http://www.alibaba.com 200\n",
      "Elapsed time: 0.0956239700317\n",
      "http://www.amazon.com 200\n",
      "Elapsed time: 0.70273900032\n",
      "http://www.ebay.com 200\n",
      "Elapsed time: 0.75469493866\n",
      "Help on method wait in module threadpool:\n",
      "\n",
      "wait(self) method of threadpool.ThreadPool instance\n",
      "    Wait for results, blocking until all have arrived.\n",
      "\n"
     ]
    }
   ],
   "source": [
    "import threadpool\n",
    "import time\n",
    "import urllib2\n",
    " \n",
    "urls = [\n",
    "    'http://www.amazon.com', \n",
    "    'http://www.ebay.com', \n",
    "    'http://www.alibaba.com' \n",
    "]\n",
    " \n",
    "def myRequest(url):\n",
    "    resp = urllib2.urlopen(url)\n",
    "    print url, resp.getcode()\n",
    " \n",
    " \n",
    "def timeCost(request, n):\n",
    "  print \"Elapsed time: %s\" % (time.time()-start)\n",
    " \n",
    "start = time.time()\n",
    "pool = threadpool.ThreadPool(5)\n",
    "reqs = threadpool.makeRequests(myRequest, urls, timeCost)\n",
    "[ pool.putRequest(req) for req in reqs ]\n",
    "pool.wait()\n",
    "dir(pool)\n",
    "help(pool.wait)"
   ]
  },
  {
   "cell_type": "code",
   "execution_count": 3,
   "metadata": {
    "collapsed": false
   },
   "outputs": [
    {
     "name": "stdout",
     "output_type": "stream",
     "text": [
      "[['a', 'thread', 'pool', 'is', 'an', 'object', 'that', 'maintains', 'a', 'pool', 'of', 'worker', 'threads', 'to', 'perform', 'time', 'consuming', 'operations', 'in', 'parallel', '.'], ['it', 'assigns', 'jobs', 'to', 'the', 'threads', 'by', 'putting', 'them', 'in', 'a', 'work', 'request', 'queue', ',', 'where', 'they', 'are', 'picked', 'up', 'by', 'the', 'next', 'available', 'thread', '.']]\n",
      "[['this', 'then', 'performs', 'the', 'requested', 'operation', 'in', 'the', 'background', 'and', 'puts', 'the', 'results', 'in', 'another', 'queue', '.'], ['i', 'want', 'to', 'eat', 'an', 'apple']]\n"
     ]
    }
   ],
   "source": [
    "lines = [\n",
    "    'A thread pool is an object that maintains a pool of worker threads to perform time consuming operations in parallel. It assigns jobs to the threads by putting them in a work request queue, where they are picked up by the next available thread. ',\n",
    "    'This then performs the requested operation in the background and puts the results in another queue. i want to eat an apple'\n",
    "]\n",
    "\n",
    "def cut(line):\n",
    "    return [[word.lower() for word in nltk.word_tokenize(sentence) ]for sentence in nltk.sent_tokenize(line)]\n",
    "\n",
    "\n",
    "for line in lines:\n",
    "    print cut(line)"
   ]
  },
  {
   "cell_type": "code",
   "execution_count": 4,
   "metadata": {
    "collapsed": false
   },
   "outputs": [
    {
     "name": "stdout",
     "output_type": "stream",
     "text": [
      "[[]]\n"
     ]
    },
    {
     "name": "stderr",
     "output_type": "stream",
     "text": [
      "Traceback (most recent call last):\n",
      "  File \"/usr/local/lib/python2.7/dist-packages/threadpool.py\", line 158, in run\n",
      "    result = request.callable(*request.args, **request.kwds)\n",
      "TypeError: cut_with_thread() takes exactly 2 arguments (1 given)\n"
     ]
    }
   ],
   "source": [
    "words_sentences = [[]]\n",
    "def cut_with_thread(line, words_sentences):\n",
    "    _t = [[word.lower() for word in nltk.word_tokenize(sentence) ]for sentence in nltk.sent_tokenize(line)]\n",
    "    print \"_t : \", _t\n",
    "    words_sentences.extend(_t)\n",
    "    \n",
    "_args = []\n",
    "_args.append({'line':lines, 'words_sentences': words_sentences})\n",
    "words_reqs = threadpool.makeRequests(cut_with_thread, \n",
    "                                     args_list = _args, \n",
    "                                     callback = timeCost)\n",
    "[pool.putRequest(req) for req in words_reqs]\n",
    "pool.wait()\n",
    "print words_sentences\n"
   ]
  },
  {
   "cell_type": "code",
   "execution_count": 5,
   "metadata": {
    "collapsed": false
   },
   "outputs": [
    {
     "name": "stdout",
     "output_type": "stream",
     "text": [
      "reviews list size :  5803516\n"
     ]
    }
   ],
   "source": [
    "fpath = '/data/opinion_spam/real/reviewsNew.txt'\n",
    "#fpath = '/data/opinion_spam/real/10000lines'\n",
    "f = open(fpath)\n",
    "ofpath = '/data/opinion_spam/real/reviewsNew.txt_out'\n",
    "#ofpath = '/data/opinion_spam/real/10000lines_out'\n",
    "\n",
    "\n",
    "reviews = []\n",
    "\n",
    "def cut_reviews_to_lines(line):\n",
    "    _tmps = line.split('\\t')\n",
    "    if len(_tmps) == 8:\n",
    "        if _tmps[3] > 1:\n",
    "            reviews.append(_tmps[7])\n",
    "\n",
    "for line in f:\n",
    "    cut_reviews_to_lines(line)\n",
    "\n",
    "print 'reviews list size : ', len(reviews)\n",
    "\n",
    "\n",
    "    "
   ]
  },
  {
   "cell_type": "code",
   "execution_count": 6,
   "metadata": {
    "collapsed": false
   },
   "outputs": [],
   "source": [
    "import string\n",
    "import re\n",
    "def cut_reviews(review):\n",
    "    i = 0\n",
    "    try:\n",
    "        sentences = nltk.sent_tokenize(review)\n",
    "        _lists = []\n",
    "        for sentence in sentences:\n",
    "#             _list = [word.lower() for word in nltk.word_tokenize(sentence)]\n",
    "            _list = [word.lower() for word in sentence.split()]\n",
    "            _list = [re.sub(r'[.?!\\'\",)(;&%:]', '', word) for word in _list  ]\n",
    "            _lists.append(_list)\n",
    "        return _lists\n",
    "    except:\n",
    "        i += 1\n",
    "\n",
    "def cut_reviews_thread(review):\n",
    "    _list = [[word.lower() for word in nltk.word_tokenize(sentence)] for sentence in nltk.sent_tokenize(review)]\n",
    "\n"
   ]
  },
  {
   "cell_type": "code",
   "execution_count": 7,
   "metadata": {
    "collapsed": false
   },
   "outputs": [
    {
     "name": "stdout",
     "output_type": "stream",
     "text": [
      "1000 loops, best of 3: 303 µs per loop\n"
     ]
    }
   ],
   "source": [
    "%timeit cut_reviews('i want to eat an apple. what about you?')"
   ]
  },
  {
   "cell_type": "code",
   "execution_count": 8,
   "metadata": {
    "collapsed": false
   },
   "outputs": [
    {
     "name": "stdout",
     "output_type": "stream",
     "text": [
      "over 5950.58209395\n"
     ]
    }
   ],
   "source": [
    "#切割评论文件成为按词分割的句子\n",
    "import time\n",
    "t0 = time.time()\n",
    "of = open(ofpath, 'a', 1024 * 1024 * 10)\n",
    "for line in reviews:\n",
    "    _lists = cut_reviews(line)\n",
    "    if type(_lists) == list:\n",
    "        for _list in _lists:\n",
    "            of.write(\" \".join(_list)+ \"\\n\")\n",
    "of.close()\n",
    "t1 = time.time()\n",
    "\n",
    "print 'over', str(t1-t0)"
   ]
  },
  {
   "cell_type": "code",
   "execution_count": 9,
   "metadata": {
    "collapsed": false
   },
   "outputs": [],
   "source": [
    "# t0 = time.time()\n",
    "# bigpool = threadpool.ThreadPool(num_workers = 32)\n",
    "# bigreqs = threadpool.makeRequests(cut_reviews, reviews)\n",
    "# [bigpool.putRequest(req) for req in bigreqs]\n",
    "# bigpool.wait\n",
    "# print 'over'\n",
    "# t1 = time.time()\n",
    "\n",
    "# print 'over', str(t1-t0)"
   ]
  },
  {
   "cell_type": "code",
   "execution_count": 10,
   "metadata": {
    "collapsed": false
   },
   "outputs": [
    {
     "data": {
      "text/plain": [
       "2.472975768393508"
      ]
     },
     "execution_count": 10,
     "metadata": {},
     "output_type": "execute_result"
    }
   ],
   "source": [
    "5838923 / (9851/15.02) / 3600"
   ]
  },
  {
   "cell_type": "code",
   "execution_count": null,
   "metadata": {
    "collapsed": true
   },
   "outputs": [],
   "source": []
  }
 ],
 "metadata": {
  "kernelspec": {
   "display_name": "Python 2",
   "language": "python",
   "name": "python2"
  },
  "language_info": {
   "codemirror_mode": {
    "name": "ipython",
    "version": 2
   },
   "file_extension": ".py",
   "mimetype": "text/x-python",
   "name": "python",
   "nbconvert_exporter": "python",
   "pygments_lexer": "ipython2",
   "version": "2.7.6"
  }
 },
 "nbformat": 4,
 "nbformat_minor": 0
}
