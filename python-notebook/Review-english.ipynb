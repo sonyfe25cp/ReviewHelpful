{
 "cells": [
  {
   "cell_type": "code",
   "execution_count": 1,
   "metadata": {
    "collapsed": true
   },
   "outputs": [],
   "source": [
    "%matplotlib inline\n",
    "import sys\n",
    "import numpy as np\n",
    "import pandas as pd\n",
    "import matplotlib.pyplot as plt\n",
    "import nltk\n"
   ]
  },
  {
   "cell_type": "code",
   "execution_count": 2,
   "metadata": {
    "collapsed": false
   },
   "outputs": [
    {
     "name": "stdout",
     "output_type": "stream",
     "text": [
      "datas.size:  100\n",
      "['A1004AX2J2HXGL', 'B00003CWPL', 'December 2, 2003', '111', '125', '5.0', '\"But what the hell do they know, I said?\"', ' If you\\'re reading this, then you\\'ve seen this movie or are at least curious what all the hype is about?    The late Stanley Kubrick, the only major filmmaker Lynch has cited as a direct cinematic influence, believed that ERASERHEAD was one of the most perfect \"cinematic experiences\" created to date.  This movie has enjoyed success on the midnight movie circuit for years, particularly in NYC where it ran almost every night for something like five years straight. I\\'ve seen it on big and little screens in three different states.  Insofar as interpretations are concerned, I\\'ve long since tossed all that out the window.  In terms of rational comprehension, ERASERHEAD is the fabled big fish that remains brilliantly elusive of any attempts to capture it.     This movie gets better, and more humorous, every time I watch it: in my opinion - ERASERHEAD is the cinematic experience that comes the closest to capturing \"dream logic\", next to the equally brilliant WAKING LIFE.  If you ever get the chance, watch ERASERHEAD in a movie theater with a great sound system - you will understand why Stanley Kubrick was moved enough to make his statement.  It\\'s like experiencing someone else\\'s dream - the ultimate act of voyeurism?  As if I was granted audience to a demonstration of delicate brain surgery, and catching glimpses of the patient\\'s face throughout the operation (particularly the opening scene).  It creates such a visceral landscape with its dark, peculiar selections of image and sound, that it seems to be constantly reminding you that the \"soul\" is helplessly sloshing around somewhere inside an organic bag of blood, bone, hair follicles, industrial shrapnel, dirt piles and antique radiators; a terrifying and beautiful delineation of a living creature suddenly made aware of its own being (birth imagery abounding).  It is a perfect symphony of sound and image, amazing work for a first time feature film director!  I\\'ve seen this movie placed in the HORROR section at local video stores; it\\'s better suited for the COMEDY section, I fear.  The movie was created on the AFI campus in California; production beginning his last year there, and continuing on for several more years in secret.  Not for everyone, but certainly worth a peek.    I own a copy of ERASERHEAD on DVD, finally.  It is available at David Lynch\\'s website for forty-five bucks plus shipping and handling.  Remastered sound and image, includes a few extras - the standout is a \"stylized\" interview with Lynch about the making of the film, the characters involved and anecdotes.    BTW - where is WILD AT HEART and LOST HIGHWAY for our DVD pleasure?     \\n', 0.89]\n"
     ]
    }
   ],
   "source": [
    "file_path = '/data/opinion_spam/real/reviewsNew.txt-utf8'\n",
    "datas = []\n",
    "MIN_FD = 100\n",
    "raw_file = open(file_path)\n",
    "debug = True\n",
    "debug_size = 100\n",
    "_debug_count = 0\n",
    "for line in raw_file:    \n",
    "    try:\n",
    "        line = line.decode('gbk')\n",
    "    except:\n",
    "        continue\n",
    "    #print 'gbk', line\n",
    "    line = line.encode('utf-8')\n",
    "    #print 'utf8', line\n",
    "    item = line.split('\\t')\n",
    "    if len(item) == 8:\n",
    "        hfd = float(item[3])\n",
    "        fd = float(item[4])\n",
    "        ratings = float(item[5])\n",
    "        if fd > MIN_FD:\n",
    "            hfdfd = round(hfd/fd, 2)\n",
    "            #whole_filted_body += item[7]\n",
    "            item.append(hfdfd)\n",
    "            datas.append(item)\n",
    "            if debug == True:\n",
    "                _debug_count += 1\n",
    "                if _debug_count >= debug_size:\n",
    "                    break\n",
    "raw_file.close()\n",
    "print 'datas.size: ', len(datas)\n",
    "print datas[0]"
   ]
  },
  {
   "cell_type": "code",
   "execution_count": 3,
   "metadata": {
    "collapsed": false
   },
   "outputs": [
    {
     "data": {
      "text/html": [
       "<div>\n",
       "<table border=\"1\" class=\"dataframe\">\n",
       "  <thead>\n",
       "    <tr style=\"text-align: right;\">\n",
       "      <th></th>\n",
       "      <th>rid</th>\n",
       "      <th>pid</th>\n",
       "      <th>date</th>\n",
       "      <th>hfd</th>\n",
       "      <th>fd</th>\n",
       "      <th>rating</th>\n",
       "      <th>title</th>\n",
       "      <th>body</th>\n",
       "      <th>hfdfd</th>\n",
       "    </tr>\n",
       "  </thead>\n",
       "  <tbody>\n",
       "    <tr>\n",
       "      <th>0</th>\n",
       "      <td>A1004AX2J2HXGL</td>\n",
       "      <td>B00003CWPL</td>\n",
       "      <td>December 2, 2003</td>\n",
       "      <td>111</td>\n",
       "      <td>125</td>\n",
       "      <td>5.0</td>\n",
       "      <td>\"But what the hell do they know, I said?\"</td>\n",
       "      <td>If you're reading this, then you've seen this...</td>\n",
       "      <td>0.89</td>\n",
       "    </tr>\n",
       "    <tr>\n",
       "      <th>1</th>\n",
       "      <td>A103PHKSEPT10R</td>\n",
       "      <td>0939484463</td>\n",
       "      <td>July 5, 2000</td>\n",
       "      <td>69</td>\n",
       "      <td>116</td>\n",
       "      <td>5.0</td>\n",
       "      <td>Credible, Interesting, &amp; Devasting</td>\n",
       "      <td>I've read Prof Butz's book twice and an still...</td>\n",
       "      <td>0.59</td>\n",
       "    </tr>\n",
       "    <tr>\n",
       "      <th>2</th>\n",
       "      <td>A103U0Q3IKSXHE</td>\n",
       "      <td>0875845851</td>\n",
       "      <td>January 29, 2000</td>\n",
       "      <td>111</td>\n",
       "      <td>115</td>\n",
       "      <td>4.0</td>\n",
       "      <td>Identifying the horns of the dilemma.</td>\n",
       "      <td>Prior to reading this book, I chalked up the ...</td>\n",
       "      <td>0.97</td>\n",
       "    </tr>\n",
       "    <tr>\n",
       "      <th>3</th>\n",
       "      <td>A105YVLAZNYQUU</td>\n",
       "      <td>B000634DCW</td>\n",
       "      <td>June 21, 2005</td>\n",
       "      <td>6</td>\n",
       "      <td>112</td>\n",
       "      <td>1.0</td>\n",
       "      <td>UGGHHH</td>\n",
       "      <td>Craptacular and boring. The cinematography an...</td>\n",
       "      <td>0.05</td>\n",
       "    </tr>\n",
       "    <tr>\n",
       "      <th>4</th>\n",
       "      <td>A1075MZNVRMSEO</td>\n",
       "      <td>1563249367</td>\n",
       "      <td>April 2, 2002</td>\n",
       "      <td>190</td>\n",
       "      <td>190</td>\n",
       "      <td>5.0</td>\n",
       "      <td>A historical portrait &amp; revelation- un chin de...</td>\n",
       "      <td>This book is a fascinating journey through th...</td>\n",
       "      <td>1.00</td>\n",
       "    </tr>\n",
       "  </tbody>\n",
       "</table>\n",
       "</div>"
      ],
      "text/plain": [
       "              rid         pid              date  hfd   fd rating  \\\n",
       "0  A1004AX2J2HXGL  B00003CWPL  December 2, 2003  111  125    5.0   \n",
       "1  A103PHKSEPT10R  0939484463      July 5, 2000   69  116    5.0   \n",
       "2  A103U0Q3IKSXHE  0875845851  January 29, 2000  111  115    4.0   \n",
       "3  A105YVLAZNYQUU  B000634DCW     June 21, 2005    6  112    1.0   \n",
       "4  A1075MZNVRMSEO  1563249367     April 2, 2002  190  190    5.0   \n",
       "\n",
       "                                               title  \\\n",
       "0          \"But what the hell do they know, I said?\"   \n",
       "1                 Credible, Interesting, & Devasting   \n",
       "2              Identifying the horns of the dilemma.   \n",
       "3                                             UGGHHH   \n",
       "4  A historical portrait & revelation- un chin de...   \n",
       "\n",
       "                                                body  hfdfd  \n",
       "0   If you're reading this, then you've seen this...   0.89  \n",
       "1   I've read Prof Butz's book twice and an still...   0.59  \n",
       "2   Prior to reading this book, I chalked up the ...   0.97  \n",
       "3   Craptacular and boring. The cinematography an...   0.05  \n",
       "4   This book is a fascinating journey through th...   1.00  "
      ]
     },
     "execution_count": 3,
     "metadata": {},
     "output_type": "execute_result"
    }
   ],
   "source": [
    "#set column names\n",
    "column_names = ['rid', 'pid', 'date', 'hfd', 'fd', 'rating', 'title', 'body', 'hfdfd']\n",
    "df = pd.DataFrame(datas)\n",
    "df.columns = column_names\n",
    "df.head()"
   ]
  },
  {
   "cell_type": "code",
   "execution_count": 4,
   "metadata": {
    "collapsed": true
   },
   "outputs": [],
   "source": [
    "#transfer the type of column\n",
    "df[['hfd', 'fd','rating']] = df[['hfd', 'fd', 'rating']].astype(float)"
   ]
  },
  {
   "cell_type": "code",
   "execution_count": 5,
   "metadata": {
    "collapsed": false
   },
   "outputs": [
    {
     "data": {
      "text/html": [
       "<div>\n",
       "<table border=\"1\" class=\"dataframe\">\n",
       "  <thead>\n",
       "    <tr style=\"text-align: right;\">\n",
       "      <th></th>\n",
       "      <th>hfd</th>\n",
       "      <th>fd</th>\n",
       "      <th>rating</th>\n",
       "      <th>hfdfd</th>\n",
       "    </tr>\n",
       "  </thead>\n",
       "  <tbody>\n",
       "    <tr>\n",
       "      <th>count</th>\n",
       "      <td>100.000000</td>\n",
       "      <td>100.000000</td>\n",
       "      <td>100.00000</td>\n",
       "      <td>100.000000</td>\n",
       "    </tr>\n",
       "    <tr>\n",
       "      <th>mean</th>\n",
       "      <td>129.690000</td>\n",
       "      <td>159.060000</td>\n",
       "      <td>4.14000</td>\n",
       "      <td>0.801700</td>\n",
       "    </tr>\n",
       "    <tr>\n",
       "      <th>std</th>\n",
       "      <td>115.687291</td>\n",
       "      <td>118.980163</td>\n",
       "      <td>1.42148</td>\n",
       "      <td>0.261565</td>\n",
       "    </tr>\n",
       "    <tr>\n",
       "      <th>min</th>\n",
       "      <td>6.000000</td>\n",
       "      <td>101.000000</td>\n",
       "      <td>1.00000</td>\n",
       "      <td>0.050000</td>\n",
       "    </tr>\n",
       "    <tr>\n",
       "      <th>25%</th>\n",
       "      <td>92.750000</td>\n",
       "      <td>109.000000</td>\n",
       "      <td>4.00000</td>\n",
       "      <td>0.727500</td>\n",
       "    </tr>\n",
       "    <tr>\n",
       "      <th>50%</th>\n",
       "      <td>106.500000</td>\n",
       "      <td>124.500000</td>\n",
       "      <td>5.00000</td>\n",
       "      <td>0.930000</td>\n",
       "    </tr>\n",
       "    <tr>\n",
       "      <th>75%</th>\n",
       "      <td>137.000000</td>\n",
       "      <td>158.000000</td>\n",
       "      <td>5.00000</td>\n",
       "      <td>0.980000</td>\n",
       "    </tr>\n",
       "    <tr>\n",
       "      <th>max</th>\n",
       "      <td>966.000000</td>\n",
       "      <td>1065.000000</td>\n",
       "      <td>5.00000</td>\n",
       "      <td>1.000000</td>\n",
       "    </tr>\n",
       "  </tbody>\n",
       "</table>\n",
       "</div>"
      ],
      "text/plain": [
       "              hfd           fd     rating       hfdfd\n",
       "count  100.000000   100.000000  100.00000  100.000000\n",
       "mean   129.690000   159.060000    4.14000    0.801700\n",
       "std    115.687291   118.980163    1.42148    0.261565\n",
       "min      6.000000   101.000000    1.00000    0.050000\n",
       "25%     92.750000   109.000000    4.00000    0.727500\n",
       "50%    106.500000   124.500000    5.00000    0.930000\n",
       "75%    137.000000   158.000000    5.00000    0.980000\n",
       "max    966.000000  1065.000000    5.00000    1.000000"
      ]
     },
     "execution_count": 5,
     "metadata": {},
     "output_type": "execute_result"
    }
   ],
   "source": [
    "df.describe()"
   ]
  },
  {
   "cell_type": "code",
   "execution_count": 6,
   "metadata": {
    "collapsed": false
   },
   "outputs": [
    {
     "data": {
      "text/plain": [
       "<matplotlib.text.Text at 0x7fe41afc84d0>"
      ]
     },
     "execution_count": 6,
     "metadata": {},
     "output_type": "execute_result"
    },
    {
     "data": {
      "image/png": "[encoded data removed]",
      "text/plain": [
       "<matplotlib.figure.Figure at 0x7fe41b472e10>"
      ]
     },
     "metadata": {},
     "output_type": "display_data"
    }
   ],
   "source": [
    "#hfdfd distribution\n",
    "df.hfdfd.hist()\n",
    "plt.title='The Distribute of hfd/fd'\n",
    "plt.xlabel('Score of hfd/fd')\n",
    "plt.ylabel('Count')"
   ]
  },
  {
   "cell_type": "code",
   "execution_count": 7,
   "metadata": {
    "collapsed": false
   },
   "outputs": [
    {
     "data": {
      "text/plain": [
       "<matplotlib.text.Text at 0x7fe41ae25890>"
      ]
     },
     "execution_count": 7,
     "metadata": {},
     "output_type": "execute_result"
    },
    {
     "data": {
      "image/png": "[encoded data removed]",
      "text/plain": [
       "<matplotlib.figure.Figure at 0x7fe41b481510>"
      ]
     },
     "metadata": {},
     "output_type": "display_data"
    }
   ],
   "source": [
    "#rating distribution\n",
    "df.rating.hist()\n",
    "plt.xlabel('Ratings')\n",
    "plt.ylabel(\"Count\")"
   ]
  },
  {
   "cell_type": "code",
   "execution_count": 8,
   "metadata": {
    "collapsed": false
   },
   "outputs": [
    {
     "name": "stdout",
     "output_type": "stream",
     "text": [
      "different product size: 100\n"
     ]
    }
   ],
   "source": [
    "#count how many products in the dataset  ==》9809 products\n",
    "df.groupby('pid').count().shape\n",
    "print 'different product size:', df.groupby('pid').count().shape[0] "
   ]
  },
  {
   "cell_type": "code",
   "execution_count": 9,
   "metadata": {
    "collapsed": false
   },
   "outputs": [
    {
     "data": {
      "text/plain": [
       "(100, 9)"
      ]
     },
     "execution_count": 9,
     "metadata": {},
     "output_type": "execute_result"
    }
   ],
   "source": [
    "df.shape"
   ]
  },
  {
   "cell_type": "code",
   "execution_count": 10,
   "metadata": {
    "collapsed": false
   },
   "outputs": [],
   "source": [
    "df['title_len'] = df['title'].apply(len)\n",
    "df['body_len'] = df['body'].apply(len)"
   ]
  },
  {
   "cell_type": "code",
   "execution_count": 11,
   "metadata": {
    "collapsed": false
   },
   "outputs": [
    {
     "data": {
      "text/html": [
       "<div>\n",
       "<table border=\"1\" class=\"dataframe\">\n",
       "  <thead>\n",
       "    <tr style=\"text-align: right;\">\n",
       "      <th></th>\n",
       "      <th>rid</th>\n",
       "      <th>pid</th>\n",
       "      <th>date</th>\n",
       "      <th>hfd</th>\n",
       "      <th>fd</th>\n",
       "      <th>rating</th>\n",
       "      <th>title</th>\n",
       "      <th>body</th>\n",
       "      <th>hfdfd</th>\n",
       "      <th>title_len</th>\n",
       "      <th>body_len</th>\n",
       "    </tr>\n",
       "  </thead>\n",
       "  <tbody>\n",
       "    <tr>\n",
       "      <th>0</th>\n",
       "      <td>A1004AX2J2HXGL</td>\n",
       "      <td>B00003CWPL</td>\n",
       "      <td>December 2, 2003</td>\n",
       "      <td>111</td>\n",
       "      <td>125</td>\n",
       "      <td>5</td>\n",
       "      <td>\"But what the hell do they know, I said?\"</td>\n",
       "      <td>If you're reading this, then you've seen this...</td>\n",
       "      <td>0.89</td>\n",
       "      <td>41</td>\n",
       "      <td>2642</td>\n",
       "    </tr>\n",
       "    <tr>\n",
       "      <th>1</th>\n",
       "      <td>A103PHKSEPT10R</td>\n",
       "      <td>0939484463</td>\n",
       "      <td>July 5, 2000</td>\n",
       "      <td>69</td>\n",
       "      <td>116</td>\n",
       "      <td>5</td>\n",
       "      <td>Credible, Interesting, &amp; Devasting</td>\n",
       "      <td>I've read Prof Butz's book twice and an still...</td>\n",
       "      <td>0.59</td>\n",
       "      <td>34</td>\n",
       "      <td>313</td>\n",
       "    </tr>\n",
       "    <tr>\n",
       "      <th>2</th>\n",
       "      <td>A103U0Q3IKSXHE</td>\n",
       "      <td>0875845851</td>\n",
       "      <td>January 29, 2000</td>\n",
       "      <td>111</td>\n",
       "      <td>115</td>\n",
       "      <td>4</td>\n",
       "      <td>Identifying the horns of the dilemma.</td>\n",
       "      <td>Prior to reading this book, I chalked up the ...</td>\n",
       "      <td>0.97</td>\n",
       "      <td>37</td>\n",
       "      <td>1495</td>\n",
       "    </tr>\n",
       "    <tr>\n",
       "      <th>3</th>\n",
       "      <td>A105YVLAZNYQUU</td>\n",
       "      <td>B000634DCW</td>\n",
       "      <td>June 21, 2005</td>\n",
       "      <td>6</td>\n",
       "      <td>112</td>\n",
       "      <td>1</td>\n",
       "      <td>UGGHHH</td>\n",
       "      <td>Craptacular and boring. The cinematography an...</td>\n",
       "      <td>0.05</td>\n",
       "      <td>6</td>\n",
       "      <td>1045</td>\n",
       "    </tr>\n",
       "    <tr>\n",
       "      <th>4</th>\n",
       "      <td>A1075MZNVRMSEO</td>\n",
       "      <td>1563249367</td>\n",
       "      <td>April 2, 2002</td>\n",
       "      <td>190</td>\n",
       "      <td>190</td>\n",
       "      <td>5</td>\n",
       "      <td>A historical portrait &amp; revelation- un chin de...</td>\n",
       "      <td>This book is a fascinating journey through th...</td>\n",
       "      <td>1.00</td>\n",
       "      <td>59</td>\n",
       "      <td>2180</td>\n",
       "    </tr>\n",
       "  </tbody>\n",
       "</table>\n",
       "</div>"
      ],
      "text/plain": [
       "              rid         pid              date  hfd   fd  rating  \\\n",
       "0  A1004AX2J2HXGL  B00003CWPL  December 2, 2003  111  125       5   \n",
       "1  A103PHKSEPT10R  0939484463      July 5, 2000   69  116       5   \n",
       "2  A103U0Q3IKSXHE  0875845851  January 29, 2000  111  115       4   \n",
       "3  A105YVLAZNYQUU  B000634DCW     June 21, 2005    6  112       1   \n",
       "4  A1075MZNVRMSEO  1563249367     April 2, 2002  190  190       5   \n",
       "\n",
       "                                               title  \\\n",
       "0          \"But what the hell do they know, I said?\"   \n",
       "1                 Credible, Interesting, & Devasting   \n",
       "2              Identifying the horns of the dilemma.   \n",
       "3                                             UGGHHH   \n",
       "4  A historical portrait & revelation- un chin de...   \n",
       "\n",
       "                                                body  hfdfd  title_len  \\\n",
       "0   If you're reading this, then you've seen this...   0.89         41   \n",
       "1   I've read Prof Butz's book twice and an still...   0.59         34   \n",
       "2   Prior to reading this book, I chalked up the ...   0.97         37   \n",
       "3   Craptacular and boring. The cinematography an...   0.05          6   \n",
       "4   This book is a fascinating journey through th...   1.00         59   \n",
       "\n",
       "   body_len  \n",
       "0      2642  \n",
       "1       313  \n",
       "2      1495  \n",
       "3      1045  \n",
       "4      2180  "
      ]
     },
     "execution_count": 11,
     "metadata": {},
     "output_type": "execute_result"
    }
   ],
   "source": [
    "df.head()"
   ]
  },
  {
   "cell_type": "code",
   "execution_count": 12,
   "metadata": {
    "collapsed": false
   },
   "outputs": [
    {
     "data": {
      "text/plain": [
       "<matplotlib.text.Text at 0x7fe41ad9a9d0>"
      ]
     },
     "execution_count": 12,
     "metadata": {},
     "output_type": "execute_result"
    },
    {
     "data": {
      "image/png": "[encoded data removed]",
      "text/plain": [
       "<matplotlib.figure.Figure at 0x7fe41adc6850>"
      ]
     },
     "metadata": {},
     "output_type": "display_data"
    }
   ],
   "source": [
    "df['title_len'].hist()\n",
    "plt.xlabel('length of review title')\n",
    "plt.ylabel('counts')"
   ]
  },
  {
   "cell_type": "code",
   "execution_count": 13,
   "metadata": {
    "collapsed": false
   },
   "outputs": [
    {
     "data": {
      "text/plain": [
       "<matplotlib.text.Text at 0x7fe41ad348d0>"
      ]
     },
     "execution_count": 13,
     "metadata": {},
     "output_type": "execute_result"
    },
    {
     "data": {
      "image/png": "[encoded data removed]",
      "text/plain": [
       "<matplotlib.figure.Figure at 0x7fe41ac15c90>"
      ]
     },
     "metadata": {},
     "output_type": "display_data"
    }
   ],
   "source": [
    "df[df['body_len'] > 10][df['body_len'] < 5000]['body_len'].hist()\n",
    "plt.xlim(0, 5000)\n",
    "plt.xlabel(\"length of review body\")\n",
    "plt.ylabel(\"counts\")"
   ]
  },
  {
   "cell_type": "code",
   "execution_count": 14,
   "metadata": {
    "collapsed": false
   },
   "outputs": [
    {
     "data": {
      "text/html": [
       "<div>\n",
       "<table border=\"1\" class=\"dataframe\">\n",
       "  <thead>\n",
       "    <tr style=\"text-align: right;\">\n",
       "      <th></th>\n",
       "      <th>title_len</th>\n",
       "      <th>body_len</th>\n",
       "    </tr>\n",
       "  </thead>\n",
       "  <tbody>\n",
       "    <tr>\n",
       "      <th>count</th>\n",
       "      <td>100.000000</td>\n",
       "      <td>100.000000</td>\n",
       "    </tr>\n",
       "    <tr>\n",
       "      <th>mean</th>\n",
       "      <td>35.810000</td>\n",
       "      <td>2190.390000</td>\n",
       "    </tr>\n",
       "    <tr>\n",
       "      <th>std</th>\n",
       "      <td>15.042495</td>\n",
       "      <td>1157.861036</td>\n",
       "    </tr>\n",
       "    <tr>\n",
       "      <th>min</th>\n",
       "      <td>3.000000</td>\n",
       "      <td>313.000000</td>\n",
       "    </tr>\n",
       "    <tr>\n",
       "      <th>25%</th>\n",
       "      <td>24.000000</td>\n",
       "      <td>1342.500000</td>\n",
       "    </tr>\n",
       "    <tr>\n",
       "      <th>50%</th>\n",
       "      <td>35.000000</td>\n",
       "      <td>2024.000000</td>\n",
       "    </tr>\n",
       "    <tr>\n",
       "      <th>75%</th>\n",
       "      <td>48.000000</td>\n",
       "      <td>2882.000000</td>\n",
       "    </tr>\n",
       "    <tr>\n",
       "      <th>max</th>\n",
       "      <td>80.000000</td>\n",
       "      <td>5397.000000</td>\n",
       "    </tr>\n",
       "  </tbody>\n",
       "</table>\n",
       "</div>"
      ],
      "text/plain": [
       "        title_len     body_len\n",
       "count  100.000000   100.000000\n",
       "mean    35.810000  2190.390000\n",
       "std     15.042495  1157.861036\n",
       "min      3.000000   313.000000\n",
       "25%     24.000000  1342.500000\n",
       "50%     35.000000  2024.000000\n",
       "75%     48.000000  2882.000000\n",
       "max     80.000000  5397.000000"
      ]
     },
     "execution_count": 14,
     "metadata": {},
     "output_type": "execute_result"
    }
   ],
   "source": [
    "df[['title_len', 'body_len']].describe()"
   ]
  },
  {
   "cell_type": "markdown",
   "metadata": {},
   "source": [
    "# TFIDF features"
   ]
  },
  {
   "cell_type": "code",
   "execution_count": 15,
   "metadata": {
    "collapsed": false
   },
   "outputs": [
    {
     "name": "stdout",
     "output_type": "stream",
     "text": [
      "the tfidf matrix size :  (100, 1856)\n",
      "<class 'scipy.sparse.csr.csr_matrix'>\n"
     ]
    }
   ],
   "source": [
    "#TFIDF feature without lsa\n",
    "\n",
    "import evaluation_self as es\n",
    "max_features_count = 10000\n",
    "from sklearn.feature_extraction.text import TfidfVectorizer\n",
    "vectorizer = TfidfVectorizer(max_df=0.5, max_features=max_features_count,\n",
    "                                 min_df=2, stop_words='english', tokenizer = es.tokenize_and_stem)\n",
    "\n",
    "tfidf_matrix = vectorizer.fit_transform(df.body)\n",
    "print \"the tfidf matrix size : \",tfidf_matrix.shape\n",
    "print type(tfidf_matrix)\n"
   ]
  },
  {
   "cell_type": "code",
   "execution_count": 16,
   "metadata": {
    "collapsed": false
   },
   "outputs": [
    {
     "name": "stdout",
     "output_type": "stream",
     "text": [
      "TFIDF-cv10-LSVR, mse: [ 0.08141925  0.04912799  0.10494847  0.04176103  0.06310264  0.04258743\n",
      "  0.0500274   0.03956934  0.01890513  0.07190517]\n",
      "TFIDF-cv10-LSVR, mse mean: 0.0563353850276\n",
      "TFIDF-cv10-LSVR, rmse: [ 0.28534059  0.22164834  0.32395751  0.20435515  0.25120238  0.20636721\n",
      "  0.22366807  0.19892043  0.13749594  0.2681514 ]\n",
      "TFIDF-cv10-LSVR, rmse mean: 0.232110703073\n"
     ]
    }
   ],
   "source": [
    "#TFIDF-CV-10-lsvr\n",
    "from sklearn.svm import LinearSVR\n",
    "\n",
    "lsvr = LinearSVR()\n",
    "\n",
    "from sklearn.cross_validation import cross_val_score\n",
    "\n",
    "scores2 = cross_val_score(lsvr, tfidf_matrix, df.hfdfd, cv=10, scoring=\"mean_squared_error\")\n",
    "\n",
    "mse2 = abs(scores2)\n",
    "print 'TFIDF-cv10-LSVR, mse:', mse2\n",
    "print 'TFIDF-cv10-LSVR, mse mean:', np.mean(mse2)\n",
    "print 'TFIDF-cv10-LSVR, rmse:', np.sqrt(mse2)\n",
    "print 'TFIDF-cv10-LSVR, rmse mean:', np.mean(np.sqrt(mse2))"
   ]
  },
  {
   "cell_type": "code",
   "execution_count": 17,
   "metadata": {
    "collapsed": false
   },
   "outputs": [
    {
     "name": "stdout",
     "output_type": "stream",
     "text": [
      "TFIDF-cv10-SVR, mse: [ 0.10782484  0.03885816  0.15268398  0.01068192  0.0971278   0.07590734\n",
      "  0.07890349  0.05963978  0.00829349  0.10984222]\n",
      "TFIDF-cv10-SVR, mse mean: 0.0739763006971\n",
      "TFIDF-cv10-SVR, rmse: [ 0.32836693  0.19712472  0.39074797  0.10335338  0.31165334  0.27551286\n",
      "  0.28089765  0.24421256  0.09106859  0.33142453]\n",
      "TFIDF-cv10-SVR, rmse mean: 0.255436253884\n"
     ]
    }
   ],
   "source": [
    "#TFIDF-CV-10-svr\n",
    "from sklearn.svm import SVR\n",
    "\n",
    "svr = SVR()\n",
    "\n",
    "from sklearn.cross_validation import cross_val_score\n",
    "\n",
    "scores2 = cross_val_score(svr, tfidf_matrix, df.hfdfd, cv=10, scoring=\"mean_squared_error\")\n",
    "\n",
    "mse2 = abs(scores2)\n",
    "print 'TFIDF-cv10-SVR, mse:', mse2\n",
    "print 'TFIDF-cv10-SVR, mse mean:', np.mean(mse2)\n",
    "print 'TFIDF-cv10-SVR, rmse:', np.sqrt(mse2)\n",
    "print 'TFIDF-cv10-SVR, rmse mean:', np.mean(np.sqrt(mse2))"
   ]
  },
  {
   "cell_type": "code",
   "execution_count": 18,
   "metadata": {
    "collapsed": false
   },
   "outputs": [
    {
     "name": "stdout",
     "output_type": "stream",
     "text": [
      "TFIDF-cv10-LR, mse: [ 0.08428988  0.04914983  0.10853811  0.03688545  0.06363214  0.04363286\n",
      "  0.05190089  0.0389887   0.01494012  0.07207759]\n",
      "TFIDF-cv10-LR, mse mean: 0.0564035564685\n",
      "TFIDF-cv10-LR, rmse: [ 0.29032719  0.22169761  0.32945123  0.19205586  0.25225411  0.2088848\n",
      "  0.22781766  0.19745556  0.12222977  0.2684727 ]\n",
      "TFIDF-cv10-LR, rmse mean: 0.231064649804\n"
     ]
    }
   ],
   "source": [
    "#TFIDF-CV-10-lr\n",
    "from sklearn.linear_model import LinearRegression\n",
    "\n",
    "lr = LinearRegression()\n",
    "\n",
    "from sklearn.cross_validation import cross_val_score\n",
    "\n",
    "scores2 = cross_val_score(lr, tfidf_matrix, df.hfdfd, cv=10, scoring=\"mean_squared_error\")\n",
    "\n",
    "mse2 = abs(scores2)\n",
    "print 'TFIDF-cv10-LR, mse:', mse2\n",
    "print 'TFIDF-cv10-LR, mse mean:', np.mean(mse2)\n",
    "print 'TFIDF-cv10-LR, rmse:', np.sqrt(mse2)\n",
    "print 'TFIDF-cv10-LR, rmse mean:', np.mean(np.sqrt(mse2))"
   ]
  },
  {
   "cell_type": "markdown",
   "metadata": {},
   "source": [
    "# TFIDF - LSA features"
   ]
  },
  {
   "cell_type": "code",
   "execution_count": 19,
   "metadata": {
    "collapsed": false
   },
   "outputs": [
    {
     "name": "stdout",
     "output_type": "stream",
     "text": [
      "the tfidf matrix size :  (100, 1856)\n",
      "<class 'scipy.sparse.csr.csr_matrix'>\n",
      "Performing dimensionality reduction using LSA\n",
      "done in  4.06745004654\n",
      "Explained variance of the SVD step: 100\n"
     ]
    }
   ],
   "source": [
    "#TFIDF feature without lsa\n",
    "from time import time\n",
    "from sklearn.decomposition import TruncatedSVD\n",
    "from sklearn.pipeline import make_pipeline\n",
    "from sklearn.preprocessing import Normalizer\n",
    "\n",
    "import evaluation_self as es\n",
    "max_features_count = 10000\n",
    "from sklearn.feature_extraction.text import TfidfVectorizer\n",
    "vectorizer = TfidfVectorizer(max_df=0.5, max_features=max_features_count,\n",
    "                                 min_df=2, stop_words='english', tokenizer = es.tokenize_and_stem)\n",
    "lsa_tfidf_matrix = vectorizer.fit_transform(df.body)\n",
    "print \"the tfidf matrix size : \",tfidf_matrix.shape\n",
    "print type(tfidf_matrix)\n",
    "\n",
    "lsaornot = True\n",
    "lsanum = 1000\n",
    "\n",
    "if lsaornot:\n",
    "    print \"Performing dimensionality reduction using LSA\"\n",
    "    t0 = time()\n",
    "    # Vectorizer results are normalized, which makes KMeans behave as\n",
    "    # spherical k-means for better results. Since LSA/SVD results are\n",
    "    # not normalized, we have to redo the normalization.\n",
    "    svd = TruncatedSVD(lsanum)\n",
    "    normalizer = Normalizer(copy=False)\n",
    "    lsa = make_pipeline(svd, normalizer)\n",
    "\n",
    "    lsa_tfidf_matrix = lsa.fit_transform(tfidf_matrix)\n",
    "\n",
    "    print \"done in \", (time() - t0)\n",
    "    explained_variance = svd.explained_variance_ratio_.sum()\n",
    "    print \"Explained variance of the SVD step:\", int(explained_variance * 100)\n"
   ]
  },
  {
   "cell_type": "code",
   "execution_count": 20,
   "metadata": {
    "collapsed": false
   },
   "outputs": [
    {
     "name": "stdout",
     "output_type": "stream",
     "text": [
      "TFIDF-LSA-cv10-LR, mse: [ 0.08006862  0.04964595  0.10925664  0.03678711  0.10221044  0.03274556\n",
      "  0.05157836  0.07870043  0.01658272  0.10811737]\n",
      "TFIDF-LSA-cv10-LR, mse mean: 0.0665693193636\n",
      "TFIDF-LSA-cv10-LR, rmse2: [ 0.282964    0.2228137   0.33053992  0.19179967  0.31970367  0.18095735\n",
      "  0.2271087   0.28053597  0.12877389  0.32881206]\n",
      "TFIDF-LSA-cv10-LR, rmse2 mean: 0.249400892182\n"
     ]
    }
   ],
   "source": [
    "#TFIDF-LSA-cv10-LR\n",
    "from sklearn.linear_model import LinearRegression\n",
    "\n",
    "lr = LinearRegression()\n",
    "\n",
    "from sklearn.cross_validation import cross_val_score\n",
    "\n",
    "scores2 = cross_val_score(lr, lsa_tfidf_matrix, df.hfdfd, cv=10, scoring=\"mean_squared_error\")\n",
    "\n",
    "mse2 = abs(scores2)\n",
    "print 'TFIDF-LSA-cv10-LR, mse:', mse2\n",
    "print 'TFIDF-LSA-cv10-LR, mse mean:', np.mean(mse2)\n",
    "print 'TFIDF-LSA-cv10-LR, rmse2:', np.sqrt(mse2)\n",
    "print 'TFIDF-LSA-cv10-LR, rmse2 mean:', np.mean(np.sqrt(mse2))"
   ]
  },
  {
   "cell_type": "code",
   "execution_count": 21,
   "metadata": {
    "collapsed": false
   },
   "outputs": [
    {
     "name": "stdout",
     "output_type": "stream",
     "text": [
      "TFIDF-cv10-LSVR, mse: [ 0.08141942  0.0491236   0.10494618  0.04175843  0.0631031   0.04258581\n",
      "  0.05002453  0.03957113  0.01890863  0.07190426]\n",
      "TFIDF-cv10-LSVR, mse mean: 0.0563345091237\n",
      "TFIDF-cv10-LSVR, rmse: [ 0.28534089  0.22163843  0.32395398  0.20434881  0.2512033   0.20636329\n",
      "  0.22366164  0.19892494  0.13750865  0.2681497 ]\n",
      "TFIDF-cv10-LSVR, rmse mean: 0.232109363337\n"
     ]
    }
   ],
   "source": [
    "#TFIDF-LSA-CV-10-lsvr\n",
    "from sklearn.svm import LinearSVR\n",
    "\n",
    "lsvr = LinearSVR()\n",
    "\n",
    "from sklearn.cross_validation import cross_val_score\n",
    "\n",
    "scores2 = cross_val_score(lsvr, lsa_tfidf_matrix, df.hfdfd, cv=10, scoring=\"mean_squared_error\")\n",
    "\n",
    "mse2 = abs(scores2)\n",
    "print 'TFIDF-cv10-LSVR, mse:', mse2\n",
    "print 'TFIDF-cv10-LSVR, mse mean:', np.mean(mse2)\n",
    "print 'TFIDF-cv10-LSVR, rmse:', np.sqrt(mse2)\n",
    "print 'TFIDF-cv10-LSVR, rmse mean:', np.mean(np.sqrt(mse2))"
   ]
  },
  {
   "cell_type": "code",
   "execution_count": 22,
   "metadata": {
    "collapsed": false
   },
   "outputs": [
    {
     "name": "stdout",
     "output_type": "stream",
     "text": [
      "TFIDF-cv10-SVR, mse: [ 0.10253726  0.03873028  0.14433088  0.01243679  0.09113803  0.07184335\n",
      "  0.07314219  0.0558068   0.00898287  0.1030408 ]\n",
      "TFIDF-cv10-SVR, mse mean: 0.0701989240622\n",
      "TFIDF-cv10-SVR, rmse: [ 0.3202144   0.1968001   0.37990904  0.11152036  0.30189076  0.26803609\n",
      "  0.27044813  0.23623462  0.094778    0.32099969]\n",
      "TFIDF-cv10-SVR, rmse mean: 0.250083118278\n",
      "tfidf-svr cost: 0.0429480075836\n"
     ]
    }
   ],
   "source": [
    "#TFIDF-LSA-CV-10-svr\n",
    "t0 = time()\n",
    "from sklearn.svm import SVR\n",
    "\n",
    "svr = SVR()\n",
    "\n",
    "from sklearn.cross_validation import cross_val_score\n",
    "\n",
    "scores2 = cross_val_score(svr, lsa_tfidf_matrix, df.hfdfd, cv=10, scoring=\"mean_squared_error\")\n",
    "\n",
    "mse2 = abs(scores2)\n",
    "print 'TFIDF-cv10-SVR, mse:', mse2\n",
    "print 'TFIDF-cv10-SVR, mse mean:', np.mean(mse2)\n",
    "print 'TFIDF-cv10-SVR, rmse:', np.sqrt(mse2)\n",
    "print 'TFIDF-cv10-SVR, rmse mean:', np.mean(np.sqrt(mse2))\n",
    "print \"tfidf-svr cost:\", (time() - t0)"
   ]
  },
  {
   "cell_type": "markdown",
   "metadata": {},
   "source": [
    "# STD features"
   ]
  },
  {
   "cell_type": "code",
   "execution_count": 23,
   "metadata": {
    "collapsed": false
   },
   "outputs": [
    {
     "name": "stdout",
     "output_type": "stream",
     "text": [
      "[46, 3, 100.33333333333333, 0, 0]\n",
      "[152, 12, 122.08333333333333, 0, 0]\n",
      "[118, 12, 85.333333333333329, 0, 3]\n",
      "[173, 11, 196.36363636363637, 1, 0]\n",
      "[122, 15, 77.933333333333337, 1, 1]\n",
      "[255, 21, 134.38095238095238, 0, 1]\n",
      "[47, 3, 101.0, 1, 0]\n",
      "[110, 6, 155.16666666666666, 0, 0]\n",
      "[151, 13, 117.84615384615384, 0, 2]\n"
     ]
    }
   ],
   "source": [
    "#STD features\n",
    "\n",
    "import nltk\n",
    "import re\n",
    "\n",
    "def seg_sentence(text):\n",
    "    sentences = nltk.sent_tokenize(text)\n",
    "    return [s.strip() for s in sentences if(len(s)) > 0]\n",
    "\n",
    "def marks_num(text, pattern):\n",
    "    return len(re.findall(pattern, text))\n",
    "\n",
    "std_exc = 0\n",
    "def std(text): # std in Yang@acl-2015\n",
    "#    print '==============================='\n",
    "    ary = [0, 0, 0, 0, 0]\n",
    "    try:\n",
    "        tokens = es.tokenize_and_stem(text)\n",
    "        token_num = len(tokens)\n",
    "    #    print 'token size:', token_num\n",
    "        sentences = seg_sentence(text)\n",
    "        sen_num = len(sentences)\n",
    "    #    print 'sentence size:', sen_num\n",
    "        avg_sentence_len = np.mean([len(x) for x in sentences])\n",
    "    #    print 'avg sentence length:', avg_sentence_len\n",
    "        exc_num = marks_num(text, r'[!！]')\n",
    "    #    print 'exclamation marks count:', exc_num\n",
    "        que_num = marks_num(text, r'[？?]')\n",
    "    #    print 'question percentage:', float(que_num) / sen_num\n",
    "        ary = [token_num, sen_num, avg_sentence_len, exc_num, que_num]\n",
    "#         print ary\n",
    "    except:\n",
    "#         print text\n",
    "        std_exc += 1\n",
    "    finally:\n",
    "        return ary\n",
    "    \n",
    "for loc in range(1, 10):\n",
    "    print std(df.body.head(10)[loc])"
   ]
  },
  {
   "cell_type": "code",
   "execution_count": 24,
   "metadata": {
    "collapsed": false
   },
   "outputs": [
    {
     "name": "stdout",
     "output_type": "stream",
     "text": [
      "<type 'numpy.ndarray'>\n",
      "std exception:  0\n",
      "<type 'numpy.ndarray'>\n",
      "(100, 5)\n"
     ]
    }
   ],
   "source": [
    "#generate std features\n",
    "\n",
    "\n",
    "std_x = np.array(df.body)\n",
    "print type(std_x)\n",
    "std_x = np.array(map(std, std_x))\n",
    "print \"std exception: \", std_exc\n",
    "\n",
    "print type(std_x)\n",
    "print std_x.shape\n",
    "\n",
    "from sklearn.preprocessing import Normalizer\n",
    "std_normalizer = Normalizer().fit(std_x)\n",
    "std_x = std_normalizer.transform(std_x)\n"
   ]
  },
  {
   "cell_type": "code",
   "execution_count": 25,
   "metadata": {
    "collapsed": false
   },
   "outputs": [
    {
     "name": "stdout",
     "output_type": "stream",
     "text": [
      "STD-cv10-LR, mse: [ 0.06500286  0.03528658  0.1532927   0.01377453  0.08483742  0.04885342\n",
      "  0.07232473  0.04269288  0.02168829  0.0902642 ]\n",
      "STD-cv10-LR, mse mean: 0.0628017604365\n",
      "STD-cv10-LR, rmse: [ 0.25495658  0.18784721  0.39152611  0.11736496  0.29126863  0.22102809\n",
      "  0.26893258  0.20662256  0.14726944  0.30044002]\n",
      "STD-cv10-LR, rmse mean: 0.238725618604\n"
     ]
    }
   ],
   "source": [
    "#std-cv10-lr\n",
    "from sklearn.linear_model import LinearRegression\n",
    "std_lr = LinearRegression()\n",
    "\n",
    "std_scores = cross_val_score(std_lr, std_x, df.hfdfd, cv=10, scoring='mean_squared_error')\n",
    "\n",
    "std_mse = abs(std_scores)\n",
    "print 'STD-cv10-LR, mse:', std_mse\n",
    "print 'STD-cv10-LR, mse mean:', np.mean(std_mse)\n",
    "print 'STD-cv10-LR, rmse:', np.sqrt(std_mse)\n",
    "print 'STD-cv10-LR, rmse mean:', np.mean(np.sqrt(std_mse))"
   ]
  },
  {
   "cell_type": "code",
   "execution_count": 26,
   "metadata": {
    "collapsed": false
   },
   "outputs": [
    {
     "name": "stdout",
     "output_type": "stream",
     "text": [
      "STD-cv10-LSVR, mse: [ 0.11377503  0.03723815  0.17545945  0.00339732  0.11292987  0.08042356\n",
      "  0.09290938  0.05865561  0.00655683  0.12968777]\n",
      "STD-cv10-LSVR, mse mean: 0.0811032975455\n",
      "STD-cv10-LSVR, rmse: [ 0.33730554  0.19297188  0.41887881  0.05828654  0.3360504   0.28359048\n",
      "  0.30481039  0.24218921  0.08097424  0.36012189]\n",
      "STD-cv10-LSVR, rmse mean: 0.261517938491\n"
     ]
    }
   ],
   "source": [
    "#std-cv10-lsvr\n",
    "from sklearn.svm import LinearSVR\n",
    "std_lsvr = LinearSVR()\n",
    "\n",
    "std_scores = cross_val_score(std_lsvr, std_x, df.hfdfd, cv=10, scoring='mean_squared_error')\n",
    "\n",
    "std_mse = abs(std_scores)\n",
    "print 'STD-cv10-LSVR, mse:', std_mse\n",
    "print 'STD-cv10-LSVR, mse mean:', np.mean(std_mse)\n",
    "print 'STD-cv10-LSVR, rmse:', np.sqrt(std_mse)\n",
    "print 'STD-cv10-LSVR, rmse mean:', np.mean(np.sqrt(std_mse))"
   ]
  },
  {
   "cell_type": "code",
   "execution_count": 27,
   "metadata": {
    "collapsed": false
   },
   "outputs": [
    {
     "name": "stdout",
     "output_type": "stream",
     "text": [
      "STD-cv10-SVR, mse: [ 0.10395625  0.03702948  0.15147344  0.01011492  0.09645771  0.0735336\n",
      "  0.07717419  0.0560485   0.01123691  0.11054614]\n",
      "STD-cv10-SVR, mse mean: 0.0727571150049\n",
      "STD-cv10-SVR, rmse: [ 0.32242247  0.19243046  0.38919589  0.10057296  0.31057642  0.27117079\n",
      "  0.27780244  0.23674563  0.10600431  0.3324848 ]\n",
      "STD-cv10-SVR, rmse mean: 0.253940618231\n",
      "STD-svr cost: 0.0290849208832\n"
     ]
    }
   ],
   "source": [
    "#std-cv10-svr\n",
    "t0 = time()\n",
    "from sklearn.svm import SVR\n",
    "std_svr = SVR()\n",
    "\n",
    "std_scores = cross_val_score(std_svr, std_x, df.hfdfd, cv=10, scoring='mean_squared_error')\n",
    "\n",
    "std_mse = abs(std_scores)\n",
    "print 'STD-cv10-SVR, mse:', std_mse\n",
    "print 'STD-cv10-SVR, mse mean:', np.mean(std_mse)\n",
    "print 'STD-cv10-SVR, rmse:', np.sqrt(std_mse)\n",
    "print 'STD-cv10-SVR, rmse mean:', np.mean(np.sqrt(std_mse))\n",
    "print \"STD-svr cost:\", (time() - t0)"
   ]
  },
  {
   "cell_type": "code",
   "execution_count": 28,
   "metadata": {
    "collapsed": false
   },
   "outputs": [],
   "source": [
    "#def cut sentence\n",
    "stop_words = 'a,able,about,across,after,all,almost,also,am,among,an,and,any,are,as,at,be,because,been,but,by,can,cannot,could,dear,did,do,does,either,else,ever,every,for,from,get,got,had,has,have,he,her,hers,him,his,how,however,i,if,in,into,is,it,its,just,least,let,like,likely,may,me,might,most,must,my,neither,no,nor,not,of,off,often,on,only,or,other,our,own,rather,said,say,says,she,should,since,so,some,than,that,the,their,them,then,there,these,they,this,tis,to,too,twas,us,wants,was,we,were,what,when,where,which,while,who,whom,why,will,with,would,yet,you,your'\n",
    "stop_words_list = stop_words.split(',')\n",
    "\n",
    "def cut_into_tokens(text):\n",
    "\n",
    "    _list = [word.lower() for sentence in nltk.sent_tokenize(text) for word in sentence.split()]\n",
    "    _list = [re.sub(r'[.?!\\'\",)(;&%:]', '', word) for word in _list  ]\n",
    "    _list = [word for word in _list if word not in stop_words_list and len(word) > 0]\n",
    "    return _list"
   ]
  },
  {
   "cell_type": "markdown",
   "metadata": {},
   "source": [
    "# Syntactic features of Kim"
   ]
  },
  {
   "cell_type": "code",
   "execution_count": 29,
   "metadata": {
    "collapsed": false
   },
   "outputs": [
    {
     "name": "stdout",
     "output_type": "stream",
     "text": [
      " If you're reading this, then you've seen this movie or are at least curious what all the hype is about?    The late Stanley Kubrick, the only major filmmaker Lynch has cited as a direct cinematic influence, believed that ERASERHEAD was one of the most perfect \"cinematic experiences\" created to date.  This movie has enjoyed success on the midnight movie circuit for years, particularly in NYC where it ran almost every night for something like five years straight. I've seen it on big and little screens in three different states.  Insofar as interpretations are concerned, I've long since tossed all that out the window.  In terms of rational comprehension, ERASERHEAD is the fabled big fish that remains brilliantly elusive of any attempts to capture it.     This movie gets better, and more humorous, every time I watch it: in my opinion - ERASERHEAD is the cinematic experience that comes the closest to capturing \"dream logic\", next to the equally brilliant WAKING LIFE.  If you ever get the chance, watch ERASERHEAD in a movie theater with a great sound system - you will understand why Stanley Kubrick was moved enough to make his statement.  It's like experiencing someone else's dream - the ultimate act of voyeurism?  As if I was granted audience to a demonstration of delicate brain surgery, and catching glimpses of the patient's face throughout the operation (particularly the opening scene).  It creates such a visceral landscape with its dark, peculiar selections of image and sound, that it seems to be constantly reminding you that the \"soul\" is helplessly sloshing around somewhere inside an organic bag of blood, bone, hair follicles, industrial shrapnel, dirt piles and antique radiators; a terrifying and beautiful delineation of a living creature suddenly made aware of its own being (birth imagery abounding).  It is a perfect symphony of sound and image, amazing work for a first time feature film director!  I've seen this movie placed in the HORROR section at local video stores; it's better suited for the COMEDY section, I fear.  The movie was created on the AFI campus in California; production beginning his last year there, and continuing on for several more years in secret.  Not for everyone, but certainly worth a peek.    I own a copy of ERASERHEAD on DVD, finally.  It is available at David Lynch's website for forty-five bucks plus shipping and handling.  Remastered sound and image, includes a few extras - the standout is a \"stylized\" interview with Lynch about the making of the film, the characters involved and anecdotes.    BTW - where is WILD AT HEART and LOST HIGHWAY for our DVD pleasure?     \n",
      "\n",
      "[115, 50, 42, 21]\n",
      "[13, 5, 6, 4]\n",
      "[61, 30, 31, 10]\n",
      "[49, 20, 11, 9]\n",
      "[72, 61, 21, 14]\n",
      "[51, 22, 15, 7]\n",
      "[131, 68, 38, 18]\n",
      "[9, 5, 6, 5]\n",
      "[30, 17, 14, 11]\n",
      "[62, 31, 10, 11]\n",
      "syn_exc is  0\n"
     ]
    }
   ],
   "source": [
    "#Syntactic features of Kim\n",
    "\n",
    "text = df.body.head(1)[0]\n",
    "print text\n",
    "#print nltk.pos_tag([word  for sentence in nltk.sent_tokenize(text) for word in nltk.word_tokenize(sentence)])\n",
    "\n",
    "def pos_count(text):\n",
    "    poses = nltk.pos_tag(cut_into_tokens(text))\n",
    "#     poses = nltk.pos_tag([word  for sentence in nltk.sent_tokenize(text) for word in nltk.word_tokenize(sentence)])\n",
    "    pos_dict = {}\n",
    "    for (word, pos) in poses:\n",
    "        if pos in pos_dict:\n",
    "            pos_dict[pos] = pos_dict[pos] + 1\n",
    "        else:\n",
    "            pos_dict[pos] = 1\n",
    "    return pos_dict\n",
    "\n",
    "pos_dict = pos_count(text)#per sentence per second!!!!\n",
    "# for pos in pos_dict:\n",
    "#     print pos, \" => \", pos_dict[pos]\n",
    "# print 'aa'\n",
    "syn_exc = 0\n",
    "\n",
    "def fetch_count_from_pos_dict(pos_list, pos_dict):\n",
    "    _pos_count = 0\n",
    "    for pos in pos_list:\n",
    "        if pos in pos_dict:\n",
    "            _pos_count += pos_dict[pos]\n",
    "    return _pos_count\n",
    "\n",
    "def syntactic_feature(text): #syn feature function\n",
    "    ary = [0, 0, 0, 0]\n",
    "    try:\n",
    "        pos_dict = pos_count(text)\n",
    "        nn_count = fetch_count_from_pos_dict(['NN', 'NNS', 'NNP', 'NNPS'], pos_dict)#noun\n",
    "        jj_count = fetch_count_from_pos_dict(['JJ', 'JJR', 'JJS'], pos_dict)#adj\n",
    "        vb_count = fetch_count_from_pos_dict(['VB', 'VBD', 'VBG', 'VBN', 'VNP', 'VBZ'], pos_dict)#vb\n",
    "        rb_count = fetch_count_from_pos_dict(['RB', 'RBR', 'RBS'], pos_dict)#adv\n",
    "        ary = [nn_count, jj_count, vb_count, rb_count]\n",
    "    except:\n",
    "        print 'error'\n",
    "        syn_exc += 1\n",
    "    finally:\n",
    "        return ary\n",
    "# print 't_dict', pos_dict['_t_dict']\n",
    "for _text in df.body.head(10):\n",
    "    print syntactic_feature(_text)\n",
    "print 'syn_exc is ', syn_exc"
   ]
  },
  {
   "cell_type": "code",
   "execution_count": 30,
   "metadata": {
    "collapsed": false
   },
   "outputs": [
    {
     "name": "stdout",
     "output_type": "stream",
     "text": [
      "100\n",
      "Normalizer(copy=True, norm='l2')\n"
     ]
    },
    {
     "name": "stderr",
     "output_type": "stream",
     "text": [
      "/usr/local/lib/python2.7/dist-packages/sklearn/utils/validation.py:420: DataConversionWarning: Data with input dtype int64 was converted to float64 by the normalize function.\n",
      "  warnings.warn(msg, DataConversionWarning)\n"
     ]
    }
   ],
   "source": [
    "X_syn = []\n",
    "for _body in df.body:\n",
    "    _v = syntactic_feature(_body)\n",
    "    X_syn.append(_v)\n",
    "print len(X_syn)\n",
    "\n",
    "from sklearn.preprocessing import Normalizer\n",
    "\n",
    "syn_normalizer = Normalizer()\n",
    "syn_normalizer.fit(X_syn)\n",
    "X_syn = syn_normalizer.transform(X_syn)\n",
    "\n",
    "# print X_w2v\n",
    "print syn_normalizer"
   ]
  },
  {
   "cell_type": "code",
   "execution_count": 31,
   "metadata": {
    "collapsed": false
   },
   "outputs": [
    {
     "name": "stdout",
     "output_type": "stream",
     "text": [
      "SYN-cv10-LR, mse: [ 0.10462254  0.05454791  0.13415301  0.03058137  0.11306078  0.08782886\n",
      "  0.05758035  0.0522465   0.01209688  0.07854349]\n",
      "SYN-cv10-LR, mse mean: 0.0725261692847\n",
      "SYN-cv10-LR, rmse: [ 0.32345407  0.23355494  0.36626905  0.1748753   0.33624512  0.29635935\n",
      "  0.23995905  0.22857494  0.1099858   0.28025611]\n",
      "SYN-cv10-LR, rmse mean: 0.258953373802\n"
     ]
    }
   ],
   "source": [
    "#syn-cv-10-LR\n",
    "from sklearn.linear_model import LinearRegression\n",
    "\n",
    "syn_lr = LinearRegression()\n",
    "\n",
    "std_scores = cross_val_score(syn_lr, X_syn, df.hfdfd, cv=10, scoring='mean_squared_error')\n",
    "\n",
    "std_mse = abs(std_scores)\n",
    "print 'SYN-cv10-LR, mse:', std_mse\n",
    "print 'SYN-cv10-LR, mse mean:', np.mean(std_mse)\n",
    "print 'SYN-cv10-LR, rmse:', np.sqrt(std_mse)\n",
    "print 'SYN-cv10-LR, rmse mean:', np.mean(np.sqrt(std_mse))"
   ]
  },
  {
   "cell_type": "code",
   "execution_count": 32,
   "metadata": {
    "collapsed": false
   },
   "outputs": [
    {
     "name": "stdout",
     "output_type": "stream",
     "text": [
      "SYN-cv10-LSVR, mse: [ 0.13102097  0.046614    0.17911154  0.00585943  0.11172521  0.09141683\n",
      "  0.09245582  0.05799587  0.00256428  0.12499173]\n",
      "SYN-cv10-LSVR, mse mean: 0.0843755699511\n",
      "SYN-cv10-LSVR, rmse: [ 0.36196818  0.21590277  0.42321572  0.07654695  0.33425322  0.30235217\n",
      "  0.30406548  0.24082331  0.05063877  0.3535417 ]\n",
      "SYN-cv10-LSVR, rmse mean: 0.266330826192\n"
     ]
    }
   ],
   "source": [
    "#syn-cv-10-LSVR\n",
    "from sklearn.svm import LinearSVR\n",
    "\n",
    "syn_lsvr = LinearSVR()\n",
    "\n",
    "std_scores = cross_val_score(syn_lsvr, X_syn, df.hfdfd, cv=10, scoring='mean_squared_error')\n",
    "\n",
    "std_mse = abs(std_scores)\n",
    "print 'SYN-cv10-LSVR, mse:', std_mse\n",
    "print 'SYN-cv10-LSVR, mse mean:', np.mean(std_mse)\n",
    "print 'SYN-cv10-LSVR, rmse:', np.sqrt(std_mse)\n",
    "print 'SYN-cv10-LSVR, rmse mean:', np.mean(np.sqrt(std_mse))"
   ]
  },
  {
   "cell_type": "code",
   "execution_count": 33,
   "metadata": {
    "collapsed": false
   },
   "outputs": [
    {
     "name": "stdout",
     "output_type": "stream",
     "text": [
      "SYN-cv10-SVR, mse: [ 0.10835548  0.04106706  0.15071772  0.0124428   0.09822887  0.0789925\n",
      "  0.07749351  0.05689127  0.00612068  0.10719769]\n",
      "SYN-cv10-SVR, mse mean: 0.0737507600257\n",
      "SYN-cv10-SVR, rmse: [ 0.32917394  0.20265009  0.38822381  0.11154731  0.31341485  0.28105605\n",
      "  0.27837656  0.23851892  0.07823481  0.32741059]\n",
      "SYN-cv10-SVR, rmse mean: 0.254860691454\n",
      "SYN-svr cost: 0.0341169834137\n"
     ]
    }
   ],
   "source": [
    "#syn-cv-10-SVR\n",
    "t0 = time()\n",
    "from sklearn.svm import SVR\n",
    "\n",
    "syn_lsvr = SVR()\n",
    "\n",
    "std_scores = cross_val_score(syn_lsvr, X_syn, df.hfdfd, cv=10, scoring='mean_squared_error')\n",
    "\n",
    "std_mse = abs(std_scores)\n",
    "print 'SYN-cv10-SVR, mse:', std_mse\n",
    "print 'SYN-cv10-SVR, mse mean:', np.mean(std_mse)\n",
    "print 'SYN-cv10-SVR, rmse:', np.sqrt(std_mse)\n",
    "print 'SYN-cv10-SVR, rmse mean:', np.mean(np.sqrt(std_mse))\n",
    "print \"SYN-svr cost:\", (time() - t0)"
   ]
  },
  {
   "cell_type": "markdown",
   "metadata": {},
   "source": [
    "# Word2Vec features"
   ]
  },
  {
   "cell_type": "code",
   "execution_count": 34,
   "metadata": {
    "collapsed": false
   },
   "outputs": [],
   "source": [
    "#w2v features\n",
    "\n",
    "from gensim import corpora, models, similarities\n",
    "import gensim\n",
    "\n",
    "#load model\n",
    "fname = '/data/opinion_spam/real/w2v-hfd-over-0.total'\n",
    "#gensim.models.Word2Vec(sentences, min_count=5, size=100, window=5, workers=32)\n",
    "model = gensim.models.Word2Vec.load(fname)\n",
    "model.init_sims(replace=True)"
   ]
  },
  {
   "cell_type": "code",
   "execution_count": 35,
   "metadata": {
    "collapsed": false
   },
   "outputs": [
    {
     "name": "stdout",
     "output_type": "stream",
     "text": [
      "def model_with_sentence\n"
     ]
    }
   ],
   "source": [
    "def model_with_sentence(sentence, model):\n",
    "    tokens = cut_into_tokens(sentence)\n",
    "    v = np.zeros(100)\n",
    "    _error = 0\n",
    "    for token in tokens:\n",
    "        try:\n",
    "            _v = model[token]\n",
    "            v += _v\n",
    "        except:\n",
    "            _error += 1\n",
    "#             print 'token:', token, 'not in the dict'\n",
    "    return v\n",
    "print 'def model_with_sentence'"
   ]
  },
  {
   "cell_type": "code",
   "execution_count": 36,
   "metadata": {
    "collapsed": false
   },
   "outputs": [
    {
     "name": "stdout",
     "output_type": "stream",
     "text": [
      "100\n",
      "Normalizer(copy=True, norm='l2')\n"
     ]
    }
   ],
   "source": [
    "X_w2v = []\n",
    "for _body in df.body:\n",
    "    _v = model_with_sentence(_body, model)\n",
    "    X_w2v.append(_v)\n",
    "print len(X_w2v)\n",
    "\n",
    "from sklearn.preprocessing import Normalizer\n",
    "\n",
    "w2v_normalizer = Normalizer()\n",
    "w2v_normalizer.fit(X_w2v)\n",
    "X_w2v = w2v_normalizer.transform(X_w2v)\n",
    "\n",
    "# print X_w2v\n",
    "print w2v_normalizer"
   ]
  },
  {
   "cell_type": "code",
   "execution_count": 37,
   "metadata": {
    "collapsed": false
   },
   "outputs": [
    {
     "name": "stdout",
     "output_type": "stream",
     "text": [
      "W2V-cv10-LR, mse: [ 0.23995108  0.4017458   0.90328586  0.33569364  0.39553965  0.31661745\n",
      "  0.39600169  0.3550751   0.14575424  0.32750875]\n",
      "W2V-cv10-LR, mse mean: 0.381717325347\n",
      "W2V-cv10-LR, rmse: [ 0.48984801  0.6338342   0.95041352  0.57939075  0.62891943  0.5626877\n",
      "  0.62928665  0.59588179  0.38177774  0.5722838 ]\n",
      "W2V-cv10-LR, rmse mean: 0.602432359351\n"
     ]
    }
   ],
   "source": [
    "#w2v-cv-10-LR\n",
    "from sklearn.linear_model import LinearRegression\n",
    "\n",
    "w2v_lr = LinearRegression()\n",
    "\n",
    "std_scores = cross_val_score(w2v_lr, X_w2v, df.hfdfd, cv=10, scoring='mean_squared_error')\n",
    "\n",
    "std_mse = abs(std_scores)\n",
    "print 'W2V-cv10-LR, mse:', std_mse\n",
    "print 'W2V-cv10-LR, mse mean:', np.mean(std_mse)\n",
    "print 'W2V-cv10-LR, rmse:', np.sqrt(std_mse)\n",
    "print 'W2V-cv10-LR, rmse mean:', np.mean(np.sqrt(std_mse))"
   ]
  },
  {
   "cell_type": "code",
   "execution_count": 38,
   "metadata": {
    "collapsed": false
   },
   "outputs": [
    {
     "name": "stdout",
     "output_type": "stream",
     "text": [
      "W2V-cv10-LSVR, mse: [ 0.03931486  0.03252135  0.09752162  0.02300118  0.03382264  0.03624022\n",
      "  0.05279269  0.03912735  0.01959384  0.09781817]\n",
      "W2V-cv10-LSVR, mse mean: 0.0471753910219\n",
      "W2V-cv10-LSVR, rmse: [ 0.19827976  0.18033678  0.31228451  0.15166139  0.18390933  0.19036863\n",
      "  0.22976659  0.19780635  0.13997798  0.31275896]\n",
      "W2V-cv10-LSVR, rmse mean: 0.209715028807\n"
     ]
    }
   ],
   "source": [
    "#w2v-cv-10-LSVR\n",
    "from sklearn.svm import LinearSVR\n",
    "\n",
    "w2v_lsvr = LinearSVR()\n",
    "\n",
    "std_scores = cross_val_score(w2v_lsvr, X_w2v, df.hfdfd, cv=10, scoring='mean_squared_error')\n",
    "\n",
    "std_mse = abs(std_scores)\n",
    "print 'W2V-cv10-LSVR, mse:', std_mse\n",
    "print 'W2V-cv10-LSVR, mse mean:', np.mean(std_mse)\n",
    "print 'W2V-cv10-LSVR, rmse:', np.sqrt(std_mse)\n",
    "print 'W2V-cv10-LSVR, rmse mean:', np.mean(np.sqrt(std_mse))"
   ]
  },
  {
   "cell_type": "code",
   "execution_count": 39,
   "metadata": {
    "collapsed": false
   },
   "outputs": [
    {
     "name": "stdout",
     "output_type": "stream",
     "text": [
      "W2V-cv10-SVR, mse: [ 0.08787033  0.0349269   0.12780129  0.01049571  0.07806817  0.06075669\n",
      "  0.05939609  0.04728418  0.00699689  0.08921855]\n",
      "W2V-cv10-SVR, mse mean: 0.0602814795843\n",
      "W2V-cv10-SVR, rmse: [ 0.2964293   0.18688739  0.35749306  0.10244857  0.27940682  0.24648872\n",
      "  0.24371313  0.21744927  0.08364741  0.29869474]\n",
      "W2V-cv10-SVR, rmse mean: 0.231265840941\n",
      "W2V-svr cost: 0.0333380699158\n"
     ]
    }
   ],
   "source": [
    "#w2v-cv-10-SVR\n",
    "t0 = time()\n",
    "from sklearn.svm import SVR\n",
    "\n",
    "w2v_svr = SVR()\n",
    "\n",
    "std_scores = cross_val_score(w2v_svr, X_w2v, df.hfdfd, cv=10, scoring='mean_squared_error')\n",
    "\n",
    "std_mse = abs(std_scores)\n",
    "print 'W2V-cv10-SVR, mse:', std_mse\n",
    "print 'W2V-cv10-SVR, mse mean:', np.mean(std_mse)\n",
    "print 'W2V-cv10-SVR, rmse:', np.sqrt(std_mse)\n",
    "print 'W2V-cv10-SVR, rmse mean:', np.mean(np.sqrt(std_mse))\n",
    "print \"W2V-svr cost:\", (time() - t0)"
   ]
  },
  {
   "cell_type": "markdown",
   "metadata": {},
   "source": [
    "# STD + Word2Vec features"
   ]
  },
  {
   "cell_type": "code",
   "execution_count": 40,
   "metadata": {
    "collapsed": false
   },
   "outputs": [
    {
     "name": "stdout",
     "output_type": "stream",
     "text": [
      "feature size :  105\n",
      "Normalizer(copy=True, norm='l2')\n"
     ]
    }
   ],
   "source": [
    "#combine std + w2v\n",
    "X_std_w2v = []\n",
    "for _body in df.body:\n",
    "    _w2v = model_with_sentence(_body, model)\n",
    "    _std = std(_body)\n",
    "    _v = np.append(_w2v, _std)\n",
    "    X_std_w2v.append(_v)\n",
    "print 'feature size : ', len(X_std_w2v[0])\n",
    "\n",
    "std_w2v_normalizer = Normalizer()\n",
    "std_w2v_normalizer.fit(X_w2v)\n",
    "X_std_w2v = std_w2v_normalizer.transform(X_w2v)\n",
    "\n",
    "# print X_w2v\n",
    "print std_w2v_normalizer"
   ]
  },
  {
   "cell_type": "code",
   "execution_count": 41,
   "metadata": {
    "collapsed": false
   },
   "outputs": [
    {
     "name": "stdout",
     "output_type": "stream",
     "text": [
      "STD+W2V-cv10-LR, mse: [ 0.18428478  0.4017458   0.90328586  0.33066218  0.39553965  0.32222483\n",
      "  0.37078414  0.3550751   0.18085962  0.32750875]\n",
      "STD+W2V-cv10-LR, mse mean: 0.377197069472\n",
      "STD+W2V-cv10-LR, rmse: [ 0.42928404  0.6338342   0.95041352  0.57503233  0.62891943  0.56764851\n",
      "  0.60892047  0.59588179  0.42527593  0.5722838 ]\n",
      "STD+W2V-cv10-LR, rmse mean: 0.598749400454\n"
     ]
    }
   ],
   "source": [
    "#std+w2v-cv-10-LR\n",
    "from sklearn.linear_model import LinearRegression\n",
    "\n",
    "std_w2v_lr = LinearRegression()\n",
    "\n",
    "std_scores = cross_val_score(std_w2v_lr, X_std_w2v, df.hfdfd, cv=10, scoring='mean_squared_error')\n",
    "\n",
    "std_mse = abs(std_scores)\n",
    "print 'STD+W2V-cv10-LR, mse:', std_mse\n",
    "print 'STD+W2V-cv10-LR, mse mean:', np.mean(std_mse)\n",
    "print 'STD+W2V-cv10-LR, rmse:', np.sqrt(std_mse)\n",
    "print 'STD+W2V-cv10-LR, rmse mean:', np.mean(np.sqrt(std_mse))"
   ]
  },
  {
   "cell_type": "code",
   "execution_count": 42,
   "metadata": {
    "collapsed": false
   },
   "outputs": [
    {
     "name": "stdout",
     "output_type": "stream",
     "text": [
      "STD+W2V-cv10-LSVR, mse: [ 0.03930491  0.03251312  0.09751806  0.02300316  0.03380921  0.036244\n",
      "  0.05278769  0.03913686  0.0196003   0.0978142 ]\n",
      "STD+W2V-cv10-LSVR, mse mean: 0.0471731488588\n",
      "STD+W2V-cv10-LSVR, rmse: [ 0.19825465  0.18031395  0.31227881  0.15166792  0.1838728   0.19037856\n",
      "  0.22975572  0.19783037  0.14000106  0.31275262]\n",
      "STD+W2V-cv10-LSVR, rmse mean: 0.209710646216\n"
     ]
    }
   ],
   "source": [
    "#std+w2v-cv-10-LSVR\n",
    "from sklearn.svm import LinearSVR\n",
    "\n",
    "std_w2v_lsvr = LinearSVR()\n",
    "\n",
    "std_scores = cross_val_score(std_w2v_lsvr, X_std_w2v, df.hfdfd, cv=10, scoring='mean_squared_error')\n",
    "\n",
    "std_mse = abs(std_scores)\n",
    "print 'STD+W2V-cv10-LSVR, mse:', std_mse\n",
    "print 'STD+W2V-cv10-LSVR, mse mean:', np.mean(std_mse)\n",
    "print 'STD+W2V-cv10-LSVR, rmse:', np.sqrt(std_mse)\n",
    "print 'STD+W2V-cv10-LSVR, rmse mean:', np.mean(np.sqrt(std_mse))"
   ]
  },
  {
   "cell_type": "code",
   "execution_count": 43,
   "metadata": {
    "collapsed": false
   },
   "outputs": [
    {
     "name": "stdout",
     "output_type": "stream",
     "text": [
      "STD+W2V-cv10-SVR, mse: [ 0.08787033  0.0349269   0.12780129  0.01049571  0.07806817  0.06075669\n",
      "  0.05939609  0.04728418  0.00699689  0.08921855]\n",
      "STD+W2V-cv10-SVR, mse mean: 0.0602814795843\n",
      "STD+W2V-cv10-SVR, rmse: [ 0.2964293   0.18688739  0.35749306  0.10244857  0.27940682  0.24648872\n",
      "  0.24371313  0.21744927  0.08364741  0.29869474]\n",
      "STD+W2V-cv10-SVR, rmse mean: 0.231265840941\n",
      "STD+W2V-svr cost: 0.0328810214996\n"
     ]
    }
   ],
   "source": [
    "#std+w2v-cv-10-SVR\n",
    "t0 = time()\n",
    "from sklearn.svm import SVR\n",
    "\n",
    "std_w2v_svr = SVR()\n",
    "\n",
    "std_scores = cross_val_score(std_w2v_svr, X_std_w2v, df.hfdfd, cv=10, scoring='mean_squared_error')\n",
    "\n",
    "std_mse = abs(std_scores)\n",
    "print 'STD+W2V-cv10-SVR, mse:', std_mse\n",
    "print 'STD+W2V-cv10-SVR, mse mean:', np.mean(std_mse)\n",
    "print 'STD+W2V-cv10-SVR, rmse:', np.sqrt(std_mse)\n",
    "print 'STD+W2V-cv10-SVR, rmse mean:', np.mean(np.sqrt(std_mse))\n",
    "print \"STD+W2V-svr cost:\", (time() - t0)"
   ]
  },
  {
   "cell_type": "markdown",
   "metadata": {
    "collapsed": true
   },
   "source": [
    "# STD + SYN features"
   ]
  },
  {
   "cell_type": "code",
   "execution_count": 44,
   "metadata": {
    "collapsed": false
   },
   "outputs": [
    {
     "name": "stdout",
     "output_type": "stream",
     "text": [
      "feature size :  9\n",
      "Normalizer(copy=True, norm='l2')\n"
     ]
    }
   ],
   "source": [
    "X_std_syn = []\n",
    "for _body in df.body:\n",
    "    _std = std(_body)\n",
    "    _syn = syntactic_feature(_body)\n",
    "    _v = np.append(_std, _syn)\n",
    "    X_std_syn.append(_v)\n",
    "print 'feature size : ', len(X_std_syn[0])\n",
    "\n",
    "std_syn_normalizer = Normalizer()\n",
    "std_syn_normalizer.fit(X_std_syn)\n",
    "X_std_syn = std_syn_normalizer.transform(X_std_syn)\n",
    "\n",
    "# print X_w2v\n",
    "print std_syn_normalizer"
   ]
  },
  {
   "cell_type": "code",
   "execution_count": 45,
   "metadata": {
    "collapsed": false
   },
   "outputs": [
    {
     "name": "stdout",
     "output_type": "stream",
     "text": [
      "STD+SYN-cv10-LR, mse: [ 0.06594952  0.03012259  0.16264065  0.04461     0.08793791  0.05437565\n",
      "  0.06926479  0.03886259  0.01363866  0.08043925]\n",
      "STD+SYN-cv10-LR, mse mean: 0.0647841613625\n",
      "STD+SYN-cv10-LR, rmse: [ 0.25680638  0.17355862  0.40328731  0.2112108   0.29654327  0.23318587\n",
      "  0.26318204  0.19713598  0.11678466  0.28361814]\n",
      "STD+SYN-cv10-LR, rmse mean: 0.243531306594\n"
     ]
    }
   ],
   "source": [
    "#std+syn-cv-10-LR\n",
    "from sklearn.linear_model import LinearRegression\n",
    "\n",
    "std_syn_lr = LinearRegression()\n",
    "\n",
    "std_scores = cross_val_score(std_syn_lr, X_std_syn, df.hfdfd, cv=10, scoring='mean_squared_error')\n",
    "\n",
    "std_mse = abs(std_scores)\n",
    "print 'STD+SYN-cv10-LR, mse:', std_mse\n",
    "print 'STD+SYN-cv10-LR, mse mean:', np.mean(std_mse)\n",
    "print 'STD+SYN-cv10-LR, rmse:', np.sqrt(std_mse)\n",
    "print 'STD+SYN-cv10-LR, rmse mean:', np.mean(np.sqrt(std_mse))"
   ]
  },
  {
   "cell_type": "code",
   "execution_count": 46,
   "metadata": {
    "collapsed": false
   },
   "outputs": [
    {
     "name": "stdout",
     "output_type": "stream",
     "text": [
      "STD+SYN-cv10-LSVR, mse: [ 0.11724994  0.03955369  0.18195911  0.00437252  0.11164453  0.08057741\n",
      "  0.09146775  0.06207023  0.00743744  0.12674247]\n",
      "STD+SYN-cv10-LSVR, mse mean: 0.0823075082408\n",
      "STD+SYN-cv10-LSVR, rmse: [ 0.34241779  0.19888109  0.42656665  0.066125    0.3341325   0.2838616\n",
      "  0.30243635  0.24913898  0.08624062  0.35600909]\n",
      "STD+SYN-cv10-LSVR, rmse mean: 0.264580966907\n"
     ]
    }
   ],
   "source": [
    "#std+syn-cv-10-LSVR\n",
    "from sklearn.svm import LinearSVR\n",
    "\n",
    "std_syn_lsvr = LinearSVR()\n",
    "\n",
    "std_scores = cross_val_score(std_syn_lsvr, X_std_syn, df.hfdfd, cv=10, scoring='mean_squared_error')\n",
    "\n",
    "std_mse = abs(std_scores)\n",
    "print 'STD+SYN-cv10-LSVR, mse:', std_mse\n",
    "print 'STD+SYN-cv10-LSVR, mse mean:', np.mean(std_mse)\n",
    "print 'STD+SYN-cv10-LSVR, rmse:', np.sqrt(std_mse)\n",
    "print 'STD+SYN-cv10-LSVR, rmse mean:', np.mean(np.sqrt(std_mse))"
   ]
  },
  {
   "cell_type": "code",
   "execution_count": 47,
   "metadata": {
    "collapsed": false
   },
   "outputs": [
    {
     "name": "stdout",
     "output_type": "stream",
     "text": [
      "STD+SYN-cv10-SVR, mse: [ 0.10308946  0.03709436  0.15505091  0.01060413  0.09383702  0.069359\n",
      "  0.07583103  0.05522573  0.00994273  0.10665596]\n",
      "STD+SYN-cv10-SVR, mse mean: 0.0716690335944\n",
      "STD+SYN-cv10-SVR, rmse: [ 0.32107548  0.19259895  0.39376504  0.10297636  0.30632829  0.26336098\n",
      "  0.27537435  0.23500155  0.09971324  0.32658225]\n",
      "STD+SYN-cv10-SVR, rmse mean: 0.251677648098\n"
     ]
    }
   ],
   "source": [
    "#std+syn-cv-10-SVR\n",
    "from sklearn.svm import SVR\n",
    "\n",
    "std_syn_svr = SVR()\n",
    "\n",
    "std_scores = cross_val_score(std_syn_svr, X_std_syn, df.hfdfd, cv=10, scoring='mean_squared_error')\n",
    "\n",
    "std_mse = abs(std_scores)\n",
    "print 'STD+SYN-cv10-SVR, mse:', std_mse\n",
    "print 'STD+SYN-cv10-SVR, mse mean:', np.mean(std_mse)\n",
    "print 'STD+SYN-cv10-SVR, rmse:', np.sqrt(std_mse)\n",
    "print 'STD+SYN-cv10-SVR, rmse mean:', np.mean(np.sqrt(std_mse))"
   ]
  },
  {
   "cell_type": "markdown",
   "metadata": {},
   "source": [
    "# STD + SYN + W2V features"
   ]
  },
  {
   "cell_type": "code",
   "execution_count": 48,
   "metadata": {
    "collapsed": false
   },
   "outputs": [
    {
     "name": "stdout",
     "output_type": "stream",
     "text": [
      "feature size :  109\n",
      "Normalizer(copy=True, norm='l2')\n"
     ]
    }
   ],
   "source": [
    "X_std_syn_w2v = []\n",
    "for _body in df.body:\n",
    "    _std = std(_body)\n",
    "    _syn = syntactic_feature(_body)\n",
    "    _w2v = model_with_sentence(_body, model)\n",
    "    _v = np.append(_std, _syn)\n",
    "    _v = np.append(_v, _w2v)\n",
    "    X_std_syn_w2v.append(_v)\n",
    "print 'feature size : ', len(X_std_syn_w2v[0])\n",
    "\n",
    "std_syn_w2v_normalizer = Normalizer()\n",
    "std_syn_w2v_normalizer.fit(X_std_syn)\n",
    "X_std_syn_w2v = std_syn_w2v_normalizer.transform(X_std_syn)\n",
    "\n",
    "# print X_w2v\n",
    "print std_syn_w2v_normalizer"
   ]
  },
  {
   "cell_type": "code",
   "execution_count": 49,
   "metadata": {
    "collapsed": false
   },
   "outputs": [
    {
     "name": "stdout",
     "output_type": "stream",
     "text": [
      "STD+SYN+W2V-cv10-LR, mse: [ 0.06594952  0.03012259  0.16264065  0.04461     0.08793791  0.05437565\n",
      "  0.06926479  0.03886259  0.01363866  0.08043925]\n",
      "STD+SYN+W2V-cv10-LR, mse mean: 0.0647841613625\n",
      "STD+SYN+W2V-cv10-LR, rmse: [ 0.25680638  0.17355862  0.40328731  0.2112108   0.29654327  0.23318587\n",
      "  0.26318204  0.19713598  0.11678466  0.28361814]\n",
      "STD+SYN+W2V-cv10-LR, rmse mean: 0.243531306594\n"
     ]
    }
   ],
   "source": [
    "#std+syn+w2v-cv-10-LR\n",
    "from sklearn.linear_model import LinearRegression\n",
    "\n",
    "std_syn_w2v_lr = LinearRegression()\n",
    "\n",
    "std_scores = cross_val_score(std_syn_w2v_lr, X_std_syn_w2v, df.hfdfd, cv=10, scoring='mean_squared_error')\n",
    "\n",
    "std_mse = abs(std_scores)\n",
    "print 'STD+SYN+W2V-cv10-LR, mse:', std_mse\n",
    "print 'STD+SYN+W2V-cv10-LR, mse mean:', np.mean(std_mse)\n",
    "print 'STD+SYN+W2V-cv10-LR, rmse:', np.sqrt(std_mse)\n",
    "print 'STD+SYN+W2V-cv10-LR, rmse mean:', np.mean(np.sqrt(std_mse))"
   ]
  },
  {
   "cell_type": "code",
   "execution_count": 50,
   "metadata": {
    "collapsed": false
   },
   "outputs": [
    {
     "name": "stdout",
     "output_type": "stream",
     "text": [
      "STD+SYN+W2V-cv10-LSVR, mse: [ 0.06594952  0.03012259  0.16264065  0.04461     0.08793791  0.05437565\n",
      "  0.06926479  0.03886259  0.01363866  0.08043925]\n",
      "STD+SYN+W2V-cv10-LSVR, mse mean: 0.0647841613625\n",
      "STD+SYN+W2V-cv10-LSVR, rmse: [ 0.25680638  0.17355862  0.40328731  0.2112108   0.29654327  0.23318587\n",
      "  0.26318204  0.19713598  0.11678466  0.28361814]\n",
      "STD+SYN+W2V-cv10-LSVR, rmse mean: 0.243531306594\n"
     ]
    }
   ],
   "source": [
    "#std+syn+w2v-cv-10-LSVR\n",
    "from sklearn.svm import LinearSVR\n",
    "\n",
    "std_syn_w2v_lsvr = LinearRegression()\n",
    "\n",
    "std_scores = cross_val_score(std_syn_w2v_lsvr, X_std_syn_w2v, df.hfdfd, cv=10, scoring='mean_squared_error')\n",
    "\n",
    "std_mse = abs(std_scores)\n",
    "print 'STD+SYN+W2V-cv10-LSVR, mse:', std_mse\n",
    "print 'STD+SYN+W2V-cv10-LSVR, mse mean:', np.mean(std_mse)\n",
    "print 'STD+SYN+W2V-cv10-LSVR, rmse:', np.sqrt(std_mse)\n",
    "print 'STD+SYN+W2V-cv10-LSVR, rmse mean:', np.mean(np.sqrt(std_mse))"
   ]
  },
  {
   "cell_type": "code",
   "execution_count": 51,
   "metadata": {
    "collapsed": false
   },
   "outputs": [
    {
     "name": "stdout",
     "output_type": "stream",
     "text": [
      "STD+SYN+W2V-cv10-SVR, mse: [ 0.10308946  0.03709436  0.15505091  0.01060413  0.09383702  0.069359\n",
      "  0.07583103  0.05522573  0.00994273  0.10665596]\n",
      "STD+SYN+W2V-cv10-SVR, mse mean: 0.0716690335944\n",
      "STD+SYN+W2V-cv10-SVR, rmse: [ 0.32107548  0.19259895  0.39376504  0.10297636  0.30632829  0.26336098\n",
      "  0.27537435  0.23500155  0.09971324  0.32658225]\n",
      "STD+SYN+W2V-cv10-SVR, rmse mean: 0.251677648098\n"
     ]
    }
   ],
   "source": [
    "#std+syn+w2v-cv-10-LSVR\n",
    "from sklearn.svm import SVR\n",
    "\n",
    "std_syn_w2v_svr = SVR()\n",
    "\n",
    "std_scores = cross_val_score(std_syn_w2v_svr, X_std_syn_w2v, df.hfdfd, cv=10, scoring='mean_squared_error')\n",
    "\n",
    "std_mse = abs(std_scores)\n",
    "print 'STD+SYN+W2V-cv10-SVR, mse:', std_mse\n",
    "print 'STD+SYN+W2V-cv10-SVR, mse mean:', np.mean(std_mse)\n",
    "print 'STD+SYN+W2V-cv10-SVR, rmse:', np.sqrt(std_mse)\n",
    "print 'STD+SYN+W2V-cv10-SVR, rmse mean:', np.mean(np.sqrt(std_mse))"
   ]
  },
  {
   "cell_type": "markdown",
   "metadata": {
    "collapsed": true
   },
   "source": [
    "# TFIDF + STD features"
   ]
  },
  {
   "cell_type": "code",
   "execution_count": 97,
   "metadata": {
    "collapsed": true
   },
   "outputs": [],
   "source": [
    "def matrix_to_array(_matrix):\n",
    "    _dense = _matrix.todense()\n",
    "    _list = _dense.tolist()\n",
    "    return _list\n",
    "\n",
    "def append_matrix_to_matrix(array1, array2):\n",
    "    length = len(array1)#row num\n",
    "    new_matrix = []\n",
    "    for index in range(length):\n",
    "        _row = np.append(array1[index], array2[index])\n",
    "        new_matrix.append(_row)\n",
    "    return new_matrix"
   ]
  },
  {
   "cell_type": "code",
   "execution_count": 99,
   "metadata": {
    "collapsed": false
   },
   "outputs": [
    {
     "name": "stdout",
     "output_type": "stream",
     "text": [
      "[array([1, 2, 3, 5, 6, 7]), array([2, 3, 4, 7, 8, 9])]\n"
     ]
    }
   ],
   "source": [
    "#validate the matrix merge\n",
    "ar1 = [[1,2,3],[2,3,4]]\n",
    "ar2 = [[5,6,7], [7,8,9]]\n",
    "ar3 = append_matrix_to_matrix(ar1, ar2)\n",
    "print ar3"
   ]
  },
  {
   "cell_type": "code",
   "execution_count": 96,
   "metadata": {
    "collapsed": false
   },
   "outputs": [
    {
     "name": "stdout",
     "output_type": "stream",
     "text": [
      "tfidf list:  100\n",
      "type v0:  <type 'list'>\n",
      "list 0: [0.0, 0.0, 0.0, 0.0, 0.0, 0.0, 0.10556017032233166, 0.0, 0.0, 0.0, 0.0, 0.0, 0.0, 0.0, 0.0, 0.0, 0.0, 0.0, 0.0, 0.0, 0.0, 0.0, 0.07128882996115371, 0.0, 0.0, 0.0, 0.0, 0.0, 0.0, 0.0, 0.0, 0.0, 0.0, 0.0, 0.0, 0.0, 0.0, 0.0, 0.0, 0.0, 0.0, 0.0, 0.0, 0.0, 0.0, 0.0, 0.0, 0.0, 0.0, 0.0, 0.0, 0.0, 0.0, 0.0, 0.0, 0.0, 0.0, 0.0, 0.0, 0.0, 0.0, 0.0, 0.0, 0.0, 0.07988332120543765, 0.0, 0.0, 0.0, 0.0, 0.0, 0.0, 0.0, 0.045611980844259714, 0.0, 0.0, 0.0, 0.0, 0.0, 0.0, 0.0, 0.0, 0.0, 0.0, 0.0, 0.0, 0.0, 0.0, 0.0, 0.0, 0.0, 0.0, 0.0, 0.0, 0.0, 0.0, 0.0, 0.0, 0.0, 0.0, 0.0, 0.0, 0.0, 0.0, 0.0, 0.0, 0.0, 0.0, 0.0, 0.0, 0.0, 0.0, 0.0, 0.0, 0.0, 0.0, 0.0, 0.0, 0.0, 0.0, 0.0, 0.0, 0.0, 0.07315959415070479, 0.0, 0.0, 0.06955677285695273, 0.0, 0.0, 0.0, 0.0, 0.07128882996115371, 0.0, 0.0, 0.08935988223651822, 0.0, 0.0, 0.0, 0.0, 0.08935988223651822, 0.0, 0.0, 0.0, 0.0, 0.0, 0.0, 0.0, 0.0, 0.0, 0.0, 0.0, 0.07128882996115371, 0.0, 0.0, 0.0, 0.0, 0.0, 0.0, 0.0, 0.062419369953786476, 0.0, 0.0, 0.0, 0.06643586709597193, 0.0, 0.0, 0.0, 0.0, 0.0, 0.05600521133578724, 0.0, 0.0, 0.08575706094276617, 0.0, 0.0, 0.0, 0.0988364432675988, 0.0, 0.0, 0.0, 0.0, 0.0, 0.07742082730169302, 0.0, 0.0, 0.0, 0.0, 0.0, 0.10556017032233166, 0.0, 0.0, 0.0, 0.0, 0.0, 0.0, 0.0, 0.0, 0.10556017032233166, 0.0, 0.0, 0.0, 0.0, 0.0, 0.0, 0.10556017032233166, 0.0, 0.0, 0.0, 0.0, 0.0, 0.0, 0.0, 0.10556017032233166, 0.0, 0.0, 0.0, 0.0, 0.0, 0.0, 0.0, 0.0, 0.0, 0.0, 0.0, 0.0, 0.0, 0.0, 0.0, 0.0, 0.0, 0.10556017032233166, 0.0, 0.0, 0.0, 0.0, 0.08935988223651822, 0.0, 0.0, 0.0, 0.0, 0.0, 0.0, 0.0, 0.0, 0.0988364432675988, 0.0, 0.0, 0.0, 0.0, 0.0, 0.0, 0.0, 0.0, 0.0, 0.06643586709597193, 0.0, 0.0, 0.08935988223651822, 0.0, 0.0, 0.0, 0.0751932306041296, 0.0, 0.0, 0.0, 0.0, 0.0, 0.0, 0.0, 0.0, 0.0, 0.0, 0.0, 0.0, 0.0, 0.0, 0.0, 0.0, 0.10556017032233166, 0.0, 0.0, 0.0, 0.0, 0.0, 0.0, 0.0, 0.0, 0.0, 0.0, 0.0, 0.0, 0.0, 0.0, 0.0, 0.0, 0.0, 0.10556017032233166, 0.0, 0.0, 0.0, 0.0, 0.0, 0.0, 0.0, 0.0, 0.0, 0.0, 0.0, 0.052536327802752386, 0.0988364432675988, 0.0, 0.0, 0.0, 0.0, 0.0, 0.0, 0.0, 0.0, 0.0, 0.0, 0.0, 0.0, 0.0, 0.0, 0.0, 0.0, 0.0, 0.0, 0.0, 0.0, 0.0, 0.0, 0.08575706094276617, 0.0, 0.0, 0.0, 0.07742082730169302, 0.0, 0.0, 0.0, 0.0, 0.0, 0.0, 0.0, 0.0, 0.0, 0.0, 0.0, 0.0, 0.0, 0.0, 0.0, 0.0, 0.08935988223651822, 0.0, 0.0, 0.0, 0.0, 0.0, 0.0, 0.0, 0.0, 0.07988332120543765, 0.0, 0.0, 0.0, 0.0, 0.0, 0.0, 0.0, 0.0, 0.0, 0.0, 0.0, 0.07742082730169302, 0.0, 0.0, 0.0, 0.0, 0.0, 0.0, 0.0, 0.0, 0.0, 0.0, 0.0, 0.0, 0.0, 0.0, 0.0, 0.0, 0.0, 0.07315959415070479, 0.0, 0.0, 0.0, 0.0, 0.0, 0.0, 0.0, 0.0, 0.0, 0.0, 0.0, 0.0, 0.0, 0.09362111538750645, 0.0, 0.0, 0.0, 0.0, 0.0, 0.0, 0.0, 0.0, 0.08263615518178537, 0.0, 0.08575706094276617, 0.0, 0.08575706094276617, 0.0, 0.0, 0.0, 0.0, 0.0, 0.0, 0.0, 0.0, 0.0, 0.0, 0.0, 0.0, 0.0, 0.0, 0.0, 0.0, 0.0, 0.0, 0.0, 0.0, 0.0, 0.0, 0.10556017032233166, 0.0, 0.0, 0.0, 0.0, 0.0, 0.0, 0.0, 0.09362111538750645, 0.0, 0.0, 0.0, 0.0, 0.0, 0.0, 0.0, 0.0, 0.0, 0.0, 0.0, 0.0, 0.0, 0.0, 0.0, 0.0, 0.0, 0.0, 0.0, 0.0, 0.0, 0.05899294251831616, 0.0, 0.0, 0.0, 0.0, 0.07128882996115371, 0.10556017032233166, 0.0, 0.0, 0.0, 0.0, 0.0, 0.0, 0.0, 0.0, 0.0, 0.0, 0.0, 0.0, 0.0, 0.0, 0.0, 0.0, 0.0, 0.0, 0.0, 0.0, 0.0, 0.0, 0.0, 0.0, 0.0, 0.0, 0.0, 0.0, 0.0, 0.0, 0.0, 0.0, 0.0, 0.0, 0.0, 0.0, 0.0, 0.0, 0.0, 0.0, 0.0988364432675988, 0.0, 0.0, 0.0, 0.0, 0.0, 0.0, 0.06794426627061244, 0.0, 0.0, 0.0, 0.0, 0.0, 0.0, 0.0, 0.0, 0.0, 0.0, 0.0, 0.0, 0.0, 0.0, 0.0, 0.0, 0.0, 0.0, 0.0, 0.0, 0.0, 0.0, 0.0, 0.0, 0.0, 0.0, 0.0, 0.0, 0.0, 0.0, 0.0, 0.08935988223651822, 0.10556017032233166, 0.0, 0.0, 0.0, 0.0, 0.0, 0.0, 0.0, 0.0, 0.0, 0.0, 0.0, 0.0, 0.0, 0.0, 0.0, 0.0, 0.0, 0.06008021182587216, 0.0, 0.0, 0.0, 0.0, 0.0, 0.0, 0.0, 0.08263615518178537, 0.0, 0.0, 0.0, 0.0, 0.0, 0.0, 0.0, 0.0, 0.0, 0.0, 0.0, 0.0, 0.0, 0.0, 0.062419369953786476, 0.0, 0.0, 0.07315959415070479, 0.0, 0.0, 0.0, 0.0, 0.0, 0.0, 0.0, 0.0, 0.0, 0.0, 0.0, 0.0, 0.0, 0.0, 0.0, 0.0, 0.0, 0.0, 0.06955677285695273, 0.10556017032233166, 0.0, 0.0, 0.0, 0.0, 0.0, 0.0, 0.0, 0.0, 0.0, 0.07988332120543765, 0.0, 0.0, 0.0, 0.0, 0.0, 0.07742082730169302, 0.0, 0.0, 0.0, 0.0, 0.0, 0.0, 0.0, 0.0, 0.0, 0.0, 0.0, 0.0, 0.0, 0.0, 0.0, 0.0, 0.0, 0.0, 0.0, 0.0, 0.0, 0.0, 0.0, 0.08935988223651822, 0.06368303311962421, 0.0, 0.0, 0.0, 0.0, 0.0, 0.0, 0.0, 0.0, 0.08575706094276617, 0.10556017032233166, 0.07128882996115371, 0.0, 0.0, 0.0, 0.0, 0.0, 0.0, 0.0, 0.0, 0.0, 0.0, 0.0, 0.0, 0.0, 0.0, 0.0, 0.0, 0.0, 0.0, 0.0, 0.0, 0.0, 0.0, 0.0, 0.0, 0.0, 0.0, 0.0, 0.0, 0.0, 0.0, 0.0, 0.0, 0.0, 0.0, 0.0, 0.0, 0.0, 0.0, 0.0, 0.0, 0.0, 0.0, 0.0, 0.0, 0.0, 0.0, 0.0, 0.0, 0.0, 0.0, 0.0, 0.0, 0.0, 0.0, 0.0, 0.0, 0.0, 0.0, 0.0, 0.0, 0.0, 0.0, 0.0, 0.0, 0.0, 0.0, 0.0, 0.0, 0.0, 0.0988364432675988, 0.0, 0.0, 0.0, 0.0, 0.0, 0.0, 0.0, 0.0, 0.0, 0.0, 0.0, 0.0, 0.0, 0.0, 0.0988364432675988, 0.0, 0.044443133529685465, 0.0, 0.0, 0.0, 0.0, 0.0, 0.0, 0.0, 0.0, 0.0, 0.0, 0.0, 0.0, 0.0, 0.0, 0.0, 0.10556017032233166, 0.0, 0.0, 0.08935988223651822, 0.0, 0.0, 0.0, 0.0, 0.0, 0.0, 0.0, 0.0, 0.0, 0.0, 0.0, 0.0, 0.0751932306041296, 0.0, 0.0, 0.0, 0.0, 0.0, 0.0, 0.0, 0.0, 0.0, 0.0, 0.0, 0.0, 0.0, 0.0, 0.0, 0.0, 0.0, 0.0, 0.0, 0.0, 0.0, 0.0, 0.0, 0.0, 0.0, 0.0, 0.0, 0.0, 0.0, 0.0, 0.0, 0.0, 0.0988364432675988, 0.0, 0.0, 0.09362111538750645, 0.0, 0.0, 0.0, 0.0, 0.0, 0.0, 0.0, 0.0, 0.0, 0.0, 0.0, 0.0, 0.08935988223651822, 0.0, 0.0, 0.0, 0.0, 0.0, 0.0, 0.0, 0.0, 0.0, 0.0, 0.0, 0.048141156891046956, 0.0, 0.0, 0.0, 0.0, 0.0, 0.0, 0.0, 0.0, 0.0, 0.0, 0.0, 0.0, 0.0, 0.08935988223651822, 0.0, 0.0, 0.08935988223651822, 0.0, 0.0, 0.0, 0.0, 0.0, 0.08935988223651822, 0.0, 0.0, 0.0, 0.0, 0.0, 0.0, 0.0, 0.0, 0.0, 0.0, 0.0, 0.0, 0.0, 0.0, 0.0, 0.0, 0.0, 0.0, 0.08935988223651822, 0.09362111538750645, 0.0, 0.0, 0.0, 0.0, 0.0, 0.0, 0.0, 0.0, 0.0, 0.0, 0.0, 0.09362111538750645, 0.0, 0.0, 0.0, 0.0, 0.0, 0.0, 0.0, 0.0, 0.0, 0.0, 0.0, 0.0, 0.0, 0.0, 0.0, 0.0, 0.0, 0.0, 0.0, 0.0, 0.0, 0.0, 0.0, 0.0, 0.0, 0.0, 0.0, 0.0, 0.0, 0.0, 0.0, 0.0, 0.0, 0.0, 0.0, 0.0, 0.0, 0.0, 0.0, 0.0, 0.0, 0.0, 0.0, 0.0, 0.0, 0.0, 0.0, 0.09362111538750645, 0.0, 0.0, 0.0, 0.0988364432675988, 0.0, 0.0, 0.0, 0.0, 0.0, 0.0, 0.0, 0.0, 0.0, 0.0, 0.0, 0.0, 0.0, 0.0, 0.0, 0.0, 0.0, 0.0, 0.0, 0.0, 0.0, 0.06122053921587959, 0.0, 0.0, 0.0, 0.0, 0.0, 0.0, 0.0, 0.0, 0.05695930606489136, 0.06643586709597193, 0.0, 0.0, 0.0, 0.0988364432675988, 0.0, 0.08263615518178537, 0.0, 0.0, 0.06643586709597193, 0.0, 0.0, 0.0, 0.0, 0.0, 0.08263615518178537, 0.0, 0.0, 0.0, 0.0, 0.0, 0.0, 0.0, 0.0, 0.0, 0.0, 0.0, 0.0, 0.0, 0.0, 0.07315959415070479, 0.0, 0.0, 0.0, 0.0, 0.0, 0.0, 0.0, 0.0, 0.0, 0.0, 0.0, 0.0, 0.0, 0.0, 0.0, 0.0, 0.0, 0.0, 0.0, 0.0, 0.0, 0.0, 0.0, 0.0, 0.0, 0.0, 0.0, 0.0, 0.0, 0.0, 0.0, 0.0, 0.0, 0.0, 0.0, 0.0, 0.0, 0.0, 0.0, 0.0, 0.10556017032233166, 0.0, 0.0, 0.0, 0.0, 0.0, 0.0, 0.0, 0.0, 0.0, 0.0, 0.0, 0.0, 0.0, 0.0, 0.0, 0.0, 0.0, 0.0, 0.0, 0.0, 0.0, 0.0, 0.0, 0.0, 0.0, 0.0, 0.0, 0.0, 0.0, 0.0, 0.0, 0.0, 0.0, 0.0751932306041296, 0.0, 0.0, 0.0, 0.0, 0.0, 0.0, 0.0, 0.0, 0.0, 0.0, 0.0, 0.0, 0.0, 0.0, 0.0, 0.0, 0.0, 0.0, 0.0, 0.0, 0.0, 0.0, 0.0, 0.0, 0.0, 0.07988332120543765, 0.0, 0.0, 0.0, 0.0, 0.0, 0.0, 0.0, 0.0, 0.0, 0.0, 0.0, 0.0, 0.0, 0.0, 0.0, 0.0, 0.0, 0.0, 0.0, 0.0, 0.0, 0.0, 0.0, 0.0, 0.0, 0.0, 0.0, 0.0, 0.0, 0.04279265443250273, 0.0, 0.07988332120543765, 0.08263615518178537, 0.08575706094276617, 0.0, 0.0, 0.0, 0.0, 0.0, 0.0, 0.0751932306041296, 0.0, 0.0, 0.0, 0.0, 0.0, 0.0, 0.0, 0.0, 0.0, 0.0, 0.0, 0.0, 0.0, 0.0, 0.0, 0.0, 0.0, 0.0, 0.0, 0.0, 0.0, 0.0, 0.0, 0.0, 0.0, 0.0, 0.0, 0.07742082730169302, 0.0, 0.0, 0.0, 0.0, 0.0, 0.0, 0.0988364432675988, 0.0, 0.0, 0.0, 0.0, 0.0, 0.0, 0.0, 0.0, 0.0, 0.0, 0.0751932306041296, 0.0, 0.0, 0.0, 0.0, 0.0, 0.0, 0.0, 0.0, 0.0, 0.0, 0.0, 0.0, 0.0, 0.0, 0.0, 0.0, 0.0, 0.0, 0.0, 0.0, 0.06368303311962421, 0.0, 0.0, 0.0, 0.0, 0.0, 0.0, 0.0, 0.0, 0.0, 0.0, 0.0988364432675988, 0.0, 0.0, 0.0, 0.0, 0.08575706094276617, 0.0, 0.0, 0.0, 0.0, 0.0, 0.0, 0.0, 0.0, 0.0, 0.0, 0.0, 0.0, 0.0, 0.0, 0.0, 0.0, 0.0, 0.0, 0.0, 0.0, 0.0, 0.0, 0.0, 0.0, 0.0, 0.0, 0.0, 0.0, 0.0, 0.0, 0.0, 0.0, 0.0, 0.0, 0.0, 0.0, 0.0, 0.0, 0.0, 0.0, 0.0, 0.0, 0.0, 0.0, 0.0, 0.0, 0.0, 0.0, 0.0, 0.0, 0.0, 0.0, 0.0, 0.0, 0.0, 0.06955677285695273, 0.0, 0.0, 0.0, 0.0, 0.0, 0.0, 0.0, 0.0, 0.0, 0.0, 0.0, 0.0, 0.0, 0.0, 0.0, 0.0, 0.0, 0.0, 0.0, 0.0, 0.0, 0.0, 0.0, 0.0, 0.0, 0.0, 0.0, 0.0, 0.0, 0.0, 0.0, 0.0, 0.0, 0.0, 0.0, 0.0, 0.0, 0.0988364432675988, 0.0, 0.0, 0.0, 0.0, 0.0, 0.0, 0.10556017032233166, 0.0, 0.0, 0.040277102446306674, 0.0, 0.0, 0.0, 0.0, 0.0, 0.0, 0.0, 0.0, 0.0, 0.0, 0.0, 0.0, 0.0, 0.0, 0.0, 0.0, 0.0, 0.0, 0.0, 0.0, 0.0, 0.0, 0.0, 0.0, 0.0, 0.0, 0.0, 0.0, 0.0, 0.0, 0.0, 0.0, 0.0, 0.0, 0.0, 0.0, 0.0988364432675988, 0.0, 0.0, 0.08935988223651822, 0.0, 0.0, 0.0, 0.0, 0.0, 0.0, 0.0, 0.0, 0.0, 0.0, 0.0, 0.0, 0.0, 0.0, 0.0, 0.0, 0.0, 0.0, 0.0, 0.0, 0.0, 0.0, 0.0, 0.0, 0.0, 0.0, 0.0, 0.0, 0.0, 0.0, 0.0, 0.0, 0.0, 0.0, 0.0, 0.0, 0.0, 0.0, 0.0, 0.0, 0.0, 0.0, 0.0, 0.0, 0.0, 0.0, 0.0, 0.0, 0.0, 0.0, 0.0, 0.0, 0.0, 0.0, 0.0, 0.0, 0.0, 0.0, 0.0, 0.0, 0.0, 0.07988332120543765, 0.0, 0.0, 0.0, 0.0, 0.0, 0.0, 0.0, 0.10556017032233166, 0.0, 0.0, 0.0, 0.0, 0.0, 0.08935988223651822, 0.08575706094276617, 0.0, 0.0, 0.07742082730169302, 0.0, 0.0751932306041296, 0.0, 0.0, 0.0, 0.0, 0.0, 0.0, 0.0, 0.0, 0.0, 0.0, 0.0, 0.0, 0.0, 0.0, 0.0, 0.07128882996115371, 0.0, 0.0, 0.0, 0.0, 0.0, 0.0, 0.0, 0.0, 0.0, 0.0, 0.0, 0.0, 0.0, 0.0, 0.0, 0.0, 0.0, 0.0, 0.0, 0.0, 0.0, 0.0, 0.0, 0.05795401257707635, 0.0, 0.0, 0.0, 0.0, 0.0, 0.0, 0.0, 0.0, 0.0, 0.0, 0.0, 0.0, 0.0, 0.0, 0.0, 0.0, 0.0, 0.0, 0.0, 0.0, 0.0, 0.0, 0.0, 0.0, 0.0, 0.08575706094276617, 0.062419369953786476, 0.0, 0.0, 0.0, 0.0, 0.0, 0.0, 0.0, 0.0, 0.0988364432675988, 0.06368303311962421, 0.0, 0.0, 0.0, 0.0, 0.0, 0.0, 0.0, 0.0, 0.0, 0.0, 0.0, 0.0, 0.0, 0.0, 0.0, 0.0, 0.0, 0.0, 0.10556017032233166, 0.0, 0.0, 0.06368303311962421, 0.09362111538750645, 0.0, 0.0, 0.0, 0.0, 0.0, 0.0, 0.0, 0.0, 0.0, 0.08263615518178537, 0.0, 0.10556017032233166, 0.0, 0.0, 0.0, 0.0, 0.0, 0.0, 0.0, 0.0, 0.0, 0.0, 0.0, 0.0, 0.0, 0.0, 0.0, 0.0, 0.0, 0.0, 0.0, 0.0, 0.07988332120543765, 0.0988364432675988, 0.0, 0.0, 0.0, 0.0, 0.10556017032233166, 0.0, 0.0, 0.0, 0.0, 0.0, 0.0, 0.0, 0.0, 0.0, 0.0, 0.0, 0.0, 0.0, 0.0, 0.0, 0.0, 0.0, 0.0, 0.0, 0.0, 0.0, 0.0, 0.0, 0.0, 0.0, 0.0, 0.0, 0.0, 0.0, 0.0, 0.0, 0.0, 0.0, 0.0, 0.0, 0.0, 0.0, 0.0, 0.0, 0.0, 0.0, 0.0, 0.0, 0.0, 0.07742082730169302, 0.0, 0.0, 0.0, 0.0, 0.0, 0.0, 0.0, 0.0, 0.0, 0.0, 0.0, 0.0, 0.0, 0.0, 0.0, 0.0, 0.0, 0.0, 0.0, 0.0, 0.0, 0.0, 0.0, 0.0, 0.0, 0.0, 0.0, 0.0, 0.0, 0.0, 0.0, 0.0, 0.0, 0.0, 0.0, 0.0, 0.0, 0.0, 0.0, 0.0, 0.0, 0.0, 0.0, 0.0, 0.0, 0.0, 0.0, 0.0, 0.0, 0.0, 0.0, 0.0, 0.0, 0.0, 0.0, 0.0, 0.0, 0.0, 0.0, 0.0, 0.0, 0.0, 0.0, 0.0, 0.0, 0.0, 0.0, 0.0, 0.0, 0.0, 0.08935988223651822, 0.0, 0.06368303311962421, 0.0, 0.0, 0.0, 0.0, 0.0, 0.0, 0.0, 0.0, 0.0, 0.0, 0.0, 0.0, 0.0, 0.0, 0.0, 0.0, 0.0, 0.0, 0.0, 0.0, 0.0, 0.0, 0.0, 0.0, 0.0, 0.0, 0.0, 0.062419369953786476, 0.0, 0.0, 0.0, 0.0, 0.0, 0.0, 0.0, 0.08575706094276617, 0.0, 0.0, 0.0, 0.0, 0.0, 0.0, 0.0, 0.0, 0.0, 0.0, 0.0, 0.0, 0.0, 0.0, 0.0, 0.0, 0.0, 0.0, 0.0, 0.0, 0.0, 0.0, 0.0, 0.0, 0.06955677285695273, 0.0, 0.0, 0.0, 0.0, 0.0, 0.0, 0.10556017032233166, 0.0, 0.0, 0.0, 0.0, 0.0, 0.0, 0.0, 0.0, 0.0, 0.0, 0.0, 0.062419369953786476, 0.0, 0.0, 0.0, 0.0, 0.08935988223651822, 0.0, 0.0, 0.0988364432675988, 0.0, 0.0, 0.0, 0.0, 0.0, 0.0, 0.0, 0.0, 0.048141156891046956, 0.0, 0.0, 0.0, 0.0, 0.07988332120543765, 0.0, 0.0, 0.0, 0.0, 0.0, 0.0, 0.0, 0.0, 0.0, 0.0, 0.0, 0.04881865578509925, 0.0, 0.0, 0.0, 0.0, 0.0, 0.0, 0.0, 0.0, 0.0, 0.0]\n",
      "list 1: [0.0, 0.0, 0.0, 0.0, 0.0, 0.0, 0.0, 0.0, 0.0, 0.0, 0.0, 0.0, 0.0, 0.24500749714418496, 0.0, 0.0, 0.0, 0.0, 0.0, 0.0, 0.0, 0.0, 0.0, 0.0, 0.0, 0.0, 0.0, 0.0, 0.0, 0.0, 0.0, 0.0, 0.0, 0.0, 0.0, 0.0, 0.0, 0.0, 0.0, 0.0, 0.0, 0.0, 0.0, 0.0, 0.0, 0.0, 0.0, 0.0, 0.0, 0.0, 0.0, 0.0, 0.0, 0.0, 0.0, 0.0, 0.0, 0.0, 0.0, 0.0, 0.0, 0.0, 0.0, 0.0, 0.25280035455887306, 0.0, 0.0, 0.0, 0.0, 0.0, 0.0, 0.0, 0.0, 0.0, 0.0, 0.0, 0.0, 0.0, 0.0, 0.0, 0.0, 0.0, 0.0, 0.0, 0.0, 0.0, 0.0, 0.0, 0.0, 0.0, 0.0, 0.0, 0.0, 0.0, 0.0, 0.0, 0.0, 0.0, 0.0, 0.0, 0.0, 0.0, 0.0, 0.0, 0.0, 0.0, 0.0, 0.0, 0.0, 0.0, 0.0, 0.0, 0.0, 0.0, 0.0, 0.0, 0.0, 0.0, 0.0, 0.0, 0.0, 0.0, 0.0, 0.0, 0.0, 0.0, 0.0, 0.0, 0.0, 0.0, 0.0, 0.0, 0.0, 0.0, 0.0, 0.0, 0.0, 0.0, 0.0, 0.0, 0.0, 0.0, 0.0, 0.0, 0.0, 0.0, 0.0, 0.0, 0.0, 0.0, 0.0, 0.0, 0.0, 0.0, 0.0, 0.0, 0.0, 0.0, 0.0, 0.0, 0.0, 0.0, 0.0, 0.0, 0.0, 0.0, 0.0, 0.0, 0.0, 0.0, 0.0, 0.2713885087038977, 0.0, 0.0, 0.0, 0.0, 0.0, 0.0, 0.0, 0.0, 0.0, 0.0, 0.0, 0.0, 0.0, 0.0, 0.0, 0.0, 0.0, 0.0, 0.0, 0.0, 0.0, 0.0, 0.0, 0.0, 0.0, 0.0, 0.0, 0.0, 0.0, 0.0, 0.0, 0.0, 0.0, 0.0, 0.0, 0.0, 0.0, 0.0, 0.0, 0.0, 0.0, 0.0, 0.0, 0.0, 0.0, 0.0, 0.0, 0.0, 0.0, 0.0, 0.0, 0.0, 0.0, 0.0, 0.0, 0.0, 0.0, 0.0, 0.0, 0.0, 0.0, 0.0, 0.0, 0.0, 0.0, 0.0, 0.0, 0.0, 0.0, 0.0, 0.0, 0.0, 0.0, 0.0, 0.0, 0.0, 0.0, 0.0, 0.0, 0.0, 0.0, 0.0, 0.0, 0.0, 0.0, 0.0, 0.0, 0.0, 0.0, 0.0, 0.0, 0.0, 0.0, 0.0, 0.0, 0.0, 0.0, 0.0, 0.0, 0.0, 0.0, 0.0, 0.0, 0.0, 0.0, 0.0, 0.0, 0.0, 0.0, 0.0, 0.0, 0.0, 0.0, 0.0, 0.0, 0.0, 0.0, 0.0, 0.0, 0.0, 0.0, 0.0, 0.0, 0.0, 0.0, 0.0, 0.0, 0.0, 0.0, 0.0, 0.0, 0.0, 0.0, 0.0, 0.0, 0.0, 0.0, 0.0, 0.0, 0.0, 0.0, 0.0, 0.0, 0.0, 0.0, 0.0, 0.0, 0.0, 0.0, 0.0, 0.0, 0.0, 0.0, 0.0, 0.0, 0.0, 0.0, 0.0, 0.0, 0.0, 0.0, 0.0, 0.0, 0.0, 0.0, 0.0, 0.0, 0.0, 0.0, 0.0, 0.0, 0.0, 0.0, 0.0, 0.0, 0.0, 0.0, 0.0, 0.0, 0.0, 0.0, 0.0, 0.0, 0.0, 0.0, 0.0, 0.0, 0.0, 0.0, 0.0, 0.0, 0.0, 0.0, 0.0, 0.0, 0.0, 0.0, 0.0, 0.0, 0.0, 0.0, 0.0, 0.0, 0.0, 0.0, 0.0, 0.0, 0.0, 0.0, 0.0, 0.0, 0.0, 0.0, 0.0, 0.0, 0.0, 0.0, 0.0, 0.0, 0.0, 0.0, 0.0, 0.0, 0.0, 0.0, 0.0, 0.0, 0.0, 0.0, 0.0, 0.0, 0.0, 0.0, 0.0, 0.0, 0.0, 0.0, 0.0, 0.0, 0.0, 0.0, 0.0, 0.0, 0.0, 0.0, 0.0, 0.0, 0.0, 0.0, 0.0, 0.0, 0.0, 0.0, 0.0, 0.0, 0.0, 0.0, 0.0, 0.0, 0.0, 0.0, 0.0, 0.0, 0.0, 0.0, 0.0, 0.0, 0.0, 0.0, 0.0, 0.0, 0.0, 0.0, 0.0, 0.0, 0.0, 0.0, 0.0, 0.0, 0.0, 0.0, 0.0, 0.0, 0.0, 0.0, 0.0, 0.0, 0.0, 0.0, 0.0, 0.0, 0.0, 0.0, 0.0, 0.0, 0.0, 0.0, 0.0, 0.0, 0.0, 0.0, 0.0, 0.0, 0.0, 0.0, 0.0, 0.0, 0.0, 0.0, 0.0, 0.0, 0.0, 0.0, 0.0, 0.0, 0.0, 0.0, 0.0, 0.0, 0.0, 0.0, 0.0, 0.0, 0.0, 0.0, 0.0, 0.0, 0.0, 0.0, 0.0, 0.0, 0.0, 0.0, 0.0, 0.0, 0.0, 0.0, 0.0, 0.0, 0.0, 0.0, 0.0, 0.0, 0.0, 0.0, 0.0, 0.0, 0.0, 0.0, 0.0, 0.0, 0.0, 0.0, 0.0, 0.0, 0.0, 0.0, 0.0, 0.0, 0.0, 0.0, 0.0, 0.0, 0.0, 0.0, 0.0, 0.0, 0.0, 0.0, 0.0, 0.0, 0.0, 0.0, 0.0, 0.0, 0.0, 0.0, 0.0, 0.0, 0.0, 0.0, 0.0, 0.0, 0.0, 0.0, 0.0, 0.0, 0.0, 0.0, 0.0, 0.0, 0.0, 0.0, 0.0, 0.0, 0.0, 0.0, 0.0, 0.0, 0.0, 0.0, 0.0, 0.0, 0.0, 0.0, 0.0, 0.0, 0.0, 0.0, 0.0, 0.0, 0.0, 0.0, 0.0, 0.0, 0.0, 0.0, 0.0, 0.0, 0.0, 0.0, 0.0, 0.0, 0.0, 0.0, 0.2827900689636479, 0.0, 0.0, 0.0, 0.0, 0.0, 0.0, 0.25280035455887306, 0.0, 0.0, 0.0, 0.0, 0.0, 0.0, 0.0, 0.0, 0.0, 0.0, 0.0, 0.0, 0.0, 0.0, 0.0, 0.0, 0.0, 0.0, 0.0, 0.0, 0.0, 0.0, 0.0, 0.0, 0.0, 0.0, 0.0, 0.0, 0.0, 0.0, 0.0, 0.0, 0.33405782436301584, 0.0, 0.0, 0.0, 0.0, 0.0, 0.0, 0.0, 0.0, 0.0, 0.0, 0.0, 0.0, 0.0, 0.0, 0.0, 0.0, 0.0, 0.0, 0.0, 0.0, 0.0, 0.0, 0.0, 0.0, 0.0, 0.0, 0.0, 0.0, 0.0, 0.0, 0.0, 0.0, 0.0, 0.0, 0.0, 0.0, 0.0, 0.0, 0.0, 0.0, 0.0, 0.0, 0.0, 0.0, 0.0, 0.0, 0.0, 0.0, 0.0, 0.0, 0.0, 0.0, 0.0, 0.0, 0.0, 0.0, 0.0, 0.0, 0.0, 0.0, 0.0, 0.0, 0.0, 0.0, 0.0, 0.0, 0.0, 0.0, 0.0, 0.0, 0.0, 0.0, 0.0, 0.0, 0.0, 0.0, 0.0, 0.0, 0.0, 0.0, 0.0, 0.0, 0.0, 0.0, 0.0, 0.0, 0.0, 0.0, 0.0, 0.0, 0.0, 0.0, 0.0, 0.0, 0.0, 0.0, 0.0, 0.0, 0.0, 0.0, 0.0, 0.0, 0.0, 0.0, 0.0, 0.0, 0.0, 0.0, 0.0, 0.0, 0.0, 0.0, 0.0, 0.0, 0.0, 0.0, 0.0, 0.0, 0.0, 0.0, 0.0, 0.0, 0.0, 0.0, 0.0, 0.0, 0.0, 0.0, 0.0, 0.0, 0.0, 0.0, 0.0, 0.0, 0.0, 0.0, 0.0, 0.0, 0.0, 0.0, 0.0, 0.0, 0.0, 0.0, 0.0, 0.0, 0.0, 0.0, 0.0, 0.0, 0.0, 0.0, 0.0, 0.0, 0.0, 0.0, 0.0, 0.0, 0.0, 0.0, 0.0, 0.0, 0.0, 0.0, 0.0, 0.0, 0.0, 0.0, 0.0, 0.0, 0.0, 0.2102442725696868, 0.0, 0.0, 0.0, 0.0, 0.0, 0.0, 0.0, 0.0, 0.0, 0.0, 0.0, 0.0, 0.24500749714418496, 0.0, 0.0, 0.0, 0.0, 0.0, 0.0, 0.0, 0.0, 0.0, 0.0, 0.0, 0.0, 0.0, 0.0, 0.0, 0.0, 0.0, 0.0, 0.0, 0.0, 0.0, 0.0, 0.0, 0.0, 0.0, 0.0, 0.0, 0.0, 0.0, 0.0, 0.0, 0.0, 0.0, 0.0, 0.0, 0.0, 0.0, 0.0, 0.0, 0.0, 0.0, 0.0, 0.0, 0.0, 0.0, 0.0, 0.0, 0.0, 0.0, 0.0, 0.0, 0.0, 0.0, 0.0, 0.0, 0.0, 0.0, 0.0, 0.0, 0.0, 0.0, 0.0, 0.0, 0.0, 0.0, 0.0, 0.0, 0.0, 0.0, 0.0, 0.0, 0.0, 0.0, 0.0, 0.0, 0.0, 0.0, 0.0, 0.0, 0.0, 0.0, 0.0, 0.0, 0.0, 0.0, 0.0, 0.0, 0.0, 0.0, 0.0, 0.0, 0.0, 0.0, 0.0, 0.0, 0.0, 0.0, 0.0, 0.0, 0.0, 0.0, 0.0, 0.31277978336842277, 0.0, 0.0, 0.0, 0.0, 0.0, 0.0, 0.0, 0.0, 0.0, 0.0, 0.0, 0.0, 0.0, 0.0, 0.0, 0.0, 0.0, 0.0, 0.0, 0.0, 0.0, 0.0, 0.0, 0.0, 0.0, 0.0, 0.0, 0.0, 0.0, 0.0, 0.0, 0.0, 0.0, 0.0, 0.0, 0.0, 0.0, 0.0, 0.0, 0.0, 0.0, 0.0, 0.0, 0.0, 0.0, 0.0, 0.0, 0.0, 0.0, 0.0, 0.0, 0.0, 0.0, 0.0, 0.0, 0.0, 0.0, 0.0, 0.0, 0.0, 0.23795800012202212, 0.0, 0.0, 0.0, 0.0, 0.0, 0.0, 0.0, 0.0, 0.0, 0.0, 0.0, 0.0, 0.0, 0.0, 0.0, 0.0, 0.0, 0.0, 0.0, 0.0, 0.0, 0.0, 0.0, 0.0, 0.0, 0.0, 0.0, 0.0, 0.0, 0.0, 0.0, 0.0, 0.0, 0.0, 0.0, 0.0, 0.0, 0.0, 0.0, 0.0, 0.0, 0.0, 0.0, 0.0, 0.0, 0.0, 0.0, 0.0, 0.0, 0.0, 0.0, 0.0, 0.0, 0.0, 0.0, 0.0, 0.0, 0.0, 0.0, 0.0, 0.0, 0.0, 0.0, 0.0, 0.0, 0.0, 0.0, 0.0, 0.0, 0.0, 0.0, 0.0, 0.0, 0.0, 0.0, 0.0, 0.0, 0.0, 0.0, 0.0, 0.0, 0.0, 0.0, 0.0, 0.0, 0.0, 0.0, 0.0, 0.0, 0.0, 0.0, 0.0, 0.0, 0.0, 0.0, 0.0, 0.0, 0.0, 0.0, 0.0, 0.0, 0.0, 0.0, 0.0, 0.0, 0.0, 0.0, 0.0, 0.0, 0.0, 0.0, 0.0, 0.0, 0.0, 0.0, 0.0, 0.0, 0.0, 0.0, 0.0, 0.0, 0.0, 0.0, 0.0, 0.0, 0.0, 0.0, 0.0, 0.0, 0.0, 0.0, 0.0, 0.0, 0.0, 0.0, 0.0, 0.0, 0.0, 0.0, 0.0, 0.0, 0.0, 0.0, 0.0, 0.0, 0.0, 0.0, 0.0, 0.0, 0.0, 0.0, 0.0, 0.0, 0.0, 0.0, 0.0, 0.0, 0.0, 0.0, 0.0, 0.0, 0.0, 0.0, 0.0, 0.0, 0.0, 0.0, 0.13542248932328618, 0.0, 0.0, 0.0, 0.0, 0.0, 0.0, 0.0, 0.0, 0.0, 0.0, 0.0, 0.0, 0.0, 0.0, 0.0, 0.0, 0.0, 0.0, 0.0, 0.0, 0.0, 0.0, 0.0, 0.0, 0.0, 0.0, 0.0, 0.0, 0.0, 0.0, 0.0, 0.0, 0.0, 0.0, 0.0, 0.0, 0.0, 0.0, 0.0, 0.0, 0.0, 0.0, 0.0, 0.0, 0.0, 0.0, 0.0, 0.0, 0.0, 0.0, 0.0, 0.0, 0.0, 0.0, 0.0, 0.0, 0.0, 0.0, 0.0, 0.0, 0.0, 0.0, 0.0, 0.0, 0.0, 0.0, 0.0, 0.0, 0.0, 0.0, 0.0, 0.0, 0.0, 0.0, 0.0, 0.0, 0.0, 0.0, 0.0, 0.0, 0.0, 0.0, 0.0, 0.0, 0.0, 0.0, 0.0, 0.0, 0.0, 0.0, 0.0, 0.0, 0.0, 0.0, 0.0, 0.0, 0.0, 0.0, 0.0, 0.0, 0.0, 0.0, 0.0, 0.0, 0.0, 0.0, 0.0, 0.0, 0.0, 0.0, 0.0, 0.0, 0.0, 0.0, 0.0, 0.0, 0.0, 0.0, 0.0, 0.0, 0.0, 0.0, 0.0, 0.0, 0.0, 0.0, 0.0, 0.0, 0.0, 0.0, 0.0, 0.0, 0.0, 0.0, 0.0, 0.0, 0.0, 0.0, 0.26151202796905476, 0.0, 0.0, 0.0, 0.0, 0.0, 0.0, 0.0, 0.0, 0.0, 0.0, 0.0, 0.0, 0.0, 0.0, 0.0, 0.0, 0.0, 0.0, 0.0, 0.0, 0.0, 0.0, 0.0, 0.0, 0.0, 0.0, 0.0, 0.0, 0.0, 0.0, 0.0, 0.0, 0.0, 0.0, 0.0, 0.2315223135642799, 0.0, 0.0, 0.0, 0.0, 0.0, 0.0, 0.0, 0.0, 0.0, 0.0, 0.0, 0.0, 0.0, 0.0, 0.0, 0.0, 0.0, 0.0, 0.0, 0.0, 0.0, 0.0, 0.12746172324063673, 0.0, 0.0, 0.0, 0.0, 0.0, 0.0, 0.0, 0.0, 0.0, 0.0, 0.0, 0.0, 0.0, 0.0, 0.0, 0.0, 0.0, 0.0, 0.0, 0.0, 0.0, 0.0, 0.0, 0.0, 0.0, 0.0, 0.0, 0.0, 0.0, 0.0, 0.0, 0.0, 0.0, 0.0, 0.0, 0.0, 0.0, 0.0, 0.0, 0.0, 0.0, 0.0, 0.0, 0.0, 0.0, 0.0, 0.0, 0.0, 0.0, 0.0, 0.0, 0.0, 0.0, 0.0, 0.0, 0.0, 0.0, 0.0, 0.0, 0.0, 0.0, 0.0, 0.0, 0.0, 0.0, 0.0, 0.0, 0.0, 0.0, 0.0, 0.0, 0.0, 0.0, 0.0, 0.0, 0.0, 0.0, 0.0, 0.0, 0.0, 0.0, 0.0, 0.0, 0.0, 0.0, 0.0, 0.0, 0.0, 0.0, 0.0, 0.0, 0.0, 0.0, 0.0, 0.0, 0.0, 0.0, 0.0, 0.0, 0.0, 0.0, 0.0, 0.0, 0.0, 0.0, 0.0, 0.0, 0.0, 0.0, 0.0, 0.0, 0.0, 0.0, 0.0, 0.0, 0.0, 0.0, 0.0, 0.0, 0.0, 0.0, 0.0, 0.0, 0.0, 0.0, 0.0, 0.0, 0.0, 0.0, 0.0, 0.0, 0.0, 0.0, 0.0, 0.0, 0.0, 0.0, 0.0, 0.0, 0.0, 0.0, 0.0, 0.0, 0.0, 0.0, 0.0, 0.0, 0.0, 0.0, 0.0, 0.0, 0.0, 0.0, 0.0, 0.0, 0.0, 0.0, 0.0, 0.0, 0.0, 0.0, 0.0, 0.0, 0.0, 0.0, 0.0, 0.0, 0.0, 0.0, 0.0, 0.0, 0.0, 0.0, 0.0, 0.0, 0.0, 0.0, 0.0, 0.0, 0.0, 0.0, 0.0, 0.0, 0.0, 0.0, 0.0, 0.0, 0.0, 0.0, 0.0, 0.0, 0.0, 0.0, 0.0, 0.0, 0.0, 0.0, 0.0, 0.0, 0.0, 0.0, 0.0, 0.0, 0.0, 0.0, 0.0, 0.0, 0.0, 0.0, 0.0, 0.0, 0.0, 0.0, 0.0, 0.0, 0.0, 0.0, 0.0, 0.0, 0.0, 0.0, 0.0, 0.0, 0.0, 0.0, 0.0, 0.0, 0.0, 0.0, 0.0, 0.0, 0.0, 0.2102442725696868, 0.0, 0.0, 0.0, 0.0, 0.0, 0.0, 0.0, 0.0, 0.0, 0.0, 0.0, 0.0, 0.0, 0.0, 0.0, 0.0, 0.0, 0.0, 0.0, 0.0, 0.0, 0.0, 0.0, 0.0, 0.0, 0.0, 0.0, 0.0, 0.0, 0.0, 0.0, 0.0, 0.0, 0.0, 0.0, 0.0, 0.0, 0.0, 0.0, 0.0, 0.0, 0.0, 0.0, 0.0, 0.0, 0.0, 0.0, 0.0, 0.0, 0.0, 0.0, 0.0, 0.0, 0.0, 0.0, 0.0, 0.0, 0.0, 0.0, 0.0, 0.0, 0.0, 0.0, 0.0, 0.0, 0.0, 0.0, 0.0, 0.0, 0.0, 0.0, 0.0, 0.0, 0.0, 0.0, 0.0, 0.0, 0.0, 0.0, 0.0, 0.0, 0.0, 0.0, 0.0, 0.0, 0.0, 0.0, 0.0, 0.0, 0.0, 0.0, 0.0, 0.0, 0.0, 0.0, 0.0, 0.0, 0.0, 0.0, 0.0, 0.0, 0.0, 0.0, 0.0, 0.0, 0.0, 0.0, 0.0, 0.0, 0.0, 0.0, 0.0, 0.0, 0.0, 0.0, 0.0, 0.0, 0.0, 0.0, 0.0, 0.0, 0.0, 0.0, 0.0, 0.0, 0.0, 0.0, 0.0, 0.0, 0.0, 0.0, 0.0, 0.22012075330452974, 0.0, 0.0, 0.0, 0.0, 0.0, 0.0, 0.0, 0.0, 0.0, 0.0, 0.0, 0.0, 0.0, 0.0, 0.0, 0.0, 0.0, 0.0, 0.0, 0.0, 0.0, 0.0, 0.0, 0.0, 0.0, 0.0, 0.0, 0.0, 0.0, 0.0, 0.0, 0.0, 0.0, 0.0, 0.0, 0.0, 0.0, 0.0, 0.0, 0.0, 0.19753358545368754, 0.0, 0.0, 0.0, 0.0, 0.0, 0.0, 0.0, 0.0, 0.0, 0.0, 0.0, 0.0, 0.0, 0.0, 0.0, 0.0, 0.0, 0.0, 0.0, 0.0, 0.0, 0.0, 0.0, 0.0, 0.0, 0.0, 0.0, 0.0, 0.0, 0.0, 0.0, 0.0, 0.0, 0.0, 0.0, 0.0, 0.0, 0.0, 0.0, 0.0, 0.0, 0.0, 0.0, 0.0, 0.0, 0.0, 0.0, 0.0, 0.0, 0.0, 0.0, 0.0, 0.0, 0.0, 0.0, 0.0, 0.0, 0.0, 0.0, 0.0, 0.0, 0.0, 0.0, 0.0, 0.0, 0.0, 0.0, 0.0, 0.0, 0.0, 0.0, 0.0, 0.0, 0.0, 0.0, 0.0, 0.0, 0.0, 0.0, 0.0, 0.0, 0.0, 0.0, 0.0, 0.0, 0.0, 0.0, 0.0, 0.0, 0.0, 0.0, 0.0, 0.0, 0.0, 0.0, 0.0]\n",
      "1856\n"
     ]
    }
   ],
   "source": [
    "tfidf_list = matrix_to_array(tfidf_matrix)\n",
    "\n",
    "\n",
    "\n",
    "#print tfidf_list\n",
    "\n",
    "\n",
    "print 'tfidf list: ',len(tfidf_list)\n",
    "\n",
    "v0 = tfidf_list[0]\n",
    "\n",
    "print 'type v0: ', type(v0)\n",
    "\n",
    "print 'list 0:',v0\n",
    "\n",
    "\n",
    "print 'list 1:',tfidf_list[1]\n",
    "print len(tfidf_list[1])\n"
   ]
  },
  {
   "cell_type": "code",
   "execution_count": null,
   "metadata": {
    "collapsed": true
   },
   "outputs": [],
   "source": []
  }
 ],
 "metadata": {
  "kernelspec": {
   "display_name": "Python 2",
   "language": "python",
   "name": "python2"
  },
  "language_info": {
   "codemirror_mode": {
    "name": "ipython",
    "version": 2
   },
   "file_extension": ".py",
   "mimetype": "text/x-python",
   "name": "python",
   "nbconvert_exporter": "python",
   "pygments_lexer": "ipython2",
   "version": "2.7.6"
  }
 },
 "nbformat": 4,
 "nbformat_minor": 0
}
