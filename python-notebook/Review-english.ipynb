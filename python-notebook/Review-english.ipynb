{
 "cells": [
  {
   "cell_type": "code",
   "execution_count": 1,
   "metadata": {
    "collapsed": true
   },
   "outputs": [],
   "source": [
    "%matplotlib inline\n",
    "import sys\n",
    "import numpy as np\n",
    "import pandas as pd\n",
    "import matplotlib.pyplot as plt\n",
    "import nltk\n",
    "from sklearn.cross_validation import cross_val_score"
   ]
  },
  {
   "cell_type": "code",
   "execution_count": 2,
   "metadata": {
    "collapsed": false
   },
   "outputs": [
    {
     "name": "stdout",
     "output_type": "stream",
     "text": [
      "datas.size:  100\n",
      "['A1004AX2J2HXGL', 'B00003CWPL', 'December 2, 2003', '111', '125', '5.0', '\"But what the hell do they know, I said?\"', ' If you\\'re reading this, then you\\'ve seen this movie or are at least curious what all the hype is about?    The late Stanley Kubrick, the only major filmmaker Lynch has cited as a direct cinematic influence, believed that ERASERHEAD was one of the most perfect \"cinematic experiences\" created to date.  This movie has enjoyed success on the midnight movie circuit for years, particularly in NYC where it ran almost every night for something like five years straight. I\\'ve seen it on big and little screens in three different states.  Insofar as interpretations are concerned, I\\'ve long since tossed all that out the window.  In terms of rational comprehension, ERASERHEAD is the fabled big fish that remains brilliantly elusive of any attempts to capture it.     This movie gets better, and more humorous, every time I watch it: in my opinion - ERASERHEAD is the cinematic experience that comes the closest to capturing \"dream logic\", next to the equally brilliant WAKING LIFE.  If you ever get the chance, watch ERASERHEAD in a movie theater with a great sound system - you will understand why Stanley Kubrick was moved enough to make his statement.  It\\'s like experiencing someone else\\'s dream - the ultimate act of voyeurism?  As if I was granted audience to a demonstration of delicate brain surgery, and catching glimpses of the patient\\'s face throughout the operation (particularly the opening scene).  It creates such a visceral landscape with its dark, peculiar selections of image and sound, that it seems to be constantly reminding you that the \"soul\" is helplessly sloshing around somewhere inside an organic bag of blood, bone, hair follicles, industrial shrapnel, dirt piles and antique radiators; a terrifying and beautiful delineation of a living creature suddenly made aware of its own being (birth imagery abounding).  It is a perfect symphony of sound and image, amazing work for a first time feature film director!  I\\'ve seen this movie placed in the HORROR section at local video stores; it\\'s better suited for the COMEDY section, I fear.  The movie was created on the AFI campus in California; production beginning his last year there, and continuing on for several more years in secret.  Not for everyone, but certainly worth a peek.    I own a copy of ERASERHEAD on DVD, finally.  It is available at David Lynch\\'s website for forty-five bucks plus shipping and handling.  Remastered sound and image, includes a few extras - the standout is a \"stylized\" interview with Lynch about the making of the film, the characters involved and anecdotes.    BTW - where is WILD AT HEART and LOST HIGHWAY for our DVD pleasure?     \\n', 0.89]\n"
     ]
    }
   ],
   "source": [
    "file_path = '/data/opinion_spam/real/reviewsNew.txt-utf8'\n",
    "datas = []\n",
    "MIN_FD = 100\n",
    "raw_file = open(file_path)\n",
    "debug = False\n",
    "debug_size = 100\n",
    "_debug_count = 0\n",
    "for line in raw_file:    \n",
    "    try:\n",
    "        line = line.decode('gbk')\n",
    "    except:\n",
    "        continue\n",
    "    #print 'gbk', line\n",
    "    line = line.encode('utf-8')\n",
    "    #print 'utf8', line\n",
    "    item = line.split('\\t')\n",
    "    if len(item) == 8:\n",
    "        hfd = float(item[3])\n",
    "        fd = float(item[4])\n",
    "        ratings = float(item[5])\n",
    "        if fd > MIN_FD:\n",
    "            hfdfd = round(hfd/fd, 2)\n",
    "            #whole_filted_body += item[7]\n",
    "            item.append(hfdfd)\n",
    "            datas.append(item)\n",
    "            if debug == True:\n",
    "                _debug_count += 1\n",
    "                if _debug_count >= debug_size:\n",
    "                    break\n",
    "raw_file.close()\n",
    "print 'datas.size: ', len(datas)\n",
    "print datas[0]"
   ]
  },
  {
   "cell_type": "code",
   "execution_count": 132,
   "metadata": {
    "collapsed": false
   },
   "outputs": [
    {
     "data": {
      "text/html": [
       "<div>\n",
       "<table border=\"1\" class=\"dataframe\">\n",
       "  <thead>\n",
       "    <tr style=\"text-align: right;\">\n",
       "      <th></th>\n",
       "      <th>rid</th>\n",
       "      <th>pid</th>\n",
       "      <th>date</th>\n",
       "      <th>hfd</th>\n",
       "      <th>fd</th>\n",
       "      <th>rating</th>\n",
       "      <th>title</th>\n",
       "      <th>body</th>\n",
       "      <th>hfdfd</th>\n",
       "    </tr>\n",
       "  </thead>\n",
       "  <tbody>\n",
       "    <tr>\n",
       "      <th>0</th>\n",
       "      <td>A1004AX2J2HXGL</td>\n",
       "      <td>B00003CWPL</td>\n",
       "      <td>December 2, 2003</td>\n",
       "      <td>111</td>\n",
       "      <td>125</td>\n",
       "      <td>5</td>\n",
       "      <td>\"But what the hell do they know, I said?\"</td>\n",
       "      <td>If you're reading this, then you've seen this...</td>\n",
       "      <td>0.89</td>\n",
       "    </tr>\n",
       "    <tr>\n",
       "      <th>1</th>\n",
       "      <td>A103PHKSEPT10R</td>\n",
       "      <td>0939484463</td>\n",
       "      <td>July 5, 2000</td>\n",
       "      <td>69</td>\n",
       "      <td>116</td>\n",
       "      <td>5</td>\n",
       "      <td>Credible, Interesting, &amp; Devasting</td>\n",
       "      <td>I've read Prof Butz's book twice and an still...</td>\n",
       "      <td>0.59</td>\n",
       "    </tr>\n",
       "    <tr>\n",
       "      <th>2</th>\n",
       "      <td>A103U0Q3IKSXHE</td>\n",
       "      <td>0875845851</td>\n",
       "      <td>January 29, 2000</td>\n",
       "      <td>111</td>\n",
       "      <td>115</td>\n",
       "      <td>4</td>\n",
       "      <td>Identifying the horns of the dilemma.</td>\n",
       "      <td>Prior to reading this book, I chalked up the ...</td>\n",
       "      <td>0.97</td>\n",
       "    </tr>\n",
       "    <tr>\n",
       "      <th>3</th>\n",
       "      <td>A105YVLAZNYQUU</td>\n",
       "      <td>B000634DCW</td>\n",
       "      <td>June 21, 2005</td>\n",
       "      <td>6</td>\n",
       "      <td>112</td>\n",
       "      <td>1</td>\n",
       "      <td>UGGHHH</td>\n",
       "      <td>Craptacular and boring. The cinematography an...</td>\n",
       "      <td>0.05</td>\n",
       "    </tr>\n",
       "    <tr>\n",
       "      <th>4</th>\n",
       "      <td>A1075MZNVRMSEO</td>\n",
       "      <td>1563249367</td>\n",
       "      <td>April 2, 2002</td>\n",
       "      <td>190</td>\n",
       "      <td>190</td>\n",
       "      <td>5</td>\n",
       "      <td>A historical portrait &amp; revelation- un chin de...</td>\n",
       "      <td>This book is a fascinating journey through th...</td>\n",
       "      <td>1.00</td>\n",
       "    </tr>\n",
       "  </tbody>\n",
       "</table>\n",
       "</div>"
      ],
      "text/plain": [
       "              rid         pid              date  hfd   fd  rating  \\\n",
       "0  A1004AX2J2HXGL  B00003CWPL  December 2, 2003  111  125       5   \n",
       "1  A103PHKSEPT10R  0939484463      July 5, 2000   69  116       5   \n",
       "2  A103U0Q3IKSXHE  0875845851  January 29, 2000  111  115       4   \n",
       "3  A105YVLAZNYQUU  B000634DCW     June 21, 2005    6  112       1   \n",
       "4  A1075MZNVRMSEO  1563249367     April 2, 2002  190  190       5   \n",
       "\n",
       "                                               title  \\\n",
       "0          \"But what the hell do they know, I said?\"   \n",
       "1                 Credible, Interesting, & Devasting   \n",
       "2              Identifying the horns of the dilemma.   \n",
       "3                                             UGGHHH   \n",
       "4  A historical portrait & revelation- un chin de...   \n",
       "\n",
       "                                                body  hfdfd  \n",
       "0   If you're reading this, then you've seen this...   0.89  \n",
       "1   I've read Prof Butz's book twice and an still...   0.59  \n",
       "2   Prior to reading this book, I chalked up the ...   0.97  \n",
       "3   Craptacular and boring. The cinematography an...   0.05  \n",
       "4   This book is a fascinating journey through th...   1.00  "
      ]
     },
     "execution_count": 132,
     "metadata": {},
     "output_type": "execute_result"
    }
   ],
   "source": [
    "#set column names\n",
    "column_names = ['rid', 'pid', 'date', 'hfd', 'fd', 'rating', 'title', 'body', 'hfdfd']\n",
    "df = pd.DataFrame(datas)\n",
    "df.columns = column_names\n",
    "\n",
    "#transfer the type of column\n",
    "df[['hfd', 'fd','rating']] = df[['hfd', 'fd', 'rating']].astype(float)\n",
    "\n",
    "df.head()\n"
   ]
  },
  {
   "cell_type": "code",
   "execution_count": 5,
   "metadata": {
    "collapsed": false
   },
   "outputs": [
    {
     "data": {
      "text/html": [
       "<div>\n",
       "<table border=\"1\" class=\"dataframe\">\n",
       "  <thead>\n",
       "    <tr style=\"text-align: right;\">\n",
       "      <th></th>\n",
       "      <th>hfd</th>\n",
       "      <th>fd</th>\n",
       "      <th>rating</th>\n",
       "      <th>hfdfd</th>\n",
       "    </tr>\n",
       "  </thead>\n",
       "  <tbody>\n",
       "    <tr>\n",
       "      <th>count</th>\n",
       "      <td>100.000000</td>\n",
       "      <td>100.000000</td>\n",
       "      <td>100.00000</td>\n",
       "      <td>100.000000</td>\n",
       "    </tr>\n",
       "    <tr>\n",
       "      <th>mean</th>\n",
       "      <td>129.690000</td>\n",
       "      <td>159.060000</td>\n",
       "      <td>4.14000</td>\n",
       "      <td>0.801700</td>\n",
       "    </tr>\n",
       "    <tr>\n",
       "      <th>std</th>\n",
       "      <td>115.687291</td>\n",
       "      <td>118.980163</td>\n",
       "      <td>1.42148</td>\n",
       "      <td>0.261565</td>\n",
       "    </tr>\n",
       "    <tr>\n",
       "      <th>min</th>\n",
       "      <td>6.000000</td>\n",
       "      <td>101.000000</td>\n",
       "      <td>1.00000</td>\n",
       "      <td>0.050000</td>\n",
       "    </tr>\n",
       "    <tr>\n",
       "      <th>25%</th>\n",
       "      <td>92.750000</td>\n",
       "      <td>109.000000</td>\n",
       "      <td>4.00000</td>\n",
       "      <td>0.727500</td>\n",
       "    </tr>\n",
       "    <tr>\n",
       "      <th>50%</th>\n",
       "      <td>106.500000</td>\n",
       "      <td>124.500000</td>\n",
       "      <td>5.00000</td>\n",
       "      <td>0.930000</td>\n",
       "    </tr>\n",
       "    <tr>\n",
       "      <th>75%</th>\n",
       "      <td>137.000000</td>\n",
       "      <td>158.000000</td>\n",
       "      <td>5.00000</td>\n",
       "      <td>0.980000</td>\n",
       "    </tr>\n",
       "    <tr>\n",
       "      <th>max</th>\n",
       "      <td>966.000000</td>\n",
       "      <td>1065.000000</td>\n",
       "      <td>5.00000</td>\n",
       "      <td>1.000000</td>\n",
       "    </tr>\n",
       "  </tbody>\n",
       "</table>\n",
       "</div>"
      ],
      "text/plain": [
       "              hfd           fd     rating       hfdfd\n",
       "count  100.000000   100.000000  100.00000  100.000000\n",
       "mean   129.690000   159.060000    4.14000    0.801700\n",
       "std    115.687291   118.980163    1.42148    0.261565\n",
       "min      6.000000   101.000000    1.00000    0.050000\n",
       "25%     92.750000   109.000000    4.00000    0.727500\n",
       "50%    106.500000   124.500000    5.00000    0.930000\n",
       "75%    137.000000   158.000000    5.00000    0.980000\n",
       "max    966.000000  1065.000000    5.00000    1.000000"
      ]
     },
     "execution_count": 5,
     "metadata": {},
     "output_type": "execute_result"
    }
   ],
   "source": [
    "df.describe()"
   ]
  },
  {
   "cell_type": "code",
   "execution_count": 6,
   "metadata": {
    "collapsed": false
   },
   "outputs": [
    {
     "data": {
      "text/plain": [
       "<matplotlib.text.Text at 0x7f97a8b174d0>"
      ]
     },
     "execution_count": 6,
     "metadata": {},
     "output_type": "execute_result"
    },
    {
     "data": {
      "image/png": "[encoded data removed]",
      "text/plain": [
       "<matplotlib.figure.Figure at 0x7f97a8fd4a50>"
      ]
     },
     "metadata": {},
     "output_type": "display_data"
    }
   ],
   "source": [
    "#hfdfd distribution\n",
    "df.hfdfd.hist()\n",
    "plt.title='The Distribute of hfd/fd'\n",
    "plt.xlabel('Score of hfd/fd')\n",
    "plt.ylabel('Count')"
   ]
  },
  {
   "cell_type": "code",
   "execution_count": 7,
   "metadata": {
    "collapsed": false
   },
   "outputs": [
    {
     "data": {
      "text/plain": [
       "<matplotlib.text.Text at 0x7f97a8974890>"
      ]
     },
     "execution_count": 7,
     "metadata": {},
     "output_type": "execute_result"
    },
    {
     "data": {
      "image/png": "[encoded data removed]",
      "text/plain": [
       "<matplotlib.figure.Figure at 0x7f97a8fc1b50>"
      ]
     },
     "metadata": {},
     "output_type": "display_data"
    }
   ],
   "source": [
    "#rating distribution\n",
    "df.rating.hist()\n",
    "plt.xlabel('Ratings')\n",
    "plt.ylabel(\"Count\")"
   ]
  },
  {
   "cell_type": "code",
   "execution_count": 8,
   "metadata": {
    "collapsed": false
   },
   "outputs": [
    {
     "name": "stdout",
     "output_type": "stream",
     "text": [
      "different product size: 100\n"
     ]
    }
   ],
   "source": [
    "#count how many products in the dataset  ==》9809 products\n",
    "df.groupby('pid').count().shape\n",
    "print 'different product size:', df.groupby('pid').count().shape[0] "
   ]
  },
  {
   "cell_type": "code",
   "execution_count": 9,
   "metadata": {
    "collapsed": false
   },
   "outputs": [
    {
     "data": {
      "text/plain": [
       "(100, 9)"
      ]
     },
     "execution_count": 9,
     "metadata": {},
     "output_type": "execute_result"
    }
   ],
   "source": [
    "df.shape"
   ]
  },
  {
   "cell_type": "code",
   "execution_count": 10,
   "metadata": {
    "collapsed": false
   },
   "outputs": [],
   "source": [
    "df['title_len'] = df['title'].apply(len)\n",
    "df['body_len'] = df['body'].apply(len)"
   ]
  },
  {
   "cell_type": "code",
   "execution_count": 11,
   "metadata": {
    "collapsed": false
   },
   "outputs": [
    {
     "data": {
      "text/html": [
       "<div>\n",
       "<table border=\"1\" class=\"dataframe\">\n",
       "  <thead>\n",
       "    <tr style=\"text-align: right;\">\n",
       "      <th></th>\n",
       "      <th>rid</th>\n",
       "      <th>pid</th>\n",
       "      <th>date</th>\n",
       "      <th>hfd</th>\n",
       "      <th>fd</th>\n",
       "      <th>rating</th>\n",
       "      <th>title</th>\n",
       "      <th>body</th>\n",
       "      <th>hfdfd</th>\n",
       "      <th>title_len</th>\n",
       "      <th>body_len</th>\n",
       "    </tr>\n",
       "  </thead>\n",
       "  <tbody>\n",
       "    <tr>\n",
       "      <th>0</th>\n",
       "      <td>A1004AX2J2HXGL</td>\n",
       "      <td>B00003CWPL</td>\n",
       "      <td>December 2, 2003</td>\n",
       "      <td>111</td>\n",
       "      <td>125</td>\n",
       "      <td>5</td>\n",
       "      <td>\"But what the hell do they know, I said?\"</td>\n",
       "      <td>If you're reading this, then you've seen this...</td>\n",
       "      <td>0.89</td>\n",
       "      <td>41</td>\n",
       "      <td>2642</td>\n",
       "    </tr>\n",
       "    <tr>\n",
       "      <th>1</th>\n",
       "      <td>A103PHKSEPT10R</td>\n",
       "      <td>0939484463</td>\n",
       "      <td>July 5, 2000</td>\n",
       "      <td>69</td>\n",
       "      <td>116</td>\n",
       "      <td>5</td>\n",
       "      <td>Credible, Interesting, &amp; Devasting</td>\n",
       "      <td>I've read Prof Butz's book twice and an still...</td>\n",
       "      <td>0.59</td>\n",
       "      <td>34</td>\n",
       "      <td>313</td>\n",
       "    </tr>\n",
       "    <tr>\n",
       "      <th>2</th>\n",
       "      <td>A103U0Q3IKSXHE</td>\n",
       "      <td>0875845851</td>\n",
       "      <td>January 29, 2000</td>\n",
       "      <td>111</td>\n",
       "      <td>115</td>\n",
       "      <td>4</td>\n",
       "      <td>Identifying the horns of the dilemma.</td>\n",
       "      <td>Prior to reading this book, I chalked up the ...</td>\n",
       "      <td>0.97</td>\n",
       "      <td>37</td>\n",
       "      <td>1495</td>\n",
       "    </tr>\n",
       "    <tr>\n",
       "      <th>3</th>\n",
       "      <td>A105YVLAZNYQUU</td>\n",
       "      <td>B000634DCW</td>\n",
       "      <td>June 21, 2005</td>\n",
       "      <td>6</td>\n",
       "      <td>112</td>\n",
       "      <td>1</td>\n",
       "      <td>UGGHHH</td>\n",
       "      <td>Craptacular and boring. The cinematography an...</td>\n",
       "      <td>0.05</td>\n",
       "      <td>6</td>\n",
       "      <td>1045</td>\n",
       "    </tr>\n",
       "    <tr>\n",
       "      <th>4</th>\n",
       "      <td>A1075MZNVRMSEO</td>\n",
       "      <td>1563249367</td>\n",
       "      <td>April 2, 2002</td>\n",
       "      <td>190</td>\n",
       "      <td>190</td>\n",
       "      <td>5</td>\n",
       "      <td>A historical portrait &amp; revelation- un chin de...</td>\n",
       "      <td>This book is a fascinating journey through th...</td>\n",
       "      <td>1.00</td>\n",
       "      <td>59</td>\n",
       "      <td>2180</td>\n",
       "    </tr>\n",
       "  </tbody>\n",
       "</table>\n",
       "</div>"
      ],
      "text/plain": [
       "              rid         pid              date  hfd   fd  rating  \\\n",
       "0  A1004AX2J2HXGL  B00003CWPL  December 2, 2003  111  125       5   \n",
       "1  A103PHKSEPT10R  0939484463      July 5, 2000   69  116       5   \n",
       "2  A103U0Q3IKSXHE  0875845851  January 29, 2000  111  115       4   \n",
       "3  A105YVLAZNYQUU  B000634DCW     June 21, 2005    6  112       1   \n",
       "4  A1075MZNVRMSEO  1563249367     April 2, 2002  190  190       5   \n",
       "\n",
       "                                               title  \\\n",
       "0          \"But what the hell do they know, I said?\"   \n",
       "1                 Credible, Interesting, & Devasting   \n",
       "2              Identifying the horns of the dilemma.   \n",
       "3                                             UGGHHH   \n",
       "4  A historical portrait & revelation- un chin de...   \n",
       "\n",
       "                                                body  hfdfd  title_len  \\\n",
       "0   If you're reading this, then you've seen this...   0.89         41   \n",
       "1   I've read Prof Butz's book twice and an still...   0.59         34   \n",
       "2   Prior to reading this book, I chalked up the ...   0.97         37   \n",
       "3   Craptacular and boring. The cinematography an...   0.05          6   \n",
       "4   This book is a fascinating journey through th...   1.00         59   \n",
       "\n",
       "   body_len  \n",
       "0      2642  \n",
       "1       313  \n",
       "2      1495  \n",
       "3      1045  \n",
       "4      2180  "
      ]
     },
     "execution_count": 11,
     "metadata": {},
     "output_type": "execute_result"
    }
   ],
   "source": [
    "df.head()"
   ]
  },
  {
   "cell_type": "code",
   "execution_count": 12,
   "metadata": {
    "collapsed": false
   },
   "outputs": [
    {
     "data": {
      "text/plain": [
       "<matplotlib.text.Text at 0x7f97a88e9b50>"
      ]
     },
     "execution_count": 12,
     "metadata": {},
     "output_type": "execute_result"
    },
    {
     "data": {
      "image/png": "[encoded data removed]",
      "text/plain": [
       "<matplotlib.figure.Figure at 0x7f97a8915310>"
      ]
     },
     "metadata": {},
     "output_type": "display_data"
    }
   ],
   "source": [
    "df['title_len'].hist()\n",
    "plt.xlabel('length of review title')\n",
    "plt.ylabel('counts')"
   ]
  },
  {
   "cell_type": "code",
   "execution_count": 13,
   "metadata": {
    "collapsed": false
   },
   "outputs": [
    {
     "data": {
      "text/plain": [
       "<matplotlib.text.Text at 0x7f97a8959390>"
      ]
     },
     "execution_count": 13,
     "metadata": {},
     "output_type": "execute_result"
    },
    {
     "data": {
      "image/png": "[encoded data removed]",
      "text/plain": [
       "<matplotlib.figure.Figure at 0x7f97a8792910>"
      ]
     },
     "metadata": {},
     "output_type": "display_data"
    }
   ],
   "source": [
    "df[df['body_len'] > 10][df['body_len'] < 5000]['body_len'].hist()\n",
    "plt.xlim(0, 5000)\n",
    "plt.xlabel(\"length of review body\")\n",
    "plt.ylabel(\"counts\")"
   ]
  },
  {
   "cell_type": "code",
   "execution_count": 14,
   "metadata": {
    "collapsed": false
   },
   "outputs": [
    {
     "data": {
      "text/html": [
       "<div>\n",
       "<table border=\"1\" class=\"dataframe\">\n",
       "  <thead>\n",
       "    <tr style=\"text-align: right;\">\n",
       "      <th></th>\n",
       "      <th>title_len</th>\n",
       "      <th>body_len</th>\n",
       "    </tr>\n",
       "  </thead>\n",
       "  <tbody>\n",
       "    <tr>\n",
       "      <th>count</th>\n",
       "      <td>100.000000</td>\n",
       "      <td>100.000000</td>\n",
       "    </tr>\n",
       "    <tr>\n",
       "      <th>mean</th>\n",
       "      <td>35.810000</td>\n",
       "      <td>2190.390000</td>\n",
       "    </tr>\n",
       "    <tr>\n",
       "      <th>std</th>\n",
       "      <td>15.042495</td>\n",
       "      <td>1157.861036</td>\n",
       "    </tr>\n",
       "    <tr>\n",
       "      <th>min</th>\n",
       "      <td>3.000000</td>\n",
       "      <td>313.000000</td>\n",
       "    </tr>\n",
       "    <tr>\n",
       "      <th>25%</th>\n",
       "      <td>24.000000</td>\n",
       "      <td>1342.500000</td>\n",
       "    </tr>\n",
       "    <tr>\n",
       "      <th>50%</th>\n",
       "      <td>35.000000</td>\n",
       "      <td>2024.000000</td>\n",
       "    </tr>\n",
       "    <tr>\n",
       "      <th>75%</th>\n",
       "      <td>48.000000</td>\n",
       "      <td>2882.000000</td>\n",
       "    </tr>\n",
       "    <tr>\n",
       "      <th>max</th>\n",
       "      <td>80.000000</td>\n",
       "      <td>5397.000000</td>\n",
       "    </tr>\n",
       "  </tbody>\n",
       "</table>\n",
       "</div>"
      ],
      "text/plain": [
       "        title_len     body_len\n",
       "count  100.000000   100.000000\n",
       "mean    35.810000  2190.390000\n",
       "std     15.042495  1157.861036\n",
       "min      3.000000   313.000000\n",
       "25%     24.000000  1342.500000\n",
       "50%     35.000000  2024.000000\n",
       "75%     48.000000  2882.000000\n",
       "max     80.000000  5397.000000"
      ]
     },
     "execution_count": 14,
     "metadata": {},
     "output_type": "execute_result"
    }
   ],
   "source": [
    "df[['title_len', 'body_len']].describe()"
   ]
  },
  {
   "cell_type": "markdown",
   "metadata": {},
   "source": [
    "# TFIDF features"
   ]
  },
  {
   "cell_type": "code",
   "execution_count": 15,
   "metadata": {
    "collapsed": false
   },
   "outputs": [
    {
     "name": "stdout",
     "output_type": "stream",
     "text": [
      "the tfidf matrix size :  (100, 1856)\n",
      "<class 'scipy.sparse.csr.csr_matrix'>\n"
     ]
    }
   ],
   "source": [
    "#TFIDF feature without lsa\n",
    "\n",
    "import evaluation_self as es\n",
    "max_features_count = 10000\n",
    "from sklearn.feature_extraction.text import TfidfVectorizer\n",
    "vectorizer = TfidfVectorizer(max_df=0.5, max_features=max_features_count,\n",
    "                                 min_df=2, stop_words='english', tokenizer = es.tokenize_and_stem)\n",
    "\n",
    "tfidf_matrix = vectorizer.fit_transform(df.body)\n",
    "print \"the tfidf matrix size : \",tfidf_matrix.shape\n",
    "print type(tfidf_matrix)\n"
   ]
  },
  {
   "cell_type": "code",
   "execution_count": 16,
   "metadata": {
    "collapsed": false
   },
   "outputs": [
    {
     "name": "stdout",
     "output_type": "stream",
     "text": [
      "TFIDF-cv10-LSVR, mse: [ 0.08141843  0.04912015  0.10494625  0.04176223  0.06310335  0.04258813\n",
      "  0.0500242   0.03956884  0.01890094  0.07190554]\n",
      "TFIDF-cv10-LSVR, mse mean: 0.0563338068051\n",
      "TFIDF-cv10-LSVR, rmse: [ 0.28533916  0.22163065  0.32395409  0.2043581   0.25120379  0.20636892\n",
      "  0.22366091  0.19891918  0.13748069  0.26815209]\n",
      "TFIDF-cv10-LSVR, rmse mean: 0.232106758195\n"
     ]
    }
   ],
   "source": [
    "#TFIDF-CV-10-lsvr\n",
    "from sklearn.svm import LinearSVR\n",
    "\n",
    "lsvr = LinearSVR()\n",
    "\n",
    "\n",
    "\n",
    "scores2 = cross_val_score(lsvr, tfidf_matrix, df.hfdfd, cv=10, scoring=\"mean_squared_error\")\n",
    "\n",
    "mse2 = abs(scores2)\n",
    "print 'TFIDF-cv10-LSVR, mse:', mse2\n",
    "print 'TFIDF-cv10-LSVR, mse mean:', np.mean(mse2)\n",
    "print 'TFIDF-cv10-LSVR, rmse:', np.sqrt(mse2)\n",
    "print 'TFIDF-cv10-LSVR, rmse mean:', np.mean(np.sqrt(mse2))"
   ]
  },
  {
   "cell_type": "code",
   "execution_count": 17,
   "metadata": {
    "collapsed": false
   },
   "outputs": [
    {
     "name": "stdout",
     "output_type": "stream",
     "text": [
      "TFIDF-cv10-SVR, mse: [ 0.10782484  0.03885816  0.15268398  0.01068192  0.0971278   0.07590734\n",
      "  0.07890349  0.05963978  0.00829349  0.10984222]\n",
      "TFIDF-cv10-SVR, mse mean: 0.0739763006971\n",
      "TFIDF-cv10-SVR, rmse: [ 0.32836693  0.19712472  0.39074797  0.10335338  0.31165334  0.27551286\n",
      "  0.28089765  0.24421256  0.09106859  0.33142453]\n",
      "TFIDF-cv10-SVR, rmse mean: 0.255436253884\n"
     ]
    }
   ],
   "source": [
    "#TFIDF-CV-10-svr\n",
    "from sklearn.svm import SVR\n",
    "\n",
    "svr = SVR()\n",
    "\n",
    "from sklearn.cross_validation import cross_val_score\n",
    "\n",
    "scores2 = cross_val_score(svr, tfidf_matrix, df.hfdfd, cv=10, scoring=\"mean_squared_error\")\n",
    "\n",
    "mse2 = abs(scores2)\n",
    "print 'TFIDF-cv10-SVR, mse:', mse2\n",
    "print 'TFIDF-cv10-SVR, mse mean:', np.mean(mse2)\n",
    "print 'TFIDF-cv10-SVR, rmse:', np.sqrt(mse2)\n",
    "print 'TFIDF-cv10-SVR, rmse mean:', np.mean(np.sqrt(mse2))"
   ]
  },
  {
   "cell_type": "code",
   "execution_count": 18,
   "metadata": {
    "collapsed": false
   },
   "outputs": [
    {
     "name": "stdout",
     "output_type": "stream",
     "text": [
      "TFIDF-cv10-LR, mse: [ 0.08428988  0.04914983  0.10853811  0.03688545  0.06363214  0.04363286\n",
      "  0.05190089  0.0389887   0.01494012  0.07207759]\n",
      "TFIDF-cv10-LR, mse mean: 0.0564035564685\n",
      "TFIDF-cv10-LR, rmse: [ 0.29032719  0.22169761  0.32945123  0.19205586  0.25225411  0.2088848\n",
      "  0.22781766  0.19745556  0.12222977  0.2684727 ]\n",
      "TFIDF-cv10-LR, rmse mean: 0.231064649804\n"
     ]
    }
   ],
   "source": [
    "#TFIDF-CV-10-lr\n",
    "from sklearn.linear_model import LinearRegression\n",
    "\n",
    "lr = LinearRegression()\n",
    "\n",
    "from sklearn.cross_validation import cross_val_score\n",
    "\n",
    "scores2 = cross_val_score(lr, tfidf_matrix, df.hfdfd, cv=10, scoring=\"mean_squared_error\")\n",
    "\n",
    "mse2 = abs(scores2)\n",
    "print 'TFIDF-cv10-LR, mse:', mse2\n",
    "print 'TFIDF-cv10-LR, mse mean:', np.mean(mse2)\n",
    "print 'TFIDF-cv10-LR, rmse:', np.sqrt(mse2)\n",
    "print 'TFIDF-cv10-LR, rmse mean:', np.mean(np.sqrt(mse2))"
   ]
  },
  {
   "cell_type": "markdown",
   "metadata": {},
   "source": [
    "# TFIDF - LSA features"
   ]
  },
  {
   "cell_type": "code",
   "execution_count": 19,
   "metadata": {
    "collapsed": false
   },
   "outputs": [
    {
     "name": "stdout",
     "output_type": "stream",
     "text": [
      "the tfidf matrix size :  (100, 1856)\n",
      "<class 'scipy.sparse.csr.csr_matrix'>\n",
      "Performing dimensionality reduction using LSA\n",
      "done in  3.97117805481\n",
      "Explained variance of the SVD step: 100\n"
     ]
    }
   ],
   "source": [
    "#TFIDF feature without lsa\n",
    "from time import time\n",
    "from sklearn.decomposition import TruncatedSVD\n",
    "from sklearn.pipeline import make_pipeline\n",
    "from sklearn.preprocessing import Normalizer\n",
    "\n",
    "import evaluation_self as es\n",
    "max_features_count = 10000\n",
    "from sklearn.feature_extraction.text import TfidfVectorizer\n",
    "vectorizer = TfidfVectorizer(max_df=0.5, max_features=max_features_count,\n",
    "                                 min_df=2, stop_words='english', tokenizer = es.tokenize_and_stem)\n",
    "lsa_tfidf_matrix = vectorizer.fit_transform(df.body)\n",
    "print \"the tfidf matrix size : \",tfidf_matrix.shape\n",
    "print type(tfidf_matrix)\n",
    "\n",
    "lsaornot = True\n",
    "lsanum = 1000\n",
    "\n",
    "if lsaornot:\n",
    "    print \"Performing dimensionality reduction using LSA\"\n",
    "    t0 = time()\n",
    "    # Vectorizer results are normalized, which makes KMeans behave as\n",
    "    # spherical k-means for better results. Since LSA/SVD results are\n",
    "    # not normalized, we have to redo the normalization.\n",
    "    svd = TruncatedSVD(lsanum)\n",
    "    normalizer = Normalizer(copy=False)\n",
    "    lsa = make_pipeline(svd, normalizer)\n",
    "\n",
    "    lsa_tfidf_matrix = lsa.fit_transform(tfidf_matrix)\n",
    "\n",
    "    print \"done in \", (time() - t0)\n",
    "    explained_variance = svd.explained_variance_ratio_.sum()\n",
    "    print \"Explained variance of the SVD step:\", int(explained_variance * 100)\n"
   ]
  },
  {
   "cell_type": "code",
   "execution_count": 20,
   "metadata": {
    "collapsed": false
   },
   "outputs": [
    {
     "name": "stdout",
     "output_type": "stream",
     "text": [
      "TFIDF-LSA-cv10-LR, mse: [ 0.08318471  0.04911305  0.11214023  0.04994519  0.06862034  0.04320624\n",
      "  0.05109641  0.07813153  0.01508527  0.0719044 ]\n",
      "TFIDF-LSA-cv10-LR, mse mean: 0.0622427379898\n",
      "TFIDF-LSA-cv10-LR, rmse2: [ 0.2884176   0.22161464  0.33487346  0.22348421  0.26195484  0.2078611\n",
      "  0.22604515  0.27952018  0.12282211  0.26814996]\n",
      "TFIDF-LSA-cv10-LR, rmse2 mean: 0.243474326366\n"
     ]
    }
   ],
   "source": [
    "#TFIDF-LSA-cv10-LR\n",
    "from sklearn.linear_model import LinearRegression\n",
    "\n",
    "lr = LinearRegression()\n",
    "\n",
    "from sklearn.cross_validation import cross_val_score\n",
    "\n",
    "scores2 = cross_val_score(lr, lsa_tfidf_matrix, df.hfdfd, cv=10, scoring=\"mean_squared_error\")\n",
    "\n",
    "mse2 = abs(scores2)\n",
    "print 'TFIDF-LSA-cv10-LR, mse:', mse2\n",
    "print 'TFIDF-LSA-cv10-LR, mse mean:', np.mean(mse2)\n",
    "print 'TFIDF-LSA-cv10-LR, rmse2:', np.sqrt(mse2)\n",
    "print 'TFIDF-LSA-cv10-LR, rmse2 mean:', np.mean(np.sqrt(mse2))"
   ]
  },
  {
   "cell_type": "code",
   "execution_count": 21,
   "metadata": {
    "collapsed": false
   },
   "outputs": [
    {
     "name": "stdout",
     "output_type": "stream",
     "text": [
      "TFIDF-cv10-LSVR, mse: [ 0.08141831  0.04912238  0.10494893  0.04176202  0.06310205  0.04258656\n",
      "  0.050024    0.03957024  0.01890472  0.07190528]\n",
      "TFIDF-cv10-LSVR, mse mean: 0.0563344480702\n",
      "TFIDF-cv10-LSVR, rmse: [ 0.28533894  0.22163569  0.32395822  0.20435758  0.25120121  0.20636511\n",
      "  0.22366045  0.19892271  0.13749445  0.26815159]\n",
      "TFIDF-cv10-LSVR, rmse mean: 0.232108593602\n"
     ]
    }
   ],
   "source": [
    "#TFIDF-LSA-CV-10-lsvr\n",
    "from sklearn.svm import LinearSVR\n",
    "\n",
    "lsvr = LinearSVR()\n",
    "\n",
    "from sklearn.cross_validation import cross_val_score\n",
    "\n",
    "scores2 = cross_val_score(lsvr, lsa_tfidf_matrix, df.hfdfd, cv=10, scoring=\"mean_squared_error\")\n",
    "\n",
    "mse2 = abs(scores2)\n",
    "print 'TFIDF-cv10-LSVR, mse:', mse2\n",
    "print 'TFIDF-cv10-LSVR, mse mean:', np.mean(mse2)\n",
    "print 'TFIDF-cv10-LSVR, rmse:', np.sqrt(mse2)\n",
    "print 'TFIDF-cv10-LSVR, rmse mean:', np.mean(np.sqrt(mse2))"
   ]
  },
  {
   "cell_type": "code",
   "execution_count": 22,
   "metadata": {
    "collapsed": false
   },
   "outputs": [
    {
     "name": "stdout",
     "output_type": "stream",
     "text": [
      "TFIDF-cv10-SVR, mse: [ 0.10253726  0.03873028  0.14433088  0.01243679  0.09113803  0.07184335\n",
      "  0.07314219  0.0558068   0.00898287  0.1030408 ]\n",
      "TFIDF-cv10-SVR, mse mean: 0.0701989240622\n",
      "TFIDF-cv10-SVR, rmse: [ 0.3202144   0.1968001   0.37990904  0.11152036  0.30189076  0.26803609\n",
      "  0.27044813  0.23623462  0.094778    0.32099969]\n",
      "TFIDF-cv10-SVR, rmse mean: 0.250083118278\n",
      "tfidf-svr cost: 0.0430550575256\n"
     ]
    }
   ],
   "source": [
    "#TFIDF-LSA-CV-10-svr\n",
    "t0 = time()\n",
    "from sklearn.svm import SVR\n",
    "\n",
    "svr = SVR()\n",
    "\n",
    "from sklearn.cross_validation import cross_val_score\n",
    "\n",
    "scores2 = cross_val_score(svr, lsa_tfidf_matrix, df.hfdfd, cv=10, scoring=\"mean_squared_error\")\n",
    "\n",
    "mse2 = abs(scores2)\n",
    "print 'TFIDF-cv10-SVR, mse:', mse2\n",
    "print 'TFIDF-cv10-SVR, mse mean:', np.mean(mse2)\n",
    "print 'TFIDF-cv10-SVR, rmse:', np.sqrt(mse2)\n",
    "print 'TFIDF-cv10-SVR, rmse mean:', np.mean(np.sqrt(mse2))\n",
    "print \"tfidf-svr cost:\", (time() - t0)"
   ]
  },
  {
   "cell_type": "markdown",
   "metadata": {},
   "source": [
    "# STD features"
   ]
  },
  {
   "cell_type": "code",
   "execution_count": 23,
   "metadata": {
    "collapsed": false
   },
   "outputs": [
    {
     "name": "stdout",
     "output_type": "stream",
     "text": [
      "[46, 3, 100.33333333333333, 0, 0]\n",
      "[152, 12, 122.08333333333333, 0, 0]\n",
      "[118, 12, 85.333333333333329, 0, 3]\n",
      "[173, 11, 196.36363636363637, 1, 0]\n",
      "[122, 15, 77.933333333333337, 1, 1]\n",
      "[255, 21, 134.38095238095238, 0, 1]\n",
      "[47, 3, 101.0, 1, 0]\n",
      "[110, 6, 155.16666666666666, 0, 0]\n",
      "[151, 13, 117.84615384615384, 0, 2]\n"
     ]
    }
   ],
   "source": [
    "#STD features\n",
    "\n",
    "import nltk\n",
    "import re\n",
    "\n",
    "def seg_sentence(text):\n",
    "    sentences = nltk.sent_tokenize(text)\n",
    "    return [s.strip() for s in sentences if(len(s)) > 0]\n",
    "\n",
    "def marks_num(text, pattern):\n",
    "    return len(re.findall(pattern, text))\n",
    "\n",
    "std_exc = 0\n",
    "def std_feature(text): # std in Yang@acl-2015\n",
    "#    print '==============================='\n",
    "    ary = [0, 0, 0, 0, 0]\n",
    "    try:\n",
    "        tokens = es.tokenize_and_stem(text)\n",
    "        token_num = len(tokens)\n",
    "    #    print 'token size:', token_num\n",
    "        sentences = seg_sentence(text)\n",
    "        sen_num = len(sentences)\n",
    "    #    print 'sentence size:', sen_num\n",
    "        avg_sentence_len = np.mean([len(x) for x in sentences])\n",
    "    #    print 'avg sentence length:', avg_sentence_len\n",
    "        exc_num = marks_num(text, r'[!！]')\n",
    "    #    print 'exclamation marks count:', exc_num\n",
    "        que_num = marks_num(text, r'[？?]')\n",
    "    #    print 'question percentage:', float(que_num) / sen_num\n",
    "        ary = [token_num, sen_num, avg_sentence_len, exc_num, que_num]\n",
    "#         print ary\n",
    "    except:\n",
    "#         print text\n",
    "        std_exc += 1\n",
    "    finally:\n",
    "        return ary\n",
    "    \n",
    "for loc in range(1, 10):\n",
    "    print std_feature(df.body.head(10)[loc])"
   ]
  },
  {
   "cell_type": "code",
   "execution_count": 24,
   "metadata": {
    "collapsed": false
   },
   "outputs": [
    {
     "name": "stdout",
     "output_type": "stream",
     "text": [
      "<type 'numpy.ndarray'>\n",
      "std exception:  0\n",
      "<type 'numpy.ndarray'>\n",
      "(100, 5)\n",
      "Normalizer(copy=True, norm='l2')\n"
     ]
    }
   ],
   "source": [
    "#generate std features\n",
    "\n",
    "\n",
    "X_std = np.array(df.body)\n",
    "print type(X_std)\n",
    "X_std = np.array(map(std_feature, X_std))\n",
    "print \"std exception: \", std_exc\n",
    "\n",
    "print type(X_std)\n",
    "print X_std.shape\n",
    "\n",
    "from sklearn.preprocessing import Normalizer\n",
    "std_normalizer = Normalizer().fit(X_std)\n",
    "X_std = std_normalizer.transform(X_std)\n",
    "\n",
    "print std_normalizer"
   ]
  },
  {
   "cell_type": "code",
   "execution_count": 25,
   "metadata": {
    "collapsed": false
   },
   "outputs": [
    {
     "name": "stdout",
     "output_type": "stream",
     "text": [
      "STD-cv10-LR, mse: [ 0.06500286  0.03528658  0.1532927   0.01377453  0.08483742  0.04885342\n",
      "  0.07232473  0.04269288  0.02168829  0.0902642 ]\n",
      "STD-cv10-LR, mse mean: 0.0628017604365\n",
      "STD-cv10-LR, rmse: [ 0.25495658  0.18784721  0.39152611  0.11736496  0.29126863  0.22102809\n",
      "  0.26893258  0.20662256  0.14726944  0.30044002]\n",
      "STD-cv10-LR, rmse mean: 0.238725618604\n"
     ]
    }
   ],
   "source": [
    "#std-cv10-lr\n",
    "from sklearn.linear_model import LinearRegression\n",
    "std_lr = LinearRegression()\n",
    "\n",
    "std_scores = cross_val_score(std_lr, X_std, df.hfdfd, cv=10, scoring='mean_squared_error')\n",
    "\n",
    "std_mse = abs(std_scores)\n",
    "print 'STD-cv10-LR, mse:', std_mse\n",
    "print 'STD-cv10-LR, mse mean:', np.mean(std_mse)\n",
    "print 'STD-cv10-LR, rmse:', np.sqrt(std_mse)\n",
    "print 'STD-cv10-LR, rmse mean:', np.mean(np.sqrt(std_mse))"
   ]
  },
  {
   "cell_type": "code",
   "execution_count": 26,
   "metadata": {
    "collapsed": false
   },
   "outputs": [
    {
     "name": "stdout",
     "output_type": "stream",
     "text": [
      "STD-cv10-LSVR, mse: [ 0.11381877  0.0368927   0.1751122   0.00347443  0.11290049  0.07960913\n",
      "  0.09284337  0.0586551   0.00655088  0.12937534]\n",
      "STD-cv10-LSVR, mse mean: 0.080923241505\n",
      "STD-cv10-LSVR, rmse: [ 0.33737037  0.19207473  0.41846409  0.05894433  0.33600668  0.2821509\n",
      "  0.30470209  0.24218816  0.08093752  0.35968784]\n",
      "STD-cv10-LSVR, rmse mean: 0.261252672298\n"
     ]
    }
   ],
   "source": [
    "#std-cv10-lsvr\n",
    "from sklearn.svm import LinearSVR\n",
    "std_lsvr = LinearSVR()\n",
    "\n",
    "std_scores = cross_val_score(std_lsvr, X_std, df.hfdfd, cv=10, scoring='mean_squared_error')\n",
    "\n",
    "std_mse = abs(std_scores)\n",
    "print 'STD-cv10-LSVR, mse:', std_mse\n",
    "print 'STD-cv10-LSVR, mse mean:', np.mean(std_mse)\n",
    "print 'STD-cv10-LSVR, rmse:', np.sqrt(std_mse)\n",
    "print 'STD-cv10-LSVR, rmse mean:', np.mean(np.sqrt(std_mse))"
   ]
  },
  {
   "cell_type": "code",
   "execution_count": 27,
   "metadata": {
    "collapsed": false
   },
   "outputs": [
    {
     "name": "stdout",
     "output_type": "stream",
     "text": [
      "STD-cv10-SVR, mse: [ 0.10395625  0.03702948  0.15147344  0.01011492  0.09645771  0.0735336\n",
      "  0.07717419  0.0560485   0.01123691  0.11054614]\n",
      "STD-cv10-SVR, mse mean: 0.0727571150049\n",
      "STD-cv10-SVR, rmse: [ 0.32242247  0.19243046  0.38919589  0.10057296  0.31057642  0.27117079\n",
      "  0.27780244  0.23674563  0.10600431  0.3324848 ]\n",
      "STD-cv10-SVR, rmse mean: 0.253940618231\n",
      "STD-svr cost: 0.036581993103\n"
     ]
    }
   ],
   "source": [
    "#std-cv10-svr\n",
    "t0 = time()\n",
    "from sklearn.svm import SVR\n",
    "std_svr = SVR()\n",
    "\n",
    "std_scores = cross_val_score(std_svr, X_std, df.hfdfd, cv=10, scoring='mean_squared_error')\n",
    "\n",
    "std_mse = abs(std_scores)\n",
    "print 'STD-cv10-SVR, mse:', std_mse\n",
    "print 'STD-cv10-SVR, mse mean:', np.mean(std_mse)\n",
    "print 'STD-cv10-SVR, rmse:', np.sqrt(std_mse)\n",
    "print 'STD-cv10-SVR, rmse mean:', np.mean(np.sqrt(std_mse))\n",
    "print \"STD-svr cost:\", (time() - t0)"
   ]
  },
  {
   "cell_type": "code",
   "execution_count": 28,
   "metadata": {
    "collapsed": false
   },
   "outputs": [],
   "source": [
    "#def cut sentence\n",
    "stop_words = 'a,able,about,across,after,all,almost,also,am,among,an,and,any,are,as,at,be,because,been,but,by,can,cannot,could,dear,did,do,does,either,else,ever,every,for,from,get,got,had,has,have,he,her,hers,him,his,how,however,i,if,in,into,is,it,its,just,least,let,like,likely,may,me,might,most,must,my,neither,no,nor,not,of,off,often,on,only,or,other,our,own,rather,said,say,says,she,should,since,so,some,than,that,the,their,them,then,there,these,they,this,tis,to,too,twas,us,wants,was,we,were,what,when,where,which,while,who,whom,why,will,with,would,yet,you,your'\n",
    "stop_words_list = stop_words.split(',')\n",
    "\n",
    "def cut_into_tokens(text):\n",
    "\n",
    "    _list = [word.lower() for sentence in nltk.sent_tokenize(text) for word in sentence.split()]\n",
    "    _list = [re.sub(r'[.?!\\'\",)(;&%:]', '', word) for word in _list  ]\n",
    "    _list = [word for word in _list if word not in stop_words_list and len(word) > 0]\n",
    "    return _list"
   ]
  },
  {
   "cell_type": "markdown",
   "metadata": {},
   "source": [
    "# Syntactic features of Kim"
   ]
  },
  {
   "cell_type": "code",
   "execution_count": 29,
   "metadata": {
    "collapsed": false
   },
   "outputs": [
    {
     "name": "stdout",
     "output_type": "stream",
     "text": [
      " If you're reading this, then you've seen this movie or are at least curious what all the hype is about?    The late Stanley Kubrick, the only major filmmaker Lynch has cited as a direct cinematic influence, believed that ERASERHEAD was one of the most perfect \"cinematic experiences\" created to date.  This movie has enjoyed success on the midnight movie circuit for years, particularly in NYC where it ran almost every night for something like five years straight. I've seen it on big and little screens in three different states.  Insofar as interpretations are concerned, I've long since tossed all that out the window.  In terms of rational comprehension, ERASERHEAD is the fabled big fish that remains brilliantly elusive of any attempts to capture it.     This movie gets better, and more humorous, every time I watch it: in my opinion - ERASERHEAD is the cinematic experience that comes the closest to capturing \"dream logic\", next to the equally brilliant WAKING LIFE.  If you ever get the chance, watch ERASERHEAD in a movie theater with a great sound system - you will understand why Stanley Kubrick was moved enough to make his statement.  It's like experiencing someone else's dream - the ultimate act of voyeurism?  As if I was granted audience to a demonstration of delicate brain surgery, and catching glimpses of the patient's face throughout the operation (particularly the opening scene).  It creates such a visceral landscape with its dark, peculiar selections of image and sound, that it seems to be constantly reminding you that the \"soul\" is helplessly sloshing around somewhere inside an organic bag of blood, bone, hair follicles, industrial shrapnel, dirt piles and antique radiators; a terrifying and beautiful delineation of a living creature suddenly made aware of its own being (birth imagery abounding).  It is a perfect symphony of sound and image, amazing work for a first time feature film director!  I've seen this movie placed in the HORROR section at local video stores; it's better suited for the COMEDY section, I fear.  The movie was created on the AFI campus in California; production beginning his last year there, and continuing on for several more years in secret.  Not for everyone, but certainly worth a peek.    I own a copy of ERASERHEAD on DVD, finally.  It is available at David Lynch's website for forty-five bucks plus shipping and handling.  Remastered sound and image, includes a few extras - the standout is a \"stylized\" interview with Lynch about the making of the film, the characters involved and anecdotes.    BTW - where is WILD AT HEART and LOST HIGHWAY for our DVD pleasure?     \n",
      "\n",
      "[115, 50, 42, 21]\n",
      "[13, 5, 6, 4]\n",
      "[61, 30, 31, 10]\n",
      "[49, 20, 11, 9]\n",
      "[72, 61, 21, 14]\n",
      "[51, 22, 15, 7]\n",
      "[131, 68, 38, 18]\n",
      "[9, 5, 6, 5]\n",
      "[30, 17, 14, 11]\n",
      "[62, 31, 10, 11]\n",
      "syn_exc is  0\n"
     ]
    }
   ],
   "source": [
    "#Syntactic features of Kim\n",
    "\n",
    "text = df.body.head(1)[0]\n",
    "print text\n",
    "#print nltk.pos_tag([word  for sentence in nltk.sent_tokenize(text) for word in nltk.word_tokenize(sentence)])\n",
    "\n",
    "def pos_count(text):\n",
    "    poses = nltk.pos_tag(cut_into_tokens(text))\n",
    "#     poses = nltk.pos_tag([word  for sentence in nltk.sent_tokenize(text) for word in nltk.word_tokenize(sentence)])\n",
    "    pos_dict = {}\n",
    "    for (word, pos) in poses:\n",
    "        if pos in pos_dict:\n",
    "            pos_dict[pos] = pos_dict[pos] + 1\n",
    "        else:\n",
    "            pos_dict[pos] = 1\n",
    "    return pos_dict\n",
    "\n",
    "pos_dict = pos_count(text)#per sentence per second!!!!\n",
    "# for pos in pos_dict:\n",
    "#     print pos, \" => \", pos_dict[pos]\n",
    "# print 'aa'\n",
    "syn_exc = 0\n",
    "\n",
    "def fetch_count_from_pos_dict(pos_list, pos_dict):\n",
    "    _pos_count = 0\n",
    "    for pos in pos_list:\n",
    "        if pos in pos_dict:\n",
    "            _pos_count += pos_dict[pos]\n",
    "    return _pos_count\n",
    "\n",
    "def syntactic_feature(text): #syn feature function\n",
    "    ary = [0, 0, 0, 0]\n",
    "    try:\n",
    "        pos_dict = pos_count(text)\n",
    "        nn_count = fetch_count_from_pos_dict(['NN', 'NNS', 'NNP', 'NNPS'], pos_dict)#noun\n",
    "        jj_count = fetch_count_from_pos_dict(['JJ', 'JJR', 'JJS'], pos_dict)#adj\n",
    "        vb_count = fetch_count_from_pos_dict(['VB', 'VBD', 'VBG', 'VBN', 'VNP', 'VBZ'], pos_dict)#vb\n",
    "        rb_count = fetch_count_from_pos_dict(['RB', 'RBR', 'RBS'], pos_dict)#adv\n",
    "        ary = [nn_count, jj_count, vb_count, rb_count]\n",
    "    except:\n",
    "        print 'error'\n",
    "        syn_exc += 1\n",
    "    finally:\n",
    "        return ary\n",
    "# print 't_dict', pos_dict['_t_dict']\n",
    "for _text in df.body.head(10):\n",
    "    print syntactic_feature(_text)\n",
    "print 'syn_exc is ', syn_exc"
   ]
  },
  {
   "cell_type": "code",
   "execution_count": 30,
   "metadata": {
    "collapsed": false
   },
   "outputs": [
    {
     "name": "stdout",
     "output_type": "stream",
     "text": [
      "100\n",
      "Normalizer(copy=True, norm='l2')\n"
     ]
    },
    {
     "name": "stderr",
     "output_type": "stream",
     "text": [
      "/usr/local/lib/python2.7/dist-packages/sklearn/utils/validation.py:420: DataConversionWarning: Data with input dtype int64 was converted to float64 by the normalize function.\n",
      "  warnings.warn(msg, DataConversionWarning)\n"
     ]
    }
   ],
   "source": [
    "X_syn = []\n",
    "t0 = time()\n",
    "for _body in df.body:\n",
    "    _v = syntactic_feature(_body)\n",
    "    X_syn.append(_v)\n",
    "print len(X_syn)\n",
    "\n",
    "from sklearn.preprocessing import Normalizer\n",
    "\n",
    "syn_normalizer = Normalizer()\n",
    "syn_normalizer.fit(X_syn)\n",
    "X_syn = syn_normalizer.transform(X_syn)\n",
    "\n",
    "# print X_w2v\n",
    "print syn_normalizer\n",
    "print 'init syn cost : ', time()-t0"
   ]
  },
  {
   "cell_type": "code",
   "execution_count": 31,
   "metadata": {
    "collapsed": false
   },
   "outputs": [
    {
     "name": "stdout",
     "output_type": "stream",
     "text": [
      "SYN-cv10-LR, mse: [ 0.10462254  0.05454791  0.13415301  0.03058137  0.11306078  0.08782886\n",
      "  0.05758035  0.0522465   0.01209688  0.07854349]\n",
      "SYN-cv10-LR, mse mean: 0.0725261692847\n",
      "SYN-cv10-LR, rmse: [ 0.32345407  0.23355494  0.36626905  0.1748753   0.33624512  0.29635935\n",
      "  0.23995905  0.22857494  0.1099858   0.28025611]\n",
      "SYN-cv10-LR, rmse mean: 0.258953373802\n"
     ]
    }
   ],
   "source": [
    "#syn-cv-10-LR\n",
    "from sklearn.linear_model import LinearRegression\n",
    "\n",
    "syn_lr = LinearRegression()\n",
    "\n",
    "std_scores = cross_val_score(syn_lr, X_syn, df.hfdfd, cv=10, scoring='mean_squared_error')\n",
    "\n",
    "std_mse = abs(std_scores)\n",
    "print 'SYN-cv10-LR, mse:', std_mse\n",
    "print 'SYN-cv10-LR, mse mean:', np.mean(std_mse)\n",
    "print 'SYN-cv10-LR, rmse:', np.sqrt(std_mse)\n",
    "print 'SYN-cv10-LR, rmse mean:', np.mean(np.sqrt(std_mse))"
   ]
  },
  {
   "cell_type": "code",
   "execution_count": 32,
   "metadata": {
    "collapsed": false
   },
   "outputs": [
    {
     "name": "stdout",
     "output_type": "stream",
     "text": [
      "SYN-cv10-LSVR, mse: [ 0.13152924  0.04646113  0.1789278   0.00593386  0.11167766  0.09139894\n",
      "  0.09260332  0.05771481  0.00257605  0.12566551]\n",
      "SYN-cv10-LSVR, mse mean: 0.0844488321054\n",
      "SYN-cv10-LSVR, rmse: [ 0.3626696   0.21554843  0.42299858  0.07703155  0.33418208  0.30232258\n",
      "  0.30430793  0.24023907  0.0507548   0.35449332]\n",
      "SYN-cv10-LSVR, rmse mean: 0.26645479455\n"
     ]
    }
   ],
   "source": [
    "#syn-cv-10-LSVR\n",
    "from sklearn.svm import LinearSVR\n",
    "\n",
    "syn_lsvr = LinearSVR()\n",
    "\n",
    "std_scores = cross_val_score(syn_lsvr, X_syn, df.hfdfd, cv=10, scoring='mean_squared_error')\n",
    "\n",
    "std_mse = abs(std_scores)\n",
    "print 'SYN-cv10-LSVR, mse:', std_mse\n",
    "print 'SYN-cv10-LSVR, mse mean:', np.mean(std_mse)\n",
    "print 'SYN-cv10-LSVR, rmse:', np.sqrt(std_mse)\n",
    "print 'SYN-cv10-LSVR, rmse mean:', np.mean(np.sqrt(std_mse))"
   ]
  },
  {
   "cell_type": "code",
   "execution_count": 33,
   "metadata": {
    "collapsed": false
   },
   "outputs": [
    {
     "name": "stdout",
     "output_type": "stream",
     "text": [
      "SYN-cv10-SVR, mse: [ 0.10835548  0.04106706  0.15071772  0.0124428   0.09822887  0.0789925\n",
      "  0.07749351  0.05689127  0.00612068  0.10719769]\n",
      "SYN-cv10-SVR, mse mean: 0.0737507600257\n",
      "SYN-cv10-SVR, rmse: [ 0.32917394  0.20265009  0.38822381  0.11154731  0.31341485  0.28105605\n",
      "  0.27837656  0.23851892  0.07823481  0.32741059]\n",
      "SYN-cv10-SVR, rmse mean: 0.254860691454\n",
      "SYN-svr cost: 0.0317320823669\n"
     ]
    }
   ],
   "source": [
    "#syn-cv-10-SVR\n",
    "t0 = time()\n",
    "from sklearn.svm import SVR\n",
    "\n",
    "syn_lsvr = SVR()\n",
    "\n",
    "std_scores = cross_val_score(syn_lsvr, X_syn, df.hfdfd, cv=10, scoring='mean_squared_error')\n",
    "\n",
    "std_mse = abs(std_scores)\n",
    "print 'SYN-cv10-SVR, mse:', std_mse\n",
    "print 'SYN-cv10-SVR, mse mean:', np.mean(std_mse)\n",
    "print 'SYN-cv10-SVR, rmse:', np.sqrt(std_mse)\n",
    "print 'SYN-cv10-SVR, rmse mean:', np.mean(np.sqrt(std_mse))\n",
    "print \"SYN-svr cost:\", (time() - t0)"
   ]
  },
  {
   "cell_type": "markdown",
   "metadata": {},
   "source": [
    "# Word2Vec features"
   ]
  },
  {
   "cell_type": "code",
   "execution_count": 34,
   "metadata": {
    "collapsed": false
   },
   "outputs": [],
   "source": [
    "#w2v features\n",
    "\n",
    "from gensim import corpora, models, similarities\n",
    "import gensim\n",
    "\n",
    "#load model\n",
    "fname = '/data/opinion_spam/real/w2v-hfd-over-0.total'\n",
    "#gensim.models.Word2Vec(sentences, min_count=5, size=100, window=5, workers=32)\n",
    "model = gensim.models.Word2Vec.load(fname)\n",
    "model.init_sims(replace=True)"
   ]
  },
  {
   "cell_type": "code",
   "execution_count": 35,
   "metadata": {
    "collapsed": false
   },
   "outputs": [
    {
     "name": "stdout",
     "output_type": "stream",
     "text": [
      "def model_with_sentence\n"
     ]
    }
   ],
   "source": [
    "def model_with_sentence(sentence, model):\n",
    "    tokens = cut_into_tokens(sentence)\n",
    "    v = np.zeros(100)\n",
    "    _error = 0\n",
    "    for token in tokens:\n",
    "        try:\n",
    "            _v = model[token]\n",
    "            v += _v\n",
    "        except:\n",
    "            _error += 1\n",
    "#             print 'token:', token, 'not in the dict'\n",
    "    return v\n",
    "print 'def model_with_sentence'"
   ]
  },
  {
   "cell_type": "code",
   "execution_count": 36,
   "metadata": {
    "collapsed": false
   },
   "outputs": [
    {
     "name": "stdout",
     "output_type": "stream",
     "text": [
      "100\n",
      "Normalizer(copy=True, norm='l2')\n"
     ]
    }
   ],
   "source": [
    "X_w2v = []\n",
    "for _body in df.body:\n",
    "    _v = model_with_sentence(_body, model)\n",
    "    X_w2v.append(_v)\n",
    "print len(X_w2v)\n",
    "\n",
    "from sklearn.preprocessing import Normalizer\n",
    "\n",
    "w2v_normalizer = Normalizer()\n",
    "w2v_normalizer.fit(X_w2v)\n",
    "X_w2v = w2v_normalizer.transform(X_w2v)\n",
    "\n",
    "# print X_w2v\n",
    "print w2v_normalizer"
   ]
  },
  {
   "cell_type": "code",
   "execution_count": 37,
   "metadata": {
    "collapsed": false
   },
   "outputs": [
    {
     "name": "stdout",
     "output_type": "stream",
     "text": [
      "W2V-cv10-LR, mse: [ 0.23995108  0.4017458   0.90328586  0.33569364  0.39553965  0.31661745\n",
      "  0.39600169  0.3550751   0.14575424  0.32750875]\n",
      "W2V-cv10-LR, mse mean: 0.381717325347\n",
      "W2V-cv10-LR, rmse: [ 0.48984801  0.6338342   0.95041352  0.57939075  0.62891943  0.5626877\n",
      "  0.62928665  0.59588179  0.38177774  0.5722838 ]\n",
      "W2V-cv10-LR, rmse mean: 0.602432359351\n"
     ]
    }
   ],
   "source": [
    "#w2v-cv-10-LR\n",
    "from sklearn.linear_model import LinearRegression\n",
    "\n",
    "w2v_lr = LinearRegression()\n",
    "\n",
    "std_scores = cross_val_score(w2v_lr, X_w2v, df.hfdfd, cv=10, scoring='mean_squared_error')\n",
    "\n",
    "std_mse = abs(std_scores)\n",
    "print 'W2V-cv10-LR, mse:', std_mse\n",
    "print 'W2V-cv10-LR, mse mean:', np.mean(std_mse)\n",
    "print 'W2V-cv10-LR, rmse:', np.sqrt(std_mse)\n",
    "print 'W2V-cv10-LR, rmse mean:', np.mean(np.sqrt(std_mse))"
   ]
  },
  {
   "cell_type": "code",
   "execution_count": 38,
   "metadata": {
    "collapsed": false
   },
   "outputs": [
    {
     "name": "stdout",
     "output_type": "stream",
     "text": [
      "W2V-cv10-LSVR, mse: [ 0.03931157  0.03253043  0.09752359  0.02301419  0.03381179  0.03624992\n",
      "  0.05278157  0.03912425  0.01960767  0.09780096]\n",
      "W2V-cv10-LSVR, mse mean: 0.0471755939814\n",
      "W2V-cv10-LSVR, rmse: [ 0.19827146  0.18036195  0.31228767  0.15170428  0.18387983  0.19039412\n",
      "  0.2297424   0.1977985   0.14002739  0.31273145]\n",
      "W2V-cv10-LSVR, rmse mean: 0.209719904801\n"
     ]
    }
   ],
   "source": [
    "#w2v-cv-10-LSVR\n",
    "from sklearn.svm import LinearSVR\n",
    "\n",
    "w2v_lsvr = LinearSVR()\n",
    "\n",
    "std_scores = cross_val_score(w2v_lsvr, X_w2v, df.hfdfd, cv=10, scoring='mean_squared_error')\n",
    "\n",
    "std_mse = abs(std_scores)\n",
    "print 'W2V-cv10-LSVR, mse:', std_mse\n",
    "print 'W2V-cv10-LSVR, mse mean:', np.mean(std_mse)\n",
    "print 'W2V-cv10-LSVR, rmse:', np.sqrt(std_mse)\n",
    "print 'W2V-cv10-LSVR, rmse mean:', np.mean(np.sqrt(std_mse))"
   ]
  },
  {
   "cell_type": "code",
   "execution_count": 39,
   "metadata": {
    "collapsed": false
   },
   "outputs": [
    {
     "name": "stdout",
     "output_type": "stream",
     "text": [
      "W2V-cv10-SVR, mse: [ 0.08787033  0.0349269   0.12780129  0.01049571  0.07806817  0.06075669\n",
      "  0.05939609  0.04728418  0.00699689  0.08921855]\n",
      "W2V-cv10-SVR, mse mean: 0.0602814795843\n",
      "W2V-cv10-SVR, rmse: [ 0.2964293   0.18688739  0.35749306  0.10244857  0.27940682  0.24648872\n",
      "  0.24371313  0.21744927  0.08364741  0.29869474]\n",
      "W2V-cv10-SVR, rmse mean: 0.231265840941\n",
      "W2V-svr cost: 0.0366480350494\n"
     ]
    }
   ],
   "source": [
    "#w2v-cv-10-SVR\n",
    "t0 = time()\n",
    "from sklearn.svm import SVR\n",
    "\n",
    "w2v_svr = SVR()\n",
    "\n",
    "std_scores = cross_val_score(w2v_svr, X_w2v, df.hfdfd, cv=10, scoring='mean_squared_error')\n",
    "\n",
    "std_mse = abs(std_scores)\n",
    "print 'W2V-cv10-SVR, mse:', std_mse\n",
    "print 'W2V-cv10-SVR, mse mean:', np.mean(std_mse)\n",
    "print 'W2V-cv10-SVR, rmse:', np.sqrt(std_mse)\n",
    "print 'W2V-cv10-SVR, rmse mean:', np.mean(np.sqrt(std_mse))\n",
    "print \"W2V-svr cost:\", (time() - t0)"
   ]
  },
  {
   "cell_type": "markdown",
   "metadata": {},
   "source": [
    "# Utils for merge features"
   ]
  },
  {
   "cell_type": "code",
   "execution_count": 40,
   "metadata": {
    "collapsed": true
   },
   "outputs": [],
   "source": [
    "def matrix_to_array(_matrix):\n",
    "    _dense = _matrix.todense()\n",
    "    _list = _dense.tolist()\n",
    "    return _list\n",
    "\n",
    "def append_matrix_to_matrix(array1, array2):\n",
    "    length = len(array1)#row num\n",
    "    new_matrix = []\n",
    "    for index in range(length):\n",
    "        _row = np.append(array1[index], array2[index])\n",
    "        new_matrix.append(_row)\n",
    "    return new_matrix\n",
    "from scipy import sparse\n",
    "def matrix_to_sparse_matrix(dense):\n",
    "    return sparse.csr_matrix(dense)\n",
    "   "
   ]
  },
  {
   "cell_type": "code",
   "execution_count": 41,
   "metadata": {
    "collapsed": false
   },
   "outputs": [
    {
     "name": "stdout",
     "output_type": "stream",
     "text": [
      "[array([1, 2, 3, 5, 6, 7]), array([2, 3, 4, 7, 8, 9])]\n",
      "ar1 type: <type 'list'>\n",
      "_arrayA type: <type 'numpy.ndarray'>\n",
      "_matrixA type: <class 'numpy.matrixlib.defmatrix.matrix'>\n",
      "  (0, 0)\t1\n",
      "  (0, 1)\t2\n",
      "  (0, 2)\t3\n",
      "  (1, 0)\t4\n",
      "  (1, 1)\t5\n",
      "  (1, 2)\t6\n",
      "  (0, 0)\t1\n",
      "  (0, 1)\t2\n",
      "  (0, 2)\t3\n",
      "  (1, 0)\t4\n",
      "  (1, 1)\t5\n",
      "  (1, 2)\t6\n"
     ]
    }
   ],
   "source": [
    "#validate the matrix merge\n",
    "ar1 = [[1,2,3],[2,3,4]]\n",
    "ar2 = [[5,6,7], [7,8,9]]\n",
    "ar3 = append_matrix_to_matrix(ar1, ar2)\n",
    "print ar3\n",
    "print 'ar1 type:',type(ar1)\n",
    "_arrayA = np.array([[1,2,3],[4,5,6]])\n",
    "_matrixA = np.matrix([[1,2,3], [4,5,6]])\n",
    "print '_arrayA type:', type(_arrayA)\n",
    "print '_matrixA type:', type(_matrixA)\n",
    "\n",
    "_sa = matrix_to_sparse_matrix(_matrixA)\n",
    "print _sa\n",
    "_saa = sparse.csr_matrix(_matrixA)\n",
    "print _saa"
   ]
  },
  {
   "cell_type": "markdown",
   "metadata": {},
   "source": [
    "# STD + Word2Vec features"
   ]
  },
  {
   "cell_type": "code",
   "execution_count": 42,
   "metadata": {
    "collapsed": false
   },
   "outputs": [
    {
     "name": "stdout",
     "output_type": "stream",
     "text": [
      "X_std_w2v is ok\n"
     ]
    }
   ],
   "source": [
    "#combine std + w2v\n",
    "# X_std_w2v = []\n",
    "# for _body in df.body:\n",
    "#     _w2v = model_with_sentence(_body, model)\n",
    "#     _std = std(_body)\n",
    "#     _v = np.append(_w2v, _std)\n",
    "#     X_std_w2v.append(_v)\n",
    "# print 'feature size : ', len(X_std_w2v[0])\n",
    "\n",
    "# std_w2v_normalizer = Normalizer()\n",
    "# std_w2v_normalizer.fit(X_w2v)\n",
    "# X_std_w2v = std_w2v_normalizer.transform(X_w2v)\n",
    "\n",
    "# print X_w2v\n",
    "# print std_w2v_normalizer\n",
    "\n",
    "X_std_w2v = append_matrix_to_matrix(X_std, X_w2v)\n",
    "print 'X_std_w2v is ok'"
   ]
  },
  {
   "cell_type": "code",
   "execution_count": 43,
   "metadata": {
    "collapsed": false
   },
   "outputs": [
    {
     "name": "stdout",
     "output_type": "stream",
     "text": [
      "STD+W2V-cv10-LR, mse: [ 0.36718106  0.28605173  0.62011237  0.40083349  0.39802787  0.32363034\n",
      "  0.36525782  0.40985285  0.13443457  0.36169245]\n",
      "STD+W2V-cv10-LR, mse mean: 0.366707455373\n",
      "STD+W2V-cv10-LR, rmse: [ 0.60595467  0.53483804  0.78747214  0.63311412  0.6308945   0.56888517\n",
      "  0.60436563  0.64019751  0.3666532   0.60140872]\n",
      "STD+W2V-cv10-LR, rmse mean: 0.597378371164\n"
     ]
    }
   ],
   "source": [
    "#std+w2v-cv-10-LR\n",
    "t0 = time()\n",
    "from sklearn.linear_model import LinearRegression\n",
    "\n",
    "std_w2v_lr = LinearRegression()\n",
    "\n",
    "std_scores = cross_val_score(std_w2v_lr, X_std_w2v, df.hfdfd, cv=10, scoring='mean_squared_error')\n",
    "\n",
    "std_mse = abs(std_scores)\n",
    "print 'STD+W2V-cv10-LR, mse:', std_mse\n",
    "print 'STD+W2V-cv10-LR, mse mean:', np.mean(std_mse)\n",
    "print 'STD+W2V-cv10-LR, rmse:', np.sqrt(std_mse)\n",
    "print 'STD+W2V-cv10-LR, rmse mean:', np.mean(np.sqrt(std_mse))、\n",
    "print \"cost:\", (time() - t0)"
   ]
  },
  {
   "cell_type": "code",
   "execution_count": 44,
   "metadata": {
    "collapsed": false
   },
   "outputs": [
    {
     "name": "stdout",
     "output_type": "stream",
     "text": [
      "STD+W2V-cv10-LSVR, mse: [ 0.0400288   0.03546362  0.09252317  0.01845518  0.03465667  0.03189112\n",
      "  0.0526087   0.03632558  0.01715846  0.09040421]\n",
      "STD+W2V-cv10-LSVR, mse mean: 0.0449515504702\n",
      "STD+W2V-cv10-LSVR, rmse: [ 0.20007199  0.18831788  0.30417621  0.13584983  0.18616303  0.17858085\n",
      "  0.22936587  0.19059271  0.13099029  0.30067292]\n",
      "STD+W2V-cv10-LSVR, rmse mean: 0.204478157767\n"
     ]
    }
   ],
   "source": [
    "#std+w2v-cv-10-LSVR\n",
    "t0 = time()\n",
    "from sklearn.svm import LinearSVR\n",
    "\n",
    "std_w2v_lsvr = LinearSVR()\n",
    "\n",
    "std_scores = cross_val_score(std_w2v_lsvr, X_std_w2v, df.hfdfd, cv=10, scoring='mean_squared_error')\n",
    "\n",
    "std_mse = abs(std_scores)\n",
    "print 'STD+W2V-cv10-LSVR, mse:', std_mse\n",
    "print 'STD+W2V-cv10-LSVR, mse mean:', np.mean(std_mse)\n",
    "print 'STD+W2V-cv10-LSVR, rmse:', np.sqrt(std_mse)\n",
    "print 'STD+W2V-cv10-LSVR, rmse mean:', np.mean(np.sqrt(std_mse))\n",
    "print \"cost:\", (time() - t0)"
   ]
  },
  {
   "cell_type": "code",
   "execution_count": 45,
   "metadata": {
    "collapsed": false
   },
   "outputs": [
    {
     "name": "stdout",
     "output_type": "stream",
     "text": [
      "STD+W2V-cv10-SVR, mse: [ 0.08834807  0.03457954  0.12804602  0.0108105   0.07816539  0.06009735\n",
      "  0.06000637  0.04672068  0.00795692  0.08903558]\n",
      "STD+W2V-cv10-SVR, mse mean: 0.0603766408297\n",
      "STD+W2V-cv10-SVR, rmse: [ 0.29723403  0.18595574  0.35783519  0.10397356  0.27958074  0.2451476\n",
      "  0.24496198  0.21614967  0.08920155  0.2983883 ]\n",
      "STD+W2V-cv10-SVR, rmse mean: 0.231842835687\n",
      "STD+W2V-svr cost: 0.047101020813\n"
     ]
    }
   ],
   "source": [
    "#std+w2v-cv-10-SVR\n",
    "t0 = time()\n",
    "from sklearn.svm import SVR\n",
    "\n",
    "std_w2v_svr = SVR()\n",
    "\n",
    "std_scores = cross_val_score(std_w2v_svr, X_std_w2v, df.hfdfd, cv=10, scoring='mean_squared_error')\n",
    "\n",
    "std_mse = abs(std_scores)\n",
    "print 'STD+W2V-cv10-SVR, mse:', std_mse\n",
    "print 'STD+W2V-cv10-SVR, mse mean:', np.mean(std_mse)\n",
    "print 'STD+W2V-cv10-SVR, rmse:', np.sqrt(std_mse)\n",
    "print 'STD+W2V-cv10-SVR, rmse mean:', np.mean(np.sqrt(std_mse))\n",
    "print \"STD+W2V-svr cost:\", (time() - t0)"
   ]
  },
  {
   "cell_type": "markdown",
   "metadata": {
    "collapsed": true
   },
   "source": [
    "# STD + SYN features"
   ]
  },
  {
   "cell_type": "code",
   "execution_count": 46,
   "metadata": {
    "collapsed": false
   },
   "outputs": [
    {
     "name": "stdout",
     "output_type": "stream",
     "text": [
      "X_std_syn is ok\n"
     ]
    }
   ],
   "source": [
    "# X_std_syn = []\n",
    "# for _body in df.body:\n",
    "#     _std = std(_body)\n",
    "#     _syn = syntactic_feature(_body)\n",
    "#     _v = np.append(_std, _syn)\n",
    "#     X_std_syn.append(_v)\n",
    "# print 'feature size : ', len(X_std_syn[0])\n",
    "\n",
    "# std_syn_normalizer = Normalizer()\n",
    "# std_syn_normalizer.fit(X_std_syn)\n",
    "# X_std_syn = std_syn_normalizer.transform(X_std_syn)\n",
    "\n",
    "# # print X_w2v\n",
    "# print std_syn_normalizer\n",
    "\n",
    "X_std_syn = append_matrix_to_matrix(X_std, X_syn)\n",
    "print 'X_std_syn is ok'"
   ]
  },
  {
   "cell_type": "code",
   "execution_count": 47,
   "metadata": {
    "collapsed": false
   },
   "outputs": [
    {
     "name": "stdout",
     "output_type": "stream",
     "text": [
      "STD+SYN-cv10-LR, mse: [ 0.05236261  0.0336452   0.15041775  0.02385791  0.11738962  0.04578115\n",
      "  0.06337457  0.04878553  0.01539505  0.07577598]\n",
      "STD+SYN-cv10-LR, mse mean: 0.0626785361829\n",
      "STD+SYN-cv10-LR, rmse: [ 0.22882877  0.18342628  0.38783728  0.15446004  0.34262169  0.21396531\n",
      "  0.25174306  0.22087446  0.12407679  0.27527437]\n",
      "STD+SYN-cv10-LR, rmse mean: 0.238310804645\n"
     ]
    }
   ],
   "source": [
    "#std+syn-cv-10-LR\n",
    "from sklearn.linear_model import LinearRegression\n",
    "\n",
    "std_syn_lr = LinearRegression()\n",
    "\n",
    "std_scores = cross_val_score(std_syn_lr, X_std_syn, df.hfdfd, cv=10, scoring='mean_squared_error')\n",
    "\n",
    "std_mse = abs(std_scores)\n",
    "print 'STD+SYN-cv10-LR, mse:', std_mse\n",
    "print 'STD+SYN-cv10-LR, mse mean:', np.mean(std_mse)\n",
    "print 'STD+SYN-cv10-LR, rmse:', np.sqrt(std_mse)\n",
    "print 'STD+SYN-cv10-LR, rmse mean:', np.mean(np.sqrt(std_mse))"
   ]
  },
  {
   "cell_type": "code",
   "execution_count": 48,
   "metadata": {
    "collapsed": false
   },
   "outputs": [
    {
     "name": "stdout",
     "output_type": "stream",
     "text": [
      "STD+SYN-cv10-LSVR, mse: [ 0.1247115   0.0439833   0.17745424  0.00514702  0.11389017  0.08834572\n",
      "  0.09166172  0.05510723  0.00513141  0.11913769]\n",
      "STD+SYN-cv10-LSVR, mse mean: 0.0824570006211\n",
      "STD+SYN-cv10-LSVR, rmse: [ 0.35314516  0.20972195  0.42125317  0.07174276  0.33747617  0.29723008\n",
      "  0.30275686  0.2347493   0.07163388  0.34516328]\n",
      "STD+SYN-cv10-LSVR, rmse mean: 0.264487263044\n"
     ]
    }
   ],
   "source": [
    "#std+syn-cv-10-LSVR\n",
    "from sklearn.svm import LinearSVR\n",
    "\n",
    "std_syn_lsvr = LinearSVR()\n",
    "\n",
    "std_scores = cross_val_score(std_syn_lsvr, X_std_syn, df.hfdfd, cv=10, scoring='mean_squared_error')\n",
    "\n",
    "std_mse = abs(std_scores)\n",
    "print 'STD+SYN-cv10-LSVR, mse:', std_mse\n",
    "print 'STD+SYN-cv10-LSVR, mse mean:', np.mean(std_mse)\n",
    "print 'STD+SYN-cv10-LSVR, rmse:', np.sqrt(std_mse)\n",
    "print 'STD+SYN-cv10-LSVR, rmse mean:', np.mean(np.sqrt(std_mse))"
   ]
  },
  {
   "cell_type": "code",
   "execution_count": 49,
   "metadata": {
    "collapsed": false
   },
   "outputs": [
    {
     "name": "stdout",
     "output_type": "stream",
     "text": [
      "STD+SYN-cv10-SVR, mse: [ 0.10506226  0.03848554  0.15100724  0.01091926  0.09559582  0.07356499\n",
      "  0.07591761  0.05403304  0.00923889  0.10536275]\n",
      "STD+SYN-cv10-SVR, mse mean: 0.0719187379135\n",
      "STD+SYN-cv10-SVR, rmse: [ 0.32413309  0.19617733  0.38859649  0.10449525  0.30918573  0.27122866\n",
      "  0.2755315   0.23245008  0.09611912  0.32459628]\n",
      "STD+SYN-cv10-SVR, rmse mean: 0.252251353884\n",
      "cost :  0.0379500389099\n"
     ]
    }
   ],
   "source": [
    "#std+syn-cv-10-SVR\n",
    "t0 = time()\n",
    "from sklearn.svm import SVR\n",
    "\n",
    "std_syn_svr = SVR()\n",
    "\n",
    "std_scores = cross_val_score(std_syn_svr, X_std_syn, df.hfdfd, cv=10, scoring='mean_squared_error')\n",
    "\n",
    "std_mse = abs(std_scores)\n",
    "print 'STD+SYN-cv10-SVR, mse:', std_mse\n",
    "print 'STD+SYN-cv10-SVR, mse mean:', np.mean(std_mse)\n",
    "print 'STD+SYN-cv10-SVR, rmse:', np.sqrt(std_mse)\n",
    "print 'STD+SYN-cv10-SVR, rmse mean:', np.mean(np.sqrt(std_mse))\n",
    "print 'cost : ', time()-t0"
   ]
  },
  {
   "cell_type": "markdown",
   "metadata": {},
   "source": [
    "# SYN + W2V features"
   ]
  },
  {
   "cell_type": "code",
   "execution_count": 127,
   "metadata": {
    "collapsed": false
   },
   "outputs": [
    {
     "name": "stdout",
     "output_type": "stream",
     "text": [
      "X_syn_w2v is ok\n"
     ]
    }
   ],
   "source": [
    "X_syn_w2v = append_matrix_to_matrix( X_syn, X_w2v)\n",
    "print 'X_syn_w2v is ok'"
   ]
  },
  {
   "cell_type": "code",
   "execution_count": 128,
   "metadata": {
    "collapsed": false
   },
   "outputs": [
    {
     "name": "stdout",
     "output_type": "stream",
     "text": [
      "SYN+W2V-cv10-LR, mse: [ 0.30578406  0.32641288  0.43249195  0.25908498  0.29213993  0.13235533\n",
      "  0.31028008  0.37182423  0.22767091  0.35747354]\n",
      "SYN+W2V-cv10-LR, mse mean: 0.301551789111\n",
      "SYN+W2V-cv10-LR, rmse: [ 0.55297745  0.57132554  0.6576412   0.50900391  0.54049971  0.36380673\n",
      "  0.5570279   0.60977391  0.47714873  0.59789091]\n",
      "SYN+W2V-cv10-LR, rmse mean: 0.543709599098\n"
     ]
    }
   ],
   "source": [
    "#std+syn-cv-10-LR\n",
    "from sklearn.linear_model import LinearRegression\n",
    "\n",
    "syn_w2v_lr = LinearRegression()\n",
    "\n",
    "std_scores = cross_val_score(syn_w2v_lr, X_syn_w2v, df.hfdfd, cv=10, scoring='mean_squared_error')\n",
    "\n",
    "std_mse = abs(std_scores)\n",
    "print 'SYN+W2V-cv10-LR, mse:', std_mse\n",
    "print 'SYN+W2V-cv10-LR, mse mean:', np.mean(std_mse)\n",
    "print 'SYN+W2V-cv10-LR, rmse:', np.sqrt(std_mse)\n",
    "print 'SYN+W2V-cv10-LR, rmse mean:', np.mean(np.sqrt(std_mse))"
   ]
  },
  {
   "cell_type": "code",
   "execution_count": 129,
   "metadata": {
    "collapsed": false
   },
   "outputs": [
    {
     "name": "stdout",
     "output_type": "stream",
     "text": [
      "SYN+W2V-cv10-LSVR, mse: [ 0.03428147  0.03371621  0.09595705  0.02361218  0.03685918  0.03642842\n",
      "  0.05124252  0.03704076  0.01659638  0.11207955]\n",
      "SYN+W2V-cv10-LSVR, mse mean: 0.047781371708\n",
      "SYN+W2V-cv10-LSVR, rmse: [ 0.18515255  0.18361975  0.30976934  0.15366255  0.19198745  0.1908623\n",
      "  0.22636812  0.19245975  0.12882696  0.33478284]\n",
      "SYN+W2V-cv10-LSVR, rmse mean: 0.209749160765\n"
     ]
    }
   ],
   "source": [
    "#std+syn-cv-10-LR\n",
    "from sklearn.svm import LinearSVR\n",
    "\n",
    "syn_w2v_lsvr = LinearSVR()\n",
    "\n",
    "std_scores = cross_val_score(syn_w2v_lsvr, X_syn_w2v, df.hfdfd, cv=10, scoring='mean_squared_error')\n",
    "\n",
    "std_mse = abs(std_scores)\n",
    "print 'SYN+W2V-cv10-LSVR, mse:', std_mse\n",
    "print 'SYN+W2V-cv10-LSVR, mse mean:', np.mean(std_mse)\n",
    "print 'SYN+W2V-cv10-LSVR, rmse:', np.sqrt(std_mse)\n",
    "print 'SYN+W2V-cv10-LSVR, rmse mean:', np.mean(np.sqrt(std_mse))"
   ]
  },
  {
   "cell_type": "code",
   "execution_count": 130,
   "metadata": {
    "collapsed": false
   },
   "outputs": [
    {
     "name": "stdout",
     "output_type": "stream",
     "text": [
      "SYN+W2V-cv10-SVR, mse: [ 0.08877826  0.03506071  0.12847225  0.01055829  0.07883336  0.06132497\n",
      "  0.05972569  0.04730476  0.00703231  0.08941928]\n",
      "SYN+W2V-cv10-SVR, mse mean: 0.06065098751\n",
      "SYN+W2V-cv10-SVR, rmse: [ 0.29795681  0.18724505  0.35843026  0.10275354  0.28077279  0.24763879\n",
      "  0.24438839  0.21749657  0.08385886  0.29903057]\n",
      "SYN+W2V-cv10-SVR, rmse mean: 0.231957163784\n"
     ]
    }
   ],
   "source": [
    "#std+syn-cv-10-LR\n",
    "from sklearn.svm import SVR\n",
    "\n",
    "syn_w2v_svr = SVR()\n",
    "\n",
    "std_scores = cross_val_score(syn_w2v_svr, X_syn_w2v, df.hfdfd, cv=10, scoring='mean_squared_error')\n",
    "\n",
    "std_mse = abs(std_scores)\n",
    "print 'SYN+W2V-cv10-SVR, mse:', std_mse\n",
    "print 'SYN+W2V-cv10-SVR, mse mean:', np.mean(std_mse)\n",
    "print 'SYN+W2V-cv10-SVR, rmse:', np.sqrt(std_mse)\n",
    "print 'SYN+W2V-cv10-SVR, rmse mean:', np.mean(np.sqrt(std_mse))"
   ]
  },
  {
   "cell_type": "markdown",
   "metadata": {},
   "source": [
    "# STD + SYN + W2V features"
   ]
  },
  {
   "cell_type": "code",
   "execution_count": 50,
   "metadata": {
    "collapsed": false
   },
   "outputs": [
    {
     "name": "stdout",
     "output_type": "stream",
     "text": [
      "row size:  100\n",
      "column size:  109\n"
     ]
    }
   ],
   "source": [
    "# X_std_syn_w2v = []\n",
    "# for _body in df.body:\n",
    "#     _std = std(_body)\n",
    "#     _syn = syntactic_feature(_body)\n",
    "#     _w2v = model_with_sentence(_body, model)\n",
    "#     _v = np.append(_std, _syn)\n",
    "#     _v = np.append(_v, _w2v)\n",
    "#     X_std_syn_w2v.append(_v)\n",
    "# print 'feature size : ', len(X_std_syn_w2v[0])\n",
    "\n",
    "# std_syn_w2v_normalizer = Normalizer()\n",
    "# std_syn_w2v_normalizer.fit(X_std_syn)\n",
    "# X_std_syn_w2v = std_syn_w2v_normalizer.transform(X_std_syn)\n",
    "\n",
    "# # print X_w2v\n",
    "# print std_syn_w2v_normalizer\n",
    "\n",
    "X_std_syn_w2v = []\n",
    "# X_std_syn_w2v = append_matrix_to_matrix(X_std_syn, X_w2v)\n",
    "X_std_syn_w2v = append_matrix_to_matrix(X_std, X_w2v)\n",
    "X_std_syn_w2v = append_matrix_to_matrix(X_std_syn_w2v, X_syn)\n",
    "print 'row size: ',len(X_std_syn_w2v)\n",
    "print 'column size: ',len(X_std_syn_w2v[0])"
   ]
  },
  {
   "cell_type": "code",
   "execution_count": 51,
   "metadata": {
    "collapsed": false
   },
   "outputs": [
    {
     "name": "stdout",
     "output_type": "stream",
     "text": [
      "STD+SYN+W2V-cv10-LR, mse: [ 0.38560747  0.24471075  0.45565248  0.33556673  0.28920448  0.13666707\n",
      "  0.30548109  0.33150986  0.21049926  0.32299261]\n",
      "STD+SYN+W2V-cv10-LR, mse mean: 0.301789179527\n",
      "STD+SYN+W2V-cv10-LR, rmse: [ 0.620973    0.49468248  0.67502036  0.57928122  0.53777735  0.36968509\n",
      "  0.55270343  0.57576893  0.45880198  0.56832439]\n",
      "STD+SYN+W2V-cv10-LR, rmse mean: 0.543301823123\n"
     ]
    }
   ],
   "source": [
    "#std+syn+w2v-cv-10-LR\n",
    "from sklearn.linear_model import LinearRegression\n",
    "\n",
    "std_syn_w2v_lr = LinearRegression()\n",
    "\n",
    "std_scores = cross_val_score(std_syn_w2v_lr, X_std_syn_w2v, df.hfdfd, cv=10, scoring='mean_squared_error')\n",
    "\n",
    "std_mse = abs(std_scores)\n",
    "print 'STD+SYN+W2V-cv10-LR, mse:', std_mse\n",
    "print 'STD+SYN+W2V-cv10-LR, mse mean:', np.mean(std_mse)\n",
    "print 'STD+SYN+W2V-cv10-LR, rmse:', np.sqrt(std_mse)\n",
    "print 'STD+SYN+W2V-cv10-LR, rmse mean:', np.mean(np.sqrt(std_mse))"
   ]
  },
  {
   "cell_type": "code",
   "execution_count": 52,
   "metadata": {
    "collapsed": false
   },
   "outputs": [
    {
     "name": "stdout",
     "output_type": "stream",
     "text": [
      "STD+SYN+W2V-cv10-LSVR, mse: [ 0.03422865  0.03252133  0.09080996  0.0209144   0.03659263  0.03068244\n",
      "  0.05035322  0.03397191  0.01449461  0.10731828]\n",
      "STD+SYN+W2V-cv10-LSVR, mse mean: 0.045188743338\n",
      "STD+SYN+W2V-cv10-LSVR, rmse: [ 0.18500987  0.1803367   0.30134691  0.14461812  0.19129201  0.17516403\n",
      "  0.22439523  0.1843147   0.12039358  0.3275947 ]\n",
      "STD+SYN+W2V-cv10-LSVR, rmse mean: 0.203446584309\n"
     ]
    }
   ],
   "source": [
    "#std+syn+w2v-cv-10-LSVR\n",
    "from sklearn.svm import LinearSVR\n",
    "\n",
    "std_syn_w2v_lsvr = LinearSVR()\n",
    "\n",
    "std_scores = cross_val_score(std_syn_w2v_lsvr, X_std_syn_w2v, df.hfdfd, cv=10, scoring='mean_squared_error')\n",
    "\n",
    "std_mse = abs(std_scores)\n",
    "print 'STD+SYN+W2V-cv10-LSVR, mse:', std_mse\n",
    "print 'STD+SYN+W2V-cv10-LSVR, mse mean:', np.mean(std_mse)\n",
    "print 'STD+SYN+W2V-cv10-LSVR, rmse:', np.sqrt(std_mse)\n",
    "print 'STD+SYN+W2V-cv10-LSVR, rmse mean:', np.mean(np.sqrt(std_mse))"
   ]
  },
  {
   "cell_type": "code",
   "execution_count": 53,
   "metadata": {
    "collapsed": false
   },
   "outputs": [
    {
     "name": "stdout",
     "output_type": "stream",
     "text": [
      "STD+SYN+W2V-cv10-SVR, mse: [ 0.08934625  0.03478263  0.12898763  0.01080595  0.07901603  0.06077868\n",
      "  0.06031097  0.04672991  0.00790883  0.08935293]\n",
      "STD+SYN+W2V-cv10-SVR, mse mean: 0.0608019801374\n",
      "STD+SYN+W2V-cv10-SVR, rmse: [ 0.29890842  0.18650103  0.35914847  0.10395167  0.2810979   0.24653332\n",
      "  0.24558293  0.21617102  0.08893158  0.2989196 ]\n",
      "STD+SYN+W2V-cv10-SVR, rmse mean: 0.232574594652\n"
     ]
    }
   ],
   "source": [
    "#std+syn+w2v-cv-10-LSVR\n",
    "from sklearn.svm import SVR\n",
    "\n",
    "std_syn_w2v_svr = SVR()\n",
    "\n",
    "std_scores = cross_val_score(std_syn_w2v_svr, X_std_syn_w2v, df.hfdfd, cv=10, scoring='mean_squared_error')\n",
    "\n",
    "std_mse = abs(std_scores)\n",
    "print 'STD+SYN+W2V-cv10-SVR, mse:', std_mse\n",
    "print 'STD+SYN+W2V-cv10-SVR, mse mean:', np.mean(std_mse)\n",
    "print 'STD+SYN+W2V-cv10-SVR, rmse:', np.sqrt(std_mse)\n",
    "print 'STD+SYN+W2V-cv10-SVR, rmse mean:', np.mean(np.sqrt(std_mse))"
   ]
  },
  {
   "cell_type": "markdown",
   "metadata": {
    "collapsed": true
   },
   "source": [
    "# TFIDF + STD features"
   ]
  },
  {
   "cell_type": "code",
   "execution_count": 87,
   "metadata": {
    "collapsed": false
   },
   "outputs": [
    {
     "name": "stdout",
     "output_type": "stream",
     "text": [
      "tfidf_matrix type :  <class 'scipy.sparse.csr.csr_matrix'>\n",
      "row size:  100\n",
      "column size:  1861\n"
     ]
    }
   ],
   "source": [
    "#combine tfidf+std\n",
    "X_tfidf_std = []\n",
    "print 'tfidf_matrix type : ', type(tfidf_matrix)\n",
    "X_tfidf_std = append_matrix_to_matrix(matrix_to_array(tfidf_matrix), X_std)\n",
    "print 'row size: ',len(X_tfidf_std)\n",
    "print 'column size: ',len(X_tfidf_std[0])\n",
    "\n",
    "X_tfidf_std_sp = matrix_to_sparse_matrix(X_tfidf_std)\n"
   ]
  },
  {
   "cell_type": "code",
   "execution_count": 86,
   "metadata": {
    "collapsed": false
   },
   "outputs": [
    {
     "name": "stdout",
     "output_type": "stream",
     "text": [
      "TFIDF+STD-cv10-LR, mse: [ 0.08348227  0.0428232   0.10948793  0.03988422  0.06457746  0.03984793\n",
      "  0.05354588  0.03777184  0.02087397  0.07335561]\n",
      "TFIDF+STD-cv10-LR, mse mean: 0.0565650307977\n",
      "TFIDF+STD-cv10-LR, rmse: [ 0.28893299  0.20693768  0.33088961  0.19971034  0.25412095  0.19961945\n",
      "  0.23139983  0.19434979  0.14447827  0.2708424 ]\n",
      "TFIDF+STD-cv10-LR, rmse mean: 0.232128130765\n",
      "cost:  0.597870826721\n"
     ]
    }
   ],
   "source": [
    "#tfidf+std-cv-10-LR\n",
    "t0 = time()\n",
    "from sklearn.linear_model import LinearRegression\n",
    "\n",
    "tfidf_std_lr = LinearRegression()\n",
    "\n",
    "std_scores = cross_val_score(tfidf_std_lr, X_tfidf_std_sp, df.hfdfd, cv=10, scoring='mean_squared_error')\n",
    "\n",
    "std_mse = abs(std_scores)\n",
    "print 'TFIDF+STD-cv10-LR, mse:', std_mse\n",
    "print 'TFIDF+STD-cv10-LR, mse mean:', np.mean(std_mse)\n",
    "print 'TFIDF+STD-cv10-LR, rmse:', np.sqrt(std_mse)\n",
    "print 'TFIDF+STD-cv10-LR, rmse mean:', np.mean(np.sqrt(std_mse))\n",
    "print 'cost: ', time()-t0"
   ]
  },
  {
   "cell_type": "code",
   "execution_count": 88,
   "metadata": {
    "collapsed": false
   },
   "outputs": [
    {
     "name": "stdout",
     "output_type": "stream",
     "text": [
      "TFIDF+STD-cv10-LSVR, mse: [ 0.08328803  0.04497383  0.10684245  0.03794352  0.0672807   0.03830015\n",
      "  0.05448114  0.03714136  0.02270459  0.07293206]\n",
      "TFIDF+STD-cv10-LSVR, mse mean: 0.0565887834018\n",
      "TFIDF+STD-cv10-LSVR, rmse: [ 0.28859665  0.21207033  0.32686763  0.19479098  0.25938523  0.19570424\n",
      "  0.23341196  0.19272094  0.15068044  0.27005936]\n",
      "TFIDF+STD-cv10-LSVR, rmse mean: 0.232428776893\n",
      "cost:  0.0565960407257\n"
     ]
    }
   ],
   "source": [
    "#tfidf+std-cv-10-LSVR\n",
    "t0 = time()\n",
    "from sklearn.svm import LinearSVR\n",
    "\n",
    "tfidf_std_lsvr = LinearSVR()\n",
    "\n",
    "std_scores = cross_val_score(tfidf_std_lsvr, X_tfidf_std_sp, df.hfdfd, cv=10, scoring='mean_squared_error')\n",
    "\n",
    "std_mse = abs(std_scores)\n",
    "print 'TFIDF+STD-cv10-LSVR, mse:', std_mse\n",
    "print 'TFIDF+STD-cv10-LSVR, mse mean:', np.mean(std_mse)\n",
    "print 'TFIDF+STD-cv10-LSVR, rmse:', np.sqrt(std_mse)\n",
    "print 'TFIDF+STD-cv10-LSVR, rmse mean:', np.mean(np.sqrt(std_mse))\n",
    "print 'cost: ', time()-t0"
   ]
  },
  {
   "cell_type": "code",
   "execution_count": 89,
   "metadata": {
    "collapsed": false
   },
   "outputs": [
    {
     "name": "stdout",
     "output_type": "stream",
     "text": [
      "TFIDF+STD-cv10-SVR, mse: [ 0.10778915  0.0387971   0.15287062  0.01068124  0.09709083  0.07579694\n",
      "  0.07895061  0.05954355  0.00832023  0.1098511 ]\n",
      "TFIDF+STD-cv10-SVR, mse mean: 0.073969137368\n",
      "TFIDF+STD-cv10-SVR, rmse: [ 0.32831258  0.19696979  0.39098673  0.10335009  0.31159402  0.27531245\n",
      "  0.28098151  0.24401547  0.0912153   0.33143793]\n",
      "TFIDF+STD-cv10-SVR, rmse mean: 0.255417585235\n",
      "cost:  0.111556053162\n"
     ]
    }
   ],
   "source": [
    "#tfidf+std-cv-10-LSVR\n",
    "t0 = time()\n",
    "from sklearn.svm import SVR\n",
    "\n",
    "tfidf_std_svr = SVR()\n",
    "\n",
    "std_scores = cross_val_score(tfidf_std_svr, X_tfidf_std_sp, df.hfdfd, cv=10, scoring='mean_squared_error')\n",
    "\n",
    "std_mse = abs(std_scores)\n",
    "print 'TFIDF+STD-cv10-SVR, mse:', std_mse\n",
    "print 'TFIDF+STD-cv10-SVR, mse mean:', np.mean(std_mse)\n",
    "print 'TFIDF+STD-cv10-SVR, rmse:', np.sqrt(std_mse)\n",
    "print 'TFIDF+STD-cv10-SVR, rmse mean:', np.mean(np.sqrt(std_mse))\n",
    "print 'cost: ', time()-t0"
   ]
  },
  {
   "cell_type": "markdown",
   "metadata": {},
   "source": [
    "# TFIDF + SYN features"
   ]
  },
  {
   "cell_type": "code",
   "execution_count": 116,
   "metadata": {
    "collapsed": false
   },
   "outputs": [
    {
     "name": "stdout",
     "output_type": "stream",
     "text": [
      "row size:  100\n",
      "column size:  1860\n"
     ]
    }
   ],
   "source": [
    "X_tfidf_syn = []\n",
    "\n",
    "X_tfidf_syn = append_matrix_to_matrix(matrix_to_array(tfidf_matrix), X_syn)\n",
    "print 'row size: ',len(X_tfidf_syn)\n",
    "print 'column size: ',len(X_tfidf_syn[0])\n",
    "\n",
    "X_tfidf_syn_sp = matrix_to_sparse_matrix(X_tfidf_syn)\n"
   ]
  },
  {
   "cell_type": "code",
   "execution_count": 122,
   "metadata": {
    "collapsed": false
   },
   "outputs": [
    {
     "name": "stdout",
     "output_type": "stream",
     "text": [
      "TFIDF+SYN-cv10-LR, mse: [ 0.08675446  0.04893076  0.10706534  0.04045306  0.06737547  0.0456042\n",
      "  0.05141991  0.03751894  0.01476614  0.07002892]\n",
      "TFIDF+SYN-cv10-LR, mse mean: 0.0569917205848\n",
      "TFIDF+SYN-cv10-LR, rmse: [ 0.2945411   0.22120298  0.32720841  0.20112945  0.25956784  0.21355141\n",
      "  0.22675959  0.19369807  0.12151603  0.26462978]\n",
      "TFIDF+SYN-cv10-LR, rmse mean: 0.232380465895\n",
      "cost:  0.0942459106445\n"
     ]
    }
   ],
   "source": [
    "#tfidf+std-cv-10-LR\n",
    "t0 = time()\n",
    "from sklearn.linear_model import LinearRegression\n",
    "\n",
    "tfidf_syn_lr = LinearRegression()\n",
    "\n",
    "std_scores = cross_val_score(tfidf_syn_lr, X_tfidf_syn_sp, df.hfdfd, cv=10, scoring='mean_squared_error')\n",
    "\n",
    "std_mse = abs(std_scores)\n",
    "print 'TFIDF+SYN-cv10-LR, mse:', std_mse\n",
    "print 'TFIDF+SYN-cv10-LR, mse mean:', np.mean(std_mse)\n",
    "print 'TFIDF+SYN-cv10-LR, rmse:', np.sqrt(std_mse)\n",
    "print 'TFIDF+SYN-cv10-LR, rmse mean:', np.mean(np.sqrt(std_mse))\n",
    "print 'cost: ', time()-t0"
   ]
  },
  {
   "cell_type": "code",
   "execution_count": 118,
   "metadata": {
    "collapsed": false
   },
   "outputs": [
    {
     "name": "stdout",
     "output_type": "stream",
     "text": [
      "TFIDF+SYN-cv10-LSVR, mse: [ 0.08601532  0.04879985  0.10572064  0.04298078  0.06729116  0.04547868\n",
      "  0.05118692  0.03745679  0.01704248  0.07006192]\n",
      "TFIDF+SYN-cv10-LSVR, mse mean: 0.0572034548031\n",
      "TFIDF+SYN-cv10-LSVR, rmse: [ 0.29328369  0.22090689  0.32514711  0.20731808  0.25940539  0.21325731\n",
      "  0.22624527  0.19353757  0.13054686  0.26469212]\n",
      "TFIDF+SYN-cv10-LSVR, rmse mean: 0.233434027079\n",
      "cost:  0.0628900527954\n"
     ]
    }
   ],
   "source": [
    "#tfidf+std-cv-10-LSVR\n",
    "t0 = time()\n",
    "from sklearn.svm import LinearSVR\n",
    "\n",
    "tfidf_syn_lsvr = LinearSVR()\n",
    "\n",
    "std_scores = cross_val_score(tfidf_syn_lsvr, X_tfidf_syn_sp, df.hfdfd, cv=10, scoring='mean_squared_error')\n",
    "\n",
    "std_mse = abs(std_scores)\n",
    "print 'TFIDF+SYN-cv10-LSVR, mse:', std_mse\n",
    "print 'TFIDF+SYN-cv10-LSVR, mse mean:', np.mean(std_mse)\n",
    "print 'TFIDF+SYN-cv10-LSVR, rmse:', np.sqrt(std_mse)\n",
    "print 'TFIDF+SYN-cv10-LSVR, rmse mean:', np.mean(np.sqrt(std_mse))\n",
    "print 'cost: ', time()-t0"
   ]
  },
  {
   "cell_type": "code",
   "execution_count": 119,
   "metadata": {
    "collapsed": false
   },
   "outputs": [
    {
     "name": "stdout",
     "output_type": "stream",
     "text": [
      "TFIDF+SYN-cv10-SVR, mse: [ 0.10784356  0.03888146  0.15267941  0.01068357  0.09711755  0.07593192\n",
      "  0.07888607  0.05961812  0.00828164  0.10981058]\n",
      "TFIDF+SYN-cv10-SVR, mse mean: 0.0739733887639\n",
      "TFIDF+SYN-cv10-SVR, rmse: [ 0.32839543  0.19718383  0.39074213  0.10336138  0.31163688  0.27555747\n",
      "  0.28086664  0.24416823  0.09100351  0.33137679]\n",
      "TFIDF+SYN-cv10-SVR, rmse mean: 0.255429229553\n",
      "cost:  0.113840103149\n"
     ]
    }
   ],
   "source": [
    "#tfidf+std-cv-10-SVR\n",
    "t0 = time()\n",
    "from sklearn.svm import SVR\n",
    "\n",
    "tfidf_syn_svr = SVR()\n",
    "\n",
    "std_scores = cross_val_score(tfidf_syn_svr, X_tfidf_syn_sp, df.hfdfd, cv=10, scoring='mean_squared_error')\n",
    "\n",
    "std_mse = abs(std_scores)\n",
    "print 'TFIDF+SYN-cv10-SVR, mse:', std_mse\n",
    "print 'TFIDF+SYN-cv10-SVR, mse mean:', np.mean(std_mse)\n",
    "print 'TFIDF+SYN-cv10-SVR, rmse:', np.sqrt(std_mse)\n",
    "print 'TFIDF+SYN-cv10-SVR, rmse mean:', np.mean(np.sqrt(std_mse))\n",
    "print 'cost: ', time()-t0"
   ]
  },
  {
   "cell_type": "markdown",
   "metadata": {
    "collapsed": false
   },
   "source": [
    "# TFIDF + STD + SYN features"
   ]
  },
  {
   "cell_type": "code",
   "execution_count": 90,
   "metadata": {
    "collapsed": false
   },
   "outputs": [
    {
     "name": "stdout",
     "output_type": "stream",
     "text": [
      "row size:  100\n",
      "column size:  1865\n"
     ]
    }
   ],
   "source": [
    "X_tfidf_std_syn = []\n",
    "X_tfidf_std_syn = append_matrix_to_matrix(X_tfidf_std, X_syn)\n",
    "print 'row size: ',len(X_tfidf_std_syn)\n",
    "print 'column size: ',len(X_tfidf_std_syn[0])\n",
    "X_tfidf_std_syn_sp = matrix_to_sparse_matrix(X_tfidf_std_syn)"
   ]
  },
  {
   "cell_type": "code",
   "execution_count": 91,
   "metadata": {
    "collapsed": false
   },
   "outputs": [
    {
     "name": "stdout",
     "output_type": "stream",
     "text": [
      "TFIDF+STD+SYN-cv10-LR, mse: [ 0.08563638  0.0431441   0.11023006  0.04019528  0.06955292  0.04018724\n",
      "  0.05540588  0.03555296  0.01937863  0.07094531]\n",
      "TFIDF+STD+SYN-cv10-LR, mse mean: 0.0570228757486\n",
      "TFIDF+STD+SYN-cv10-LR, rmse: [ 0.29263694  0.20771157  0.33200913  0.20048762  0.26372888  0.20046755\n",
      "  0.23538453  0.18855492  0.13920715  0.26635562]\n",
      "TFIDF+STD+SYN-cv10-LR, rmse mean: 0.232654389412\n",
      "cost:  0.0969400405884\n"
     ]
    }
   ],
   "source": [
    "#tfidf+std+syn-cv-10-LR\n",
    "t0 = time()\n",
    "from sklearn.linear_model import LinearRegression\n",
    "\n",
    "tfidf_std_syn_lr = LinearRegression()\n",
    "\n",
    "std_scores = cross_val_score(tfidf_std_syn_lr, X_tfidf_std_syn_sp, df.hfdfd, cv=10, scoring='mean_squared_error')\n",
    "\n",
    "std_mse = abs(std_scores)\n",
    "print 'TFIDF+STD+SYN-cv10-LR, mse:', std_mse\n",
    "print 'TFIDF+STD+SYN-cv10-LR, mse mean:', np.mean(std_mse)\n",
    "print 'TFIDF+STD+SYN-cv10-LR, rmse:', np.sqrt(std_mse)\n",
    "print 'TFIDF+STD+SYN-cv10-LR, rmse mean:', np.mean(np.sqrt(std_mse))\n",
    "print 'cost: ', time()-t0"
   ]
  },
  {
   "cell_type": "code",
   "execution_count": 92,
   "metadata": {
    "collapsed": false
   },
   "outputs": [
    {
     "name": "stdout",
     "output_type": "stream",
     "text": [
      "TFIDF+STD+SYN-cv10-LSVR, mse: [ 0.08563638  0.0431441   0.11023006  0.04019528  0.06955292  0.04018724\n",
      "  0.05540588  0.03555296  0.01937863  0.07094531]\n",
      "TFIDF+STD+SYN-cv10-LSVR, mse mean: 0.0570228757486\n",
      "TFIDF+STD+SYN-cv10-LSVR, rmse: [ 0.29263694  0.20771157  0.33200913  0.20048762  0.26372888  0.20046755\n",
      "  0.23538453  0.18855492  0.13920715  0.26635562]\n",
      "TFIDF+STD+SYN-cv10-LSVR, rmse mean: 0.232654389412\n",
      "cost:  0.0872058868408\n"
     ]
    }
   ],
   "source": [
    "#tfidf+std-cv-10-LSVR\n",
    "t0 = time()\n",
    "from sklearn.svm import LinearSVR\n",
    "\n",
    "tfidf_std_syn_lsvr = LinearRegression()\n",
    "\n",
    "std_scores = cross_val_score(tfidf_std_syn_lsvr, X_tfidf_std_syn_sp, df.hfdfd, cv=10, scoring='mean_squared_error')\n",
    "\n",
    "std_mse = abs(std_scores)\n",
    "print 'TFIDF+STD+SYN-cv10-LSVR, mse:', std_mse\n",
    "print 'TFIDF+STD+SYN-cv10-LSVR, mse mean:', np.mean(std_mse)\n",
    "print 'TFIDF+STD+SYN-cv10-LSVR, rmse:', np.sqrt(std_mse)\n",
    "print 'TFIDF+STD+SYN-cv10-LSVR, rmse mean:', np.mean(np.sqrt(std_mse))\n",
    "print 'cost: ', time()-t0"
   ]
  },
  {
   "cell_type": "code",
   "execution_count": 93,
   "metadata": {
    "collapsed": false
   },
   "outputs": [
    {
     "name": "stdout",
     "output_type": "stream",
     "text": [
      "TFIDF+STD+SYN-cv10-SVR, mse: [ 0.10777265  0.03881506  0.15285388  0.01069298  0.09705907  0.07578939\n",
      "  0.07888587  0.05950055  0.00831224  0.10980805]\n",
      "TFIDF+STD+SYN-cv10-SVR, mse mean: 0.0739489739628\n",
      "TFIDF+STD+SYN-cv10-SVR, rmse: [ 0.32828745  0.19701538  0.39096532  0.10340685  0.31154304  0.27529873\n",
      "  0.28086629  0.24392735  0.09117148  0.33137298]\n",
      "TFIDF+STD+SYN-cv10-SVR, rmse mean: 0.255385486542\n",
      "cost:  0.111124038696\n"
     ]
    }
   ],
   "source": [
    "#tfidf+std-cv-10-LSVR\n",
    "t0 = time()\n",
    "from sklearn.svm import SVR\n",
    "\n",
    "tfidf_std_syn_svr = SVR()\n",
    "\n",
    "std_scores = cross_val_score(tfidf_std_syn_svr, X_tfidf_std_syn_sp, df.hfdfd, cv=10, scoring='mean_squared_error')\n",
    "\n",
    "std_mse = abs(std_scores)\n",
    "print 'TFIDF+STD+SYN-cv10-SVR, mse:', std_mse\n",
    "print 'TFIDF+STD+SYN-cv10-SVR, mse mean:', np.mean(std_mse)\n",
    "print 'TFIDF+STD+SYN-cv10-SVR, rmse:', np.sqrt(std_mse)\n",
    "print 'TFIDF+STD+SYN-cv10-SVR, rmse mean:', np.mean(np.sqrt(std_mse))\n",
    "print 'cost: ', time()-t0"
   ]
  },
  {
   "cell_type": "markdown",
   "metadata": {},
   "source": [
    "# TFIDF + STD + SYN + W2V features"
   ]
  },
  {
   "cell_type": "code",
   "execution_count": 95,
   "metadata": {
    "collapsed": false
   },
   "outputs": [
    {
     "name": "stdout",
     "output_type": "stream",
     "text": [
      "row size:  100\n",
      "column size:  1965\n"
     ]
    }
   ],
   "source": [
    "X_tfidf_std_syn_w2v = []\n",
    "X_tfidf_std_syn_w2v = append_matrix_to_matrix(X_tfidf_std_syn, X_w2v)\n",
    "print 'row size: ',len(X_tfidf_std_syn_w2v)\n",
    "print 'column size: ',len(X_tfidf_std_syn_w2v[0])\n",
    "X_tfidf_std_syn_w2v_sp = matrix_to_sparse_matrix(X_tfidf_std_syn_w2v)"
   ]
  },
  {
   "cell_type": "code",
   "execution_count": 96,
   "metadata": {
    "collapsed": false
   },
   "outputs": [
    {
     "name": "stdout",
     "output_type": "stream",
     "text": [
      "TFIDF+STD+SYN+W2V-cv10-LR, mse: [ 0.05296483  0.03478815  0.07599409  0.03293589  0.04686576  0.02882628\n",
      "  0.04177028  0.02648563  0.0152491   0.06974984]\n",
      "TFIDF+STD+SYN+W2V-cv10-LR, mse mean: 0.0425629833439\n",
      "TFIDF+STD+SYN+W2V-cv10-LR, rmse: [ 0.23014089  0.18651582  0.27567025  0.18148247  0.216485    0.16978303\n",
      "  0.2043778   0.16274406  0.12348724  0.26410195]\n",
      "TFIDF+STD+SYN+W2V-cv10-LR, rmse mean: 0.201478849823\n",
      "cost:  0.113957881927\n"
     ]
    }
   ],
   "source": [
    "#tfidf+std+syn-cv-10-LR\n",
    "t0 = time()\n",
    "from sklearn.linear_model import LinearRegression\n",
    "\n",
    "tfidf_std_syn_w2v_lr = LinearRegression()\n",
    "\n",
    "std_scores = cross_val_score(tfidf_std_syn_w2v_lr, X_tfidf_std_syn_w2v_sp, df.hfdfd, cv=10, scoring='mean_squared_error')\n",
    "\n",
    "std_mse = abs(std_scores)\n",
    "print 'TFIDF+STD+SYN+W2V-cv10-LR, mse:', std_mse\n",
    "print 'TFIDF+STD+SYN+W2V-cv10-LR, mse mean:', np.mean(std_mse)\n",
    "print 'TFIDF+STD+SYN+W2V-cv10-LR, rmse:', np.sqrt(std_mse)\n",
    "print 'TFIDF+STD+SYN+W2V-cv10-LR, rmse mean:', np.mean(np.sqrt(std_mse))\n",
    "print 'cost: ', time()-t0"
   ]
  },
  {
   "cell_type": "code",
   "execution_count": 97,
   "metadata": {
    "collapsed": false
   },
   "outputs": [
    {
     "name": "stdout",
     "output_type": "stream",
     "text": [
      "TFIDF+STD+SYN+W2V-cv10-LSVR, mse: [ 0.05427196  0.034512    0.07405976  0.0358525   0.0476438   0.02951027\n",
      "  0.04377197  0.02793219  0.01651011  0.07057784]\n",
      "TFIDF+STD+SYN+W2V-cv10-LSVR, mse mean: 0.0434642399569\n",
      "TFIDF+STD+SYN+W2V-cv10-LSVR, rmse: [ 0.23296343  0.18577406  0.27213923  0.18934757  0.21827459  0.17178554\n",
      "  0.20921752  0.16712925  0.12849168  0.2656649 ]\n",
      "TFIDF+STD+SYN+W2V-cv10-LSVR, rmse mean: 0.204078776763\n",
      "cost:  0.0807559490204\n"
     ]
    }
   ],
   "source": [
    "#tfidf+std+syn-cv-10-LR\n",
    "t0 = time()\n",
    "from sklearn.svm import LinearSVR\n",
    "\n",
    "tfidf_std_syn_w2v_lsvr = LinearSVR()\n",
    "\n",
    "std_scores = cross_val_score(tfidf_std_syn_w2v_lsvr, X_tfidf_std_syn_w2v_sp, df.hfdfd, cv=10, scoring='mean_squared_error')\n",
    "\n",
    "std_mse = abs(std_scores)\n",
    "print 'TFIDF+STD+SYN+W2V-cv10-LSVR, mse:', std_mse\n",
    "print 'TFIDF+STD+SYN+W2V-cv10-LSVR, mse mean:', np.mean(std_mse)\n",
    "print 'TFIDF+STD+SYN+W2V-cv10-LSVR, rmse:', np.sqrt(std_mse)\n",
    "print 'TFIDF+STD+SYN+W2V-cv10-LSVR, rmse mean:', np.mean(np.sqrt(std_mse))\n",
    "print 'cost: ', time()-t0"
   ]
  },
  {
   "cell_type": "code",
   "execution_count": 98,
   "metadata": {
    "collapsed": false
   },
   "outputs": [
    {
     "name": "stdout",
     "output_type": "stream",
     "text": [
      "TFIDF+STD+SYN+W2V-cv10-SVR, mse: [ 0.10582352  0.03827863  0.15017974  0.01019424  0.0949022   0.07390547\n",
      "  0.07701129  0.05791585  0.00783099  0.1079657 ]\n",
      "TFIDF+STD+SYN+W2V-cv10-SVR, mse mean: 0.0724007619417\n",
      "TFIDF+STD+SYN+W2V-cv10-SVR, rmse: [ 0.32530527  0.19564925  0.38753031  0.10096651  0.308062    0.2718556\n",
      "  0.27750907  0.24065712  0.08849287  0.32858135]\n",
      "TFIDF+STD+SYN+W2V-cv10-SVR, rmse mean: 0.252460935674\n",
      "cost:  0.12751698494\n"
     ]
    }
   ],
   "source": [
    "#tfidf+std+syn-cv-10-SVR\n",
    "t0 = time()\n",
    "from sklearn.svm import SVR\n",
    "\n",
    "tfidf_std_syn_w2v_svr = SVR()\n",
    "\n",
    "std_scores = cross_val_score(tfidf_std_syn_w2v_svr, X_tfidf_std_syn_w2v_sp, df.hfdfd, cv=10, scoring='mean_squared_error')\n",
    "\n",
    "std_mse = abs(std_scores)\n",
    "print 'TFIDF+STD+SYN+W2V-cv10-SVR, mse:', std_mse\n",
    "print 'TFIDF+STD+SYN+W2V-cv10-SVR, mse mean:', np.mean(std_mse)\n",
    "print 'TFIDF+STD+SYN+W2V-cv10-SVR, rmse:', np.sqrt(std_mse)\n",
    "print 'TFIDF+STD+SYN+W2V-cv10-SVR, rmse mean:', np.mean(np.sqrt(std_mse))\n",
    "print 'cost: ', time()-t0"
   ]
  },
  {
   "cell_type": "markdown",
   "metadata": {},
   "source": [
    "# LSA TFIDF + STD features"
   ]
  },
  {
   "cell_type": "code",
   "execution_count": 99,
   "metadata": {
    "collapsed": false
   },
   "outputs": [
    {
     "name": "stdout",
     "output_type": "stream",
     "text": [
      "lsa_tfidf_matrix type:  <type 'numpy.ndarray'>\n",
      "row size:  100\n",
      "column size:  105\n"
     ]
    }
   ],
   "source": [
    "#combine tfidf+std\n",
    "X_lsa_tfidf_std = []\n",
    "print 'lsa_tfidf_matrix type: ', type(lsa_tfidf_matrix)\n",
    "X_lsa_tfidf_std = append_matrix_to_matrix(lsa_tfidf_matrix, X_std)\n",
    "print 'row size: ',len(X_lsa_tfidf_std)\n",
    "print 'column size: ',len(X_lsa_tfidf_std[0])\n",
    "X_lsa_tfidf_std_sp = matrix_to_sparse_matrix(X_lsa_tfidf_std)"
   ]
  },
  {
   "cell_type": "code",
   "execution_count": 100,
   "metadata": {
    "collapsed": false
   },
   "outputs": [
    {
     "name": "stdout",
     "output_type": "stream",
     "text": [
      "LSA+TFIDF+STD-cv10-LR, mse: [ 0.08196666  0.04342974  0.11034471  0.03873373  0.06461277  0.0381655\n",
      "  0.05442492  0.03715403  0.0210879   0.07305482]\n",
      "LSA+TFIDF+STD-cv10-LR, mse mean: 0.0562974769642\n",
      "LSA+TFIDF+STD-cv10-LR, rmse: [ 0.28629821  0.20839803  0.33218174  0.19680886  0.25419042  0.19535992\n",
      "  0.2332915   0.1927538   0.14521672  0.27028655]\n",
      "LSA+TFIDF+STD-cv10-LR, rmse mean: 0.231478574043\n",
      "cost:  0.0827310085297\n"
     ]
    }
   ],
   "source": [
    "#lsa+tfidf+std-cv-10-LR\n",
    "t0 = time()\n",
    "from sklearn.linear_model import LinearRegression\n",
    "\n",
    "lsa_tfidf_std_lr = LinearRegression()\n",
    "\n",
    "std_scores = cross_val_score(lsa_tfidf_std_lr, X_lsa_tfidf_std_sp, df.hfdfd, cv=10, scoring='mean_squared_error')\n",
    "\n",
    "std_mse = abs(std_scores)\n",
    "print 'LSA+TFIDF+STD-cv10-LR, mse:', std_mse\n",
    "print 'LSA+TFIDF+STD-cv10-LR, mse mean:', np.mean(std_mse)\n",
    "print 'LSA+TFIDF+STD-cv10-LR, rmse:', np.sqrt(std_mse)\n",
    "print 'LSA+TFIDF+STD-cv10-LR, rmse mean:', np.mean(np.sqrt(std_mse))\n",
    "print 'cost: ', time()-t0"
   ]
  },
  {
   "cell_type": "code",
   "execution_count": 101,
   "metadata": {
    "collapsed": false
   },
   "outputs": [
    {
     "name": "stdout",
     "output_type": "stream",
     "text": [
      "LSA+TFIDF+STD-cv10-LSVR, mse: [ 0.08328821  0.04497484  0.10684115  0.03794033  0.06728562  0.03829787\n",
      "  0.05447918  0.0371399   0.02269811  0.07293357]\n",
      "LSA+TFIDF+STD-cv10-LSVR, mse mean: 0.0565878781767\n",
      "LSA+TFIDF+STD-cv10-LSVR, rmse: [ 0.28859696  0.21207272  0.32686565  0.19478278  0.25939472  0.19569841\n",
      "  0.23340775  0.19271715  0.15065893  0.27006217]\n",
      "LSA+TFIDF+STD-cv10-LSVR, rmse mean: 0.232425723611\n",
      "cost:  0.0594129562378\n"
     ]
    }
   ],
   "source": [
    "#lsa+tfidf+std-cv-10-LSVR\n",
    "t0 = time()\n",
    "from sklearn.svm import LinearSVR\n",
    "\n",
    "lsa_tfidf_std_lsvr = LinearSVR()\n",
    "\n",
    "std_scores = cross_val_score(lsa_tfidf_std_lsvr, X_lsa_tfidf_std_sp, df.hfdfd, cv=10, scoring='mean_squared_error')\n",
    "\n",
    "std_mse = abs(std_scores)\n",
    "print 'LSA+TFIDF+STD-cv10-LSVR, mse:', std_mse\n",
    "print 'LSA+TFIDF+STD-cv10-LSVR, mse mean:', np.mean(std_mse)\n",
    "print 'LSA+TFIDF+STD-cv10-LSVR, rmse:', np.sqrt(std_mse)\n",
    "print 'LSA+TFIDF+STD-cv10-LSVR, rmse mean:', np.mean(np.sqrt(std_mse))\n",
    "print 'cost: ', time()-t0"
   ]
  },
  {
   "cell_type": "code",
   "execution_count": 102,
   "metadata": {
    "collapsed": false
   },
   "outputs": [
    {
     "name": "stdout",
     "output_type": "stream",
     "text": [
      "LSA+TFIDF+STD-cv10-SVR, mse: [ 0.10227511  0.03818618  0.14534471  0.01215017  0.09146912  0.07082133\n",
      "  0.0732108   0.05533605  0.00951176  0.10307592]\n",
      "LSA+TFIDF+STD-cv10-SVR, mse mean: 0.0701381149927\n",
      "LSA+TFIDF+STD-cv10-SVR, rmse: [ 0.31980479  0.19541285  0.38124101  0.11022783  0.30243862  0.26612278\n",
      "  0.27057495  0.23523617  0.09752824  0.32105438]\n",
      "LSA+TFIDF+STD-cv10-SVR, rmse mean: 0.249964161096\n",
      "cost:  0.0646839141846\n"
     ]
    }
   ],
   "source": [
    "#lsa+tfidf+std-cv-10-SVR\n",
    "t0 = time()\n",
    "from sklearn.svm import SVR\n",
    "\n",
    "lsa_tfidf_std_lsvr = SVR()\n",
    "\n",
    "std_scores = cross_val_score(lsa_tfidf_std_lsvr, X_lsa_tfidf_std_sp, df.hfdfd, cv=10, scoring='mean_squared_error')\n",
    "\n",
    "std_mse = abs(std_scores)\n",
    "print 'LSA+TFIDF+STD-cv10-SVR, mse:', std_mse\n",
    "print 'LSA+TFIDF+STD-cv10-SVR, mse mean:', np.mean(std_mse)\n",
    "print 'LSA+TFIDF+STD-cv10-SVR, rmse:', np.sqrt(std_mse)\n",
    "print 'LSA+TFIDF+STD-cv10-SVR, rmse mean:', np.mean(np.sqrt(std_mse))\n",
    "print 'cost: ', time()-t0"
   ]
  },
  {
   "cell_type": "markdown",
   "metadata": {},
   "source": [
    "# LSA TFIDF + SYN features"
   ]
  },
  {
   "cell_type": "code",
   "execution_count": 121,
   "metadata": {
    "collapsed": false
   },
   "outputs": [
    {
     "name": "stdout",
     "output_type": "stream",
     "text": [
      "row size:  100\n",
      "column size:  104\n"
     ]
    }
   ],
   "source": [
    "X_lsa_tfidf_syn = []\n",
    "X_lsa_tfidf_syn = append_matrix_to_matrix(lsa_tfidf_matrix, X_syn)\n",
    "print 'row size: ',len(X_lsa_tfidf_syn)\n",
    "print 'column size: ',len(X_lsa_tfidf_syn[0])\n",
    "X_lsa_tfidf_syn_sp = matrix_to_sparse_matrix(X_lsa_tfidf_syn)"
   ]
  },
  {
   "cell_type": "code",
   "execution_count": 123,
   "metadata": {
    "collapsed": false
   },
   "outputs": [
    {
     "name": "stdout",
     "output_type": "stream",
     "text": [
      "LSA+TFIDF+STD-cv10-LR, mse: [ 0.08675446  0.04893076  0.10706535  0.04045306  0.06737547  0.0456042\n",
      "  0.05141991  0.03751894  0.01476614  0.07002892]\n",
      "LSA+TFIDF+STD-cv10-LR, mse mean: 0.0569917208819\n",
      "LSA+TFIDF+STD-cv10-LR, rmse: [ 0.2945411   0.22120299  0.32720842  0.20112945  0.25956784  0.21355141\n",
      "  0.22675959  0.19369807  0.12151603  0.26462977]\n",
      "LSA+TFIDF+STD-cv10-LR, rmse mean: 0.232380466325\n",
      "cost:  0.0761060714722\n"
     ]
    }
   ],
   "source": [
    "#lsa+tfidf+std-cv-10-LR\n",
    "t0 = time()\n",
    "from sklearn.linear_model import LinearRegression\n",
    "\n",
    "lsa_tfidf_syn_lr = LinearRegression()\n",
    "\n",
    "std_scores = cross_val_score(lsa_tfidf_syn_lr, X_lsa_tfidf_syn_sp, df.hfdfd, cv=10, scoring='mean_squared_error')\n",
    "\n",
    "std_mse = abs(std_scores)\n",
    "print 'LSA+TFIDF+STD-cv10-LR, mse:', std_mse\n",
    "print 'LSA+TFIDF+STD-cv10-LR, mse mean:', np.mean(std_mse)\n",
    "print 'LSA+TFIDF+STD-cv10-LR, rmse:', np.sqrt(std_mse)\n",
    "print 'LSA+TFIDF+STD-cv10-LR, rmse mean:', np.mean(np.sqrt(std_mse))\n",
    "print 'cost: ', time()-t0"
   ]
  },
  {
   "cell_type": "code",
   "execution_count": 124,
   "metadata": {
    "collapsed": false
   },
   "outputs": [
    {
     "name": "stdout",
     "output_type": "stream",
     "text": [
      "LSA+TFIDF+STD-cv10-LSVR, mse: [ 0.0860187   0.04879954  0.10571997  0.04298434  0.06728748  0.04547825\n",
      "  0.05118469  0.03745512  0.0170356   0.07006355]\n",
      "LSA+TFIDF+STD-cv10-LSVR, mse mean: 0.0572027233455\n",
      "LSA+TFIDF+STD-cv10-LSVR, rmse: [ 0.29328945  0.22090617  0.32514607  0.20732665  0.25939831  0.21325629\n",
      "  0.22624034  0.19353324  0.13052048  0.26469521]\n",
      "LSA+TFIDF+STD-cv10-LSVR, rmse mean: 0.233431221959\n",
      "cost:  0.0518209934235\n"
     ]
    }
   ],
   "source": [
    "#lsa+tfidf+std-cv-10-LR\n",
    "t0 = time()\n",
    "from sklearn.svm import LinearSVR\n",
    "\n",
    "lsa_tfidf_syn_lsvr = LinearSVR()\n",
    "\n",
    "std_scores = cross_val_score(lsa_tfidf_syn_lsvr, X_lsa_tfidf_syn_sp, df.hfdfd, cv=10, scoring='mean_squared_error')\n",
    "\n",
    "std_mse = abs(std_scores)\n",
    "print 'LSA+TFIDF+STD-cv10-LSVR, mse:', std_mse\n",
    "print 'LSA+TFIDF+STD-cv10-LSVR, mse mean:', np.mean(std_mse)\n",
    "print 'LSA+TFIDF+STD-cv10-LSVR, rmse:', np.sqrt(std_mse)\n",
    "print 'LSA+TFIDF+STD-cv10-LSVR, rmse mean:', np.mean(np.sqrt(std_mse))\n",
    "print 'cost: ', time()-t0"
   ]
  },
  {
   "cell_type": "code",
   "execution_count": 125,
   "metadata": {
    "collapsed": false
   },
   "outputs": [
    {
     "name": "stdout",
     "output_type": "stream",
     "text": [
      "LSA+TFIDF+STD-cv10-SVR, mse: [ 0.10294114  0.03896055  0.14452236  0.01240167  0.09125279  0.07232469\n",
      "  0.07308765  0.05551259  0.0086615   0.1027479 ]\n",
      "LSA+TFIDF+STD-cv10-SVR, mse mean: 0.070241283211\n",
      "LSA+TFIDF+STD-cv10-SVR, rmse: [ 0.32084442  0.19738427  0.38016097  0.11136278  0.30208077  0.26893249\n",
      "  0.27034727  0.2356111   0.09306718  0.32054313]\n",
      "LSA+TFIDF+STD-cv10-SVR, rmse mean: 0.250033437253\n",
      "cost:  0.069188117981\n"
     ]
    }
   ],
   "source": [
    "#lsa+tfidf+std-cv-10-LR\n",
    "t0 = time()\n",
    "from sklearn.svm import SVR\n",
    "\n",
    "lsa_tfidf_syn_svr = SVR()\n",
    "\n",
    "std_scores = cross_val_score(lsa_tfidf_syn_svr, X_lsa_tfidf_syn_sp, df.hfdfd, cv=10, scoring='mean_squared_error')\n",
    "\n",
    "std_mse = abs(std_scores)\n",
    "print 'LSA+TFIDF+STD-cv10-SVR, mse:', std_mse\n",
    "print 'LSA+TFIDF+STD-cv10-SVR, mse mean:', np.mean(std_mse)\n",
    "print 'LSA+TFIDF+STD-cv10-SVR, rmse:', np.sqrt(std_mse)\n",
    "print 'LSA+TFIDF+STD-cv10-SVR, rmse mean:', np.mean(np.sqrt(std_mse))\n",
    "print 'cost: ', time()-t0"
   ]
  },
  {
   "cell_type": "markdown",
   "metadata": {},
   "source": [
    "# LSA TFIDF + STD + SYN features"
   ]
  },
  {
   "cell_type": "code",
   "execution_count": 103,
   "metadata": {
    "collapsed": false
   },
   "outputs": [
    {
     "name": "stdout",
     "output_type": "stream",
     "text": [
      "row size:  100\n",
      "column size:  109\n"
     ]
    }
   ],
   "source": [
    "X_lsa_tfidf_std_syn = []\n",
    "X_lsa_tfidf_std_syn = append_matrix_to_matrix(X_lsa_tfidf_std, X_syn)\n",
    "print 'row size: ',len(X_lsa_tfidf_std_syn)\n",
    "print 'column size: ',len(X_lsa_tfidf_std_syn[0])\n",
    "X_lsa_tfidf_std_syn_sp = matrix_to_sparse_matrix(X_lsa_tfidf_std_syn)"
   ]
  },
  {
   "cell_type": "code",
   "execution_count": 104,
   "metadata": {
    "collapsed": false
   },
   "outputs": [
    {
     "name": "stdout",
     "output_type": "stream",
     "text": [
      "LSA+TFIDF+STD+SYN-cv10-LR, mse: [ 0.08563638  0.0431441   0.11023006  0.04019528  0.06955292  0.04018724\n",
      "  0.05540588  0.03555296  0.01937863  0.07094531]\n",
      "LSA+TFIDF+STD+SYN-cv10-LR, mse mean: 0.0570228757532\n",
      "LSA+TFIDF+STD+SYN-cv10-LR, rmse: [ 0.29263694  0.20771157  0.33200913  0.20048762  0.26372888  0.20046755\n",
      "  0.23538453  0.18855492  0.13920715  0.26635562]\n",
      "LSA+TFIDF+STD+SYN-cv10-LR, rmse mean: 0.232654389428\n",
      "cost:  0.0805351734161\n"
     ]
    }
   ],
   "source": [
    "#lsa+tfidf+std-cv-10-LR\n",
    "t0 = time()\n",
    "from sklearn.linear_model import LinearRegression\n",
    "\n",
    "lsa_tfidf_std_syn_lr = LinearRegression()\n",
    "\n",
    "std_scores = cross_val_score(lsa_tfidf_std_syn_lr, X_lsa_tfidf_std_syn_sp, df.hfdfd, cv=10, scoring='mean_squared_error')\n",
    "\n",
    "std_mse = abs(std_scores)\n",
    "print 'LSA+TFIDF+STD+SYN-cv10-LR, mse:', std_mse\n",
    "print 'LSA+TFIDF+STD+SYN-cv10-LR, mse mean:', np.mean(std_mse)\n",
    "print 'LSA+TFIDF+STD+SYN-cv10-LR, rmse:', np.sqrt(std_mse)\n",
    "print 'LSA+TFIDF+STD+SYN-cv10-LR, rmse mean:', np.mean(np.sqrt(std_mse))\n",
    "print 'cost: ', time()-t0"
   ]
  },
  {
   "cell_type": "code",
   "execution_count": 105,
   "metadata": {
    "collapsed": false
   },
   "outputs": [
    {
     "name": "stdout",
     "output_type": "stream",
     "text": [
      "LSA+TFIDF+STD+SYN-cv10-LSVR, mse: [ 0.08694495  0.04430448  0.10746334  0.04041774  0.07143557  0.04064093\n",
      "  0.05572058  0.03543683  0.02090207  0.0707648 ]\n",
      "LSA+TFIDF+STD+SYN-cv10-LSVR, mse mean: 0.0574031295181\n",
      "LSA+TFIDF+STD+SYN-cv10-LSVR, rmse: [ 0.29486429  0.21048629  0.32781602  0.20104165  0.26727433  0.20159595\n",
      "  0.23605207  0.18824672  0.14457549  0.26601654]\n",
      "LSA+TFIDF+STD+SYN-cv10-LSVR, rmse mean: 0.233796936075\n",
      "cost:  0.0567760467529\n"
     ]
    }
   ],
   "source": [
    "#lsa+tfidf+std-cv-10-LSVR\n",
    "t0 = time()\n",
    "from sklearn.svm import LinearSVR\n",
    "\n",
    "lsa_tfidf_std_syn_lsvr = LinearSVR()\n",
    "\n",
    "std_scores = cross_val_score(lsa_tfidf_std_syn_lsvr, X_lsa_tfidf_std_syn_sp, df.hfdfd, cv=10, scoring='mean_squared_error')\n",
    "\n",
    "std_mse = abs(std_scores)\n",
    "print 'LSA+TFIDF+STD+SYN-cv10-LSVR, mse:', std_mse\n",
    "print 'LSA+TFIDF+STD+SYN-cv10-LSVR, mse mean:', np.mean(std_mse)\n",
    "print 'LSA+TFIDF+STD+SYN-cv10-LSVR, rmse:', np.sqrt(std_mse)\n",
    "print 'LSA+TFIDF+STD+SYN-cv10-LSVR, rmse mean:', np.mean(np.sqrt(std_mse))\n",
    "print 'cost: ', time()-t0"
   ]
  },
  {
   "cell_type": "code",
   "execution_count": 106,
   "metadata": {
    "collapsed": false
   },
   "outputs": [
    {
     "name": "stdout",
     "output_type": "stream",
     "text": [
      "LSA+TFIDF+STD+SYN-cv10-SVR, mse: [ 0.10265657  0.03834608  0.14561781  0.01205149  0.09140087  0.07112676\n",
      "  0.07305421  0.05492947  0.00914822  0.10258084]\n",
      "LSA+TFIDF+STD+SYN-cv10-SVR, mse mean: 0.07009123054\n",
      "LSA+TFIDF+STD+SYN-cv10-SVR, rmse: [ 0.32040064  0.19582155  0.38159901  0.10977927  0.30232576  0.266696\n",
      "  0.27028542  0.23437036  0.09564634  0.32028244]\n",
      "LSA+TFIDF+STD+SYN-cv10-SVR, rmse mean: 0.249720679939\n",
      "cost:  0.0623178482056\n"
     ]
    }
   ],
   "source": [
    "#lsa+tfidf+std-cv-10-SVR\n",
    "t0 = time()\n",
    "from sklearn.svm import SVR\n",
    "\n",
    "lsa_tfidf_std_syn_svr = SVR()\n",
    "\n",
    "std_scores = cross_val_score(lsa_tfidf_std_syn_svr, X_lsa_tfidf_std_syn_sp, df.hfdfd, cv=10, scoring='mean_squared_error')\n",
    "\n",
    "std_mse = abs(std_scores)\n",
    "print 'LSA+TFIDF+STD+SYN-cv10-SVR, mse:', std_mse\n",
    "print 'LSA+TFIDF+STD+SYN-cv10-SVR, mse mean:', np.mean(std_mse)\n",
    "print 'LSA+TFIDF+STD+SYN-cv10-SVR, rmse:', np.sqrt(std_mse)\n",
    "print 'LSA+TFIDF+STD+SYN-cv10-SVR, rmse mean:', np.mean(np.sqrt(std_mse))\n",
    "print 'cost: ', time()-t0"
   ]
  },
  {
   "cell_type": "markdown",
   "metadata": {},
   "source": [
    "# LSA TFIDF + STD + SYN + W2V features"
   ]
  },
  {
   "cell_type": "code",
   "execution_count": 107,
   "metadata": {
    "collapsed": false
   },
   "outputs": [
    {
     "name": "stdout",
     "output_type": "stream",
     "text": [
      "row size:  100\n",
      "column size:  209\n"
     ]
    }
   ],
   "source": [
    "X_lsa_tfidf_std_syn_w2v = []\n",
    "X_lsa_tfidf_std_syn_w2v = append_matrix_to_matrix(X_lsa_tfidf_std_syn, X_w2v)\n",
    "print 'row size: ',len(X_lsa_tfidf_std_syn_w2v)\n",
    "print 'column size: ',len(X_lsa_tfidf_std_syn_w2v[0])\n",
    "X_lsa_tfidf_std_syn_w2v_sp = matrix_to_sparse_matrix(X_lsa_tfidf_std_syn_w2v)"
   ]
  },
  {
   "cell_type": "code",
   "execution_count": 108,
   "metadata": {
    "collapsed": false
   },
   "outputs": [
    {
     "name": "stdout",
     "output_type": "stream",
     "text": [
      "LSA+TFIDF+STD+SYN+W2V-cv10-LR, mse: [ 0.05296483  0.03478815  0.07599409  0.03293589  0.04686576  0.02882628\n",
      "  0.04177028  0.02648563  0.0152491   0.06974984]\n",
      "LSA+TFIDF+STD+SYN+W2V-cv10-LR, mse mean: 0.0425629834162\n",
      "LSA+TFIDF+STD+SYN+W2V-cv10-LR, rmse: [ 0.23014089  0.18651582  0.27567025  0.18148247  0.216485    0.16978303\n",
      "  0.2043778   0.16274406  0.12348724  0.26410195]\n",
      "LSA+TFIDF+STD+SYN+W2V-cv10-LR, rmse mean: 0.201478849874\n",
      "cost:  0.114125967026\n"
     ]
    }
   ],
   "source": [
    "#lsa+tfidf+std-cv-10-LR\n",
    "t0 = time()\n",
    "from sklearn.linear_model import LinearRegression\n",
    "\n",
    "lsa_tfidf_std_syn_w2v_lr = LinearRegression()\n",
    "\n",
    "std_scores = cross_val_score(lsa_tfidf_std_syn_w2v_lr, X_lsa_tfidf_std_syn_w2v_sp, df.hfdfd, cv=10, scoring='mean_squared_error')\n",
    "\n",
    "std_mse = abs(std_scores)\n",
    "print 'LSA+TFIDF+STD+SYN+W2V-cv10-LR, mse:', std_mse\n",
    "print 'LSA+TFIDF+STD+SYN+W2V-cv10-LR, mse mean:', np.mean(std_mse)\n",
    "print 'LSA+TFIDF+STD+SYN+W2V-cv10-LR, rmse:', np.sqrt(std_mse)\n",
    "print 'LSA+TFIDF+STD+SYN+W2V-cv10-LR, rmse mean:', np.mean(np.sqrt(std_mse))\n",
    "print 'cost: ', time()-t0"
   ]
  },
  {
   "cell_type": "code",
   "execution_count": 109,
   "metadata": {
    "collapsed": false
   },
   "outputs": [
    {
     "name": "stdout",
     "output_type": "stream",
     "text": [
      "LSA+TFIDF+STD+SYN+W2V-cv10-LSVR, mse: [ 0.05427327  0.03451121  0.07405739  0.03584397  0.04764153  0.029511\n",
      "  0.04376989  0.02793162  0.01651065  0.07057865]\n",
      "LSA+TFIDF+STD+SYN+W2V-cv10-LSVR, mse mean: 0.0434629173216\n",
      "LSA+TFIDF+STD+SYN+W2V-cv10-LSVR, rmse: [ 0.23296623  0.18577192  0.27213488  0.18932505  0.21826939  0.17178766\n",
      "  0.20921255  0.16712757  0.12849377  0.26566642]\n",
      "LSA+TFIDF+STD+SYN+W2V-cv10-LSVR, rmse mean: 0.20407554323\n",
      "cost:  0.0813541412354\n"
     ]
    }
   ],
   "source": [
    "#lsa+tfidf+std-cv-10-LR\n",
    "t0 = time()\n",
    "from sklearn.svm import LinearSVR\n",
    "\n",
    "lsa_tfidf_std_syn_w2v_lsvr = LinearSVR()\n",
    "\n",
    "std_scores = cross_val_score(lsa_tfidf_std_syn_w2v_lsvr, X_lsa_tfidf_std_syn_w2v_sp, df.hfdfd, cv=10, scoring='mean_squared_error')\n",
    "\n",
    "std_mse = abs(std_scores)\n",
    "print 'LSA+TFIDF+STD+SYN+W2V-cv10-LSVR, mse:', std_mse\n",
    "print 'LSA+TFIDF+STD+SYN+W2V-cv10-LSVR, mse mean:', np.mean(std_mse)\n",
    "print 'LSA+TFIDF+STD+SYN+W2V-cv10-LSVR, rmse:', np.sqrt(std_mse)\n",
    "print 'LSA+TFIDF+STD+SYN+W2V-cv10-LSVR, rmse mean:', np.mean(np.sqrt(std_mse))\n",
    "print 'cost: ', time()-t0"
   ]
  },
  {
   "cell_type": "code",
   "execution_count": 110,
   "metadata": {
    "collapsed": false
   },
   "outputs": [
    {
     "name": "stdout",
     "output_type": "stream",
     "text": [
      "LSA+TFIDF+STD+SYN+W2V-cv10-SVR, mse: [ 0.09397762  0.03622882  0.13356899  0.0112539   0.0841419   0.0649056\n",
      "  0.06426677  0.05050306  0.00801429  0.09453899]\n",
      "LSA+TFIDF+STD+SYN+W2V-cv10-SVR, mse mean: 0.0641399950467\n",
      "LSA+TFIDF+STD+SYN+W2V-cv10-SVR, rmse: [ 0.30655769  0.19033869  0.36547092  0.10608442  0.29007224  0.25476577\n",
      "  0.25350892  0.22472887  0.08952256  0.30747194]\n",
      "LSA+TFIDF+STD+SYN+W2V-cv10-SVR, rmse mean: 0.238852201738\n",
      "cost:  0.074579000473\n"
     ]
    }
   ],
   "source": [
    "#lsa+tfidf+std-cv-10-LR\n",
    "t0 = time()\n",
    "from sklearn.svm import SVR\n",
    "\n",
    "lsa_tfidf_std_syn_w2v_svr = SVR()\n",
    "\n",
    "std_scores = cross_val_score(lsa_tfidf_std_syn_w2v_svr, X_lsa_tfidf_std_syn_w2v_sp, df.hfdfd, cv=10, scoring='mean_squared_error')\n",
    "\n",
    "std_mse = abs(std_scores)\n",
    "print 'LSA+TFIDF+STD+SYN+W2V-cv10-SVR, mse:', std_mse\n",
    "print 'LSA+TFIDF+STD+SYN+W2V-cv10-SVR, mse mean:', np.mean(std_mse)\n",
    "print 'LSA+TFIDF+STD+SYN+W2V-cv10-SVR, rmse:', np.sqrt(std_mse)\n",
    "print 'LSA+TFIDF+STD+SYN+W2V-cv10-SVR, rmse mean:', np.mean(np.sqrt(std_mse))\n",
    "print 'cost: ', time()-t0"
   ]
  },
  {
   "cell_type": "code",
   "execution_count": null,
   "metadata": {
    "collapsed": false
   },
   "outputs": [],
   "source": []
  },
  {
   "cell_type": "code",
   "execution_count": null,
   "metadata": {
    "collapsed": false
   },
   "outputs": [],
   "source": []
  },
  {
   "cell_type": "code",
   "execution_count": null,
   "metadata": {
    "collapsed": false
   },
   "outputs": [],
   "source": []
  },
  {
   "cell_type": "code",
   "execution_count": null,
   "metadata": {
    "collapsed": false
   },
   "outputs": [],
   "source": []
  },
  {
   "cell_type": "code",
   "execution_count": null,
   "metadata": {
    "collapsed": true
   },
   "outputs": [],
   "source": []
  }
 ],
 "metadata": {
  "kernelspec": {
   "display_name": "Python 2",
   "language": "python",
   "name": "python2"
  },
  "language_info": {
   "codemirror_mode": {
    "name": "ipython",
    "version": 2
   },
   "file_extension": ".py",
   "mimetype": "text/x-python",
   "name": "python",
   "nbconvert_exporter": "python",
   "pygments_lexer": "ipython2",
   "version": "2.7.6"
  }
 },
 "nbformat": 4,
 "nbformat_minor": 0
}
