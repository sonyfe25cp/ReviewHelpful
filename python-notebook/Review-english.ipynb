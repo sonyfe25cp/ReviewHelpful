{
 "cells": [
  {
   "cell_type": "code",
   "execution_count": 1,
   "metadata": {
    "collapsed": true
   },
   "outputs": [],
   "source": [
    "%matplotlib inline\n",
    "import sys\n",
    "import numpy as np\n",
    "import pandas as pd\n",
    "import matplotlib.pyplot as plt\n",
    "import nltk\n",
    "from sklearn.cross_validation import cross_val_score\n",
    "from time import time\n",
    "from sklearn.preprocessing import Normalizer"
   ]
  },
  {
   "cell_type": "code",
   "execution_count": 2,
   "metadata": {
    "collapsed": false
   },
   "outputs": [
    {
     "name": "stdout",
     "output_type": "stream",
     "text": [
      "datas.size:  19030\n",
      "['A1004AX2J2HXGL', 'B00003CWPL', 'December 2, 2003', '111', '125', '5.0', '\"But what the hell do they know, I said?\"', ' If you\\'re reading this, then you\\'ve seen this movie or are at least curious what all the hype is about?    The late Stanley Kubrick, the only major filmmaker Lynch has cited as a direct cinematic influence, believed that ERASERHEAD was one of the most perfect \"cinematic experiences\" created to date.  This movie has enjoyed success on the midnight movie circuit for years, particularly in NYC where it ran almost every night for something like five years straight. I\\'ve seen it on big and little screens in three different states.  Insofar as interpretations are concerned, I\\'ve long since tossed all that out the window.  In terms of rational comprehension, ERASERHEAD is the fabled big fish that remains brilliantly elusive of any attempts to capture it.     This movie gets better, and more humorous, every time I watch it: in my opinion - ERASERHEAD is the cinematic experience that comes the closest to capturing \"dream logic\", next to the equally brilliant WAKING LIFE.  If you ever get the chance, watch ERASERHEAD in a movie theater with a great sound system - you will understand why Stanley Kubrick was moved enough to make his statement.  It\\'s like experiencing someone else\\'s dream - the ultimate act of voyeurism?  As if I was granted audience to a demonstration of delicate brain surgery, and catching glimpses of the patient\\'s face throughout the operation (particularly the opening scene).  It creates such a visceral landscape with its dark, peculiar selections of image and sound, that it seems to be constantly reminding you that the \"soul\" is helplessly sloshing around somewhere inside an organic bag of blood, bone, hair follicles, industrial shrapnel, dirt piles and antique radiators; a terrifying and beautiful delineation of a living creature suddenly made aware of its own being (birth imagery abounding).  It is a perfect symphony of sound and image, amazing work for a first time feature film director!  I\\'ve seen this movie placed in the HORROR section at local video stores; it\\'s better suited for the COMEDY section, I fear.  The movie was created on the AFI campus in California; production beginning his last year there, and continuing on for several more years in secret.  Not for everyone, but certainly worth a peek.    I own a copy of ERASERHEAD on DVD, finally.  It is available at David Lynch\\'s website for forty-five bucks plus shipping and handling.  Remastered sound and image, includes a few extras - the standout is a \"stylized\" interview with Lynch about the making of the film, the characters involved and anecdotes.    BTW - where is WILD AT HEART and LOST HIGHWAY for our DVD pleasure?     \\n', 0.89]\n"
     ]
    }
   ],
   "source": [
    "file_path = '/data/opinion_spam/real/reviewsNew.txt-utf8'\n",
    "datas = []\n",
    "MIN_FD = 100\n",
    "raw_file = open(file_path)\n",
    "debug = False\n",
    "debug_size = 100\n",
    "_debug_count = 0\n",
    "for line in raw_file:    \n",
    "    try:\n",
    "        line = line.decode('gbk')\n",
    "    except:\n",
    "        continue\n",
    "    #print 'gbk', line\n",
    "    line = line.encode('utf-8')\n",
    "    #print 'utf8', line\n",
    "    item = line.split('\\t')\n",
    "    if len(item) == 8:\n",
    "        hfd = float(item[3])\n",
    "        fd = float(item[4])\n",
    "        ratings = float(item[5])\n",
    "        if fd > MIN_FD:\n",
    "            hfdfd = round(hfd/fd, 2)\n",
    "            #whole_filted_body += item[7]\n",
    "            item.append(hfdfd)\n",
    "            datas.append(item)\n",
    "            if debug == True:\n",
    "                _debug_count += 1\n",
    "                if _debug_count >= debug_size:\n",
    "                    break\n",
    "raw_file.close()\n",
    "print 'datas.size: ', len(datas)\n",
    "print datas[0]"
   ]
  },
  {
   "cell_type": "code",
   "execution_count": 3,
   "metadata": {
    "collapsed": false
   },
   "outputs": [
    {
     "data": {
      "text/html": [
       "<div>\n",
       "<table border=\"1\" class=\"dataframe\">\n",
       "  <thead>\n",
       "    <tr style=\"text-align: right;\">\n",
       "      <th></th>\n",
       "      <th>rid</th>\n",
       "      <th>pid</th>\n",
       "      <th>date</th>\n",
       "      <th>hfd</th>\n",
       "      <th>fd</th>\n",
       "      <th>rating</th>\n",
       "      <th>title</th>\n",
       "      <th>body</th>\n",
       "      <th>hfdfd</th>\n",
       "    </tr>\n",
       "  </thead>\n",
       "  <tbody>\n",
       "    <tr>\n",
       "      <th>0</th>\n",
       "      <td>A1004AX2J2HXGL</td>\n",
       "      <td>B00003CWPL</td>\n",
       "      <td>December 2, 2003</td>\n",
       "      <td>111</td>\n",
       "      <td>125</td>\n",
       "      <td>5</td>\n",
       "      <td>\"But what the hell do they know, I said?\"</td>\n",
       "      <td>If you're reading this, then you've seen this...</td>\n",
       "      <td>0.89</td>\n",
       "    </tr>\n",
       "    <tr>\n",
       "      <th>1</th>\n",
       "      <td>A103PHKSEPT10R</td>\n",
       "      <td>0939484463</td>\n",
       "      <td>July 5, 2000</td>\n",
       "      <td>69</td>\n",
       "      <td>116</td>\n",
       "      <td>5</td>\n",
       "      <td>Credible, Interesting, &amp; Devasting</td>\n",
       "      <td>I've read Prof Butz's book twice and an still...</td>\n",
       "      <td>0.59</td>\n",
       "    </tr>\n",
       "    <tr>\n",
       "      <th>2</th>\n",
       "      <td>A103U0Q3IKSXHE</td>\n",
       "      <td>0875845851</td>\n",
       "      <td>January 29, 2000</td>\n",
       "      <td>111</td>\n",
       "      <td>115</td>\n",
       "      <td>4</td>\n",
       "      <td>Identifying the horns of the dilemma.</td>\n",
       "      <td>Prior to reading this book, I chalked up the ...</td>\n",
       "      <td>0.97</td>\n",
       "    </tr>\n",
       "    <tr>\n",
       "      <th>3</th>\n",
       "      <td>A105YVLAZNYQUU</td>\n",
       "      <td>B000634DCW</td>\n",
       "      <td>June 21, 2005</td>\n",
       "      <td>6</td>\n",
       "      <td>112</td>\n",
       "      <td>1</td>\n",
       "      <td>UGGHHH</td>\n",
       "      <td>Craptacular and boring. The cinematography an...</td>\n",
       "      <td>0.05</td>\n",
       "    </tr>\n",
       "    <tr>\n",
       "      <th>4</th>\n",
       "      <td>A1075MZNVRMSEO</td>\n",
       "      <td>1563249367</td>\n",
       "      <td>April 2, 2002</td>\n",
       "      <td>190</td>\n",
       "      <td>190</td>\n",
       "      <td>5</td>\n",
       "      <td>A historical portrait &amp; revelation- un chin de...</td>\n",
       "      <td>This book is a fascinating journey through th...</td>\n",
       "      <td>1.00</td>\n",
       "    </tr>\n",
       "  </tbody>\n",
       "</table>\n",
       "</div>"
      ],
      "text/plain": [
       "              rid         pid              date  hfd   fd  rating  \\\n",
       "0  A1004AX2J2HXGL  B00003CWPL  December 2, 2003  111  125       5   \n",
       "1  A103PHKSEPT10R  0939484463      July 5, 2000   69  116       5   \n",
       "2  A103U0Q3IKSXHE  0875845851  January 29, 2000  111  115       4   \n",
       "3  A105YVLAZNYQUU  B000634DCW     June 21, 2005    6  112       1   \n",
       "4  A1075MZNVRMSEO  1563249367     April 2, 2002  190  190       5   \n",
       "\n",
       "                                               title  \\\n",
       "0          \"But what the hell do they know, I said?\"   \n",
       "1                 Credible, Interesting, & Devasting   \n",
       "2              Identifying the horns of the dilemma.   \n",
       "3                                             UGGHHH   \n",
       "4  A historical portrait & revelation- un chin de...   \n",
       "\n",
       "                                                body  hfdfd  \n",
       "0   If you're reading this, then you've seen this...   0.89  \n",
       "1   I've read Prof Butz's book twice and an still...   0.59  \n",
       "2   Prior to reading this book, I chalked up the ...   0.97  \n",
       "3   Craptacular and boring. The cinematography an...   0.05  \n",
       "4   This book is a fascinating journey through th...   1.00  "
      ]
     },
     "execution_count": 3,
     "metadata": {},
     "output_type": "execute_result"
    }
   ],
   "source": [
    "#set column names\n",
    "column_names = ['rid', 'pid', 'date', 'hfd', 'fd', 'rating', 'title', 'body', 'hfdfd']\n",
    "df = pd.DataFrame(datas)\n",
    "df.columns = column_names\n",
    "\n",
    "#transfer the type of column\n",
    "df[['hfd', 'fd','rating']] = df[['hfd', 'fd', 'rating']].astype(float)\n",
    "\n",
    "df.head()\n"
   ]
  },
  {
   "cell_type": "code",
   "execution_count": 4,
   "metadata": {
    "collapsed": false
   },
   "outputs": [
    {
     "data": {
      "text/html": [
       "<div>\n",
       "<table border=\"1\" class=\"dataframe\">\n",
       "  <thead>\n",
       "    <tr style=\"text-align: right;\">\n",
       "      <th></th>\n",
       "      <th>hfd</th>\n",
       "      <th>fd</th>\n",
       "      <th>rating</th>\n",
       "      <th>hfdfd</th>\n",
       "    </tr>\n",
       "  </thead>\n",
       "  <tbody>\n",
       "    <tr>\n",
       "      <th>count</th>\n",
       "      <td>19030.000000</td>\n",
       "      <td>19030.000000</td>\n",
       "      <td>19030.000000</td>\n",
       "      <td>19030.000000</td>\n",
       "    </tr>\n",
       "    <tr>\n",
       "      <th>mean</th>\n",
       "      <td>123.107672</td>\n",
       "      <td>175.208618</td>\n",
       "      <td>3.517236</td>\n",
       "      <td>0.686647</td>\n",
       "    </tr>\n",
       "    <tr>\n",
       "      <th>std</th>\n",
       "      <td>136.356483</td>\n",
       "      <td>148.217463</td>\n",
       "      <td>1.690639</td>\n",
       "      <td>0.332032</td>\n",
       "    </tr>\n",
       "    <tr>\n",
       "      <th>min</th>\n",
       "      <td>0.000000</td>\n",
       "      <td>101.000000</td>\n",
       "      <td>1.000000</td>\n",
       "      <td>0.000000</td>\n",
       "    </tr>\n",
       "    <tr>\n",
       "      <th>25%</th>\n",
       "      <td>56.000000</td>\n",
       "      <td>114.000000</td>\n",
       "      <td>2.000000</td>\n",
       "      <td>0.390000</td>\n",
       "    </tr>\n",
       "    <tr>\n",
       "      <th>50%</th>\n",
       "      <td>106.000000</td>\n",
       "      <td>138.000000</td>\n",
       "      <td>4.000000</td>\n",
       "      <td>0.860000</td>\n",
       "    </tr>\n",
       "    <tr>\n",
       "      <th>75%</th>\n",
       "      <td>147.000000</td>\n",
       "      <td>186.000000</td>\n",
       "      <td>5.000000</td>\n",
       "      <td>0.970000</td>\n",
       "    </tr>\n",
       "    <tr>\n",
       "      <th>max</th>\n",
       "      <td>8026.000000</td>\n",
       "      <td>8262.000000</td>\n",
       "      <td>5.000000</td>\n",
       "      <td>1.000000</td>\n",
       "    </tr>\n",
       "  </tbody>\n",
       "</table>\n",
       "</div>"
      ],
      "text/plain": [
       "                hfd            fd        rating         hfdfd\n",
       "count  19030.000000  19030.000000  19030.000000  19030.000000\n",
       "mean     123.107672    175.208618      3.517236      0.686647\n",
       "std      136.356483    148.217463      1.690639      0.332032\n",
       "min        0.000000    101.000000      1.000000      0.000000\n",
       "25%       56.000000    114.000000      2.000000      0.390000\n",
       "50%      106.000000    138.000000      4.000000      0.860000\n",
       "75%      147.000000    186.000000      5.000000      0.970000\n",
       "max     8026.000000   8262.000000      5.000000      1.000000"
      ]
     },
     "execution_count": 4,
     "metadata": {},
     "output_type": "execute_result"
    }
   ],
   "source": [
    "df.describe()"
   ]
  },
  {
   "cell_type": "code",
   "execution_count": 5,
   "metadata": {
    "collapsed": false
   },
   "outputs": [
    {
     "data": {
      "text/plain": [
       "<matplotlib.text.Text at 0x7f3d34248c50>"
      ]
     },
     "execution_count": 5,
     "metadata": {},
     "output_type": "execute_result"
    },
    {
     "data": {
      "image/png": "[encoded data removed]",
      "text/plain": [
       "<matplotlib.figure.Figure at 0x7f3d34298710>"
      ]
     },
     "metadata": {},
     "output_type": "display_data"
    }
   ],
   "source": [
    "#hfdfd distribution\n",
    "df.hfdfd.hist()\n",
    "plt.title='The Distribute of hfd/fd'\n",
    "plt.xlabel('Score of hfd/fd')\n",
    "plt.ylabel('Count')"
   ]
  },
  {
   "cell_type": "code",
   "execution_count": 13,
   "metadata": {
    "collapsed": false
   },
   "outputs": [
    {
     "data": {
      "image/png": "[encoded data removed]",
      "text/plain": [
       "<matplotlib.figure.Figure at 0x7f3d33d46bd0>"
      ]
     },
     "metadata": {},
     "output_type": "display_data"
    }
   ],
   "source": [
    "#rating distribution\n",
    "df.rating.hist()\n",
    "plt.xlabel('Ratings')\n",
    "plt.ylabel(\"Count\")\n",
    "plt.savefig('ratings.svg')"
   ]
  },
  {
   "cell_type": "code",
   "execution_count": 7,
   "metadata": {
    "collapsed": false
   },
   "outputs": [
    {
     "name": "stdout",
     "output_type": "stream",
     "text": [
      "different product size: 9805\n"
     ]
    }
   ],
   "source": [
    "#count how many products in the dataset  ==》9809 products\n",
    "df.groupby('pid').count().shape\n",
    "print 'different product size:', df.groupby('pid').count().shape[0] "
   ]
  },
  {
   "cell_type": "code",
   "execution_count": 8,
   "metadata": {
    "collapsed": false
   },
   "outputs": [
    {
     "data": {
      "text/plain": [
       "(19030, 9)"
      ]
     },
     "execution_count": 8,
     "metadata": {},
     "output_type": "execute_result"
    }
   ],
   "source": [
    "df.shape"
   ]
  },
  {
   "cell_type": "code",
   "execution_count": 9,
   "metadata": {
    "collapsed": false
   },
   "outputs": [],
   "source": [
    "df['title_len'] = df['title'].apply(len)\n",
    "df['body_len'] = df['body'].apply(len)"
   ]
  },
  {
   "cell_type": "code",
   "execution_count": 10,
   "metadata": {
    "collapsed": false
   },
   "outputs": [
    {
     "data": {
      "text/html": [
       "<div>\n",
       "<table border=\"1\" class=\"dataframe\">\n",
       "  <thead>\n",
       "    <tr style=\"text-align: right;\">\n",
       "      <th></th>\n",
       "      <th>rid</th>\n",
       "      <th>pid</th>\n",
       "      <th>date</th>\n",
       "      <th>hfd</th>\n",
       "      <th>fd</th>\n",
       "      <th>rating</th>\n",
       "      <th>title</th>\n",
       "      <th>body</th>\n",
       "      <th>hfdfd</th>\n",
       "      <th>title_len</th>\n",
       "      <th>body_len</th>\n",
       "    </tr>\n",
       "  </thead>\n",
       "  <tbody>\n",
       "    <tr>\n",
       "      <th>0</th>\n",
       "      <td>A1004AX2J2HXGL</td>\n",
       "      <td>B00003CWPL</td>\n",
       "      <td>December 2, 2003</td>\n",
       "      <td>111</td>\n",
       "      <td>125</td>\n",
       "      <td>5</td>\n",
       "      <td>\"But what the hell do they know, I said?\"</td>\n",
       "      <td>If you're reading this, then you've seen this...</td>\n",
       "      <td>0.89</td>\n",
       "      <td>41</td>\n",
       "      <td>2642</td>\n",
       "    </tr>\n",
       "    <tr>\n",
       "      <th>1</th>\n",
       "      <td>A103PHKSEPT10R</td>\n",
       "      <td>0939484463</td>\n",
       "      <td>July 5, 2000</td>\n",
       "      <td>69</td>\n",
       "      <td>116</td>\n",
       "      <td>5</td>\n",
       "      <td>Credible, Interesting, &amp; Devasting</td>\n",
       "      <td>I've read Prof Butz's book twice and an still...</td>\n",
       "      <td>0.59</td>\n",
       "      <td>34</td>\n",
       "      <td>313</td>\n",
       "    </tr>\n",
       "    <tr>\n",
       "      <th>2</th>\n",
       "      <td>A103U0Q3IKSXHE</td>\n",
       "      <td>0875845851</td>\n",
       "      <td>January 29, 2000</td>\n",
       "      <td>111</td>\n",
       "      <td>115</td>\n",
       "      <td>4</td>\n",
       "      <td>Identifying the horns of the dilemma.</td>\n",
       "      <td>Prior to reading this book, I chalked up the ...</td>\n",
       "      <td>0.97</td>\n",
       "      <td>37</td>\n",
       "      <td>1495</td>\n",
       "    </tr>\n",
       "    <tr>\n",
       "      <th>3</th>\n",
       "      <td>A105YVLAZNYQUU</td>\n",
       "      <td>B000634DCW</td>\n",
       "      <td>June 21, 2005</td>\n",
       "      <td>6</td>\n",
       "      <td>112</td>\n",
       "      <td>1</td>\n",
       "      <td>UGGHHH</td>\n",
       "      <td>Craptacular and boring. The cinematography an...</td>\n",
       "      <td>0.05</td>\n",
       "      <td>6</td>\n",
       "      <td>1045</td>\n",
       "    </tr>\n",
       "    <tr>\n",
       "      <th>4</th>\n",
       "      <td>A1075MZNVRMSEO</td>\n",
       "      <td>1563249367</td>\n",
       "      <td>April 2, 2002</td>\n",
       "      <td>190</td>\n",
       "      <td>190</td>\n",
       "      <td>5</td>\n",
       "      <td>A historical portrait &amp; revelation- un chin de...</td>\n",
       "      <td>This book is a fascinating journey through th...</td>\n",
       "      <td>1.00</td>\n",
       "      <td>59</td>\n",
       "      <td>2180</td>\n",
       "    </tr>\n",
       "  </tbody>\n",
       "</table>\n",
       "</div>"
      ],
      "text/plain": [
       "              rid         pid              date  hfd   fd  rating  \\\n",
       "0  A1004AX2J2HXGL  B00003CWPL  December 2, 2003  111  125       5   \n",
       "1  A103PHKSEPT10R  0939484463      July 5, 2000   69  116       5   \n",
       "2  A103U0Q3IKSXHE  0875845851  January 29, 2000  111  115       4   \n",
       "3  A105YVLAZNYQUU  B000634DCW     June 21, 2005    6  112       1   \n",
       "4  A1075MZNVRMSEO  1563249367     April 2, 2002  190  190       5   \n",
       "\n",
       "                                               title  \\\n",
       "0          \"But what the hell do they know, I said?\"   \n",
       "1                 Credible, Interesting, & Devasting   \n",
       "2              Identifying the horns of the dilemma.   \n",
       "3                                             UGGHHH   \n",
       "4  A historical portrait & revelation- un chin de...   \n",
       "\n",
       "                                                body  hfdfd  title_len  \\\n",
       "0   If you're reading this, then you've seen this...   0.89         41   \n",
       "1   I've read Prof Butz's book twice and an still...   0.59         34   \n",
       "2   Prior to reading this book, I chalked up the ...   0.97         37   \n",
       "3   Craptacular and boring. The cinematography an...   0.05          6   \n",
       "4   This book is a fascinating journey through th...   1.00         59   \n",
       "\n",
       "   body_len  \n",
       "0      2642  \n",
       "1       313  \n",
       "2      1495  \n",
       "3      1045  \n",
       "4      2180  "
      ]
     },
     "execution_count": 10,
     "metadata": {},
     "output_type": "execute_result"
    }
   ],
   "source": [
    "df.head()"
   ]
  },
  {
   "cell_type": "code",
   "execution_count": 11,
   "metadata": {
    "collapsed": false
   },
   "outputs": [
    {
     "data": {
      "text/plain": [
       "<matplotlib.text.Text at 0x7f3d34150050>"
      ]
     },
     "execution_count": 11,
     "metadata": {},
     "output_type": "execute_result"
    },
    {
     "data": {
      "image/png": "[encoded data removed]",
      "text/plain": [
       "<matplotlib.figure.Figure at 0x7f3d340041d0>"
      ]
     },
     "metadata": {},
     "output_type": "display_data"
    }
   ],
   "source": [
    "df['title_len'].hist()\n",
    "plt.xlabel('length of review title')\n",
    "plt.ylabel('counts')"
   ]
  },
  {
   "cell_type": "code",
   "execution_count": 12,
   "metadata": {
    "collapsed": false
   },
   "outputs": [
    {
     "name": "stderr",
     "output_type": "stream",
     "text": [
      "/usr/local/lib/python2.7/dist-packages/pandas/core/frame.py:1997: UserWarning: Boolean Series key will be reindexed to match DataFrame index.\n",
      "  \"DataFrame index.\", UserWarning)\n"
     ]
    },
    {
     "ename": "AttributeError",
     "evalue": "'module' object has no attribute 'save'",
     "output_type": "error",
     "traceback": [
      "\u001b[1;31m---------------------------------------------------------------------------\u001b[0m",
      "\u001b[1;31mAttributeError\u001b[0m                            Traceback (most recent call last)",
      "\u001b[1;32m<ipython-input-12-20b26a4f25e7>\u001b[0m in \u001b[0;36m<module>\u001b[1;34m()\u001b[0m\n\u001b[0;32m      3\u001b[0m \u001b[0mplt\u001b[0m\u001b[1;33m.\u001b[0m\u001b[0mxlabel\u001b[0m\u001b[1;33m(\u001b[0m\u001b[1;34m\"length of review body\"\u001b[0m\u001b[1;33m)\u001b[0m\u001b[1;33m\u001b[0m\u001b[0m\n\u001b[0;32m      4\u001b[0m \u001b[0mplt\u001b[0m\u001b[1;33m.\u001b[0m\u001b[0mylabel\u001b[0m\u001b[1;33m(\u001b[0m\u001b[1;34m\"counts\"\u001b[0m\u001b[1;33m)\u001b[0m\u001b[1;33m\u001b[0m\u001b[0m\n\u001b[1;32m----> 5\u001b[1;33m \u001b[0mplt\u001b[0m\u001b[1;33m.\u001b[0m\u001b[0msave\u001b[0m\u001b[1;33m(\u001b[0m\u001b[1;34m'review_length_distribution.svg'\u001b[0m\u001b[1;33m)\u001b[0m\u001b[1;33m\u001b[0m\u001b[0m\n\u001b[0m",
      "\u001b[1;31mAttributeError\u001b[0m: 'module' object has no attribute 'save'"
     ]
    },
    {
     "data": {
      "image/png": "[encoded data removed]",
      "text/plain": [
       "<matplotlib.figure.Figure at 0x7f3d33f7a610>"
      ]
     },
     "metadata": {},
     "output_type": "display_data"
    }
   ],
   "source": [
    "df[df['body_len'] > 10][df['body_len'] < 5000]['body_len'].hist()\n",
    "plt.xlim(0, 5000)\n",
    "plt.xlabel(\"length of review body\")\n",
    "plt.ylabel(\"counts\")\n",
    "plt.savefig('review_length_distribution.svg')"
   ]
  },
  {
   "cell_type": "code",
   "execution_count": 13,
   "metadata": {
    "collapsed": false
   },
   "outputs": [
    {
     "data": {
      "text/html": [
       "<div>\n",
       "<table border=\"1\" class=\"dataframe\">\n",
       "  <thead>\n",
       "    <tr style=\"text-align: right;\">\n",
       "      <th></th>\n",
       "      <th>title_len</th>\n",
       "      <th>body_len</th>\n",
       "    </tr>\n",
       "  </thead>\n",
       "  <tbody>\n",
       "    <tr>\n",
       "      <th>count</th>\n",
       "      <td>19030.000000</td>\n",
       "      <td>19030.000000</td>\n",
       "    </tr>\n",
       "    <tr>\n",
       "      <th>mean</th>\n",
       "      <td>32.753127</td>\n",
       "      <td>1883.683710</td>\n",
       "    </tr>\n",
       "    <tr>\n",
       "      <th>std</th>\n",
       "      <td>14.986119</td>\n",
       "      <td>1674.283969</td>\n",
       "    </tr>\n",
       "    <tr>\n",
       "      <th>min</th>\n",
       "      <td>0.000000</td>\n",
       "      <td>9.000000</td>\n",
       "    </tr>\n",
       "    <tr>\n",
       "      <th>25%</th>\n",
       "      <td>21.000000</td>\n",
       "      <td>715.000000</td>\n",
       "    </tr>\n",
       "    <tr>\n",
       "      <th>50%</th>\n",
       "      <td>31.000000</td>\n",
       "      <td>1383.000000</td>\n",
       "    </tr>\n",
       "    <tr>\n",
       "      <th>75%</th>\n",
       "      <td>44.000000</td>\n",
       "      <td>2533.750000</td>\n",
       "    </tr>\n",
       "    <tr>\n",
       "      <th>max</th>\n",
       "      <td>128.000000</td>\n",
       "      <td>26425.000000</td>\n",
       "    </tr>\n",
       "  </tbody>\n",
       "</table>\n",
       "</div>"
      ],
      "text/plain": [
       "          title_len      body_len\n",
       "count  19030.000000  19030.000000\n",
       "mean      32.753127   1883.683710\n",
       "std       14.986119   1674.283969\n",
       "min        0.000000      9.000000\n",
       "25%       21.000000    715.000000\n",
       "50%       31.000000   1383.000000\n",
       "75%       44.000000   2533.750000\n",
       "max      128.000000  26425.000000"
      ]
     },
     "execution_count": 13,
     "metadata": {},
     "output_type": "execute_result"
    }
   ],
   "source": [
    "df[['title_len', 'body_len']].describe()"
   ]
  },
  {
   "cell_type": "markdown",
   "metadata": {},
   "source": [
    "# TFIDF features"
   ]
  },
  {
   "cell_type": "code",
   "execution_count": 5,
   "metadata": {
    "collapsed": false
   },
   "outputs": [
    {
     "name": "stdout",
     "output_type": "stream",
     "text": [
      "the tfidf matrix size :  (19030, 10000)\n",
      "<class 'scipy.sparse.csr.csr_matrix'>\n"
     ]
    },
    {
     "name": "stderr",
     "output_type": "stream",
     "text": [
      "/usr/local/lib/python2.7/dist-packages/numpy/core/fromnumeric.py:2507: VisibleDeprecationWarning: `rank` is deprecated; use the `ndim` attribute or function instead. To find the rank of a matrix see `numpy.linalg.matrix_rank`.\n",
      "  VisibleDeprecationWarning)\n"
     ]
    }
   ],
   "source": [
    "#TFIDF feature without lsa\n",
    "\n",
    "import evaluation_self as es\n",
    "max_features_count = 10000\n",
    "from sklearn.feature_extraction.text import TfidfVectorizer\n",
    "vectorizer = TfidfVectorizer(max_df=0.5, max_features=max_features_count,\n",
    "                                 min_df=2, stop_words='english', tokenizer = es.tokenize_and_stem)\n",
    "\n",
    "tfidf_matrix = vectorizer.fit_transform(df.body)\n",
    "print \"the tfidf matrix size : \",tfidf_matrix.shape\n",
    "print type(tfidf_matrix)\n"
   ]
  },
  {
   "cell_type": "code",
   "execution_count": 15,
   "metadata": {
    "collapsed": false
   },
   "outputs": [
    {
     "name": "stdout",
     "output_type": "stream",
     "text": [
      "TFIDF-cv10-LSVR, mse: [ 0.06440026  0.06995006  0.07005705  0.07386458  0.07330366  0.06633243\n",
      "  0.07306818  0.08394087  0.15534793  0.08458308]\n",
      "TFIDF-cv10-LSVR, mse mean: 0.0814848111148\n",
      "TFIDF-cv10-LSVR, rmse: [ 0.25377207  0.26448074  0.26468293  0.27178038  0.27074649  0.25755084\n",
      "  0.27031127  0.28972552  0.39414201  0.2908317 ]\n",
      "TFIDF-cv10-LSVR, rmse mean: 0.282802394747\n"
     ]
    }
   ],
   "source": [
    "#TFIDF-CV-10-lsvr\n",
    "from sklearn.svm import LinearSVR\n",
    "\n",
    "lsvr = LinearSVR()\n",
    "\n",
    "\n",
    "\n",
    "scores2 = cross_val_score(lsvr, tfidf_matrix, df.hfdfd, cv=10, scoring=\"mean_squared_error\")\n",
    "\n",
    "mse2 = abs(scores2)\n",
    "print 'TFIDF-cv10-LSVR, mse:', mse2\n",
    "print 'TFIDF-cv10-LSVR, mse mean:', np.mean(mse2)\n",
    "print 'TFIDF-cv10-LSVR, rmse:', np.sqrt(mse2)\n",
    "print 'TFIDF-cv10-LSVR, rmse mean:', np.mean(np.sqrt(mse2))"
   ]
  },
  {
   "cell_type": "code",
   "execution_count": 16,
   "metadata": {
    "collapsed": false
   },
   "outputs": [
    {
     "name": "stdout",
     "output_type": "stream",
     "text": [
      "TFIDF-cv10-SVR, mse: [ 0.06535288  0.08267146  0.0836586   0.08762576  0.09181428  0.09191942\n",
      "  0.10392582  0.15176034  0.34089973  0.1576381 ]\n",
      "TFIDF-cv10-SVR, mse mean: 0.125726639572\n",
      "TFIDF-cv10-SVR, rmse: [ 0.25564209  0.28752646  0.28923797  0.29601648  0.3030087   0.30318216\n",
      "  0.32237528  0.3895643   0.5838662   0.39703665]\n",
      "TFIDF-cv10-SVR, rmse mean: 0.342745628241\n"
     ]
    }
   ],
   "source": [
    "#TFIDF-CV-10-svr\n",
    "from sklearn.svm import SVR\n",
    "\n",
    "svr = SVR()\n",
    "\n",
    "from sklearn.cross_validation import cross_val_score\n",
    "\n",
    "scores2 = cross_val_score(svr, tfidf_matrix, df.hfdfd, cv=10, scoring=\"mean_squared_error\")\n",
    "\n",
    "mse2 = abs(scores2)\n",
    "print 'TFIDF-cv10-SVR, mse:', mse2\n",
    "print 'TFIDF-cv10-SVR, mse mean:', np.mean(mse2)\n",
    "print 'TFIDF-cv10-SVR, rmse:', np.sqrt(mse2)\n",
    "print 'TFIDF-cv10-SVR, rmse mean:', np.mean(np.sqrt(mse2))"
   ]
  },
  {
   "cell_type": "code",
   "execution_count": 95,
   "metadata": {
    "collapsed": false
   },
   "outputs": [
    {
     "name": "stdout",
     "output_type": "stream",
     "text": [
      "TFIDF-cv10-LR, mse: [ 0.13498981  0.1361512   0.13288354  0.13928257  0.13139293  0.12897797\n",
      "  0.1218409   0.14413322  0.20896691  0.14242456]\n",
      "TFIDF-cv10-LR, mse mean: 0.142104362512\n",
      "TFIDF-cv10-LR, rmse: [ 0.36740959  0.36898672  0.36453195  0.37320581  0.36248163  0.35913503\n",
      "  0.34905716  0.37964881  0.45712899  0.37739178]\n",
      "TFIDF-cv10-LR, rmse mean: 0.375897748311\n"
     ]
    }
   ],
   "source": [
    "#TFIDF-CV-10-lr\n",
    "from sklearn.linear_model import LinearRegression\n",
    "\n",
    "lr = LinearRegression()\n",
    "\n",
    "from sklearn.cross_validation import cross_val_score\n",
    "\n",
    "scores2 = cross_val_score(lr, tfidf_matrix, df.hfdfd, cv=10, scoring=\"mean_squared_error\")\n",
    "\n",
    "mse2 = abs(scores2)\n",
    "print 'TFIDF-cv10-LR, mse:', mse2\n",
    "print 'TFIDF-cv10-LR, mse mean:', np.mean(mse2)\n",
    "print 'TFIDF-cv10-LR, rmse:', np.sqrt(mse2)\n",
    "print 'TFIDF-cv10-LR, rmse mean:', np.mean(np.sqrt(mse2))"
   ]
  },
  {
   "cell_type": "code",
   "execution_count": 96,
   "metadata": {
    "collapsed": false
   },
   "outputs": [
    {
     "ename": "ValueError",
     "evalue": "Unknown label type: array([ 0.5 ,  0.94,  0.46, ...,  0.23,  0.28,  0.28])",
     "output_type": "error",
     "traceback": [
      "\u001b[1;31m---------------------------------------------------------------------------\u001b[0m",
      "\u001b[1;31mValueError\u001b[0m                                Traceback (most recent call last)",
      "\u001b[1;32m<ipython-input-96-1313ef37e20c>\u001b[0m in \u001b[0;36m<module>\u001b[1;34m()\u001b[0m\n\u001b[0;32m      6\u001b[0m \u001b[1;32mfrom\u001b[0m \u001b[0msklearn\u001b[0m\u001b[1;33m.\u001b[0m\u001b[0mcross_validation\u001b[0m \u001b[1;32mimport\u001b[0m \u001b[0mcross_val_score\u001b[0m\u001b[1;33m\u001b[0m\u001b[0m\n\u001b[0;32m      7\u001b[0m \u001b[1;33m\u001b[0m\u001b[0m\n\u001b[1;32m----> 8\u001b[1;33m \u001b[0mscores2\u001b[0m \u001b[1;33m=\u001b[0m \u001b[0mcross_val_score\u001b[0m\u001b[1;33m(\u001b[0m\u001b[0mtfidf_lgr\u001b[0m\u001b[1;33m,\u001b[0m \u001b[0mtfidf_matrix\u001b[0m\u001b[1;33m,\u001b[0m \u001b[0mdf\u001b[0m\u001b[1;33m.\u001b[0m\u001b[0mhfdfd\u001b[0m\u001b[1;33m,\u001b[0m \u001b[0mcv\u001b[0m\u001b[1;33m=\u001b[0m\u001b[1;36m10\u001b[0m\u001b[1;33m,\u001b[0m \u001b[0mscoring\u001b[0m\u001b[1;33m=\u001b[0m\u001b[1;34m\"mean_squared_error\"\u001b[0m\u001b[1;33m)\u001b[0m\u001b[1;33m\u001b[0m\u001b[0m\n\u001b[0m\u001b[0;32m      9\u001b[0m \u001b[1;33m\u001b[0m\u001b[0m\n\u001b[0;32m     10\u001b[0m \u001b[0mmse2\u001b[0m \u001b[1;33m=\u001b[0m \u001b[0mabs\u001b[0m\u001b[1;33m(\u001b[0m\u001b[0mscores2\u001b[0m\u001b[1;33m)\u001b[0m\u001b[1;33m\u001b[0m\u001b[0m\n",
      "\u001b[1;32m/usr/local/lib/python2.7/dist-packages/sklearn/cross_validation.pyc\u001b[0m in \u001b[0;36mcross_val_score\u001b[1;34m(estimator, X, y, scoring, cv, n_jobs, verbose, fit_params, pre_dispatch)\u001b[0m\n\u001b[0;32m   1431\u001b[0m                                               \u001b[0mtrain\u001b[0m\u001b[1;33m,\u001b[0m \u001b[0mtest\u001b[0m\u001b[1;33m,\u001b[0m \u001b[0mverbose\u001b[0m\u001b[1;33m,\u001b[0m \u001b[0mNone\u001b[0m\u001b[1;33m,\u001b[0m\u001b[1;33m\u001b[0m\u001b[0m\n\u001b[0;32m   1432\u001b[0m                                               fit_params)\n\u001b[1;32m-> 1433\u001b[1;33m                       for train, test in cv)\n\u001b[0m\u001b[0;32m   1434\u001b[0m     \u001b[1;32mreturn\u001b[0m \u001b[0mnp\u001b[0m\u001b[1;33m.\u001b[0m\u001b[0marray\u001b[0m\u001b[1;33m(\u001b[0m\u001b[0mscores\u001b[0m\u001b[1;33m)\u001b[0m\u001b[1;33m[\u001b[0m\u001b[1;33m:\u001b[0m\u001b[1;33m,\u001b[0m \u001b[1;36m0\u001b[0m\u001b[1;33m]\u001b[0m\u001b[1;33m\u001b[0m\u001b[0m\n\u001b[0;32m   1435\u001b[0m \u001b[1;33m\u001b[0m\u001b[0m\n",
      "\u001b[1;32m/usr/local/lib/python2.7/dist-packages/sklearn/externals/joblib/parallel.pyc\u001b[0m in \u001b[0;36m__call__\u001b[1;34m(self, iterable)\u001b[0m\n\u001b[0;32m    802\u001b[0m             \u001b[0mself\u001b[0m\u001b[1;33m.\u001b[0m\u001b[0m_iterating\u001b[0m \u001b[1;33m=\u001b[0m \u001b[0mTrue\u001b[0m\u001b[1;33m\u001b[0m\u001b[0m\n\u001b[0;32m    803\u001b[0m \u001b[1;33m\u001b[0m\u001b[0m\n\u001b[1;32m--> 804\u001b[1;33m             \u001b[1;32mwhile\u001b[0m \u001b[0mself\u001b[0m\u001b[1;33m.\u001b[0m\u001b[0mdispatch_one_batch\u001b[0m\u001b[1;33m(\u001b[0m\u001b[0miterator\u001b[0m\u001b[1;33m)\u001b[0m\u001b[1;33m:\u001b[0m\u001b[1;33m\u001b[0m\u001b[0m\n\u001b[0m\u001b[0;32m    805\u001b[0m                 \u001b[1;32mpass\u001b[0m\u001b[1;33m\u001b[0m\u001b[0m\n\u001b[0;32m    806\u001b[0m \u001b[1;33m\u001b[0m\u001b[0m\n",
      "\u001b[1;32m/usr/local/lib/python2.7/dist-packages/sklearn/externals/joblib/parallel.pyc\u001b[0m in \u001b[0;36mdispatch_one_batch\u001b[1;34m(self, iterator)\u001b[0m\n\u001b[0;32m    660\u001b[0m                 \u001b[1;32mreturn\u001b[0m \u001b[0mFalse\u001b[0m\u001b[1;33m\u001b[0m\u001b[0m\n\u001b[0;32m    661\u001b[0m             \u001b[1;32melse\u001b[0m\u001b[1;33m:\u001b[0m\u001b[1;33m\u001b[0m\u001b[0m\n\u001b[1;32m--> 662\u001b[1;33m                 \u001b[0mself\u001b[0m\u001b[1;33m.\u001b[0m\u001b[0m_dispatch\u001b[0m\u001b[1;33m(\u001b[0m\u001b[0mtasks\u001b[0m\u001b[1;33m)\u001b[0m\u001b[1;33m\u001b[0m\u001b[0m\n\u001b[0m\u001b[0;32m    663\u001b[0m                 \u001b[1;32mreturn\u001b[0m \u001b[0mTrue\u001b[0m\u001b[1;33m\u001b[0m\u001b[0m\n\u001b[0;32m    664\u001b[0m \u001b[1;33m\u001b[0m\u001b[0m\n",
      "\u001b[1;32m/usr/local/lib/python2.7/dist-packages/sklearn/externals/joblib/parallel.pyc\u001b[0m in \u001b[0;36m_dispatch\u001b[1;34m(self, batch)\u001b[0m\n\u001b[0;32m    568\u001b[0m \u001b[1;33m\u001b[0m\u001b[0m\n\u001b[0;32m    569\u001b[0m         \u001b[1;32mif\u001b[0m \u001b[0mself\u001b[0m\u001b[1;33m.\u001b[0m\u001b[0m_pool\u001b[0m \u001b[1;32mis\u001b[0m \u001b[0mNone\u001b[0m\u001b[1;33m:\u001b[0m\u001b[1;33m\u001b[0m\u001b[0m\n\u001b[1;32m--> 570\u001b[1;33m             \u001b[0mjob\u001b[0m \u001b[1;33m=\u001b[0m \u001b[0mImmediateComputeBatch\u001b[0m\u001b[1;33m(\u001b[0m\u001b[0mbatch\u001b[0m\u001b[1;33m)\u001b[0m\u001b[1;33m\u001b[0m\u001b[0m\n\u001b[0m\u001b[0;32m    571\u001b[0m             \u001b[0mself\u001b[0m\u001b[1;33m.\u001b[0m\u001b[0m_jobs\u001b[0m\u001b[1;33m.\u001b[0m\u001b[0mappend\u001b[0m\u001b[1;33m(\u001b[0m\u001b[0mjob\u001b[0m\u001b[1;33m)\u001b[0m\u001b[1;33m\u001b[0m\u001b[0m\n\u001b[0;32m    572\u001b[0m             \u001b[0mself\u001b[0m\u001b[1;33m.\u001b[0m\u001b[0mn_dispatched_batches\u001b[0m \u001b[1;33m+=\u001b[0m \u001b[1;36m1\u001b[0m\u001b[1;33m\u001b[0m\u001b[0m\n",
      "\u001b[1;32m/usr/local/lib/python2.7/dist-packages/sklearn/externals/joblib/parallel.pyc\u001b[0m in \u001b[0;36m__init__\u001b[1;34m(self, batch)\u001b[0m\n\u001b[0;32m    181\u001b[0m         \u001b[1;31m# Don't delay the application, to avoid keeping the input\u001b[0m\u001b[1;33m\u001b[0m\u001b[1;33m\u001b[0m\u001b[0m\n\u001b[0;32m    182\u001b[0m         \u001b[1;31m# arguments in memory\u001b[0m\u001b[1;33m\u001b[0m\u001b[1;33m\u001b[0m\u001b[0m\n\u001b[1;32m--> 183\u001b[1;33m         \u001b[0mself\u001b[0m\u001b[1;33m.\u001b[0m\u001b[0mresults\u001b[0m \u001b[1;33m=\u001b[0m \u001b[0mbatch\u001b[0m\u001b[1;33m(\u001b[0m\u001b[1;33m)\u001b[0m\u001b[1;33m\u001b[0m\u001b[0m\n\u001b[0m\u001b[0;32m    184\u001b[0m \u001b[1;33m\u001b[0m\u001b[0m\n\u001b[0;32m    185\u001b[0m     \u001b[1;32mdef\u001b[0m \u001b[0mget\u001b[0m\u001b[1;33m(\u001b[0m\u001b[0mself\u001b[0m\u001b[1;33m)\u001b[0m\u001b[1;33m:\u001b[0m\u001b[1;33m\u001b[0m\u001b[0m\n",
      "\u001b[1;32m/usr/local/lib/python2.7/dist-packages/sklearn/externals/joblib/parallel.pyc\u001b[0m in \u001b[0;36m__call__\u001b[1;34m(self)\u001b[0m\n\u001b[0;32m     70\u001b[0m \u001b[1;33m\u001b[0m\u001b[0m\n\u001b[0;32m     71\u001b[0m     \u001b[1;32mdef\u001b[0m \u001b[0m__call__\u001b[0m\u001b[1;33m(\u001b[0m\u001b[0mself\u001b[0m\u001b[1;33m)\u001b[0m\u001b[1;33m:\u001b[0m\u001b[1;33m\u001b[0m\u001b[0m\n\u001b[1;32m---> 72\u001b[1;33m         \u001b[1;32mreturn\u001b[0m \u001b[1;33m[\u001b[0m\u001b[0mfunc\u001b[0m\u001b[1;33m(\u001b[0m\u001b[1;33m*\u001b[0m\u001b[0margs\u001b[0m\u001b[1;33m,\u001b[0m \u001b[1;33m**\u001b[0m\u001b[0mkwargs\u001b[0m\u001b[1;33m)\u001b[0m \u001b[1;32mfor\u001b[0m \u001b[0mfunc\u001b[0m\u001b[1;33m,\u001b[0m \u001b[0margs\u001b[0m\u001b[1;33m,\u001b[0m \u001b[0mkwargs\u001b[0m \u001b[1;32min\u001b[0m \u001b[0mself\u001b[0m\u001b[1;33m.\u001b[0m\u001b[0mitems\u001b[0m\u001b[1;33m]\u001b[0m\u001b[1;33m\u001b[0m\u001b[0m\n\u001b[0m\u001b[0;32m     73\u001b[0m \u001b[1;33m\u001b[0m\u001b[0m\n\u001b[0;32m     74\u001b[0m     \u001b[1;32mdef\u001b[0m \u001b[0m__len__\u001b[0m\u001b[1;33m(\u001b[0m\u001b[0mself\u001b[0m\u001b[1;33m)\u001b[0m\u001b[1;33m:\u001b[0m\u001b[1;33m\u001b[0m\u001b[0m\n",
      "\u001b[1;32m/usr/local/lib/python2.7/dist-packages/sklearn/cross_validation.pyc\u001b[0m in \u001b[0;36m_fit_and_score\u001b[1;34m(estimator, X, y, scorer, train, test, verbose, parameters, fit_params, return_train_score, return_parameters, error_score)\u001b[0m\n\u001b[0;32m   1529\u001b[0m             \u001b[0mestimator\u001b[0m\u001b[1;33m.\u001b[0m\u001b[0mfit\u001b[0m\u001b[1;33m(\u001b[0m\u001b[0mX_train\u001b[0m\u001b[1;33m,\u001b[0m \u001b[1;33m**\u001b[0m\u001b[0mfit_params\u001b[0m\u001b[1;33m)\u001b[0m\u001b[1;33m\u001b[0m\u001b[0m\n\u001b[0;32m   1530\u001b[0m         \u001b[1;32melse\u001b[0m\u001b[1;33m:\u001b[0m\u001b[1;33m\u001b[0m\u001b[0m\n\u001b[1;32m-> 1531\u001b[1;33m             \u001b[0mestimator\u001b[0m\u001b[1;33m.\u001b[0m\u001b[0mfit\u001b[0m\u001b[1;33m(\u001b[0m\u001b[0mX_train\u001b[0m\u001b[1;33m,\u001b[0m \u001b[0my_train\u001b[0m\u001b[1;33m,\u001b[0m \u001b[1;33m**\u001b[0m\u001b[0mfit_params\u001b[0m\u001b[1;33m)\u001b[0m\u001b[1;33m\u001b[0m\u001b[0m\n\u001b[0m\u001b[0;32m   1532\u001b[0m \u001b[1;33m\u001b[0m\u001b[0m\n\u001b[0;32m   1533\u001b[0m     \u001b[1;32mexcept\u001b[0m \u001b[0mException\u001b[0m \u001b[1;32mas\u001b[0m \u001b[0me\u001b[0m\u001b[1;33m:\u001b[0m\u001b[1;33m\u001b[0m\u001b[0m\n",
      "\u001b[1;32m/usr/local/lib/python2.7/dist-packages/sklearn/linear_model/logistic.pyc\u001b[0m in \u001b[0;36mfit\u001b[1;34m(self, X, y, sample_weight)\u001b[0m\n\u001b[0;32m   1141\u001b[0m         X, y = check_X_y(X, y, accept_sparse='csr', dtype=np.float64, \n\u001b[0;32m   1142\u001b[0m                          order=\"C\")\n\u001b[1;32m-> 1143\u001b[1;33m         \u001b[0mcheck_classification_targets\u001b[0m\u001b[1;33m(\u001b[0m\u001b[0my\u001b[0m\u001b[1;33m)\u001b[0m\u001b[1;33m\u001b[0m\u001b[0m\n\u001b[0m\u001b[0;32m   1144\u001b[0m         \u001b[0mself\u001b[0m\u001b[1;33m.\u001b[0m\u001b[0mclasses_\u001b[0m \u001b[1;33m=\u001b[0m \u001b[0mnp\u001b[0m\u001b[1;33m.\u001b[0m\u001b[0munique\u001b[0m\u001b[1;33m(\u001b[0m\u001b[0my\u001b[0m\u001b[1;33m)\u001b[0m\u001b[1;33m\u001b[0m\u001b[0m\n\u001b[0;32m   1145\u001b[0m         \u001b[0mn_samples\u001b[0m\u001b[1;33m,\u001b[0m \u001b[0mn_features\u001b[0m \u001b[1;33m=\u001b[0m \u001b[0mX\u001b[0m\u001b[1;33m.\u001b[0m\u001b[0mshape\u001b[0m\u001b[1;33m\u001b[0m\u001b[0m\n",
      "\u001b[1;32m/usr/local/lib/python2.7/dist-packages/sklearn/utils/multiclass.pyc\u001b[0m in \u001b[0;36mcheck_classification_targets\u001b[1;34m(y)\u001b[0m\n\u001b[0;32m    171\u001b[0m     if y_type not in ['binary', 'multiclass', 'multiclass-multioutput', \n\u001b[0;32m    172\u001b[0m             'multilabel-indicator', 'multilabel-sequences']:\n\u001b[1;32m--> 173\u001b[1;33m         \u001b[1;32mraise\u001b[0m \u001b[0mValueError\u001b[0m\u001b[1;33m(\u001b[0m\u001b[1;34m\"Unknown label type: %r\"\u001b[0m \u001b[1;33m%\u001b[0m \u001b[0my\u001b[0m\u001b[1;33m)\u001b[0m\u001b[1;33m\u001b[0m\u001b[0m\n\u001b[0m\u001b[0;32m    174\u001b[0m \u001b[1;33m\u001b[0m\u001b[0m\n\u001b[0;32m    175\u001b[0m \u001b[1;33m\u001b[0m\u001b[0m\n",
      "\u001b[1;31mValueError\u001b[0m: Unknown label type: array([ 0.5 ,  0.94,  0.46, ...,  0.23,  0.28,  0.28])"
     ]
    }
   ],
   "source": [
    "#TFIDF-CV-10-LGR\n",
    "from sklearn.linear_model import LogisticRegression\n",
    "\n",
    "tfidf_lgr = LogisticRegression()\n",
    "\n",
    "from sklearn.cross_validation import cross_val_score\n",
    "\n",
    "scores2 = cross_val_score(tfidf_lgr, tfidf_matrix, df.hfdfd, cv=10, scoring=\"mean_squared_error\")\n",
    "\n",
    "mse2 = abs(scores2)\n",
    "print 'TFIDF-cv10-LGR, mse:', mse2\n",
    "print 'TFIDF-cv10-LGR, mse mean:', np.mean(mse2)\n",
    "print 'TFIDF-cv10-LGR, rmse:', np.sqrt(mse2)\n",
    "print 'TFIDF-cv10-LGR, rmse mean:', np.mean(np.sqrt(mse2))"
   ]
  },
  {
   "cell_type": "markdown",
   "metadata": {},
   "source": [
    "# TFIDF - LSA features"
   ]
  },
  {
   "cell_type": "code",
   "execution_count": 18,
   "metadata": {
    "collapsed": false
   },
   "outputs": [
    {
     "name": "stdout",
     "output_type": "stream",
     "text": [
      "the tfidf matrix size :  (19030, 10000)\n",
      "<class 'scipy.sparse.csr.csr_matrix'>\n",
      "Performing dimensionality reduction using LSA\n",
      "done in  157.651656866\n",
      "Explained variance of the SVD step: 46\n"
     ]
    }
   ],
   "source": [
    "#TFIDF feature without lsa\n",
    "\n",
    "from sklearn.decomposition import TruncatedSVD\n",
    "from sklearn.pipeline import make_pipeline\n",
    "\n",
    "\n",
    "import evaluation_self as es\n",
    "max_features_count = 10000\n",
    "from sklearn.feature_extraction.text import TfidfVectorizer\n",
    "vectorizer = TfidfVectorizer(max_df=0.5, max_features=max_features_count,\n",
    "                                 min_df=2, stop_words='english', tokenizer = es.tokenize_and_stem)\n",
    "lsa_tfidf_matrix = vectorizer.fit_transform(df.body)\n",
    "print \"the tfidf matrix size : \",tfidf_matrix.shape\n",
    "print type(tfidf_matrix)\n",
    "\n",
    "lsaornot = True\n",
    "lsanum = 1000\n",
    "\n",
    "if lsaornot:\n",
    "    print \"Performing dimensionality reduction using LSA\"\n",
    "    t0 = time()\n",
    "    # Vectorizer results are normalized, which makes KMeans behave as\n",
    "    # spherical k-means for better results. Since LSA/SVD results are\n",
    "    # not normalized, we have to redo the normalization.\n",
    "    svd = TruncatedSVD(lsanum)\n",
    "    normalizer = Normalizer(copy=False)\n",
    "    lsa = make_pipeline(svd, normalizer)\n",
    "\n",
    "    lsa_tfidf_matrix = lsa.fit_transform(tfidf_matrix)\n",
    "\n",
    "    print \"done in \", (time() - t0)\n",
    "    explained_variance = svd.explained_variance_ratio_.sum()\n",
    "    print \"Explained variance of the SVD step:\", int(explained_variance * 100)\n"
   ]
  },
  {
   "cell_type": "code",
   "execution_count": 19,
   "metadata": {
    "collapsed": false
   },
   "outputs": [
    {
     "name": "stdout",
     "output_type": "stream",
     "text": [
      "TFIDF-LSA-cv10-LR, mse: [ 0.04775713  0.04903606  0.05047991  0.0514033   0.0526344   0.05189747\n",
      "  0.05573882  0.06658255  0.12604175  0.0630876 ]\n",
      "TFIDF-LSA-cv10-LR, mse mean: 0.0614658994003\n",
      "TFIDF-LSA-cv10-LR, rmse2: [ 0.21853406  0.22144087  0.22467734  0.22672296  0.22942188  0.22781016\n",
      "  0.2360907   0.25803595  0.35502359  0.25117246]\n",
      "TFIDF-LSA-cv10-LR, rmse2 mean: 0.244892997013\n"
     ]
    }
   ],
   "source": [
    "#TFIDF-LSA-cv10-LR\n",
    "from sklearn.linear_model import LinearRegression\n",
    "\n",
    "lr = LinearRegression()\n",
    "\n",
    "from sklearn.cross_validation import cross_val_score\n",
    "\n",
    "scores2 = cross_val_score(lr, lsa_tfidf_matrix, df.hfdfd, cv=10, scoring=\"mean_squared_error\")\n",
    "\n",
    "mse2 = abs(scores2)\n",
    "print 'TFIDF-LSA-cv10-LR, mse:', mse2\n",
    "print 'TFIDF-LSA-cv10-LR, mse mean:', np.mean(mse2)\n",
    "print 'TFIDF-LSA-cv10-LR, rmse2:', np.sqrt(mse2)\n",
    "print 'TFIDF-LSA-cv10-LR, rmse2 mean:', np.mean(np.sqrt(mse2))"
   ]
  },
  {
   "cell_type": "code",
   "execution_count": 20,
   "metadata": {
    "collapsed": false
   },
   "outputs": [
    {
     "name": "stdout",
     "output_type": "stream",
     "text": [
      "TFIDF-cv10-LSVR, mse: [ 0.04706344  0.04842984  0.04951525  0.05136967  0.05365365  0.05135588\n",
      "  0.05463498  0.07197216  0.16755377  0.06823578]\n",
      "TFIDF-cv10-LSVR, mse mean: 0.0663784410568\n",
      "TFIDF-cv10-LSVR, rmse: [ 0.21694109  0.22006781  0.22252022  0.22664879  0.23163258  0.22661835\n",
      "  0.23374127  0.26827627  0.40933332  0.26121979]\n",
      "TFIDF-cv10-LSVR, rmse mean: 0.251699948346\n"
     ]
    }
   ],
   "source": [
    "#TFIDF-LSA-CV-10-lsvr\n",
    "from sklearn.svm import LinearSVR\n",
    "\n",
    "lsvr = LinearSVR()\n",
    "\n",
    "from sklearn.cross_validation import cross_val_score\n",
    "\n",
    "scores2 = cross_val_score(lsvr, lsa_tfidf_matrix, df.hfdfd, cv=10, scoring=\"mean_squared_error\")\n",
    "\n",
    "mse2 = abs(scores2)\n",
    "print 'TFIDF-cv10-LSVR, mse:', mse2\n",
    "print 'TFIDF-cv10-LSVR, mse mean:', np.mean(mse2)\n",
    "print 'TFIDF-cv10-LSVR, rmse:', np.sqrt(mse2)\n",
    "print 'TFIDF-cv10-LSVR, rmse mean:', np.mean(np.sqrt(mse2))"
   ]
  },
  {
   "cell_type": "code",
   "execution_count": 21,
   "metadata": {
    "collapsed": false
   },
   "outputs": [
    {
     "name": "stdout",
     "output_type": "stream",
     "text": [
      "TFIDF-cv10-SVR, mse: [ 0.04685083  0.05799732  0.05916522  0.06005656  0.06334367  0.06327406\n",
      "  0.06980021  0.10013036  0.24981056  0.10239213]\n",
      "TFIDF-cv10-SVR, mse mean: 0.087282091318\n",
      "TFIDF-cv10-SVR, rmse: [ 0.21645053  0.24082632  0.24323902  0.2450644   0.25168167  0.25154335\n",
      "  0.26419729  0.31643382  0.49981052  0.3199877 ]\n",
      "TFIDF-cv10-SVR, rmse mean: 0.284923463462\n",
      "tfidf-svr cost: 2887.58699608\n"
     ]
    }
   ],
   "source": [
    "#TFIDF-LSA-CV-10-svr\n",
    "t0 = time()\n",
    "from sklearn.svm import SVR\n",
    "\n",
    "svr = SVR()\n",
    "\n",
    "from sklearn.cross_validation import cross_val_score\n",
    "\n",
    "scores2 = cross_val_score(svr, lsa_tfidf_matrix, df.hfdfd, cv=10, scoring=\"mean_squared_error\")\n",
    "\n",
    "mse2 = abs(scores2)\n",
    "print 'TFIDF-cv10-SVR, mse:', mse2\n",
    "print 'TFIDF-cv10-SVR, mse mean:', np.mean(mse2)\n",
    "print 'TFIDF-cv10-SVR, rmse:', np.sqrt(mse2)\n",
    "print 'TFIDF-cv10-SVR, rmse mean:', np.mean(np.sqrt(mse2))\n",
    "print \"tfidf-svr cost:\", (time() - t0)"
   ]
  },
  {
   "cell_type": "markdown",
   "metadata": {},
   "source": [
    "# STD features"
   ]
  },
  {
   "cell_type": "code",
   "execution_count": 6,
   "metadata": {
    "collapsed": false
   },
   "outputs": [
    {
     "name": "stdout",
     "output_type": "stream",
     "text": [
      "[46, 3, 100.33333333333333, 0, 0]\n",
      "[152, 12, 122.08333333333333, 0, 0]\n",
      "[118, 12, 85.333333333333329, 0, 3]\n",
      "[173, 11, 196.36363636363637, 1, 0]\n",
      "[122, 15, 77.933333333333337, 1, 1]\n",
      "[255, 21, 134.38095238095238, 0, 1]\n",
      "[47, 3, 101.0, 1, 0]\n",
      "[110, 6, 155.16666666666666, 0, 0]\n",
      "[151, 13, 117.84615384615384, 0, 2]\n"
     ]
    }
   ],
   "source": [
    "#STD features\n",
    "\n",
    "import nltk\n",
    "import re\n",
    "\n",
    "def seg_sentence(text):\n",
    "    sentences = nltk.sent_tokenize(text)\n",
    "    return [s.strip() for s in sentences if(len(s)) > 0]\n",
    "\n",
    "def marks_num(text, pattern):\n",
    "    return len(re.findall(pattern, text))\n",
    "\n",
    "std_exc = 0\n",
    "def std_feature(text): # std in Yang@acl-2015\n",
    "#    print '==============================='\n",
    "    ary = [0, 0, 0, 0, 0]\n",
    "    try:\n",
    "        tokens = es.tokenize_and_stem(text)\n",
    "        token_num = len(tokens)\n",
    "    #    print 'token size:', token_num\n",
    "        sentences = seg_sentence(text)\n",
    "        sen_num = len(sentences)\n",
    "    #    print 'sentence size:', sen_num\n",
    "        avg_sentence_len = np.mean([len(x) for x in sentences])\n",
    "    #    print 'avg sentence length:', avg_sentence_len\n",
    "        exc_num = marks_num(text, r'[!！]')\n",
    "    #    print 'exclamation marks count:', exc_num\n",
    "        que_num = marks_num(text, r'[？?]')\n",
    "    #    print 'question percentage:', float(que_num) / sen_num\n",
    "        ary = [token_num, sen_num, avg_sentence_len, exc_num, que_num]\n",
    "#         print ary\n",
    "    except:\n",
    "#         print text\n",
    "        std_exc += 1\n",
    "    finally:\n",
    "        return ary\n",
    "    \n",
    "for loc in range(1, 10):\n",
    "    print std_feature(df.body.head(10)[loc])"
   ]
  },
  {
   "cell_type": "code",
   "execution_count": 7,
   "metadata": {
    "collapsed": false
   },
   "outputs": [
    {
     "name": "stdout",
     "output_type": "stream",
     "text": [
      "<type 'numpy.ndarray'>\n",
      "std exception:  0\n",
      "<type 'numpy.ndarray'>\n",
      "(19030, 5)\n",
      "Normalizer(copy=True, norm='l2')\n"
     ]
    }
   ],
   "source": [
    "#generate std features\n",
    "\n",
    "\n",
    "X_std = np.array(df.body)\n",
    "print type(X_std)\n",
    "X_std = np.array(map(std_feature, X_std))\n",
    "print \"std exception: \", std_exc\n",
    "\n",
    "print type(X_std)\n",
    "print X_std.shape\n",
    "\n",
    "from sklearn.preprocessing import Normalizer\n",
    "std_normalizer = Normalizer().fit(X_std)\n",
    "X_std = std_normalizer.transform(X_std)\n",
    "\n",
    "print std_normalizer"
   ]
  },
  {
   "cell_type": "code",
   "execution_count": 24,
   "metadata": {
    "collapsed": false
   },
   "outputs": [
    {
     "name": "stdout",
     "output_type": "stream",
     "text": [
      "STD-cv10-LR, mse: [ 0.06360189  0.07989133  0.07838331  0.07714385  0.07993902  0.08373044\n",
      "  0.09431994  0.10551602  0.19718176  0.10004243]\n",
      "STD-cv10-LR, mse mean: 0.0959749978122\n",
      "STD-cv10-LR, rmse: [ 0.25219414  0.28265054  0.2799702   0.27774782  0.28273489  0.28936212\n",
      "  0.30711551  0.32483229  0.44405153  0.31629485]\n",
      "STD-cv10-LR, rmse mean: 0.305695389148\n"
     ]
    }
   ],
   "source": [
    "#std-cv10-lr\n",
    "from sklearn.linear_model import LinearRegression\n",
    "std_lr = LinearRegression()\n",
    "\n",
    "std_scores = cross_val_score(std_lr, X_std, df.hfdfd, cv=10, scoring='mean_squared_error')\n",
    "\n",
    "std_mse = abs(std_scores)\n",
    "print 'STD-cv10-LR, mse:', std_mse\n",
    "print 'STD-cv10-LR, mse mean:', np.mean(std_mse)\n",
    "print 'STD-cv10-LR, rmse:', np.sqrt(std_mse)\n",
    "print 'STD-cv10-LR, rmse mean:', np.mean(np.sqrt(std_mse))"
   ]
  },
  {
   "cell_type": "code",
   "execution_count": 25,
   "metadata": {
    "collapsed": false
   },
   "outputs": [
    {
     "name": "stdout",
     "output_type": "stream",
     "text": [
      "STD-cv10-LSVR, mse: [ 0.06474038  0.08843418  0.08680988  0.08267057  0.08924617  0.08927425\n",
      "  0.09514427  0.12619244  0.26468182  0.12690577]\n",
      "STD-cv10-LSVR, mse mean: 0.111409972824\n",
      "STD-cv10-LSVR, rmse: [ 0.25444131  0.29737884  0.29463516  0.28752491  0.29874098  0.29878797\n",
      "  0.30845465  0.35523576  0.51447237  0.35623836]\n",
      "STD-cv10-LSVR, rmse mean: 0.326591030215\n"
     ]
    }
   ],
   "source": [
    "#std-cv10-lsvr\n",
    "from sklearn.svm import LinearSVR\n",
    "std_lsvr = LinearSVR()\n",
    "\n",
    "std_scores = cross_val_score(std_lsvr, X_std, df.hfdfd, cv=10, scoring='mean_squared_error')\n",
    "\n",
    "std_mse = abs(std_scores)\n",
    "print 'STD-cv10-LSVR, mse:', std_mse\n",
    "print 'STD-cv10-LSVR, mse mean:', np.mean(std_mse)\n",
    "print 'STD-cv10-LSVR, rmse:', np.sqrt(std_mse)\n",
    "print 'STD-cv10-LSVR, rmse mean:', np.mean(np.sqrt(std_mse))"
   ]
  },
  {
   "cell_type": "code",
   "execution_count": 26,
   "metadata": {
    "collapsed": false
   },
   "outputs": [
    {
     "name": "stdout",
     "output_type": "stream",
     "text": [
      "STD-cv10-SVR, mse: [ 0.06177696  0.08301513  0.08118012  0.07895403  0.08446316  0.08398137\n",
      "  0.093753    0.1185973   0.24350073  0.11979702]\n",
      "STD-cv10-SVR, mse mean: 0.104901884265\n",
      "STD-cv10-SVR, rmse: [ 0.24854972  0.28812347  0.28492125  0.28098759  0.29062546  0.2897954\n",
      "  0.30619112  0.34437959  0.49345793  0.34611707]\n",
      "STD-cv10-SVR, rmse mean: 0.317314861436\n",
      "STD-svr cost: 164.936227083\n"
     ]
    }
   ],
   "source": [
    "#std-cv10-svr\n",
    "t0 = time()\n",
    "from sklearn.svm import SVR\n",
    "std_svr = SVR()\n",
    "\n",
    "std_scores = cross_val_score(std_svr, X_std, df.hfdfd, cv=10, scoring='mean_squared_error')\n",
    "\n",
    "std_mse = abs(std_scores)\n",
    "print 'STD-cv10-SVR, mse:', std_mse\n",
    "print 'STD-cv10-SVR, mse mean:', np.mean(std_mse)\n",
    "print 'STD-cv10-SVR, rmse:', np.sqrt(std_mse)\n",
    "print 'STD-cv10-SVR, rmse mean:', np.mean(np.sqrt(std_mse))\n",
    "print \"STD-svr cost:\", (time() - t0)"
   ]
  },
  {
   "cell_type": "code",
   "execution_count": 9,
   "metadata": {
    "collapsed": false
   },
   "outputs": [],
   "source": [
    "#def cut sentence\n",
    "stop_words = 'a,able,about,across,after,all,almost,also,am,among,an,and,any,are,as,at,be,because,been,but,by,can,cannot,could,dear,did,do,does,either,else,ever,every,for,from,get,got,had,has,have,he,her,hers,him,his,how,however,i,if,in,into,is,it,its,just,least,let,like,likely,may,me,might,most,must,my,neither,no,nor,not,of,off,often,on,only,or,other,our,own,rather,said,say,says,she,should,since,so,some,than,that,the,their,them,then,there,these,they,this,tis,to,too,twas,us,wants,was,we,were,what,when,where,which,while,who,whom,why,will,with,would,yet,you,your'\n",
    "stop_words_list = stop_words.split(',')\n",
    "\n",
    "def cut_into_tokens(text):\n",
    "\n",
    "    _list = [word.lower() for sentence in nltk.sent_tokenize(text) for word in sentence.split()]\n",
    "    _list = [re.sub(r'[.?!\\'\",)(;&%:]', '', word) for word in _list  ]\n",
    "    _list = [word for word in _list if word not in stop_words_list and len(word) > 0]\n",
    "    return _list"
   ]
  },
  {
   "cell_type": "markdown",
   "metadata": {},
   "source": [
    "# Syntactic features of Kim"
   ]
  },
  {
   "cell_type": "code",
   "execution_count": 10,
   "metadata": {
    "collapsed": false
   },
   "outputs": [
    {
     "name": "stdout",
     "output_type": "stream",
     "text": [
      " If you're reading this, then you've seen this movie or are at least curious what all the hype is about?    The late Stanley Kubrick, the only major filmmaker Lynch has cited as a direct cinematic influence, believed that ERASERHEAD was one of the most perfect \"cinematic experiences\" created to date.  This movie has enjoyed success on the midnight movie circuit for years, particularly in NYC where it ran almost every night for something like five years straight. I've seen it on big and little screens in three different states.  Insofar as interpretations are concerned, I've long since tossed all that out the window.  In terms of rational comprehension, ERASERHEAD is the fabled big fish that remains brilliantly elusive of any attempts to capture it.     This movie gets better, and more humorous, every time I watch it: in my opinion - ERASERHEAD is the cinematic experience that comes the closest to capturing \"dream logic\", next to the equally brilliant WAKING LIFE.  If you ever get the chance, watch ERASERHEAD in a movie theater with a great sound system - you will understand why Stanley Kubrick was moved enough to make his statement.  It's like experiencing someone else's dream - the ultimate act of voyeurism?  As if I was granted audience to a demonstration of delicate brain surgery, and catching glimpses of the patient's face throughout the operation (particularly the opening scene).  It creates such a visceral landscape with its dark, peculiar selections of image and sound, that it seems to be constantly reminding you that the \"soul\" is helplessly sloshing around somewhere inside an organic bag of blood, bone, hair follicles, industrial shrapnel, dirt piles and antique radiators; a terrifying and beautiful delineation of a living creature suddenly made aware of its own being (birth imagery abounding).  It is a perfect symphony of sound and image, amazing work for a first time feature film director!  I've seen this movie placed in the HORROR section at local video stores; it's better suited for the COMEDY section, I fear.  The movie was created on the AFI campus in California; production beginning his last year there, and continuing on for several more years in secret.  Not for everyone, but certainly worth a peek.    I own a copy of ERASERHEAD on DVD, finally.  It is available at David Lynch's website for forty-five bucks plus shipping and handling.  Remastered sound and image, includes a few extras - the standout is a \"stylized\" interview with Lynch about the making of the film, the characters involved and anecdotes.    BTW - where is WILD AT HEART and LOST HIGHWAY for our DVD pleasure?     \n",
      "\n",
      "[115, 50, 42, 21]\n",
      "[13, 5, 6, 4]\n",
      "[61, 30, 31, 10]\n",
      "[49, 20, 11, 9]\n",
      "[72, 61, 21, 14]\n",
      "[51, 22, 15, 7]\n",
      "[131, 68, 38, 18]\n",
      "[9, 5, 6, 5]\n",
      "[30, 17, 14, 11]\n",
      "[62, 31, 10, 11]\n",
      "syn_exc is  0\n"
     ]
    }
   ],
   "source": [
    "#Syntactic features of Kim\n",
    "\n",
    "text = df.body.head(1)[0]\n",
    "print text\n",
    "#print nltk.pos_tag([word  for sentence in nltk.sent_tokenize(text) for word in nltk.word_tokenize(sentence)])\n",
    "\n",
    "def pos_count(text):\n",
    "    poses = nltk.pos_tag(cut_into_tokens(text))\n",
    "#     poses = nltk.pos_tag([word  for sentence in nltk.sent_tokenize(text) for word in nltk.word_tokenize(sentence)])\n",
    "    pos_dict = {}\n",
    "    for (word, pos) in poses:\n",
    "        if pos in pos_dict:\n",
    "            pos_dict[pos] = pos_dict[pos] + 1\n",
    "        else:\n",
    "            pos_dict[pos] = 1\n",
    "    return pos_dict\n",
    "\n",
    "pos_dict = pos_count(text)#per sentence per second!!!!\n",
    "# for pos in pos_dict:\n",
    "#     print pos, \" => \", pos_dict[pos]\n",
    "# print 'aa'\n",
    "syn_exc = 0\n",
    "\n",
    "def fetch_count_from_pos_dict(pos_list, pos_dict):\n",
    "    _pos_count = 0\n",
    "    for pos in pos_list:\n",
    "        if pos in pos_dict:\n",
    "            _pos_count += pos_dict[pos]\n",
    "    return _pos_count\n",
    "\n",
    "def syntactic_feature(text): #syn feature function\n",
    "    ary = [0, 0, 0, 0]\n",
    "    try:\n",
    "        pos_dict = pos_count(text)\n",
    "        nn_count = fetch_count_from_pos_dict(['NN', 'NNS', 'NNP', 'NNPS'], pos_dict)#noun\n",
    "        jj_count = fetch_count_from_pos_dict(['JJ', 'JJR', 'JJS'], pos_dict)#adj\n",
    "        vb_count = fetch_count_from_pos_dict(['VB', 'VBD', 'VBG', 'VBN', 'VNP', 'VBZ'], pos_dict)#vb\n",
    "        rb_count = fetch_count_from_pos_dict(['RB', 'RBR', 'RBS'], pos_dict)#adv\n",
    "        ary = [nn_count, jj_count, vb_count, rb_count]\n",
    "    except:\n",
    "        print 'error'\n",
    "        syn_exc += 1\n",
    "    finally:\n",
    "        return ary\n",
    "# print 't_dict', pos_dict['_t_dict']\n",
    "for _text in df.body.head(10):\n",
    "    print syntactic_feature(_text)\n",
    "print 'syn_exc is ', syn_exc"
   ]
  },
  {
   "cell_type": "code",
   "execution_count": 13,
   "metadata": {
    "collapsed": false
   },
   "outputs": [
    {
     "name": "stdout",
     "output_type": "stream",
     "text": [
      "19030\n",
      "Normalizer(copy=True, norm='l2')\n",
      "init syn cost :  18391.3904269\n"
     ]
    },
    {
     "name": "stderr",
     "output_type": "stream",
     "text": [
      "/usr/local/lib/python2.7/dist-packages/sklearn/utils/validation.py:420: DataConversionWarning: Data with input dtype int64 was converted to float64 by the normalize function.\n",
      "  warnings.warn(msg, DataConversionWarning)\n"
     ]
    }
   ],
   "source": [
    "X_syn = []\n",
    "t0 = time()\n",
    "for _body in df.body:\n",
    "    _v = syntactic_feature(_body)\n",
    "    X_syn.append(_v)\n",
    "print len(X_syn)\n",
    "\n",
    "from sklearn.preprocessing import Normalizer\n",
    "\n",
    "syn_normalizer = Normalizer()\n",
    "syn_normalizer.fit(X_syn)\n",
    "X_syn = syn_normalizer.transform(X_syn)\n",
    "\n",
    "# print X_w2v\n",
    "print syn_normalizer\n",
    "print 'init syn cost : ', time()-t0"
   ]
  },
  {
   "cell_type": "code",
   "execution_count": 30,
   "metadata": {
    "collapsed": false
   },
   "outputs": [
    {
     "name": "stdout",
     "output_type": "stream",
     "text": [
      "SYN-cv10-LR, mse: [ 0.07666664  0.08523028  0.08500281  0.08790399  0.08779203  0.09056024\n",
      "  0.10121376  0.11630953  0.22802352  0.11744699]\n",
      "SYN-cv10-LR, mse mean: 0.107614978185\n",
      "SYN-cv10-LR, rmse: [ 0.27688741  0.29194226  0.29155241  0.29648608  0.2962972   0.30093229\n",
      "  0.31814109  0.34104183  0.47751808  0.34270539]\n",
      "SYN-cv10-LR, rmse mean: 0.323350403962\n"
     ]
    }
   ],
   "source": [
    "#syn-cv-10-LR\n",
    "from sklearn.linear_model import LinearRegression\n",
    "\n",
    "syn_lr = LinearRegression()\n",
    "\n",
    "std_scores = cross_val_score(syn_lr, X_syn, df.hfdfd, cv=10, scoring='mean_squared_error')\n",
    "\n",
    "std_mse = abs(std_scores)\n",
    "print 'SYN-cv10-LR, mse:', std_mse\n",
    "print 'SYN-cv10-LR, mse mean:', np.mean(std_mse)\n",
    "print 'SYN-cv10-LR, rmse:', np.sqrt(std_mse)\n",
    "print 'SYN-cv10-LR, rmse mean:', np.mean(np.sqrt(std_mse))"
   ]
  },
  {
   "cell_type": "code",
   "execution_count": 31,
   "metadata": {
    "collapsed": false
   },
   "outputs": [
    {
     "name": "stdout",
     "output_type": "stream",
     "text": [
      "SYN-cv10-LSVR, mse: [ 0.06946961  0.08983444  0.09025789  0.09316596  0.09764178  0.09376863\n",
      "  0.10725643  0.15732886  0.34182388  0.161378  ]\n",
      "SYN-cv10-LSVR, mse mean: 0.13019254799\n",
      "SYN-cv10-LSVR, rmse: [ 0.26357088  0.29972393  0.30042951  0.305231    0.31247684  0.30621665\n",
      "  0.32750027  0.39664703  0.58465706  0.40171881]\n",
      "SYN-cv10-LSVR, rmse mean: 0.349817197669\n"
     ]
    }
   ],
   "source": [
    "#syn-cv-10-LSVR\n",
    "from sklearn.svm import LinearSVR\n",
    "\n",
    "syn_lsvr = LinearSVR()\n",
    "\n",
    "std_scores = cross_val_score(syn_lsvr, X_syn, df.hfdfd, cv=10, scoring='mean_squared_error')\n",
    "\n",
    "std_mse = abs(std_scores)\n",
    "print 'SYN-cv10-LSVR, mse:', std_mse\n",
    "print 'SYN-cv10-LSVR, mse mean:', np.mean(std_mse)\n",
    "print 'SYN-cv10-LSVR, rmse:', np.sqrt(std_mse)\n",
    "print 'SYN-cv10-LSVR, rmse mean:', np.mean(np.sqrt(std_mse))"
   ]
  },
  {
   "cell_type": "code",
   "execution_count": 32,
   "metadata": {
    "collapsed": false
   },
   "outputs": [
    {
     "name": "stdout",
     "output_type": "stream",
     "text": [
      "SYN-cv10-SVR, mse: [ 0.06675439  0.08468755  0.08504014  0.08721842  0.09134544  0.08961204\n",
      "  0.10164684  0.1401864   0.30636141  0.14601246]\n",
      "SYN-cv10-SVR, mse mean: 0.119886508322\n",
      "SYN-cv10-SVR, rmse: [ 0.25836871  0.29101126  0.29161642  0.29532764  0.30223408  0.29935271\n",
      "  0.31882102  0.37441474  0.55349924  0.38211577]\n",
      "SYN-cv10-SVR, rmse mean: 0.33667615815\n",
      "SYN-svr cost: 166.116205931\n"
     ]
    }
   ],
   "source": [
    "#syn-cv-10-SVR\n",
    "t0 = time()\n",
    "from sklearn.svm import SVR\n",
    "\n",
    "syn_lsvr = SVR()\n",
    "\n",
    "std_scores = cross_val_score(syn_lsvr, X_syn, df.hfdfd, cv=10, scoring='mean_squared_error')\n",
    "\n",
    "std_mse = abs(std_scores)\n",
    "print 'SYN-cv10-SVR, mse:', std_mse\n",
    "print 'SYN-cv10-SVR, mse mean:', np.mean(std_mse)\n",
    "print 'SYN-cv10-SVR, rmse:', np.sqrt(std_mse)\n",
    "print 'SYN-cv10-SVR, rmse mean:', np.mean(np.sqrt(std_mse))\n",
    "print \"SYN-svr cost:\", (time() - t0)"
   ]
  },
  {
   "cell_type": "markdown",
   "metadata": {},
   "source": [
    "# Word2Vec features"
   ]
  },
  {
   "cell_type": "code",
   "execution_count": 19,
   "metadata": {
    "collapsed": false
   },
   "outputs": [],
   "source": [
    "#w2v features\n",
    "\n",
    "from gensim import corpora, models, similarities\n",
    "import gensim\n",
    "\n",
    "#load model\n",
    "fname = '/data/opinion_spam/real/w2v-hfd-over-0.total'\n",
    "#gensim.models.Word2Vec(sentences, min_count=5, size=100, window=5, workers=32)\n",
    "model = gensim.models.Word2Vec.load(fname)\n",
    "model.init_sims(replace=True)"
   ]
  },
  {
   "cell_type": "code",
   "execution_count": 20,
   "metadata": {
    "collapsed": false
   },
   "outputs": [
    {
     "name": "stdout",
     "output_type": "stream",
     "text": [
      "def model_with_sentence\n"
     ]
    }
   ],
   "source": [
    "def model_with_sentence(sentence, model):\n",
    "    tokens = cut_into_tokens(sentence)\n",
    "    v = np.zeros(100)\n",
    "    _error = 0\n",
    "    for token in tokens:\n",
    "        try:\n",
    "            _v = model[token]\n",
    "            v += _v\n",
    "        except:\n",
    "            _error += 1\n",
    "#             print 'token:', token, 'not in the dict'\n",
    "    return v\n",
    "print 'def model_with_sentence'"
   ]
  },
  {
   "cell_type": "code",
   "execution_count": 21,
   "metadata": {
    "collapsed": false
   },
   "outputs": [
    {
     "name": "stdout",
     "output_type": "stream",
     "text": [
      "19030\n",
      "Normalizer(copy=True, norm='l2')\n"
     ]
    }
   ],
   "source": [
    "X_w2v = []\n",
    "for _body in df.body:\n",
    "    _v = model_with_sentence(_body, model)\n",
    "    X_w2v.append(_v)\n",
    "print len(X_w2v)\n",
    "\n",
    "from sklearn.preprocessing import Normalizer\n",
    "\n",
    "w2v_normalizer = Normalizer()\n",
    "w2v_normalizer.fit(X_w2v)\n",
    "X_w2v = w2v_normalizer.transform(X_w2v)\n",
    "\n",
    "# print X_w2v\n",
    "print w2v_normalizer"
   ]
  },
  {
   "cell_type": "code",
   "execution_count": 36,
   "metadata": {
    "collapsed": false
   },
   "outputs": [
    {
     "name": "stdout",
     "output_type": "stream",
     "text": [
      "W2V-cv10-LR, mse: [ 0.04485194  0.05012772  0.04923916  0.04900427  0.05352704  0.05402384\n",
      "  0.05361193  0.07233265  0.13905303  0.06705151]\n",
      "W2V-cv10-LR, mse mean: 0.0632823111522\n",
      "W2V-cv10-LR, rmse: [ 0.21178277  0.22389222  0.22189899  0.22136908  0.23135912  0.2324303\n",
      "  0.23154251  0.26894729  0.37289816  0.25894307]\n",
      "W2V-cv10-LR, rmse mean: 0.247506350196\n"
     ]
    }
   ],
   "source": [
    "#w2v-cv-10-LR\n",
    "from sklearn.linear_model import LinearRegression\n",
    "\n",
    "w2v_lr = LinearRegression()\n",
    "\n",
    "std_scores = cross_val_score(w2v_lr, X_w2v, df.hfdfd, cv=10, scoring='mean_squared_error')\n",
    "\n",
    "std_mse = abs(std_scores)\n",
    "print 'W2V-cv10-LR, mse:', std_mse\n",
    "print 'W2V-cv10-LR, mse mean:', np.mean(std_mse)\n",
    "print 'W2V-cv10-LR, rmse:', np.sqrt(std_mse)\n",
    "print 'W2V-cv10-LR, rmse mean:', np.mean(np.sqrt(std_mse))"
   ]
  },
  {
   "cell_type": "code",
   "execution_count": 37,
   "metadata": {
    "collapsed": false
   },
   "outputs": [
    {
     "name": "stdout",
     "output_type": "stream",
     "text": [
      "W2V-cv10-LSVR, mse: [ 0.04310492  0.04913198  0.04986763  0.04831947  0.05452447  0.05437162\n",
      "  0.05268048  0.07589825  0.18073848  0.07279528]\n",
      "W2V-cv10-LSVR, mse mean: 0.0681432583847\n",
      "W2V-cv10-LSVR, rmse: [ 0.20761725  0.22165734  0.22331062  0.2198169   0.23350475  0.23317723\n",
      "  0.22952229  0.27549637  0.42513349  0.26980601]\n",
      "W2V-cv10-LSVR, rmse mean: 0.253904224256\n"
     ]
    }
   ],
   "source": [
    "#w2v-cv-10-LSVR\n",
    "from sklearn.svm import LinearSVR\n",
    "\n",
    "w2v_lsvr = LinearSVR()\n",
    "\n",
    "std_scores = cross_val_score(w2v_lsvr, X_w2v, df.hfdfd, cv=10, scoring='mean_squared_error')\n",
    "\n",
    "std_mse = abs(std_scores)\n",
    "print 'W2V-cv10-LSVR, mse:', std_mse\n",
    "print 'W2V-cv10-LSVR, mse mean:', np.mean(std_mse)\n",
    "print 'W2V-cv10-LSVR, rmse:', np.sqrt(std_mse)\n",
    "print 'W2V-cv10-LSVR, rmse mean:', np.mean(np.sqrt(std_mse))"
   ]
  },
  {
   "cell_type": "code",
   "execution_count": 38,
   "metadata": {
    "collapsed": false
   },
   "outputs": [
    {
     "name": "stdout",
     "output_type": "stream",
     "text": [
      "W2V-cv10-SVR, mse: [ 0.04244148  0.04850755  0.04900475  0.04770735  0.05316108  0.05325824\n",
      "  0.05220399  0.07304931  0.16523208  0.07016318]\n",
      "W2V-cv10-SVR, mse mean: 0.0654729002974\n",
      "W2V-cv10-SVR, rmse: [ 0.20601329  0.22024431  0.22137015  0.21842013  0.23056686  0.23077746\n",
      "  0.22848193  0.27027635  0.40648749  0.26488333]\n",
      "W2V-cv10-SVR, rmse mean: 0.249752130965\n",
      "W2V-svr cost: 347.629390001\n"
     ]
    }
   ],
   "source": [
    "#w2v-cv-10-SVR\n",
    "t0 = time()\n",
    "from sklearn.svm import SVR\n",
    "\n",
    "w2v_svr = SVR()\n",
    "\n",
    "std_scores = cross_val_score(w2v_svr, X_w2v, df.hfdfd, cv=10, scoring='mean_squared_error')\n",
    "\n",
    "std_mse = abs(std_scores)\n",
    "print 'W2V-cv10-SVR, mse:', std_mse\n",
    "print 'W2V-cv10-SVR, mse mean:', np.mean(std_mse)\n",
    "print 'W2V-cv10-SVR, rmse:', np.sqrt(std_mse)\n",
    "print 'W2V-cv10-SVR, rmse mean:', np.mean(np.sqrt(std_mse))\n",
    "print \"W2V-svr cost:\", (time() - t0)"
   ]
  },
  {
   "cell_type": "markdown",
   "metadata": {},
   "source": [
    "# Utils for merge features"
   ]
  },
  {
   "cell_type": "code",
   "execution_count": 14,
   "metadata": {
    "collapsed": true
   },
   "outputs": [],
   "source": [
    "def matrix_to_array(_matrix):\n",
    "    _dense = _matrix.todense()\n",
    "    _list = _dense.tolist()\n",
    "    return _list\n",
    "\n",
    "def append_matrix_to_matrix(array1, array2):\n",
    "    length = len(array1)#row num\n",
    "    new_matrix = []\n",
    "    for index in range(length):\n",
    "        _row = np.append(array1[index], array2[index])\n",
    "        new_matrix.append(_row)\n",
    "    return new_matrix\n",
    "from scipy import sparse\n",
    "def matrix_to_sparse_matrix(dense):\n",
    "    return sparse.csr_matrix(dense)\n",
    "   "
   ]
  },
  {
   "cell_type": "code",
   "execution_count": 15,
   "metadata": {
    "collapsed": false
   },
   "outputs": [
    {
     "name": "stdout",
     "output_type": "stream",
     "text": [
      "[array([1, 2, 3, 5, 6, 7]), array([2, 3, 4, 7, 8, 9])]\n",
      "ar1 type: <type 'list'>\n",
      "_arrayA type: <type 'numpy.ndarray'>\n",
      "_matrixA type: <class 'numpy.matrixlib.defmatrix.matrix'>\n",
      "  (0, 0)\t1\n",
      "  (0, 1)\t2\n",
      "  (0, 2)\t3\n",
      "  (1, 0)\t4\n",
      "  (1, 1)\t5\n",
      "  (1, 2)\t6\n",
      "  (0, 0)\t1\n",
      "  (0, 1)\t2\n",
      "  (0, 2)\t3\n",
      "  (1, 0)\t4\n",
      "  (1, 1)\t5\n",
      "  (1, 2)\t6\n"
     ]
    }
   ],
   "source": [
    "#validate the matrix merge\n",
    "ar1 = [[1,2,3],[2,3,4]]\n",
    "ar2 = [[5,6,7], [7,8,9]]\n",
    "ar3 = append_matrix_to_matrix(ar1, ar2)\n",
    "print ar3\n",
    "print 'ar1 type:',type(ar1)\n",
    "_arrayA = np.array([[1,2,3],[4,5,6]])\n",
    "_matrixA = np.matrix([[1,2,3], [4,5,6]])\n",
    "print '_arrayA type:', type(_arrayA)\n",
    "print '_matrixA type:', type(_matrixA)\n",
    "\n",
    "_sa = matrix_to_sparse_matrix(_matrixA)\n",
    "print _sa\n",
    "_saa = sparse.csr_matrix(_matrixA)\n",
    "print _saa"
   ]
  },
  {
   "cell_type": "markdown",
   "metadata": {},
   "source": [
    "# STD + Word2Vec features"
   ]
  },
  {
   "cell_type": "code",
   "execution_count": 22,
   "metadata": {
    "collapsed": false
   },
   "outputs": [
    {
     "name": "stdout",
     "output_type": "stream",
     "text": [
      "X_std_w2v is ok\n"
     ]
    }
   ],
   "source": [
    "#combine std + w2v\n",
    "# X_std_w2v = []\n",
    "# for _body in df.body:\n",
    "#     _w2v = model_with_sentence(_body, model)\n",
    "#     _std = std(_body)\n",
    "#     _v = np.append(_w2v, _std)\n",
    "#     X_std_w2v.append(_v)\n",
    "# print 'feature size : ', len(X_std_w2v[0])\n",
    "\n",
    "# std_w2v_normalizer = Normalizer()\n",
    "# std_w2v_normalizer.fit(X_w2v)\n",
    "# X_std_w2v = std_w2v_normalizer.transform(X_w2v)\n",
    "\n",
    "# print X_w2v\n",
    "# print std_w2v_normalizer\n",
    "\n",
    "X_std_w2v = append_matrix_to_matrix(X_std, X_w2v)\n",
    "print 'X_std_w2v is ok'"
   ]
  },
  {
   "cell_type": "code",
   "execution_count": 44,
   "metadata": {
    "collapsed": false
   },
   "outputs": [
    {
     "name": "stdout",
     "output_type": "stream",
     "text": [
      "STD+W2V-cv10-LR, mse: [ 0.04281422  0.04977893  0.04701607  0.04722681  0.05145411  0.05275344\n",
      "  0.05258308  0.07042352  0.13025514  0.06391851]\n",
      "STD+W2V-cv10-LR, mse mean: 0.0608223832144\n",
      "STD+W2V-cv10-LR, rmse: [ 0.20691596  0.22311192  0.21683188  0.21731731  0.22683498  0.22968118\n",
      "  0.22931001  0.2653743   0.36090877  0.25282111]\n",
      "STD+W2V-cv10-LR, rmse mean: 0.242910742987\n",
      "cost: 4.61414813995\n"
     ]
    }
   ],
   "source": [
    "#std+w2v-cv-10-LR\n",
    "t0 = time()\n",
    "from sklearn.linear_model import LinearRegression\n",
    "\n",
    "std_w2v_lr = LinearRegression()\n",
    "\n",
    "std_scores = cross_val_score(std_w2v_lr, X_std_w2v, df.hfdfd, cv=10, scoring='mean_squared_error')\n",
    "\n",
    "std_mse = abs(std_scores)\n",
    "print 'STD+W2V-cv10-LR, mse:', std_mse\n",
    "print 'STD+W2V-cv10-LR, mse mean:', np.mean(std_mse)\n",
    "print 'STD+W2V-cv10-LR, rmse:', np.sqrt(std_mse)\n",
    "print 'STD+W2V-cv10-LR, rmse mean:', np.mean(np.sqrt(std_mse))\n",
    "print \"cost:\", (time() - t0)"
   ]
  },
  {
   "cell_type": "code",
   "execution_count": 45,
   "metadata": {
    "collapsed": false
   },
   "outputs": [
    {
     "name": "stdout",
     "output_type": "stream",
     "text": [
      "STD+W2V-cv10-LSVR, mse: [ 0.04170209  0.04907265  0.04782902  0.04683104  0.05266283  0.0530296\n",
      "  0.05129474  0.07246204  0.16874672  0.0697036 ]\n",
      "STD+W2V-cv10-LSVR, mse mean: 0.0653334349422\n",
      "STD+W2V-cv10-LSVR, rmse: [ 0.2042109   0.22152348  0.21869846  0.2164048   0.22948383  0.23028157\n",
      "  0.22648343  0.26918775  0.41078793  0.2640144 ]\n",
      "STD+W2V-cv10-LSVR, rmse mean: 0.249107656361\n",
      "cost: 9.70275306702\n"
     ]
    }
   ],
   "source": [
    "#std+w2v-cv-10-LSVR\n",
    "t0 = time()\n",
    "from sklearn.svm import LinearSVR\n",
    "\n",
    "std_w2v_lsvr = LinearSVR()\n",
    "\n",
    "std_scores = cross_val_score(std_w2v_lsvr, X_std_w2v, df.hfdfd, cv=10, scoring='mean_squared_error')\n",
    "\n",
    "std_mse = abs(std_scores)\n",
    "print 'STD+W2V-cv10-LSVR, mse:', std_mse\n",
    "print 'STD+W2V-cv10-LSVR, mse mean:', np.mean(std_mse)\n",
    "print 'STD+W2V-cv10-LSVR, rmse:', np.sqrt(std_mse)\n",
    "print 'STD+W2V-cv10-LSVR, rmse mean:', np.mean(np.sqrt(std_mse))\n",
    "print \"cost:\", (time() - t0)"
   ]
  },
  {
   "cell_type": "code",
   "execution_count": 46,
   "metadata": {
    "collapsed": false
   },
   "outputs": [
    {
     "name": "stdout",
     "output_type": "stream",
     "text": [
      "STD+W2V-cv10-SVR, mse: [ 0.04131849  0.04894503  0.04746191  0.04675941  0.05171836  0.05197532\n",
      "  0.05147879  0.07058515  0.15366211  0.06666397]\n",
      "STD+W2V-cv10-SVR, mse mean: 0.0630568541242\n",
      "STD+W2V-cv10-SVR, rmse: [ 0.20326949  0.22123523  0.21785755  0.21623924  0.22741672  0.22798095\n",
      "  0.22688937  0.26567867  0.39199759  0.25819367]\n",
      "STD+W2V-cv10-SVR, rmse mean: 0.24567584906\n",
      "STD+W2V-svr cost: 359.163439035\n"
     ]
    }
   ],
   "source": [
    "#std+w2v-cv-10-SVR\n",
    "t0 = time()\n",
    "from sklearn.svm import SVR\n",
    "\n",
    "std_w2v_svr = SVR()\n",
    "\n",
    "std_scores = cross_val_score(std_w2v_svr, X_std_w2v, df.hfdfd, cv=10, scoring='mean_squared_error')\n",
    "\n",
    "std_mse = abs(std_scores)\n",
    "print 'STD+W2V-cv10-SVR, mse:', std_mse\n",
    "print 'STD+W2V-cv10-SVR, mse mean:', np.mean(std_mse)\n",
    "print 'STD+W2V-cv10-SVR, rmse:', np.sqrt(std_mse)\n",
    "print 'STD+W2V-cv10-SVR, rmse mean:', np.mean(np.sqrt(std_mse))\n",
    "print \"STD+W2V-svr cost:\", (time() - t0)"
   ]
  },
  {
   "cell_type": "markdown",
   "metadata": {
    "collapsed": true
   },
   "source": [
    "# STD + SYN features"
   ]
  },
  {
   "cell_type": "code",
   "execution_count": 47,
   "metadata": {
    "collapsed": false
   },
   "outputs": [
    {
     "name": "stdout",
     "output_type": "stream",
     "text": [
      "X_std_syn is ok\n"
     ]
    }
   ],
   "source": [
    "# X_std_syn = []\n",
    "# for _body in df.body:\n",
    "#     _std = std(_body)\n",
    "#     _syn = syntactic_feature(_body)\n",
    "#     _v = np.append(_std, _syn)\n",
    "#     X_std_syn.append(_v)\n",
    "# print 'feature size : ', len(X_std_syn[0])\n",
    "\n",
    "# std_syn_normalizer = Normalizer()\n",
    "# std_syn_normalizer.fit(X_std_syn)\n",
    "# X_std_syn = std_syn_normalizer.transform(X_std_syn)\n",
    "\n",
    "# # print X_w2v\n",
    "# print std_syn_normalizer\n",
    "\n",
    "X_std_syn = append_matrix_to_matrix(X_std, X_syn)\n",
    "print 'X_std_syn is ok'"
   ]
  },
  {
   "cell_type": "code",
   "execution_count": 48,
   "metadata": {
    "collapsed": false
   },
   "outputs": [
    {
     "name": "stdout",
     "output_type": "stream",
     "text": [
      "STD+SYN-cv10-LR, mse: [ 0.06342895  0.07933798  0.07786106  0.07674006  0.07999883  0.08302543\n",
      "  0.09427157  0.10484423  0.19524717  0.10007911]\n",
      "STD+SYN-cv10-LR, mse mean: 0.095483438502\n",
      "STD+SYN-cv10-LR, rmse: [ 0.25185105  0.28166998  0.27903594  0.27701997  0.28284065  0.28814134\n",
      "  0.30703675  0.32379659  0.44186782  0.31635282]\n",
      "STD+SYN-cv10-LR, rmse mean: 0.304961290514\n"
     ]
    }
   ],
   "source": [
    "#std+syn-cv-10-LR\n",
    "from sklearn.linear_model import LinearRegression\n",
    "\n",
    "std_syn_lr = LinearRegression()\n",
    "\n",
    "std_scores = cross_val_score(std_syn_lr, X_std_syn, df.hfdfd, cv=10, scoring='mean_squared_error')\n",
    "\n",
    "std_mse = abs(std_scores)\n",
    "print 'STD+SYN-cv10-LR, mse:', std_mse\n",
    "print 'STD+SYN-cv10-LR, mse mean:', np.mean(std_mse)\n",
    "print 'STD+SYN-cv10-LR, rmse:', np.sqrt(std_mse)\n",
    "print 'STD+SYN-cv10-LR, rmse mean:', np.mean(np.sqrt(std_mse))"
   ]
  },
  {
   "cell_type": "code",
   "execution_count": 49,
   "metadata": {
    "collapsed": false
   },
   "outputs": [
    {
     "name": "stdout",
     "output_type": "stream",
     "text": [
      "STD+SYN-cv10-LSVR, mse: [ 0.06362342  0.08736369  0.08461061  0.08207164  0.08957777  0.08820745\n",
      "  0.0945692   0.1246621   0.25996868  0.12610648]\n",
      "STD+SYN-cv10-LSVR, mse mean: 0.110076104001\n",
      "STD+SYN-cv10-LSVR, rmse: [ 0.25223683  0.29557349  0.29087903  0.28648149  0.29929545  0.29699739\n",
      "  0.30752106  0.35307521  0.50987123  0.35511474]\n",
      "STD+SYN-cv10-LSVR, rmse mean: 0.324704592817\n"
     ]
    }
   ],
   "source": [
    "#std+syn-cv-10-LSVR\n",
    "from sklearn.svm import LinearSVR\n",
    "\n",
    "std_syn_lsvr = LinearSVR()\n",
    "\n",
    "std_scores = cross_val_score(std_syn_lsvr, X_std_syn, df.hfdfd, cv=10, scoring='mean_squared_error')\n",
    "\n",
    "std_mse = abs(std_scores)\n",
    "print 'STD+SYN-cv10-LSVR, mse:', std_mse\n",
    "print 'STD+SYN-cv10-LSVR, mse mean:', np.mean(std_mse)\n",
    "print 'STD+SYN-cv10-LSVR, rmse:', np.sqrt(std_mse)\n",
    "print 'STD+SYN-cv10-LSVR, rmse mean:', np.mean(np.sqrt(std_mse))"
   ]
  },
  {
   "cell_type": "code",
   "execution_count": 50,
   "metadata": {
    "collapsed": false
   },
   "outputs": [
    {
     "name": "stdout",
     "output_type": "stream",
     "text": [
      "STD+SYN-cv10-SVR, mse: [ 0.06196775  0.08325001  0.08130933  0.0794851   0.08529719  0.08412782\n",
      "  0.0944946   0.11874802  0.24429561  0.12017254]\n",
      "STD+SYN-cv10-SVR, mse mean: 0.105314796825\n",
      "STD+SYN-cv10-SVR, rmse: [ 0.24893322  0.28853077  0.28514791  0.28193101  0.29205683  0.29004796\n",
      "  0.30739975  0.34459835  0.49426269  0.34665912]\n",
      "STD+SYN-cv10-SVR, rmse mean: 0.317956760516\n",
      "cost :  168.788889885\n"
     ]
    }
   ],
   "source": [
    "#std+syn-cv-10-SVR\n",
    "t0 = time()\n",
    "from sklearn.svm import SVR\n",
    "\n",
    "std_syn_svr = SVR()\n",
    "\n",
    "std_scores = cross_val_score(std_syn_svr, X_std_syn, df.hfdfd, cv=10, scoring='mean_squared_error')\n",
    "\n",
    "std_mse = abs(std_scores)\n",
    "print 'STD+SYN-cv10-SVR, mse:', std_mse\n",
    "print 'STD+SYN-cv10-SVR, mse mean:', np.mean(std_mse)\n",
    "print 'STD+SYN-cv10-SVR, rmse:', np.sqrt(std_mse)\n",
    "print 'STD+SYN-cv10-SVR, rmse mean:', np.mean(np.sqrt(std_mse))\n",
    "print 'cost : ', time()-t0"
   ]
  },
  {
   "cell_type": "markdown",
   "metadata": {},
   "source": [
    "# SYN + W2V features"
   ]
  },
  {
   "cell_type": "code",
   "execution_count": 51,
   "metadata": {
    "collapsed": false
   },
   "outputs": [
    {
     "name": "stdout",
     "output_type": "stream",
     "text": [
      "X_syn_w2v is ok\n"
     ]
    }
   ],
   "source": [
    "X_syn_w2v = append_matrix_to_matrix( X_syn, X_w2v)\n",
    "print 'X_syn_w2v is ok'"
   ]
  },
  {
   "cell_type": "code",
   "execution_count": 52,
   "metadata": {
    "collapsed": false
   },
   "outputs": [
    {
     "name": "stdout",
     "output_type": "stream",
     "text": [
      "SYN+W2V-cv10-LR, mse: [ 0.04437433  0.04975693  0.04882937  0.04851808  0.05320159  0.0540207\n",
      "  0.05332866  0.0723049   0.13732546  0.0670288 ]\n",
      "SYN+W2V-cv10-LR, mse mean: 0.0628688823176\n",
      "SYN+W2V-cv10-LR, rmse: [ 0.21065216  0.22306262  0.22097369  0.2202682   0.2306547   0.23242354\n",
      "  0.23092999  0.2688957   0.37057449  0.2588992 ]\n",
      "SYN+W2V-cv10-LR, rmse mean: 0.246733430339\n"
     ]
    }
   ],
   "source": [
    "#std+syn-cv-10-LR\n",
    "from sklearn.linear_model import LinearRegression\n",
    "\n",
    "syn_w2v_lr = LinearRegression()\n",
    "\n",
    "std_scores = cross_val_score(syn_w2v_lr, X_syn_w2v, df.hfdfd, cv=10, scoring='mean_squared_error')\n",
    "\n",
    "std_mse = abs(std_scores)\n",
    "print 'SYN+W2V-cv10-LR, mse:', std_mse\n",
    "print 'SYN+W2V-cv10-LR, mse mean:', np.mean(std_mse)\n",
    "print 'SYN+W2V-cv10-LR, rmse:', np.sqrt(std_mse)\n",
    "print 'SYN+W2V-cv10-LR, rmse mean:', np.mean(np.sqrt(std_mse))"
   ]
  },
  {
   "cell_type": "code",
   "execution_count": 53,
   "metadata": {
    "collapsed": false
   },
   "outputs": [
    {
     "name": "stdout",
     "output_type": "stream",
     "text": [
      "SYN+W2V-cv10-LSVR, mse: [ 0.04249136  0.04889242  0.04951039  0.047891    0.05442613  0.05446316\n",
      "  0.05255582  0.07570512  0.17597163  0.07292708]\n",
      "SYN+W2V-cv10-LSVR, mse mean: 0.0674834093481\n",
      "SYN+W2V-cv10-LSVR, rmse: [ 0.20613433  0.2211163   0.2225093   0.21884012  0.23329408  0.23337343\n",
      "  0.22925055  0.27514563  0.41948973  0.27005014]\n",
      "SYN+W2V-cv10-LSVR, rmse mean: 0.252920360655\n"
     ]
    }
   ],
   "source": [
    "#std+syn-cv-10-LR\n",
    "from sklearn.svm import LinearSVR\n",
    "\n",
    "syn_w2v_lsvr = LinearSVR()\n",
    "\n",
    "std_scores = cross_val_score(syn_w2v_lsvr, X_syn_w2v, df.hfdfd, cv=10, scoring='mean_squared_error')\n",
    "\n",
    "std_mse = abs(std_scores)\n",
    "print 'SYN+W2V-cv10-LSVR, mse:', std_mse\n",
    "print 'SYN+W2V-cv10-LSVR, mse mean:', np.mean(std_mse)\n",
    "print 'SYN+W2V-cv10-LSVR, rmse:', np.sqrt(std_mse)\n",
    "print 'SYN+W2V-cv10-LSVR, rmse mean:', np.mean(np.sqrt(std_mse))"
   ]
  },
  {
   "cell_type": "code",
   "execution_count": 54,
   "metadata": {
    "collapsed": false
   },
   "outputs": [
    {
     "name": "stdout",
     "output_type": "stream",
     "text": [
      "SYN+W2V-cv10-SVR, mse: [ 0.04227189  0.04848323  0.04889961  0.04762669  0.05306926  0.05327562\n",
      "  0.05209765  0.07281959  0.16470572  0.07001448]\n",
      "SYN+W2V-cv10-SVR, mse mean: 0.0653263742399\n",
      "SYN+W2V-cv10-SVR, rmse: [ 0.20560129  0.22018908  0.22113256  0.21823541  0.23036765  0.23081512\n",
      "  0.2282491   0.26985105  0.40583952  0.26460249]\n",
      "SYN+W2V-cv10-SVR, rmse mean: 0.249488328742\n"
     ]
    }
   ],
   "source": [
    "#std+syn-cv-10-LR\n",
    "from sklearn.svm import SVR\n",
    "\n",
    "syn_w2v_svr = SVR()\n",
    "\n",
    "std_scores = cross_val_score(syn_w2v_svr, X_syn_w2v, df.hfdfd, cv=10, scoring='mean_squared_error')\n",
    "\n",
    "std_mse = abs(std_scores)\n",
    "print 'SYN+W2V-cv10-SVR, mse:', std_mse\n",
    "print 'SYN+W2V-cv10-SVR, mse mean:', np.mean(std_mse)\n",
    "print 'SYN+W2V-cv10-SVR, rmse:', np.sqrt(std_mse)\n",
    "print 'SYN+W2V-cv10-SVR, rmse mean:', np.mean(np.sqrt(std_mse))"
   ]
  },
  {
   "cell_type": "markdown",
   "metadata": {},
   "source": [
    "# STD + SYN + W2V features"
   ]
  },
  {
   "cell_type": "code",
   "execution_count": 23,
   "metadata": {
    "collapsed": false
   },
   "outputs": [
    {
     "name": "stdout",
     "output_type": "stream",
     "text": [
      "row size:  19030\n",
      "column size:  109\n"
     ]
    }
   ],
   "source": [
    "# X_std_syn_w2v = []\n",
    "# for _body in df.body:\n",
    "#     _std = std(_body)\n",
    "#     _syn = syntactic_feature(_body)\n",
    "#     _w2v = model_with_sentence(_body, model)\n",
    "#     _v = np.append(_std, _syn)\n",
    "#     _v = np.append(_v, _w2v)\n",
    "#     X_std_syn_w2v.append(_v)\n",
    "# print 'feature size : ', len(X_std_syn_w2v[0])\n",
    "\n",
    "# std_syn_w2v_normalizer = Normalizer()\n",
    "# std_syn_w2v_normalizer.fit(X_std_syn)\n",
    "# X_std_syn_w2v = std_syn_w2v_normalizer.transform(X_std_syn)\n",
    "\n",
    "# # print X_w2v\n",
    "# print std_syn_w2v_normalizer\n",
    "\n",
    "X_std_syn_w2v = []\n",
    "# X_std_syn_w2v = append_matrix_to_matrix(X_std_syn, X_w2v)\n",
    "#X_std_syn_w2v = append_matrix_to_matrix(X_std, X_w2v)\n",
    "X_std_syn_w2v = append_matrix_to_matrix(X_std_w2v, X_syn)\n",
    "print 'row size: ',len(X_std_syn_w2v)\n",
    "print 'column size: ',len(X_std_syn_w2v[0])"
   ]
  },
  {
   "cell_type": "code",
   "execution_count": 24,
   "metadata": {
    "collapsed": false
   },
   "outputs": [
    {
     "name": "stdout",
     "output_type": "stream",
     "text": [
      "STD+SYN+W2V-cv10-LR, mse: [ 0.04271456  0.04957569  0.04689459  0.0470501   0.05140189  0.05283857\n",
      "  0.05250325  0.07043762  0.12970321  0.06395757]\n",
      "STD+SYN+W2V-cv10-LR, mse mean: 0.0607077053136\n",
      "STD+SYN+W2V-cv10-LR, rmse: [ 0.20667502  0.22265599  0.21655158  0.21691035  0.22671985  0.22986641\n",
      "  0.22913587  0.26540087  0.36014332  0.25289834]\n",
      "STD+SYN+W2V-cv10-LR, rmse mean: 0.242695761235\n",
      "cost: 2.36897993088\n"
     ]
    }
   ],
   "source": [
    "#std+syn+w2v-cv-10-LR\n",
    "t0 = time()\n",
    "from sklearn.linear_model import LinearRegression\n",
    "\n",
    "std_syn_w2v_lr = LinearRegression()\n",
    "\n",
    "std_scores = cross_val_score(std_syn_w2v_lr, X_std_syn_w2v, df.hfdfd, cv=10, scoring='mean_squared_error')\n",
    "\n",
    "std_mse = abs(std_scores)\n",
    "print 'STD+SYN+W2V-cv10-LR, mse:', std_mse\n",
    "print 'STD+SYN+W2V-cv10-LR, mse mean:', np.mean(std_mse)\n",
    "print 'STD+SYN+W2V-cv10-LR, rmse:', np.sqrt(std_mse)\n",
    "print 'STD+SYN+W2V-cv10-LR, rmse mean:', np.mean(np.sqrt(std_mse))\n",
    "print 'cost:', time()-t0"
   ]
  },
  {
   "cell_type": "code",
   "execution_count": 25,
   "metadata": {
    "collapsed": false
   },
   "outputs": [
    {
     "name": "stdout",
     "output_type": "stream",
     "text": [
      "STD+SYN+W2V-cv10-LSVR, mse: [ 0.04146242  0.04880056  0.0476588   0.04661856  0.05249261  0.05301655\n",
      "  0.05132241  0.07274416  0.16848652  0.06954078]\n",
      "STD+SYN+W2V-cv10-LSVR, mse mean: 0.0652143372513\n",
      "STD+SYN+W2V-cv10-LSVR, rmse: [ 0.20362322  0.22090848  0.21830896  0.21591332  0.22911266  0.23025324\n",
      "  0.2265445   0.26971126  0.41047109  0.26370586]\n",
      "STD+SYN+W2V-cv10-LSVR, rmse mean: 0.248855259151\n",
      "cost: 8.52929496765\n"
     ]
    }
   ],
   "source": [
    "#std+syn+w2v-cv-10-LSVR\n",
    "t0 = time()\n",
    "from sklearn.svm import LinearSVR\n",
    "\n",
    "std_syn_w2v_lsvr = LinearSVR()\n",
    "\n",
    "std_scores = cross_val_score(std_syn_w2v_lsvr, X_std_syn_w2v, df.hfdfd, cv=10, scoring='mean_squared_error')\n",
    "\n",
    "std_mse = abs(std_scores)\n",
    "print 'STD+SYN+W2V-cv10-LSVR, mse:', std_mse\n",
    "print 'STD+SYN+W2V-cv10-LSVR, mse mean:', np.mean(std_mse)\n",
    "print 'STD+SYN+W2V-cv10-LSVR, rmse:', np.sqrt(std_mse)\n",
    "print 'STD+SYN+W2V-cv10-LSVR, rmse mean:', np.mean(np.sqrt(std_mse))\n",
    "print 'cost:', time()-t0"
   ]
  },
  {
   "cell_type": "code",
   "execution_count": 58,
   "metadata": {
    "collapsed": false
   },
   "outputs": [
    {
     "name": "stdout",
     "output_type": "stream",
     "text": [
      "STD+SYN+W2V-cv10-SVR, mse: [ 0.041275    0.04892038  0.04747078  0.04675611  0.05174283  0.0519898\n",
      "  0.05148671  0.07058556  0.15344024  0.06667614]\n",
      "STD+SYN+W2V-cv10-SVR, mse mean: 0.0630343537868\n",
      "STD+SYN+W2V-cv10-SVR, rmse: [ 0.20316249  0.22117952  0.21787791  0.21623162  0.22747049  0.22801271\n",
      "  0.22690683  0.26567943  0.39171449  0.25821723]\n",
      "STD+SYN+W2V-cv10-SVR, rmse mean: 0.245645271066\n"
     ]
    }
   ],
   "source": [
    "#std+syn+w2v-cv-10-LSVR\n",
    "t0 = time()\n",
    "from sklearn.svm import SVR\n",
    "\n",
    "std_syn_w2v_svr = SVR()\n",
    "\n",
    "std_scores = cross_val_score(std_syn_w2v_svr, X_std_syn_w2v, df.hfdfd, cv=10, scoring='mean_squared_error')\n",
    "\n",
    "std_mse = abs(std_scores)\n",
    "print 'STD+SYN+W2V-cv10-SVR, mse:', std_mse\n",
    "print 'STD+SYN+W2V-cv10-SVR, mse mean:', np.mean(std_mse)\n",
    "print 'STD+SYN+W2V-cv10-SVR, rmse:', np.sqrt(std_mse)\n",
    "print 'STD+SYN+W2V-cv10-SVR, rmse mean:', np.mean(np.sqrt(std_mse))\n",
    "print 'cost:', time()-t0"
   ]
  },
  {
   "cell_type": "markdown",
   "metadata": {
    "collapsed": true
   },
   "source": [
    "# TFIDF + STD features"
   ]
  },
  {
   "cell_type": "code",
   "execution_count": 16,
   "metadata": {
    "collapsed": false
   },
   "outputs": [
    {
     "name": "stdout",
     "output_type": "stream",
     "text": [
      "tfidf_matrix type :  <class 'scipy.sparse.csr.csr_matrix'>\n",
      "row size:  19030\n",
      "column size:  10005\n"
     ]
    }
   ],
   "source": [
    "#combine tfidf+std\n",
    "X_tfidf_std = []\n",
    "print 'tfidf_matrix type : ', type(tfidf_matrix)\n",
    "X_tfidf_std = append_matrix_to_matrix(matrix_to_array(tfidf_matrix), X_std)\n",
    "print 'row size: ',len(X_tfidf_std)\n",
    "print 'column size: ',len(X_tfidf_std[0])\n",
    "\n",
    "X_tfidf_std_sp = matrix_to_sparse_matrix(X_tfidf_std)\n"
   ]
  },
  {
   "cell_type": "code",
   "execution_count": 60,
   "metadata": {
    "collapsed": false
   },
   "outputs": [
    {
     "name": "stdout",
     "output_type": "stream",
     "text": [
      "TFIDF+STD-cv10-LR, mse: [ 0.12752041  0.12739981  0.12670164  0.13067767  0.125454    0.12006459\n",
      "  0.11591069  0.133902    0.17967088  0.13186187]\n",
      "TFIDF+STD-cv10-LR, mse mean: 0.131916357425\n",
      "TFIDF+STD-cv10-LR, rmse: [ 0.3571      0.3569311   0.35595174  0.36149367  0.35419487  0.34650337\n",
      "  0.34045659  0.36592622  0.42387602  0.3631279 ]\n",
      "TFIDF+STD-cv10-LR, rmse mean: 0.362556149138\n",
      "cost:  30.4687349796\n"
     ]
    }
   ],
   "source": [
    "#tfidf+std-cv-10-LR\n",
    "t0 = time()\n",
    "from sklearn.linear_model import LinearRegression\n",
    "\n",
    "tfidf_std_lr = LinearRegression()\n",
    "\n",
    "std_scores = cross_val_score(tfidf_std_lr, X_tfidf_std_sp, df.hfdfd, cv=10, scoring='mean_squared_error')\n",
    "\n",
    "std_mse = abs(std_scores)\n",
    "print 'TFIDF+STD-cv10-LR, mse:', std_mse\n",
    "print 'TFIDF+STD-cv10-LR, mse mean:', np.mean(std_mse)\n",
    "print 'TFIDF+STD-cv10-LR, rmse:', np.sqrt(std_mse)\n",
    "print 'TFIDF+STD-cv10-LR, rmse mean:', np.mean(np.sqrt(std_mse))\n",
    "print 'cost: ', time()-t0"
   ]
  },
  {
   "cell_type": "code",
   "execution_count": 61,
   "metadata": {
    "collapsed": false
   },
   "outputs": [
    {
     "name": "stdout",
     "output_type": "stream",
     "text": [
      "TFIDF+STD-cv10-LSVR, mse: [ 0.06291267  0.06857963  0.06918782  0.0721397   0.07284783  0.06553952\n",
      "  0.07141969  0.08238355  0.14751547  0.08617791]\n",
      "TFIDF+STD-cv10-LSVR, mse mean: 0.0798703796469\n",
      "TFIDF+STD-cv10-LSVR, rmse: [ 0.25082399  0.26187712  0.26303577  0.26858835  0.26990338  0.25600687\n",
      "  0.26724463  0.28702535  0.38407742  0.29356075]\n",
      "TFIDF+STD-cv10-LSVR, rmse mean: 0.280214363625\n",
      "cost:  37.0423588753\n"
     ]
    }
   ],
   "source": [
    "#tfidf+std-cv-10-LSVR\n",
    "t0 = time()\n",
    "from sklearn.svm import LinearSVR\n",
    "\n",
    "tfidf_std_lsvr = LinearSVR()\n",
    "\n",
    "std_scores = cross_val_score(tfidf_std_lsvr, X_tfidf_std_sp, df.hfdfd, cv=10, scoring='mean_squared_error')\n",
    "\n",
    "std_mse = abs(std_scores)\n",
    "print 'TFIDF+STD-cv10-LSVR, mse:', std_mse\n",
    "print 'TFIDF+STD-cv10-LSVR, mse mean:', np.mean(std_mse)\n",
    "print 'TFIDF+STD-cv10-LSVR, rmse:', np.sqrt(std_mse)\n",
    "print 'TFIDF+STD-cv10-LSVR, rmse mean:', np.mean(np.sqrt(std_mse))\n",
    "print 'cost: ', time()-t0"
   ]
  },
  {
   "cell_type": "code",
   "execution_count": 62,
   "metadata": {
    "collapsed": false
   },
   "outputs": [
    {
     "name": "stdout",
     "output_type": "stream",
     "text": [
      "TFIDF+STD-cv10-SVR, mse: [ 0.06221019  0.08020118  0.08081475  0.08318635  0.08705139  0.08589815\n",
      "  0.09598823  0.13790949  0.31504887  0.14303149]\n",
      "TFIDF+STD-cv10-SVR, mse mean: 0.117134009613\n",
      "TFIDF+STD-cv10-SVR, rmse: [ 0.24941971  0.28319812  0.28427936  0.28842043  0.29504473  0.29308386\n",
      "  0.30981968  0.37136167  0.56129214  0.37819504]\n",
      "TFIDF+STD-cv10-SVR, rmse mean: 0.331411474989\n",
      "cost:  2261.56966996\n"
     ]
    }
   ],
   "source": [
    "#tfidf+std-cv-10-LSVR\n",
    "t0 = time()\n",
    "from sklearn.svm import SVR\n",
    "\n",
    "tfidf_std_svr = SVR()\n",
    "\n",
    "std_scores = cross_val_score(tfidf_std_svr, X_tfidf_std_sp, df.hfdfd, cv=10, scoring='mean_squared_error')\n",
    "\n",
    "std_mse = abs(std_scores)\n",
    "print 'TFIDF+STD-cv10-SVR, mse:', std_mse\n",
    "print 'TFIDF+STD-cv10-SVR, mse mean:', np.mean(std_mse)\n",
    "print 'TFIDF+STD-cv10-SVR, rmse:', np.sqrt(std_mse)\n",
    "print 'TFIDF+STD-cv10-SVR, rmse mean:', np.mean(np.sqrt(std_mse))\n",
    "print 'cost: ', time()-t0"
   ]
  },
  {
   "cell_type": "markdown",
   "metadata": {},
   "source": [
    "# TFIDF + SYN features"
   ]
  },
  {
   "cell_type": "code",
   "execution_count": 63,
   "metadata": {
    "collapsed": false
   },
   "outputs": [
    {
     "name": "stdout",
     "output_type": "stream",
     "text": [
      "row size:  19030\n",
      "column size:  10004\n"
     ]
    }
   ],
   "source": [
    "X_tfidf_syn = []\n",
    "\n",
    "X_tfidf_syn = append_matrix_to_matrix(matrix_to_array(tfidf_matrix), X_syn)\n",
    "print 'row size: ',len(X_tfidf_syn)\n",
    "print 'column size: ',len(X_tfidf_syn[0])\n",
    "\n",
    "X_tfidf_syn_sp = matrix_to_sparse_matrix(X_tfidf_syn)\n"
   ]
  },
  {
   "cell_type": "code",
   "execution_count": 64,
   "metadata": {
    "collapsed": false
   },
   "outputs": [
    {
     "name": "stdout",
     "output_type": "stream",
     "text": [
      "TFIDF+SYN-cv10-LR, mse: [ 0.13048416  0.13113394  0.1273932   0.1336873   0.12581886  0.12153122\n",
      "  0.11795974  0.13662601  0.1835821   0.13059453]\n",
      "TFIDF+SYN-cv10-LR, mse mean: 0.133881105383\n",
      "TFIDF+SYN-cv10-LR, rmse: [ 0.36122591  0.36212421  0.35692184  0.36563273  0.35470955  0.34861328\n",
      "  0.34345267  0.36962956  0.42846481  0.36137865]\n",
      "TFIDF+SYN-cv10-LR, rmse mean: 0.365215321651\n",
      "cost:  31.8524169922\n"
     ]
    }
   ],
   "source": [
    "#tfidf+std-cv-10-LR\n",
    "t0 = time()\n",
    "from sklearn.linear_model import LinearRegression\n",
    "\n",
    "tfidf_syn_lr = LinearRegression()\n",
    "\n",
    "std_scores = cross_val_score(tfidf_syn_lr, X_tfidf_syn_sp, df.hfdfd, cv=10, scoring='mean_squared_error')\n",
    "\n",
    "std_mse = abs(std_scores)\n",
    "print 'TFIDF+SYN-cv10-LR, mse:', std_mse\n",
    "print 'TFIDF+SYN-cv10-LR, mse mean:', np.mean(std_mse)\n",
    "print 'TFIDF+SYN-cv10-LR, rmse:', np.sqrt(std_mse)\n",
    "print 'TFIDF+SYN-cv10-LR, rmse mean:', np.mean(np.sqrt(std_mse))\n",
    "print 'cost: ', time()-t0"
   ]
  },
  {
   "cell_type": "code",
   "execution_count": 65,
   "metadata": {
    "collapsed": false
   },
   "outputs": [
    {
     "name": "stdout",
     "output_type": "stream",
     "text": [
      "TFIDF+SYN-cv10-LSVR, mse: [ 0.06377718  0.06885759  0.07011337  0.07281662  0.07289658  0.0660396\n",
      "  0.07263065  0.0839046   0.15198541  0.08522699]\n",
      "TFIDF+SYN-cv10-LSVR, mse mean: 0.0808248598347\n",
      "TFIDF+SYN-cv10-LSVR, rmse: [ 0.25254145  0.2624073   0.2647893   0.26984555  0.26999367  0.25698172\n",
      "  0.26950074  0.2896629   0.38985306  0.29193662]\n",
      "TFIDF+SYN-cv10-LSVR, rmse mean: 0.281751230965\n",
      "cost:  35.8367278576\n"
     ]
    }
   ],
   "source": [
    "#tfidf+std-cv-10-LSVR\n",
    "t0 = time()\n",
    "from sklearn.svm import LinearSVR\n",
    "\n",
    "tfidf_syn_lsvr = LinearSVR()\n",
    "\n",
    "std_scores = cross_val_score(tfidf_syn_lsvr, X_tfidf_syn_sp, df.hfdfd, cv=10, scoring='mean_squared_error')\n",
    "\n",
    "std_mse = abs(std_scores)\n",
    "print 'TFIDF+SYN-cv10-LSVR, mse:', std_mse\n",
    "print 'TFIDF+SYN-cv10-LSVR, mse mean:', np.mean(std_mse)\n",
    "print 'TFIDF+SYN-cv10-LSVR, rmse:', np.sqrt(std_mse)\n",
    "print 'TFIDF+SYN-cv10-LSVR, rmse mean:', np.mean(np.sqrt(std_mse))\n",
    "print 'cost: ', time()-t0"
   ]
  },
  {
   "cell_type": "code",
   "execution_count": 66,
   "metadata": {
    "collapsed": false
   },
   "outputs": [
    {
     "name": "stdout",
     "output_type": "stream",
     "text": [
      "TFIDF+SYN-cv10-SVR, mse: [ 0.06530196  0.0826751   0.08362043  0.0875804   0.09174084  0.09183181\n",
      "  0.10388788  0.15152962  0.34078911  0.1573971 ]\n",
      "TFIDF+SYN-cv10-SVR, mse mean: 0.125635424602\n",
      "TFIDF+SYN-cv10-SVR, rmse: [ 0.25554248  0.28753279  0.28917197  0.29593986  0.3028875   0.30303764\n",
      "  0.32231642  0.38926806  0.58377145  0.39673304]\n",
      "TFIDF+SYN-cv10-SVR, rmse mean: 0.342620119987\n",
      "cost:  2327.70547509\n"
     ]
    }
   ],
   "source": [
    "#tfidf+std-cv-10-SVR\n",
    "t0 = time()\n",
    "from sklearn.svm import SVR\n",
    "\n",
    "tfidf_syn_svr = SVR()\n",
    "\n",
    "std_scores = cross_val_score(tfidf_syn_svr, X_tfidf_syn_sp, df.hfdfd, cv=10, scoring='mean_squared_error')\n",
    "\n",
    "std_mse = abs(std_scores)\n",
    "print 'TFIDF+SYN-cv10-SVR, mse:', std_mse\n",
    "print 'TFIDF+SYN-cv10-SVR, mse mean:', np.mean(std_mse)\n",
    "print 'TFIDF+SYN-cv10-SVR, rmse:', np.sqrt(std_mse)\n",
    "print 'TFIDF+SYN-cv10-SVR, rmse mean:', np.mean(np.sqrt(std_mse))\n",
    "print 'cost: ', time()-t0"
   ]
  },
  {
   "cell_type": "markdown",
   "metadata": {
    "collapsed": false
   },
   "source": [
    "# TFIDF + STD + SYN features"
   ]
  },
  {
   "cell_type": "code",
   "execution_count": 17,
   "metadata": {
    "collapsed": false
   },
   "outputs": [
    {
     "name": "stdout",
     "output_type": "stream",
     "text": [
      "row size:  19030\n",
      "column size:  10009\n"
     ]
    }
   ],
   "source": [
    "X_tfidf_std_syn = []\n",
    "X_tfidf_std_syn = append_matrix_to_matrix(X_tfidf_std, X_syn)\n",
    "print 'row size: ',len(X_tfidf_std_syn)\n",
    "print 'column size: ',len(X_tfidf_std_syn[0])\n",
    "X_tfidf_std_syn_sp = matrix_to_sparse_matrix(X_tfidf_std_syn)"
   ]
  },
  {
   "cell_type": "code",
   "execution_count": 68,
   "metadata": {
    "collapsed": false
   },
   "outputs": [
    {
     "name": "stdout",
     "output_type": "stream",
     "text": [
      "TFIDF+STD+SYN-cv10-LR, mse: [ 0.12824641  0.12726091  0.12673251  0.1306335   0.12515832  0.11976804\n",
      "  0.11544155  0.13367088  0.17959834  0.13137277]\n",
      "TFIDF+STD+SYN-cv10-LR, mse mean: 0.131788322804\n",
      "TFIDF+STD+SYN-cv10-LR, rmse: [ 0.35811508  0.35673647  0.3559951   0.36143257  0.35377722  0.34607519\n",
      "  0.33976691  0.36561028  0.42379045  0.36245381]\n",
      "TFIDF+STD+SYN-cv10-LR, rmse mean: 0.36237530753\n",
      "cost:  36.43207407\n"
     ]
    }
   ],
   "source": [
    "#tfidf+std+syn-cv-10-LR\n",
    "t0 = time()\n",
    "from sklearn.linear_model import LinearRegression\n",
    "\n",
    "tfidf_std_syn_lr = LinearRegression()\n",
    "\n",
    "std_scores = cross_val_score(tfidf_std_syn_lr, X_tfidf_std_syn_sp, df.hfdfd, cv=10, scoring='mean_squared_error')\n",
    "\n",
    "std_mse = abs(std_scores)\n",
    "print 'TFIDF+STD+SYN-cv10-LR, mse:', std_mse\n",
    "print 'TFIDF+STD+SYN-cv10-LR, mse mean:', np.mean(std_mse)\n",
    "print 'TFIDF+STD+SYN-cv10-LR, rmse:', np.sqrt(std_mse)\n",
    "print 'TFIDF+STD+SYN-cv10-LR, rmse mean:', np.mean(np.sqrt(std_mse))\n",
    "print 'cost: ', time()-t0"
   ]
  },
  {
   "cell_type": "code",
   "execution_count": 18,
   "metadata": {
    "collapsed": false
   },
   "outputs": [
    {
     "name": "stdout",
     "output_type": "stream",
     "text": [
      "TFIDF+STD+SYN-cv10-LSVR, mse: [ 0.06271856  0.06816131  0.06905372  0.07160955  0.07269974  0.06524711\n",
      "  0.07169002  0.08240211  0.14680543  0.08628665]\n",
      "TFIDF+STD+SYN-cv10-LSVR, mse mean: 0.0796674201786\n",
      "TFIDF+STD+SYN-cv10-LSVR, rmse: [ 0.25043673  0.26107721  0.26278074  0.26759962  0.26962889  0.25543514\n",
      "  0.26774991  0.28705768  0.38315197  0.2937459 ]\n",
      "TFIDF+STD+SYN-cv10-LSVR, rmse mean: 0.279866379268\n",
      "cost:  42.1364550591\n"
     ]
    }
   ],
   "source": [
    "#tfidf+std-cv-10-LSVR\n",
    "t0 = time()\n",
    "from sklearn.svm import LinearSVR\n",
    "\n",
    "tfidf_std_syn_lsvr = LinearSVR()\n",
    "\n",
    "std_scores = cross_val_score(tfidf_std_syn_lsvr, X_tfidf_std_syn_sp, df.hfdfd, cv=10, scoring='mean_squared_error')\n",
    "\n",
    "std_mse = abs(std_scores)\n",
    "print 'TFIDF+STD+SYN-cv10-LSVR, mse:', std_mse\n",
    "print 'TFIDF+STD+SYN-cv10-LSVR, mse mean:', np.mean(std_mse)\n",
    "print 'TFIDF+STD+SYN-cv10-LSVR, rmse:', np.sqrt(std_mse)\n",
    "print 'TFIDF+STD+SYN-cv10-LSVR, rmse mean:', np.mean(np.sqrt(std_mse))\n",
    "print 'cost: ', time()-t0"
   ]
  },
  {
   "cell_type": "code",
   "execution_count": 70,
   "metadata": {
    "collapsed": false
   },
   "outputs": [
    {
     "name": "stdout",
     "output_type": "stream",
     "text": [
      "TFIDF+STD+SYN-cv10-SVR, mse: [ 0.06217591  0.08014334  0.08078423  0.08315977  0.08706281  0.08585726\n",
      "  0.09594054  0.13776944  0.3150111   0.14296465]\n",
      "TFIDF+STD+SYN-cv10-SVR, mse mean: 0.117086904672\n",
      "TFIDF+STD+SYN-cv10-SVR, rmse: [ 0.24935097  0.283096    0.28422567  0.28837436  0.29506408  0.29301409\n",
      "  0.30974269  0.37117306  0.5612585   0.37810666]\n",
      "TFIDF+STD+SYN-cv10-SVR, rmse mean: 0.331340607772\n",
      "cost:  2318.11702204\n"
     ]
    }
   ],
   "source": [
    "#tfidf+std-cv-10-LSVR\n",
    "t0 = time()\n",
    "from sklearn.svm import SVR\n",
    "\n",
    "tfidf_std_syn_svr = SVR()\n",
    "\n",
    "std_scores = cross_val_score(tfidf_std_syn_svr, X_tfidf_std_syn_sp, df.hfdfd, cv=10, scoring='mean_squared_error')\n",
    "\n",
    "std_mse = abs(std_scores)\n",
    "print 'TFIDF+STD+SYN-cv10-SVR, mse:', std_mse\n",
    "print 'TFIDF+STD+SYN-cv10-SVR, mse mean:', np.mean(std_mse)\n",
    "print 'TFIDF+STD+SYN-cv10-SVR, rmse:', np.sqrt(std_mse)\n",
    "print 'TFIDF+STD+SYN-cv10-SVR, rmse mean:', np.mean(np.sqrt(std_mse))\n",
    "print 'cost: ', time()-t0"
   ]
  },
  {
   "cell_type": "markdown",
   "metadata": {},
   "source": [
    "# TFIDF + STD + SYN + W2V features"
   ]
  },
  {
   "cell_type": "code",
   "execution_count": 71,
   "metadata": {
    "collapsed": false
   },
   "outputs": [
    {
     "name": "stdout",
     "output_type": "stream",
     "text": [
      "row size:  19030\n",
      "column size:  10109\n"
     ]
    }
   ],
   "source": [
    "X_tfidf_std_syn_w2v = []\n",
    "X_tfidf_std_syn_w2v = append_matrix_to_matrix(X_tfidf_std_syn, X_w2v)\n",
    "print 'row size: ',len(X_tfidf_std_syn_w2v)\n",
    "print 'column size: ',len(X_tfidf_std_syn_w2v[0])\n",
    "X_tfidf_std_syn_w2v_sp = matrix_to_sparse_matrix(X_tfidf_std_syn_w2v)"
   ]
  },
  {
   "cell_type": "code",
   "execution_count": 72,
   "metadata": {
    "collapsed": false
   },
   "outputs": [
    {
     "name": "stdout",
     "output_type": "stream",
     "text": [
      "TFIDF+STD+SYN+W2V-cv10-LR, mse: [ 0.12312703  0.12326133  0.12268797  0.12494808  0.12254114  0.11695958\n",
      "  0.11051584  0.13232126  0.17441247  0.12671633]\n",
      "TFIDF+STD+SYN+W2V-cv10-LR, mse mean: 0.127749102369\n",
      "TFIDF+STD+SYN+W2V-cv10-LR, rmse: [ 0.35089461  0.35108594  0.35026842  0.35347996  0.35005876  0.34199354\n",
      "  0.33243922  0.36375989  0.41762718  0.35597237]\n",
      "TFIDF+STD+SYN+W2V-cv10-LR, rmse mean: 0.356757990596\n",
      "cost:  155.239135981\n"
     ]
    }
   ],
   "source": [
    "#tfidf+std+syn-cv-10-LR\n",
    "t0 = time()\n",
    "from sklearn.linear_model import LinearRegression\n",
    "\n",
    "tfidf_std_syn_w2v_lr = LinearRegression()\n",
    "\n",
    "std_scores = cross_val_score(tfidf_std_syn_w2v_lr, X_tfidf_std_syn_w2v_sp, df.hfdfd, cv=10, scoring='mean_squared_error')\n",
    "\n",
    "std_mse = abs(std_scores)\n",
    "print 'TFIDF+STD+SYN+W2V-cv10-LR, mse:', std_mse\n",
    "print 'TFIDF+STD+SYN+W2V-cv10-LR, mse mean:', np.mean(std_mse)\n",
    "print 'TFIDF+STD+SYN+W2V-cv10-LR, rmse:', np.sqrt(std_mse)\n",
    "print 'TFIDF+STD+SYN+W2V-cv10-LR, rmse mean:', np.mean(np.sqrt(std_mse))\n",
    "print 'cost: ', time()-t0"
   ]
  },
  {
   "cell_type": "code",
   "execution_count": 73,
   "metadata": {
    "collapsed": false
   },
   "outputs": [
    {
     "name": "stdout",
     "output_type": "stream",
     "text": [
      "TFIDF+STD+SYN+W2V-cv10-LSVR, mse: [ 0.05874582  0.06535578  0.06579072  0.06676127  0.06992988  0.06408341\n",
      "  0.06764042  0.08284987  0.14086175  0.08137854]\n",
      "TFIDF+STD+SYN+W2V-cv10-LSVR, mse mean: 0.0763397467951\n",
      "TFIDF+STD+SYN+W2V-cv10-LSVR, rmse: [ 0.24237537  0.25564776  0.25649701  0.25838203  0.26444258  0.25314701\n",
      "  0.26007772  0.28783654  0.37531554  0.28526925]\n",
      "TFIDF+STD+SYN+W2V-cv10-LSVR, rmse mean: 0.273899081216\n",
      "cost:  105.591584921\n"
     ]
    }
   ],
   "source": [
    "#tfidf+std+syn-cv-10-LR\n",
    "t0 = time()\n",
    "from sklearn.svm import LinearSVR\n",
    "\n",
    "tfidf_std_syn_w2v_lsvr = LinearSVR()\n",
    "\n",
    "std_scores = cross_val_score(tfidf_std_syn_w2v_lsvr, X_tfidf_std_syn_w2v_sp, df.hfdfd, cv=10, scoring='mean_squared_error')\n",
    "\n",
    "std_mse = abs(std_scores)\n",
    "print 'TFIDF+STD+SYN+W2V-cv10-LSVR, mse:', std_mse\n",
    "print 'TFIDF+STD+SYN+W2V-cv10-LSVR, mse mean:', np.mean(std_mse)\n",
    "print 'TFIDF+STD+SYN+W2V-cv10-LSVR, rmse:', np.sqrt(std_mse)\n",
    "print 'TFIDF+STD+SYN+W2V-cv10-LSVR, rmse mean:', np.mean(np.sqrt(std_mse))\n",
    "print 'cost: ', time()-t0"
   ]
  },
  {
   "cell_type": "code",
   "execution_count": 74,
   "metadata": {
    "collapsed": false
   },
   "outputs": [
    {
     "name": "stdout",
     "output_type": "stream",
     "text": [
      "TFIDF+STD+SYN+W2V-cv10-SVR, mse: [ 0.049678    0.06252201  0.06312954  0.06420908  0.0680675   0.06809353\n",
      "  0.07348046  0.1071085   0.26279638  0.11008605]\n",
      "TFIDF+STD+SYN+W2V-cv10-SVR, mse mean: 0.092917105788\n",
      "TFIDF+STD+SYN+W2V-cv10-SVR, rmse: [ 0.22288563  0.25004402  0.25125593  0.2533951   0.26089749  0.26094737\n",
      "  0.2710728   0.32727435  0.51263669  0.33179218]\n",
      "TFIDF+STD+SYN+W2V-cv10-SVR, rmse mean: 0.29422015614\n",
      "cost:  2640.00547385\n"
     ]
    }
   ],
   "source": [
    "#tfidf+std+syn-cv-10-SVR\n",
    "t0 = time()\n",
    "from sklearn.svm import SVR\n",
    "\n",
    "tfidf_std_syn_w2v_svr = SVR()\n",
    "\n",
    "std_scores = cross_val_score(tfidf_std_syn_w2v_svr, X_tfidf_std_syn_w2v_sp, df.hfdfd, cv=10, scoring='mean_squared_error')\n",
    "\n",
    "std_mse = abs(std_scores)\n",
    "print 'TFIDF+STD+SYN+W2V-cv10-SVR, mse:', std_mse\n",
    "print 'TFIDF+STD+SYN+W2V-cv10-SVR, mse mean:', np.mean(std_mse)\n",
    "print 'TFIDF+STD+SYN+W2V-cv10-SVR, rmse:', np.sqrt(std_mse)\n",
    "print 'TFIDF+STD+SYN+W2V-cv10-SVR, rmse mean:', np.mean(np.sqrt(std_mse))\n",
    "print 'cost: ', time()-t0"
   ]
  },
  {
   "cell_type": "markdown",
   "metadata": {},
   "source": [
    "# LSA TFIDF + STD features"
   ]
  },
  {
   "cell_type": "code",
   "execution_count": 75,
   "metadata": {
    "collapsed": false
   },
   "outputs": [
    {
     "name": "stdout",
     "output_type": "stream",
     "text": [
      "lsa_tfidf_matrix type:  <type 'numpy.ndarray'>\n",
      "row size:  19030\n",
      "column size:  1005\n"
     ]
    }
   ],
   "source": [
    "#combine tfidf+std\n",
    "X_lsa_tfidf_std = []\n",
    "print 'lsa_tfidf_matrix type: ', type(lsa_tfidf_matrix)\n",
    "X_lsa_tfidf_std = append_matrix_to_matrix(lsa_tfidf_matrix, X_std)\n",
    "print 'row size: ',len(X_lsa_tfidf_std)\n",
    "print 'column size: ',len(X_lsa_tfidf_std[0])\n",
    "X_lsa_tfidf_std_sp = matrix_to_sparse_matrix(X_lsa_tfidf_std)"
   ]
  },
  {
   "cell_type": "code",
   "execution_count": 76,
   "metadata": {
    "collapsed": false
   },
   "outputs": [
    {
     "name": "stdout",
     "output_type": "stream",
     "text": [
      "LSA+TFIDF+STD-cv10-LR, mse: [ 0.04676251  0.04830232  0.04916253  0.050463    0.05233682  0.05132727\n",
      "  0.0555061   0.06603992  0.12396811  0.06405306]\n",
      "LSA+TFIDF+STD-cv10-LR, mse mean: 0.060792163803\n",
      "LSA+TFIDF+STD-cv10-LR, rmse: [ 0.21624642  0.2197779   0.22172625  0.22463971  0.22877243  0.22655522\n",
      "  0.23559732  0.25698233  0.35209105  0.25308706]\n",
      "LSA+TFIDF+STD-cv10-LR, rmse mean: 0.243547567992\n",
      "cost:  42.2777760029\n"
     ]
    }
   ],
   "source": [
    "#lsa+tfidf+std-cv-10-LR\n",
    "t0 = time()\n",
    "from sklearn.linear_model import LinearRegression\n",
    "\n",
    "lsa_tfidf_std_lr = LinearRegression()\n",
    "\n",
    "std_scores = cross_val_score(lsa_tfidf_std_lr, X_lsa_tfidf_std_sp, df.hfdfd, cv=10, scoring='mean_squared_error')\n",
    "\n",
    "std_mse = abs(std_scores)\n",
    "print 'LSA+TFIDF+STD-cv10-LR, mse:', std_mse\n",
    "print 'LSA+TFIDF+STD-cv10-LR, mse mean:', np.mean(std_mse)\n",
    "print 'LSA+TFIDF+STD-cv10-LR, rmse:', np.sqrt(std_mse)\n",
    "print 'LSA+TFIDF+STD-cv10-LR, rmse mean:', np.mean(np.sqrt(std_mse))\n",
    "print 'cost: ', time()-t0"
   ]
  },
  {
   "cell_type": "code",
   "execution_count": 77,
   "metadata": {
    "collapsed": false
   },
   "outputs": [
    {
     "name": "stdout",
     "output_type": "stream",
     "text": [
      "LSA+TFIDF+STD-cv10-LSVR, mse: [ 0.04531407  0.04795354  0.04905446  0.04994441  0.05274926  0.05118837\n",
      "  0.05456454  0.06891361  0.15649677  0.0686099 ]\n",
      "LSA+TFIDF+STD-cv10-LSVR, mse mean: 0.064478893551\n",
      "LSA+TFIDF+STD-cv10-LSVR, rmse: [ 0.21287102  0.21898297  0.22148243  0.22348245  0.22967207  0.22624847\n",
      "  0.23359055  0.26251401  0.39559673  0.26193492]\n",
      "LSA+TFIDF+STD-cv10-LSVR, rmse mean: 0.248637560814\n",
      "cost:  97.6951720715\n"
     ]
    }
   ],
   "source": [
    "#lsa+tfidf+std-cv-10-LSVR\n",
    "t0 = time()\n",
    "from sklearn.svm import LinearSVR\n",
    "\n",
    "lsa_tfidf_std_lsvr = LinearSVR()\n",
    "\n",
    "std_scores = cross_val_score(lsa_tfidf_std_lsvr, X_lsa_tfidf_std_sp, df.hfdfd, cv=10, scoring='mean_squared_error')\n",
    "\n",
    "std_mse = abs(std_scores)\n",
    "print 'LSA+TFIDF+STD-cv10-LSVR, mse:', std_mse\n",
    "print 'LSA+TFIDF+STD-cv10-LSVR, mse mean:', np.mean(std_mse)\n",
    "print 'LSA+TFIDF+STD-cv10-LSVR, rmse:', np.sqrt(std_mse)\n",
    "print 'LSA+TFIDF+STD-cv10-LSVR, rmse mean:', np.mean(np.sqrt(std_mse))\n",
    "print 'cost: ', time()-t0"
   ]
  },
  {
   "cell_type": "code",
   "execution_count": 78,
   "metadata": {
    "collapsed": false
   },
   "outputs": [
    {
     "name": "stdout",
     "output_type": "stream",
     "text": [
      "LSA+TFIDF+STD-cv10-SVR, mse: [ 0.04591521  0.05860203  0.05870989  0.05852646  0.06182861  0.06106804\n",
      "  0.06700924  0.09102607  0.2290652   0.09277274]\n",
      "LSA+TFIDF+STD-cv10-SVR, mse mean: 0.0824523491296\n",
      "LSA+TFIDF+STD-cv10-SVR, rmse: [ 0.21427834  0.24207857  0.24230123  0.24192243  0.24865359  0.24711948\n",
      "  0.25886143  0.30170528  0.47860757  0.30458618]\n",
      "LSA+TFIDF+STD-cv10-SVR, rmse mean: 0.278011409024\n",
      "cost:  4231.60420394\n"
     ]
    }
   ],
   "source": [
    "#lsa+tfidf+std-cv-10-SVR\n",
    "t0 = time()\n",
    "from sklearn.svm import SVR\n",
    "\n",
    "lsa_tfidf_std_lsvr = SVR()\n",
    "\n",
    "std_scores = cross_val_score(lsa_tfidf_std_lsvr, X_lsa_tfidf_std_sp, df.hfdfd, cv=10, scoring='mean_squared_error')\n",
    "\n",
    "std_mse = abs(std_scores)\n",
    "print 'LSA+TFIDF+STD-cv10-SVR, mse:', std_mse\n",
    "print 'LSA+TFIDF+STD-cv10-SVR, mse mean:', np.mean(std_mse)\n",
    "print 'LSA+TFIDF+STD-cv10-SVR, rmse:', np.sqrt(std_mse)\n",
    "print 'LSA+TFIDF+STD-cv10-SVR, rmse mean:', np.mean(np.sqrt(std_mse))\n",
    "print 'cost: ', time()-t0"
   ]
  },
  {
   "cell_type": "markdown",
   "metadata": {},
   "source": [
    "# LSA TFIDF + SYN features"
   ]
  },
  {
   "cell_type": "code",
   "execution_count": 79,
   "metadata": {
    "collapsed": false
   },
   "outputs": [
    {
     "name": "stdout",
     "output_type": "stream",
     "text": [
      "row size:  19030\n",
      "column size:  1004\n"
     ]
    }
   ],
   "source": [
    "X_lsa_tfidf_syn = []\n",
    "X_lsa_tfidf_syn = append_matrix_to_matrix(lsa_tfidf_matrix, X_syn)\n",
    "print 'row size: ',len(X_lsa_tfidf_syn)\n",
    "print 'column size: ',len(X_lsa_tfidf_syn[0])\n",
    "X_lsa_tfidf_syn_sp = matrix_to_sparse_matrix(X_lsa_tfidf_syn)"
   ]
  },
  {
   "cell_type": "code",
   "execution_count": 80,
   "metadata": {
    "collapsed": false
   },
   "outputs": [
    {
     "name": "stdout",
     "output_type": "stream",
     "text": [
      "LSA+TFIDF+STD-cv10-LR, mse: [ 0.0478596   0.04905691  0.05052688  0.05146577  0.05271424  0.0519213\n",
      "  0.05576416  0.06695586  0.12726955  0.06333011]\n",
      "LSA+TFIDF+STD-cv10-LR, mse mean: 0.0616864383605\n",
      "LSA+TFIDF+STD-cv10-LR, rmse: [ 0.21876836  0.22148794  0.22478185  0.22686069  0.22959581  0.22786246\n",
      "  0.23614437  0.2587583   0.35674859  0.25165475]\n",
      "LSA+TFIDF+STD-cv10-LR, rmse mean: 0.245266312378\n",
      "cost:  32.6710970402\n"
     ]
    }
   ],
   "source": [
    "#lsa+tfidf+std-cv-10-LR\n",
    "t0 = time()\n",
    "from sklearn.linear_model import LinearRegression\n",
    "\n",
    "lsa_tfidf_syn_lr = LinearRegression()\n",
    "\n",
    "std_scores = cross_val_score(lsa_tfidf_syn_lr, X_lsa_tfidf_syn_sp, df.hfdfd, cv=10, scoring='mean_squared_error')\n",
    "\n",
    "std_mse = abs(std_scores)\n",
    "print 'LSA+TFIDF+STD-cv10-LR, mse:', std_mse\n",
    "print 'LSA+TFIDF+STD-cv10-LR, mse mean:', np.mean(std_mse)\n",
    "print 'LSA+TFIDF+STD-cv10-LR, rmse:', np.sqrt(std_mse)\n",
    "print 'LSA+TFIDF+STD-cv10-LR, rmse mean:', np.mean(np.sqrt(std_mse))\n",
    "print 'cost: ', time()-t0"
   ]
  },
  {
   "cell_type": "code",
   "execution_count": 81,
   "metadata": {
    "collapsed": false
   },
   "outputs": [
    {
     "name": "stdout",
     "output_type": "stream",
     "text": [
      "LSA+TFIDF+STD-cv10-LSVR, mse: [ 0.04618202  0.04824898  0.04988116  0.05058446  0.05323956  0.05123112\n",
      "  0.05432656  0.07088122  0.16315874  0.06871679]\n",
      "LSA+TFIDF+STD-cv10-LSVR, mse mean: 0.065645062625\n",
      "LSA+TFIDF+STD-cv10-LSVR, rmse: [ 0.21490003  0.21965652  0.22334092  0.22490989  0.230737    0.22634293\n",
      "  0.23308059  0.26623527  0.40392912  0.26213888]\n",
      "LSA+TFIDF+STD-cv10-LSVR, rmse mean: 0.25052711461\n",
      "cost:  81.0308859348\n"
     ]
    }
   ],
   "source": [
    "#lsa+tfidf+std-cv-10-LR\n",
    "t0 = time()\n",
    "from sklearn.svm import LinearSVR\n",
    "\n",
    "lsa_tfidf_syn_lsvr = LinearSVR()\n",
    "\n",
    "std_scores = cross_val_score(lsa_tfidf_syn_lsvr, X_lsa_tfidf_syn_sp, df.hfdfd, cv=10, scoring='mean_squared_error')\n",
    "\n",
    "std_mse = abs(std_scores)\n",
    "print 'LSA+TFIDF+STD-cv10-LSVR, mse:', std_mse\n",
    "print 'LSA+TFIDF+STD-cv10-LSVR, mse mean:', np.mean(std_mse)\n",
    "print 'LSA+TFIDF+STD-cv10-LSVR, rmse:', np.sqrt(std_mse)\n",
    "print 'LSA+TFIDF+STD-cv10-LSVR, rmse mean:', np.mean(np.sqrt(std_mse))\n",
    "print 'cost: ', time()-t0"
   ]
  },
  {
   "cell_type": "code",
   "execution_count": 82,
   "metadata": {
    "collapsed": false
   },
   "outputs": [
    {
     "name": "stdout",
     "output_type": "stream",
     "text": [
      "LSA+TFIDF+STD-cv10-SVR, mse: [ 0.04682234  0.0580284   0.05917302  0.06001911  0.06329307  0.06317375\n",
      "  0.069741    0.09975192  0.2494279   0.10217682]\n",
      "LSA+TFIDF+STD-cv10-SVR, mse mean: 0.0871607328935\n",
      "LSA+TFIDF+STD-cv10-SVR, rmse: [ 0.21638471  0.24089084  0.24325505  0.24498798  0.25158114  0.25134389\n",
      "  0.26408522  0.31583527  0.49942757  0.31965109]\n",
      "LSA+TFIDF+STD-cv10-SVR, rmse mean: 0.284744275894\n",
      "cost:  4081.715904\n"
     ]
    }
   ],
   "source": [
    "#lsa+tfidf+std-cv-10-LR\n",
    "t0 = time()\n",
    "from sklearn.svm import SVR\n",
    "\n",
    "lsa_tfidf_syn_svr = SVR()\n",
    "\n",
    "std_scores = cross_val_score(lsa_tfidf_syn_svr, X_lsa_tfidf_syn_sp, df.hfdfd, cv=10, scoring='mean_squared_error')\n",
    "\n",
    "std_mse = abs(std_scores)\n",
    "print 'LSA+TFIDF+STD-cv10-SVR, mse:', std_mse\n",
    "print 'LSA+TFIDF+STD-cv10-SVR, mse mean:', np.mean(std_mse)\n",
    "print 'LSA+TFIDF+STD-cv10-SVR, rmse:', np.sqrt(std_mse)\n",
    "print 'LSA+TFIDF+STD-cv10-SVR, rmse mean:', np.mean(np.sqrt(std_mse))\n",
    "print 'cost: ', time()-t0"
   ]
  },
  {
   "cell_type": "markdown",
   "metadata": {},
   "source": [
    "# LSA TFIDF + STD + SYN features"
   ]
  },
  {
   "cell_type": "code",
   "execution_count": 83,
   "metadata": {
    "collapsed": false
   },
   "outputs": [
    {
     "name": "stdout",
     "output_type": "stream",
     "text": [
      "row size:  19030\n",
      "column size:  1009\n"
     ]
    }
   ],
   "source": [
    "X_lsa_tfidf_std_syn = []\n",
    "X_lsa_tfidf_std_syn = append_matrix_to_matrix(X_lsa_tfidf_std, X_syn)\n",
    "print 'row size: ',len(X_lsa_tfidf_std_syn)\n",
    "print 'column size: ',len(X_lsa_tfidf_std_syn[0])\n",
    "X_lsa_tfidf_std_syn_sp = matrix_to_sparse_matrix(X_lsa_tfidf_std_syn)"
   ]
  },
  {
   "cell_type": "code",
   "execution_count": 84,
   "metadata": {
    "collapsed": false
   },
   "outputs": [
    {
     "name": "stdout",
     "output_type": "stream",
     "text": [
      "LSA+TFIDF+STD+SYN-cv10-LR, mse: [ 0.04673818  0.04816538  0.04907046  0.05029625  0.05203105  0.05102649\n",
      "  0.0552777   0.06608596  0.12377633  0.06400606]\n",
      "LSA+TFIDF+STD+SYN-cv10-LR, mse mean: 0.0606473860415\n",
      "LSA+TFIDF+STD+SYN-cv10-LR, rmse: [ 0.21619015  0.21946614  0.22151854  0.22426825  0.22810316  0.22589043\n",
      "  0.23511211  0.2570719   0.3518186   0.25299418]\n",
      "LSA+TFIDF+STD+SYN-cv10-LR, rmse mean: 0.243243344674\n",
      "cost:  50.2188239098\n"
     ]
    }
   ],
   "source": [
    "#lsa+tfidf+std-cv-10-LR\n",
    "t0 = time()\n",
    "from sklearn.linear_model import LinearRegression\n",
    "\n",
    "lsa_tfidf_std_syn_lr = LinearRegression()\n",
    "\n",
    "std_scores = cross_val_score(lsa_tfidf_std_syn_lr, X_lsa_tfidf_std_syn_sp, df.hfdfd, cv=10, scoring='mean_squared_error')\n",
    "\n",
    "std_mse = abs(std_scores)\n",
    "print 'LSA+TFIDF+STD+SYN-cv10-LR, mse:', std_mse\n",
    "print 'LSA+TFIDF+STD+SYN-cv10-LR, mse mean:', np.mean(std_mse)\n",
    "print 'LSA+TFIDF+STD+SYN-cv10-LR, rmse:', np.sqrt(std_mse)\n",
    "print 'LSA+TFIDF+STD+SYN-cv10-LR, rmse mean:', np.mean(np.sqrt(std_mse))\n",
    "print 'cost: ', time()-t0"
   ]
  },
  {
   "cell_type": "code",
   "execution_count": 85,
   "metadata": {
    "collapsed": false
   },
   "outputs": [
    {
     "name": "stdout",
     "output_type": "stream",
     "text": [
      "LSA+TFIDF+STD+SYN-cv10-LSVR, mse: [ 0.04525317  0.04759336  0.0491878   0.04983482  0.05247319  0.05113413\n",
      "  0.05482516  0.06915956  0.15614972  0.06909214]\n",
      "LSA+TFIDF+STD+SYN-cv10-LSVR, mse mean: 0.0644703053758\n",
      "LSA+TFIDF+STD+SYN-cv10-LSVR, rmse: [ 0.21272793  0.21815902  0.22178323  0.22323714  0.22907027  0.22612857\n",
      "  0.23414772  0.26298206  0.39515784  0.26285383]\n",
      "LSA+TFIDF+STD+SYN-cv10-LSVR, rmse mean: 0.248624762879\n",
      "cost:  91.0513288975\n"
     ]
    }
   ],
   "source": [
    "#lsa+tfidf+std-cv-10-LSVR\n",
    "t0 = time()\n",
    "from sklearn.svm import LinearSVR\n",
    "\n",
    "lsa_tfidf_std_syn_lsvr = LinearSVR()\n",
    "\n",
    "std_scores = cross_val_score(lsa_tfidf_std_syn_lsvr, X_lsa_tfidf_std_syn_sp, df.hfdfd, cv=10, scoring='mean_squared_error')\n",
    "\n",
    "std_mse = abs(std_scores)\n",
    "print 'LSA+TFIDF+STD+SYN-cv10-LSVR, mse:', std_mse\n",
    "print 'LSA+TFIDF+STD+SYN-cv10-LSVR, mse mean:', np.mean(std_mse)\n",
    "print 'LSA+TFIDF+STD+SYN-cv10-LSVR, rmse:', np.sqrt(std_mse)\n",
    "print 'LSA+TFIDF+STD+SYN-cv10-LSVR, rmse mean:', np.mean(np.sqrt(std_mse))\n",
    "print 'cost: ', time()-t0"
   ]
  },
  {
   "cell_type": "code",
   "execution_count": 86,
   "metadata": {
    "collapsed": false
   },
   "outputs": [
    {
     "name": "stdout",
     "output_type": "stream",
     "text": [
      "LSA+TFIDF+STD+SYN-cv10-SVR, mse: [ 0.04590645  0.05865111  0.05873283  0.05854022  0.06194255  0.06105523\n",
      "  0.06715559  0.09089455  0.22846124  0.0928053 ]\n",
      "LSA+TFIDF+STD+SYN-cv10-SVR, mse mean: 0.0824145066501\n",
      "LSA+TFIDF+STD+SYN-cv10-SVR, rmse: [ 0.2142579   0.24217992  0.24234857  0.24195085  0.24888259  0.24709357\n",
      "  0.25914396  0.30148723  0.47797619  0.30463962]\n",
      "LSA+TFIDF+STD+SYN-cv10-SVR, rmse mean: 0.277996041242\n",
      "cost:  4036.09302497\n"
     ]
    }
   ],
   "source": [
    "#lsa+tfidf+std-cv-10-SVR\n",
    "t0 = time()\n",
    "from sklearn.svm import SVR\n",
    "\n",
    "lsa_tfidf_std_syn_svr = SVR()\n",
    "\n",
    "std_scores = cross_val_score(lsa_tfidf_std_syn_svr, X_lsa_tfidf_std_syn_sp, df.hfdfd, cv=10, scoring='mean_squared_error')\n",
    "\n",
    "std_mse = abs(std_scores)\n",
    "print 'LSA+TFIDF+STD+SYN-cv10-SVR, mse:', std_mse\n",
    "print 'LSA+TFIDF+STD+SYN-cv10-SVR, mse mean:', np.mean(std_mse)\n",
    "print 'LSA+TFIDF+STD+SYN-cv10-SVR, rmse:', np.sqrt(std_mse)\n",
    "print 'LSA+TFIDF+STD+SYN-cv10-SVR, rmse mean:', np.mean(np.sqrt(std_mse))\n",
    "print 'cost: ', time()-t0"
   ]
  },
  {
   "cell_type": "markdown",
   "metadata": {},
   "source": [
    "# LSA TFIDF + STD + SYN + W2V features"
   ]
  },
  {
   "cell_type": "code",
   "execution_count": 87,
   "metadata": {
    "collapsed": false
   },
   "outputs": [
    {
     "name": "stdout",
     "output_type": "stream",
     "text": [
      "row size:  19030\n",
      "column size:  1109\n"
     ]
    }
   ],
   "source": [
    "X_lsa_tfidf_std_syn_w2v = []\n",
    "X_lsa_tfidf_std_syn_w2v = append_matrix_to_matrix(X_lsa_tfidf_std_syn, X_w2v)\n",
    "print 'row size: ',len(X_lsa_tfidf_std_syn_w2v)\n",
    "print 'column size: ',len(X_lsa_tfidf_std_syn_w2v[0])\n",
    "X_lsa_tfidf_std_syn_w2v_sp = matrix_to_sparse_matrix(X_lsa_tfidf_std_syn_w2v)"
   ]
  },
  {
   "cell_type": "code",
   "execution_count": 88,
   "metadata": {
    "collapsed": false
   },
   "outputs": [
    {
     "name": "stdout",
     "output_type": "stream",
     "text": [
      "LSA+TFIDF+STD+SYN+W2V-cv10-LR, mse: [ 0.0439886   0.0457754   0.04539483  0.04735968  0.04990626  0.04862337\n",
      "  0.0518647   0.06627226  0.11966276  0.06126677]\n",
      "LSA+TFIDF+STD+SYN+W2V-cv10-LR, mse mean: 0.0580114631698\n",
      "LSA+TFIDF+STD+SYN+W2V-cv10-LR, rmse: [ 0.20973459  0.21395186  0.21306062  0.2176228   0.22339709  0.22050708\n",
      "  0.22773823  0.257434    0.34592306  0.24752124]\n",
      "LSA+TFIDF+STD+SYN+W2V-cv10-LR, rmse mean: 0.237689056945\n",
      "cost:  99.9116978645\n"
     ]
    }
   ],
   "source": [
    "#lsa+tfidf+std-cv-10-LR\n",
    "t0 = time()\n",
    "from sklearn.linear_model import LinearRegression\n",
    "\n",
    "lsa_tfidf_std_syn_w2v_lr = LinearRegression()\n",
    "\n",
    "std_scores = cross_val_score(lsa_tfidf_std_syn_w2v_lr, X_lsa_tfidf_std_syn_w2v_sp, df.hfdfd, cv=10, scoring='mean_squared_error')\n",
    "\n",
    "std_mse = abs(std_scores)\n",
    "print 'LSA+TFIDF+STD+SYN+W2V-cv10-LR, mse:', std_mse\n",
    "print 'LSA+TFIDF+STD+SYN+W2V-cv10-LR, mse mean:', np.mean(std_mse)\n",
    "print 'LSA+TFIDF+STD+SYN+W2V-cv10-LR, rmse:', np.sqrt(std_mse)\n",
    "print 'LSA+TFIDF+STD+SYN+W2V-cv10-LR, rmse mean:', np.mean(np.sqrt(std_mse))\n",
    "print 'cost: ', time()-t0"
   ]
  },
  {
   "cell_type": "code",
   "execution_count": 89,
   "metadata": {
    "collapsed": false
   },
   "outputs": [
    {
     "name": "stdout",
     "output_type": "stream",
     "text": [
      "LSA+TFIDF+STD+SYN+W2V-cv10-LSVR, mse: [ 0.04227373  0.04514935  0.04466882  0.04582211  0.04969086  0.04836456\n",
      "  0.05072593  0.06870565  0.14637988  0.06491683]\n",
      "LSA+TFIDF+STD+SYN+W2V-cv10-LSVR, mse mean: 0.0606697704806\n",
      "LSA+TFIDF+STD+SYN+W2V-cv10-LSVR, rmse: [ 0.20560577  0.21248376  0.21134998  0.21406101  0.22291446  0.21991943\n",
      "  0.22522417  0.26211762  0.38259623  0.25478781]\n",
      "LSA+TFIDF+STD+SYN+W2V-cv10-LSVR, rmse mean: 0.24110602476\n",
      "cost:  118.787987947\n"
     ]
    }
   ],
   "source": [
    "#lsa+tfidf+std-cv-10-LR\n",
    "t0 = time()\n",
    "from sklearn.svm import LinearSVR\n",
    "\n",
    "lsa_tfidf_std_syn_w2v_lsvr = LinearSVR()\n",
    "\n",
    "std_scores = cross_val_score(lsa_tfidf_std_syn_w2v_lsvr, X_lsa_tfidf_std_syn_w2v_sp, df.hfdfd, cv=10, scoring='mean_squared_error')\n",
    "\n",
    "std_mse = abs(std_scores)\n",
    "print 'LSA+TFIDF+STD+SYN+W2V-cv10-LSVR, mse:', std_mse\n",
    "print 'LSA+TFIDF+STD+SYN+W2V-cv10-LSVR, mse mean:', np.mean(std_mse)\n",
    "print 'LSA+TFIDF+STD+SYN+W2V-cv10-LSVR, rmse:', np.sqrt(std_mse)\n",
    "print 'LSA+TFIDF+STD+SYN+W2V-cv10-LSVR, rmse mean:', np.mean(np.sqrt(std_mse))\n",
    "print 'cost: ', time()-t0"
   ]
  },
  {
   "cell_type": "code",
   "execution_count": 90,
   "metadata": {
    "collapsed": false
   },
   "outputs": [
    {
     "name": "stdout",
     "output_type": "stream",
     "text": [
      "LSA+TFIDF+STD+SYN+W2V-cv10-SVR, mse: [ 0.03961695  0.04815559  0.04833969  0.04737238  0.05172636  0.05138305\n",
      "  0.05154903  0.07215162  0.17480312  0.06868391]\n",
      "LSA+TFIDF+STD+SYN+W2V-cv10-SVR, mse mean: 0.0653781698235\n",
      "LSA+TFIDF+STD+SYN+W2V-cv10-SVR, rmse: [ 0.19904007  0.21944383  0.2198629   0.21765197  0.22743429  0.22667831\n",
      "  0.22704411  0.26861053  0.41809463  0.26207615]\n",
      "LSA+TFIDF+STD+SYN+W2V-cv10-SVR, rmse mean: 0.248593677914\n",
      "cost:  3997.76151013\n"
     ]
    }
   ],
   "source": [
    "#lsa+tfidf+std-cv-10-LR\n",
    "t0 = time()\n",
    "from sklearn.svm import SVR\n",
    "\n",
    "lsa_tfidf_std_syn_w2v_svr = SVR()\n",
    "\n",
    "std_scores = cross_val_score(lsa_tfidf_std_syn_w2v_svr, X_lsa_tfidf_std_syn_w2v_sp, df.hfdfd, cv=10, scoring='mean_squared_error')\n",
    "\n",
    "std_mse = abs(std_scores)\n",
    "print 'LSA+TFIDF+STD+SYN+W2V-cv10-SVR, mse:', std_mse\n",
    "print 'LSA+TFIDF+STD+SYN+W2V-cv10-SVR, mse mean:', np.mean(std_mse)\n",
    "print 'LSA+TFIDF+STD+SYN+W2V-cv10-SVR, rmse:', np.sqrt(std_mse)\n",
    "print 'LSA+TFIDF+STD+SYN+W2V-cv10-SVR, rmse mean:', np.mean(np.sqrt(std_mse))\n",
    "print 'cost: ', time()-t0"
   ]
  },
  {
   "cell_type": "code",
   "execution_count": null,
   "metadata": {
    "collapsed": false
   },
   "outputs": [],
   "source": [
    "print 'ac1'"
   ]
  },
  {
   "cell_type": "code",
   "execution_count": null,
   "metadata": {
    "collapsed": false
   },
   "outputs": [],
   "source": [
    "print 'ac2'"
   ]
  },
  {
   "cell_type": "code",
   "execution_count": null,
   "metadata": {
    "collapsed": false
   },
   "outputs": [],
   "source": []
  },
  {
   "cell_type": "code",
   "execution_count": null,
   "metadata": {
    "collapsed": false
   },
   "outputs": [],
   "source": []
  },
  {
   "cell_type": "code",
   "execution_count": null,
   "metadata": {
    "collapsed": true
   },
   "outputs": [],
   "source": []
  }
 ],
 "metadata": {
  "kernelspec": {
   "display_name": "Python 2",
   "language": "python",
   "name": "python2"
  },
  "language_info": {
   "codemirror_mode": {
    "name": "ipython",
    "version": 2
   },
   "file_extension": ".py",
   "mimetype": "text/x-python",
   "name": "python",
   "nbconvert_exporter": "python",
   "pygments_lexer": "ipython2",
   "version": "2.7.6"
  }
 },
 "nbformat": 4,
 "nbformat_minor": 0
}
