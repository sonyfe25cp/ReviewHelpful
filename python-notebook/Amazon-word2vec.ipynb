{
 "cells": [
  {
   "cell_type": "code",
   "execution_count": 1,
   "metadata": {
    "collapsed": true
   },
   "outputs": [],
   "source": [
    "#compute word2vec of reviews in amazon\n",
    "%matplotlib inline\n",
    "import sys\n",
    "import numpy as np\n",
    "import pandas as pd\n",
    "import matplotlib.pyplot as plt\n",
    "from gensim import corpora, models, similarities"
   ]
  },
  {
   "cell_type": "code",
   "execution_count": 2,
   "metadata": {
    "collapsed": false
   },
   "outputs": [
    {
     "name": "stdout",
     "output_type": "stream",
     "text": [
      " The only thing missing is a presentation of the original 78 minute film \"Some Folks Call it a Sling Blade\" (1993) which later the feature length film was created from.  Can't have it all, I guess.  Perhaps when they release the extra-special edition?  If you like Bill Bob in this film, you should also check out \"Dead Man\" (he's in exactly one hilarious scene) and \"The Man Who Wasn't There\".    Approximate Run Time: 148 minutes  Bonus Feature(s): * Feature Commentary With Writer/Director/Actor Billy Bob Thornton * Mr. Thornton Goes To Hollywood * Bravo Profiles: Billy Bob Thornton * A Roundtable Discussion With Billy Bob Thornton, Dwight Yoakam, Mickey Jones, And Producer David Bushell * A Conversation With Billy Bob Thornton And Robert Duvall * A Conversation With Robert Duvall * A Conversation With Billy Bob Thornton And Composer Daniel Lanois * The Return Of Karl * On The Set: Billy Bob At Work; Doyle's Band: The Johnsons; Doyle Gets Pummeled; \"Doyle's Dead\" With Introduction By Billy Bob Thornton * SLING BLADE Reviews  Technical Features: * Color * 1.85:1 Aspect Ratio * Closed Captioned * Region 1 * Spanish Subtitles     \n",
      "\n"
     ]
    }
   ],
   "source": [
    "#评论句，越多越好，只要合格的句子\n",
    "# file_path = '/data/opinion_spam/real/reviewsNew.txt'\n",
    "# datas = []\n",
    "# MIN_FD = 1\n",
    "# raw_file = open(file_path)\n",
    "# for line in raw_file:    \n",
    "#     try:\n",
    "#         line = line.decode('gbk')\n",
    "#     except:\n",
    "#         continue\n",
    "#     #print 'gbk', line\n",
    "#     line = line.encode('utf-8')\n",
    "#     #print 'utf8', line\n",
    "#     item = line.split('\\t')\n",
    "#     if len(item) == 8:\n",
    "#         hfd = float(item[3])\n",
    "#         if hfd > MIN_FD:\n",
    "#             datas.append(item[7])\n",
    "# raw_file.close()\n",
    "# print datas[0]\n",
    "\n",
    "#句子分割见basic-threadpool中部分"
   ]
  },
  {
   "cell_type": "code",
   "execution_count": 2,
   "metadata": {
    "collapsed": false
   },
   "outputs": [
    {
     "name": "stdout",
     "output_type": "stream",
     "text": [
      "sentences.size: 52888681\n",
      "sentence[0]: ['the', 'only', 'thing', 'missing', 'is', 'a', 'presentation', 'of', 'the', 'original', '78', 'minute', 'film', 'some', 'folks', 'call', 'it', 'a', 'sling', 'blade', '1993', 'which', 'later', 'the', 'feature', 'length', 'film', 'was', 'created', 'from']\n",
      "time cost:  250.710641146\n"
     ]
    }
   ],
   "source": [
    "#load分词后的句子\n",
    "import time\n",
    "t0 = time.time()\n",
    "tf = open('/data/opinion_spam/real/reviewsNew.txt_tokens')\n",
    "#tf = open('/data/opinion_spam/real/10000_tokens')\n",
    "sentences = [[]]\n",
    "for line in tf:\n",
    "    sentences.append(line.split())\n",
    "tf.close()\n",
    "\n",
    "print 'sentences.size:', len(sentences)\n",
    "print 'sentence[0]:', sentences[1]\n",
    "t1 = time.time()\n",
    "print 'time cost: ', str(t1-t0)"
   ]
  },
  {
   "cell_type": "code",
   "execution_count": 3,
   "metadata": {
    "collapsed": false
   },
   "outputs": [],
   "source": [
    "#Test w2v\n",
    "import gensim\n",
    "import nltk\n",
    "import time"
   ]
  },
  {
   "cell_type": "code",
   "execution_count": 4,
   "metadata": {
    "collapsed": false
   },
   "outputs": [
    {
     "name": "stdout",
     "output_type": "stream",
     "text": [
      "Word2Vec(vocab=642450, size=100, alpha=0.025)\n",
      "<type 'dict'>\n",
      "time cost:  4372.54163504\n"
     ]
    }
   ],
   "source": [
    "\n",
    "#t0 = time.time()\n",
    "#model = gensim.models.Word2Vec(sentences, min_count=5, size=100, window=5, workers=32)\n",
    "#print model\n",
    "#print type(model.vocab)\n",
    "#model.save('/data/opinion_spam/real/w2v-hfd-over-0.total')\n",
    "#t1 = time.time()\n",
    "#print 'time cost: ', str(t1-t0)\n",
    "#time cost:  4372.54163504"
   ]
  },
  {
   "cell_type": "code",
   "execution_count": 5,
   "metadata": {
    "collapsed": false
   },
   "outputs": [
    {
     "data": {
      "text/plain": [
       "array([-0.09588821, -0.3479023 ,  0.01318163, -0.16604377, -0.15893206,\n",
       "        0.18263116,  0.15280922, -0.00869811, -0.12965606, -0.21460448,\n",
       "       -0.0301899 ,  0.31911561, -0.07745112, -0.24057889, -0.10751638,\n",
       "        0.27995098, -0.00074142,  0.11316834,  0.15309002,  0.31096554,\n",
       "       -0.58876896,  0.21928148, -0.1233347 ,  0.43212852, -0.1568336 ,\n",
       "        0.30336648, -0.00826174,  0.10368805,  0.31322783, -0.27997646,\n",
       "       -0.03788535, -0.05592037,  0.48495486,  0.21288726, -0.15121906,\n",
       "        0.21075557,  0.1088421 ,  0.17365998,  0.09982421,  0.17883959,\n",
       "        0.00109009,  0.15929945, -0.0830238 , -0.22385226,  0.31641945,\n",
       "        0.12501378,  0.16681455, -0.30624577,  0.33062601, -0.45570186,\n",
       "       -0.19473325, -0.30584449, -0.16114342, -0.17949244, -0.07452923,\n",
       "        0.15810119, -0.12721732,  0.21881434,  0.08371007,  0.37523809,\n",
       "       -0.2111399 , -0.23375717, -0.07583189, -0.07808819, -0.00308049,\n",
       "       -0.15029505, -0.12694684,  0.06968428,  0.12326097, -0.08971854,\n",
       "       -0.03490895,  0.12108079,  0.26846761, -0.23720564,  0.0845091 ,\n",
       "        0.250267  ,  0.00561292,  0.32798046,  0.19447879,  0.03040971,\n",
       "        0.24213202,  0.02982707, -0.04254648, -0.18340664, -0.08695538,\n",
       "        0.0148756 , -0.09846537,  0.07705797,  0.34310862, -0.08898551,\n",
       "        0.27378806,  0.05097283,  0.21574371,  0.25378332,  0.16018803,\n",
       "       -0.09687761, -0.0042368 , -0.13590664, -0.11662088,  0.35424313], dtype=float32)"
      ]
     },
     "execution_count": 5,
     "metadata": {},
     "output_type": "execute_result"
    }
   ],
   "source": [
    "model['book']"
   ]
  },
  {
   "cell_type": "code",
   "execution_count": 20,
   "metadata": {
    "collapsed": false
   },
   "outputs": [
    {
     "data": {
      "text/plain": [
       "0.35269428346854365"
      ]
     },
     "execution_count": 20,
     "metadata": {},
     "output_type": "execute_result"
    }
   ],
   "source": [
    "model.similarity('good', 'interesting')"
   ]
  },
  {
   "cell_type": "code",
   "execution_count": null,
   "metadata": {
    "collapsed": true
   },
   "outputs": [],
   "source": []
  }
 ],
 "metadata": {
  "kernelspec": {
   "display_name": "Python 2",
   "language": "python",
   "name": "python2"
  },
  "language_info": {
   "codemirror_mode": {
    "name": "ipython",
    "version": 2
   },
   "file_extension": ".py",
   "mimetype": "text/x-python",
   "name": "python",
   "nbconvert_exporter": "python",
   "pygments_lexer": "ipython2",
   "version": "2.7.6"
  }
 },
 "nbformat": 4,
 "nbformat_minor": 0
}
