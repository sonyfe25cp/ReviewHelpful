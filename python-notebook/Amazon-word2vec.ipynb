{
 "cells": [
  {
   "cell_type": "code",
   "execution_count": 1,
   "metadata": {
    "collapsed": true
   },
   "outputs": [],
   "source": [
    "#compute word2vec of reviews in amazon\n",
    "%matplotlib inline\n",
    "import sys\n",
    "import numpy as np\n",
    "import pandas as pd\n",
    "import matplotlib.pyplot as plt\n",
    "from gensim import corpora, models, similarities"
   ]
  },
  {
   "cell_type": "code",
   "execution_count": 2,
   "metadata": {
    "collapsed": false
   },
   "outputs": [
    {
     "name": "stdout",
     "output_type": "stream",
     "text": [
      " The only thing missing is a presentation of the original 78 minute film \"Some Folks Call it a Sling Blade\" (1993) which later the feature length film was created from.  Can't have it all, I guess.  Perhaps when they release the extra-special edition?  If you like Bill Bob in this film, you should also check out \"Dead Man\" (he's in exactly one hilarious scene) and \"The Man Who Wasn't There\".    Approximate Run Time: 148 minutes  Bonus Feature(s): * Feature Commentary With Writer/Director/Actor Billy Bob Thornton * Mr. Thornton Goes To Hollywood * Bravo Profiles: Billy Bob Thornton * A Roundtable Discussion With Billy Bob Thornton, Dwight Yoakam, Mickey Jones, And Producer David Bushell * A Conversation With Billy Bob Thornton And Robert Duvall * A Conversation With Robert Duvall * A Conversation With Billy Bob Thornton And Composer Daniel Lanois * The Return Of Karl * On The Set: Billy Bob At Work; Doyle's Band: The Johnsons; Doyle Gets Pummeled; \"Doyle's Dead\" With Introduction By Billy Bob Thornton * SLING BLADE Reviews  Technical Features: * Color * 1.85:1 Aspect Ratio * Closed Captioned * Region 1 * Spanish Subtitles     \n",
      "\n"
     ]
    }
   ],
   "source": [
    "#评论句，越多越好，只要合格的句子\n",
    "file_path = '/data/opinion_spam/real/reviewsNew.txt'\n",
    "datas = []\n",
    "MIN_FD = 1\n",
    "raw_file = open(file_path)\n",
    "for line in raw_file:    \n",
    "    try:\n",
    "        line = line.decode('gbk')\n",
    "    except:\n",
    "        continue\n",
    "    #print 'gbk', line\n",
    "    line = line.encode('utf-8')\n",
    "    #print 'utf8', line\n",
    "    item = line.split('\\t')\n",
    "    if len(item) == 8:\n",
    "        hfd = float(item[3])\n",
    "        if hfd > MIN_FD:\n",
    "            datas.append(item[7])\n",
    "raw_file.close()\n",
    "print datas[0]"
   ]
  },
  {
   "cell_type": "code",
   "execution_count": null,
   "metadata": {
    "collapsed": false
   },
   "outputs": [],
   "source": [
    "#Test w2v\n",
    "import gensim\n",
    "import nltk\n",
    "sentences = [sentence for sentence in nltk.sent_tokenize(line) for line in datas]\n",
    "words_sentences = [[word for word in nltk.word_tokenize(sentence)] for sentence in sentences]\n",
    "print '句子数：', len(sentences)\n",
    "print sentences\n",
    "print '分词后的句子数:', len(words_sentences)\n",
    "#print sentences[1]\n",
    "\n"
   ]
  },
  {
   "cell_type": "code",
   "execution_count": 49,
   "metadata": {
    "collapsed": false
   },
   "outputs": [
    {
     "name": "stdout",
     "output_type": "stream",
     "text": [
      "Word2Vec(vocab=49, size=100, alpha=0.025)\n",
      "<type 'dict'>\n"
     ]
    }
   ],
   "source": [
    "model = gensim.models.Word2Vec(sentences, min_count=5, size=100, window=5, workers=8)\n",
    "print model\n",
    "print type(model.vocab)\n",
    "model.save('/data/opinion_spam/real/w2v-hfd-over-0.total')"
   ]
  },
  {
   "cell_type": "code",
   "execution_count": 13,
   "metadata": {
    "collapsed": false
   },
   "outputs": [
    {
     "name": "stdout",
     "output_type": "stream",
     "text": [
      "A\n"
     ]
    }
   ],
   "source": [
    "dir(str)\n",
    "b = 'a'.upper()\n",
    "print b "
   ]
  },
  {
   "cell_type": "code",
   "execution_count": null,
   "metadata": {
    "collapsed": true
   },
   "outputs": [],
   "source": []
  }
 ],
 "metadata": {
  "kernelspec": {
   "display_name": "Python 2",
   "language": "python",
   "name": "python2"
  },
  "language_info": {
   "codemirror_mode": {
    "name": "ipython",
    "version": 2
   },
   "file_extension": ".py",
   "mimetype": "text/x-python",
   "name": "python",
   "nbconvert_exporter": "python",
   "pygments_lexer": "ipython2",
   "version": "2.7.6"
  }
 },
 "nbformat": 4,
 "nbformat_minor": 0
}
